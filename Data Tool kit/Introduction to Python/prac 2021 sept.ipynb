{
 "cells": [
  {
   "cell_type": "code",
   "execution_count": 2,
   "metadata": {},
   "outputs": [
    {
     "name": "stdout",
     "output_type": "stream",
     "text": [
      "798\n"
     ]
    }
   ],
   "source": [
    "from random import seed, randint\n",
    "\n",
    "# generate a three digit random integers for user id\n",
    "value = randint(100,999)\n",
    "print(value)"
   ]
  },
  {
   "cell_type": "code",
   "execution_count": 2,
   "metadata": {},
   "outputs": [
    {
     "name": "stdout",
     "output_type": "stream",
     "text": [
      "primes till this number:40\n",
      "[2, 3, 5, 7, 11, 13, 17, 19, 23, 29, 31, 37]\n"
     ]
    }
   ],
   "source": [
    "# print the list of primes upto a number 'n'\n",
    "\n",
    "primes_list = []\n",
    "n = int(input(\"primes till this number:\"))\n",
    "for i in range(2,n):\n",
    "    flag = True\n",
    "    for j in range(2,i):\n",
    "        if i%j == 0:\n",
    "            flag = False\n",
    "            break\n",
    "    if flag == True:\n",
    "        primes_list.append(i)\n",
    "\n",
    "print(primes_list)\n",
    "        \n",
    "\n"
   ]
  },
  {
   "cell_type": "code",
   "execution_count": 5,
   "metadata": {},
   "outputs": [],
   "source": [
    "# Function for getting factorial of a number\n",
    "\n",
    "def factorial(x):\n",
    "    \n",
    "    fact = 1\n",
    "    \n",
    "    for i in range(1, x+1):\n",
    "        fact *= i\n",
    "        \n",
    "    return fact\n"
   ]
  },
  {
   "cell_type": "code",
   "execution_count": null,
   "metadata": {},
   "outputs": [],
   "source": []
  }
 ],
 "metadata": {
  "kernelspec": {
   "display_name": "Python 3",
   "language": "python",
   "name": "python3"
  },
  "language_info": {
   "codemirror_mode": {
    "name": "ipython",
    "version": 3
   },
   "file_extension": ".py",
   "mimetype": "text/x-python",
   "name": "python",
   "nbconvert_exporter": "python",
   "pygments_lexer": "ipython3",
   "version": "3.8.3"
  }
 },
 "nbformat": 4,
 "nbformat_minor": 4
}
