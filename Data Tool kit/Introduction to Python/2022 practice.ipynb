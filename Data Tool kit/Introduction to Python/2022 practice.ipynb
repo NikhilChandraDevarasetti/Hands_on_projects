{
 "cells": [
  {
   "cell_type": "markdown",
   "metadata": {},
   "source": [
    "# ATM "
   ]
  },
  {
   "cell_type": "code",
   "execution_count": 2,
   "metadata": {},
   "outputs": [
    {
     "name": "stdout",
     "output_type": "stream",
     "text": [
      "Enter the pin: 2548\n",
      "incorrect, Enter the correct one: 1234\n",
      "Successful attempt, Collect cash\n"
     ]
    }
   ],
   "source": [
    "import sys\n",
    "\n",
    "pin = int(input(\"Enter the pin: \"))\n",
    "count = 1\n",
    "while pin != 1234:\n",
    "    if count>=3:\n",
    "     sys.exit(\"Maximum number if attempts reached\")\n",
    "    else:\n",
    "        pin = int(input(\"incorrect, Enter the correct one: \"))\n",
    "        count += 1\n",
    "print(\"Successful attempt, Collect cash\")"
   ]
  },
  {
   "cell_type": "code",
   "execution_count": 3,
   "metadata": {},
   "outputs": [
    {
     "name": "stdout",
     "output_type": "stream",
     "text": [
      "1 ['Sam', 24]\n",
      "2 ['Rob', 25]\n",
      "3 ['Jack', 26]\n",
      "4 ['Cornor', 24]\n",
      "5 ['Trump', 27]\n"
     ]
    }
   ],
   "source": [
    "students_data = {1:['Sam', 24] , 2:['Rob',25], 3:['Jack', 26], 4:['Cornor',24], 5:['Trump',27]}\n",
    "\n",
    "for key, val in students_data.items():\n",
    "    print(key, val)"
   ]
  },
  {
   "cell_type": "markdown",
   "metadata": {},
   "source": [
    "## Write a program to print prime numbers between 1 to 20\n"
   ]
  },
  {
   "cell_type": "code",
   "execution_count": 11,
   "metadata": {},
   "outputs": [
    {
     "name": "stdout",
     "output_type": "stream",
     "text": [
      "Enter the range of primes: 20\n",
      "[2, 3, 5, 7, 11, 13, 17, 19]\n"
     ]
    }
   ],
   "source": [
    "n = int(input(\"Enter the range of primes: \"))\n",
    "\n",
    "primes = []\n",
    "for i in range(2, n+1):\n",
    "    flag = True\n",
    "    for j in range(2, i):\n",
    "        if i%j == 0:\n",
    "            flag = False\n",
    "            break\n",
    "    if flag == True:\n",
    "        primes.append(i)\n",
    "\n",
    "print(primes)\n",
    "            "
   ]
  },
  {
   "cell_type": "markdown",
   "metadata": {},
   "source": [
    "## Function arguments:"
   ]
  },
  {
   "cell_type": "code",
   "execution_count": 14,
   "metadata": {},
   "outputs": [
    {
     "name": "stdout",
     "output_type": "stream",
     "text": [
      "Name:  Nikhil\n",
      "Age:  24\n"
     ]
    }
   ],
   "source": [
    "def func(name, age= 31):\n",
    "    print(\"Name: \", name)\n",
    "    print(\"Age: \", age)\n",
    "\n",
    "func(\"Nikhil\", 24)"
   ]
  },
  {
   "cell_type": "code",
   "execution_count": null,
   "metadata": {},
   "outputs": [],
   "source": []
  }
 ],
 "metadata": {
  "kernelspec": {
   "display_name": "Python 3",
   "language": "python",
   "name": "python3"
  },
  "language_info": {
   "codemirror_mode": {
    "name": "ipython",
    "version": 3
   },
   "file_extension": ".py",
   "mimetype": "text/x-python",
   "name": "python",
   "nbconvert_exporter": "python",
   "pygments_lexer": "ipython3",
   "version": "3.8.3"
  }
 },
 "nbformat": 4,
 "nbformat_minor": 4
}
