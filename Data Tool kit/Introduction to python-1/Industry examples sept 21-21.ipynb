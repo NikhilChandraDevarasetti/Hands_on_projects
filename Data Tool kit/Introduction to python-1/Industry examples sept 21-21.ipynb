{
 "cells": [
  {
   "cell_type": "markdown",
   "metadata": {},
   "source": [
    "## We will do this by:\n",
    "\n",
    "- First, breaking down a few famous industry application problems and demonstrate how that can be done using simple concepts that you have learned in the previous module - Introduction to Python.\n",
    "- Next, we will take up a few problems starting from an easy one and slowly increasing the difficulty. It is recommended you solve all of them and also try them on your own employing different approaches than the ones that are illustrated.\n",
    "\n",
    "**`We will consider the following problems in this session`**:\n",
    "- Swapping\n",
    "- Even or Odd\n",
    "- Alarm Clock\n",
    "- Factorial\n",
    "- Reverse The Digits\n",
    "- How Many Chocolates\n",
    "- Print the Pattern"
   ]
  },
  {
   "cell_type": "markdown",
   "metadata": {},
   "source": [
    "# Real Life Scenarios of Programming - I\n",
    "\n",
    "## Famous Problems:\n",
    "\n",
    "- The next problem is YouTube views and upGrad views. You must have realised by now that YouTube keeps a count of the unique views each video gets. Even upGrad platform keeps track of the video being seen by its student to later analyse the content and student performance. How do you think this is done? \n",
    "\n",
    "- With this much data being saved, the next big problem is to search the entry of interest from this accumulated ton of data. Our next problem is the same. While shopping online on a platform you enter the product name and the platform finds all the relevant results for displaying, or while using any other filter as well. How would you implement this functionality on a platform?"
   ]
  },
  {
   "cell_type": "markdown",
   "metadata": {},
   "source": [
    "Q]. While surfing on Facebook, whenever you visit a profile, you must have noticed that it shows a small tab called mutual friends. This shows the number of mutual friends and also the names of all the mutual friends. How would you implement this functionality?"
   ]
  },
  {
   "cell_type": "code",
   "execution_count": null,
   "metadata": {},
   "outputs": [],
   "source": [
    "my_friend_set = {set, of , friend, list}\n",
    "others_friend_set = {set, of, other, person, friend, list}\n",
    "\n",
    "mutual_friend = my_friend_list.intersection(others_friend_list)\n",
    "print(mutual_friends)"
   ]
  },
  {
   "cell_type": "markdown",
   "metadata": {},
   "source": [
    "# Real Life Scenarios of Programming - II"
   ]
  },
  {
   "cell_type": "markdown",
   "metadata": {},
   "source": [
    "- The next problem on our plate is the food delivery application platforms. If you have ever placed a food order online, you might have noticed that you only see the restaurants that will deliver an order to you, at the top of the display list, from the thousands of restaurants registered with the application. How do you think this happens? How would you do it if you were asked to solve this problem?\n",
    "\n",
    "- Let us conclude this discussion with this slightly complex problem about any dating website or application. Can you try and think of some way to design a similar application like Tinder? \n",
    "\n",
    "- In this, you have to implement the ATM machine. The basic function of an ATM machine is, you insert your card and pin, if the pin matches, it lets you withdraw money from your account and deducts the same from your account. Don't forget to handle cases like insufficient balance and no cash available. The more realistic ATM model you build the better."
   ]
  },
  {
   "cell_type": "code",
   "execution_count": 1,
   "metadata": {},
   "outputs": [
    {
     "name": "stdout",
     "output_type": "stream",
     "text": [
      "enter your 4 digit pin: 1234\n",
      "succesful, Enter the amount to withdraw: 1000\n",
      "Collect your cash, Thank you\n"
     ]
    }
   ],
   "source": [
    "import sys  \n",
    "\n",
    "pin = int(input(\"enter your 4 digit pin: \"))\n",
    "Actual_pin = 1234\n",
    "Balance_Amount = 1000\n",
    "count = 1\n",
    "while pin != Actual_pin:\n",
    "    if count >= 3:\n",
    "     sys.exit(\"Exceeded maximum invalid attempts\")\n",
    "    PIN = input(\"Pin entered is wrong, Try again: \")\n",
    "    count += 1\n",
    "\n",
    "withdrawl_amount = int(input(\"succesful, Enter the amount to withdraw: \"))\n",
    "if withdrawl_amount > Balance_Amount:\n",
    "    print(\"Insufficient balance, Tansaction Failed\")\n",
    "else:\n",
    "    print(\"Collect your cash, Thank you\")\n"
   ]
  },
  {
   "cell_type": "markdown",
   "metadata": {},
   "source": []
  },
  {
   "cell_type": "markdown",
   "metadata": {},
   "source": [
    "# Swapping:\n",
    "\n",
    "### Description:\n",
    "\n",
    "You are given two integer variables,  x and y. You have to swap the values stored in x and y.\n",
    "\n",
    "----------------------------------------------------------------------\n",
    "Input:\n",
    "Two numbers x and y separated by a comma.\n",
    "\n",
    "Output:\n",
    "Print 5 lines. The first two lines will have values of variables shown before swapping, and the last two lines will have values of variables shown after swapping. The third line will be blank.\n",
    "\n",
    "----------------------------------------------------------------------\n",
    "Sample input:\n",
    "20, 50"
   ]
  },
  {
   "cell_type": "code",
   "execution_count": null,
   "metadata": {},
   "outputs": [],
   "source": [
    "#Take input using input()\n",
    "\n",
    "#input() takes input in form of the string\n",
    "in_string=input()\n",
    "my_list = in_string.split(',')\n",
    "#here extract the two numbers from the string\n",
    "x = int(my_list[0])\n",
    "y = int(my_list[1])\n",
    "\n",
    "#print x and y before swapping\n",
    "print(\"x before swapping:\", x) # or print(\"x before swapping: {0}\".format(x))\n",
    "print(\"y before swapping:\", y) # or print(\"y before swapping: {0}\".format(y))\n",
    "\n",
    "\n",
    "#Writing your swapping code here\n",
    "Z = x\n",
    "x = y\n",
    "y = Z  \n",
    "\n",
    "#print x and y after swapping\n",
    "print()\n",
    "print(\"x after swapping:\", x)\n",
    "print(\"y after swapping:\", y)\n",
    "\n",
    "# Can you swap two variables in python without using a third variable? ---> Yes, we can. \n",
    "\n",
    "# x = int(my_list[1])\n",
    "# y = int(my_list[0])"
   ]
  },
  {
   "cell_type": "markdown",
   "metadata": {},
   "source": [
    "# Even and Odd"
   ]
  },
  {
   "cell_type": "code",
   "execution_count": null,
   "metadata": {},
   "outputs": [],
   "source": [
    "# code to get whether it is an even or an odd number.\n",
    "\n",
    "if num%2==0:\n",
    "    print(\"Even\")\n",
    "else:\n",
    "    print(\"Odd\")"
   ]
  },
  {
   "cell_type": "markdown",
   "metadata": {},
   "source": [
    "## Beautiful Pretty Sexy\n",
    "\n",
    "### Description\n",
    "\n",
    "A number k is beautiful if it is of the form 3n+1, is pretty if it is of the form 3n+2 and is sexy if it is of form 3n.\n",
    "Given a number k, print if it is beautiful, pretty or sexy.\n",
    "\n",
    "Sample input:\n",
    "21\n",
    "\n",
    "Sample output:\n",
    "sexy\n",
    "\n",
    "Sample input:\n",
    "22\n",
    "\n",
    "Sample output:\n",
    "beautiful\n",
    "\n",
    "Sample input:\n",
    "23\n",
    "\n",
    "Sample output:\n",
    "pretty\n",
    "\n",
    "Execution Time Limit\n",
    "10 seconds"
   ]
  },
  {
   "cell_type": "code",
   "execution_count": null,
   "metadata": {},
   "outputs": [],
   "source": [
    "k = input()\n",
    "\n",
    "#check if the number is beautiful, pretty or sexy\n",
    "if k%3==0:\n",
    "    print(\"sexy\")\n",
    "elif k%3==1:\n",
    "    print(\"beautiful\")\n",
    "else:\n",
    "    print(\"pretty\")"
   ]
  },
  {
   "cell_type": "markdown",
   "metadata": {},
   "source": [
    "# Alarm Clock\n",
    "\n",
    "## Description:\n",
    "\n",
    "You're trying to automate your alarm clock by writing a function for it. You're given a day of the week encoded as 1=Mon, 2=Tue, ... 6=Sat, 7=Sun, and whether you are on vacation as a boolean value (a boolean object is either True or False. Google \"booleans python\" to get a better understanding). Based on the day and whether you're on vacation, write a function that returns a time in form of a string indicating when the alarm clock should ring. \n",
    "\n",
    "When not on a vacation, on weekdays, the alarm should ring at \"7:00\" and on the weekends (Saturday and Sunday) it should ring at \"10:00\". \n",
    "\n",
    "While on a vacation, it should ring at \"10:00\" on weekdays. On vacation, it should not ring on weekends, that is, it should return \"off\".\n",
    "\n",
    "----------------------------------------------------------------------\n",
    "Input:\n",
    "The input will be a list of two elements. The first element will be an integer from 1 to 7, and the second element will be a boolean value.\n",
    "\n",
    "Output:\n",
    "The output will be a string denoting the time alarm will ring or 'off'\n",
    "\n",
    "----------------------------------------------------------------------\n",
    "Sample input:\n",
    "[7, True]\n",
    "\n",
    "Sample output:\n",
    "off\n",
    "\n",
    "----------------------------------------------------------------------\n",
    "Sample input:\n",
    "[3, True]\n",
    "\n",
    "Sample output:\n",
    "10:00\n",
    "\n",
    "----------------------------------------------------------------------\n",
    "\n",
    "Execution Time Limit\n",
    "20 seconds"
   ]
  },
  {
   "cell_type": "code",
   "execution_count": null,
   "metadata": {},
   "outputs": [],
   "source": [
    "#Take input here\n",
    "#we will take input using ast sys\n",
    "import ast\n",
    "input_str = input()\n",
    "\n",
    "#ast.literal_eval() will evaluate the string and make a data structure for the same\n",
    "#here the input is a list since input is in '[...]', so ast.literal_eval() will\n",
    "#make a list with the same data as passed\n",
    "\n",
    "input_list = ast.literal_eval(input_str) # it infers automatically whether it is list, float, string or float etc.,\n",
    "\n",
    "#the data or the two values in list is now changed to separate variables\n",
    "day_of_the_week = input_list[0] #first element is an integer denoting the day of the week\n",
    "is_on_vacation = input_list[1] #this is a boolean denoting if its vacation or not\n",
    "\n",
    "# write your code here\n",
    "vacation = [6,7]\n",
    "if is_on_vacation == True:\n",
    "    if day_of_the_week not in vacation:\n",
    "        print(\"10:00\")\n",
    "    else:\n",
    "        print(\"off\")\n",
    "else:\n",
    "    if day_of_the_week not in vacation:\n",
    "        print(\"7:00\")\n",
    "    else: \n",
    "        print(\"10:00\")\n",
    "\n",
    "    \n",
    "    \n"
   ]
  },
  {
   "cell_type": "markdown",
   "metadata": {},
   "source": [
    "# Factorial\n",
    "\n",
    "## Description:\n",
    "\n",
    "Factorial is a mathematical function denoted by '!'. It is defined as\n",
    "\n",
    "n factorial = n!= 1*2*3...*(n-1)*n\n",
    "\n",
    "In this question, you have to make a function that will take an integer as input, and return the factorial of that integer if that integer is greater than or equal to zero and return -1 if the number is less than zero or negative.\n",
    "\n",
    "Note: the function doesn't return print the factorial but returns it.\n",
    "----------------------------------------------------------------------\n",
    "Input:\n",
    "An integer n\n",
    "\n",
    "Output:\n",
    "The function returns n! if n is greater than or equal to 0.\n",
    "0! = 1\n",
    "and the function returns -1 if the number is less than 0.\n",
    "\n",
    "----------------------------------------------------------------------\n",
    "Sample input:\n",
    "3\n",
    "\n",
    "Sample output:\n",
    "6\n",
    "\n",
    "----------------------------------------------------------------------\n",
    "Sample input:\n",
    "-4\n",
    "\n",
    "Sample output:\n",
    "-1\n",
    "Execution Time Limit\n",
    "20 seconds"
   ]
  },
  {
   "cell_type": "code",
   "execution_count": null,
   "metadata": {},
   "outputs": [],
   "source": [
    "#take the input here\n",
    "number= int(input())\n",
    "\n",
    "#the function definition starts here\n",
    "from functools import reduce\n",
    "def factorial(n):\n",
    "    if n<0:\n",
    "        return -1\n",
    "    elif n==0:\n",
    "        return 1\n",
    "    else:\n",
    "        return reduce(lambda x,y: x*y, range(1,n+1))\n",
    "        \n",
    "        # f= 1\n",
    "        # for i in range(1,n+1):\n",
    "        #     f = f*i # or we can also use f *= i\n",
    "        # return f\n",
    "\n",
    "    #write the funtion here that finds and RETURNS factorial of next\n",
    "    \n",
    "#function definition ends here\n",
    "\n",
    "#do not alter the code typed below\n",
    "k=factorial(number)\n",
    "print(k)"
   ]
  },
  {
   "cell_type": "markdown",
   "metadata": {},
   "source": [
    "# Reverse The Digits"
   ]
  },
  {
   "cell_type": "code",
   "execution_count": 3,
   "metadata": {},
   "outputs": [
    {
     "name": "stdout",
     "output_type": "stream",
     "text": [
      "Enter the number to be revered: 12345\n"
     ]
    },
    {
     "data": {
      "text/plain": [
       "54321"
      ]
     },
     "execution_count": 3,
     "metadata": {},
     "output_type": "execute_result"
    }
   ],
   "source": [
    "# n = int(input(\"Enter the number to be revered: \"))\n",
    "\n",
    "# #write code to reverse the number here\n",
    "# r = 0\n",
    "# while(n>0):\n",
    "#     r = n%10 + r*10\n",
    "#     n = n//10\n",
    "\n",
    "# print(r)\n",
    "\n",
    "n = input(\"Enter the number to be revered: \")\n",
    "# L = [i for i in n]\n",
    "# L = L[::-1] # this represents L[start:stop:step]\n",
    "# print(L)\n",
    "\n",
    "# r_num = ''.join(L) \n",
    "# print(r_num)\n",
    "rev_n = int(n[::-1])\n",
    "rev_n"
   ]
  },
  {
   "cell_type": "markdown",
   "metadata": {},
   "source": [
    "# How Many Chocolates?\n",
    "\n",
    "This question is actually a puzzle that some of you must have solved as a kid. Let's say you have m Rupees and one chocolate costs rupees c. The shopkeeper will give you a bar of chocolate for free if you give him 3 wrappers. Can you determine how many chocolates can you get with the m Rupees you have?\n",
    "\n",
    " \n",
    "\n",
    "This might seem like a tough problem to code in the first glance, but let's see Sajan break it down and make it easier."
   ]
  },
  {
   "cell_type": "code",
   "execution_count": 9,
   "metadata": {},
   "outputs": [
    {
     "name": "stdout",
     "output_type": "stream",
     "text": [
      "Rupees with you: 13\n",
      "How many rupees per choc: 3\n",
      "Total number of choclates:  5\n"
     ]
    }
   ],
   "source": [
    "m = int(input(\"Rupees with you: \"))\n",
    "c = int(input(\"How many rupees per choc: \"))\n",
    "\n",
    "choc = m//c\n",
    "w = m//c\n",
    "\n",
    "while(w//3 != 0):\n",
    "    choc = choc + w//3\n",
    "    w = w%3 + w//3\n",
    "    \n",
    "print(\"Total number of choclates: \", choc)"
   ]
  },
  {
   "cell_type": "markdown",
   "metadata": {},
   "source": [
    "## Generalization of Choc example\n",
    "\n",
    "\n",
    "\n",
    "### Description:\n",
    "\n",
    "Earlier you solved the chocolate problem where Sanjay had m rupees and cost of each chocolate was c rupees. Shopkeeper gave away one chocolate for three wrappers. In this problem lets generalise the question saying, Sanjay has m rupees, each chocolate costs c rupees, shopkeeper will give away k chocolates for w wrappers. Can you find now how many chocolates Sanjay will be able to eat?\n",
    "\n",
    "\n",
    "Input: 4 integers separated by space in order m c w k\n",
    "\n",
    "integers c and w will be >0\n",
    "\n",
    "integers m and k will be >=0\n",
    "\n",
    "integer k will be <w\n",
    "                     \n",
    "   \n",
    "Output: An integer denoting number of chocolates Sanjay will be able to get.\n",
    "\n",
    "Sample input: 15, 2, 3, 1\n",
    "Sample output: 10\n",
    "\n",
    "Explanation:\n",
    "Sanjay has 15 rupees, buys 7 chocolates for 2 rupees each.\n",
    "Sanjay now has 7 wrappers, exchanges 6 of them for 2 more chocolates.\n",
    "Sanjay now has 3 wrappers and exchanges them for 1 more chocolate making a total of 10 chocolates\n",
    "\n",
    "\n",
    "\n",
    "Sample input: 15, 2, 3, 2\n",
    "Sample output: 17\n",
    "\n",
    "Explanation:\n",
    "\n",
    "Sanjay has 15 rupees, buys 7 chocolates for 2 rupees each.\n",
    "Sanjay now has 7 wrappers, exchanges 6 of them for 4 more chocolates.\n",
    "Sanjay now has 5 wrappers and exchanges 3 of them for 2 more chocolates.\n",
    "Sanjay now has 4 wrappers and exchanges 3 of them for 2 more chocolates.\n",
    "Sanjay now has 3 wrappers and exchanges them for 2 chocolates making a total of 17 chocolates.\n",
    "\n",
    "Execution Time Limit\n",
    "10 seconds\n"
   ]
  },
  {
   "cell_type": "code",
   "execution_count": 3,
   "metadata": {},
   "outputs": [
    {
     "name": "stdout",
     "output_type": "stream",
     "text": [
      "17\n"
     ]
    }
   ],
   "source": [
    " #take input here\n",
    "# import ast \n",
    "# input_str = input()\n",
    "# input_list = ast.literal_eval(input_str) or input_str.split(',')\n",
    "input_list = [15, 2, 3, 2]\n",
    "m = int(input_list[0])\n",
    "c = int(input_list[1])\n",
    "w = int(input_list[2]) # number of wrappers needed for k free choclates\n",
    "k = int(input_list[3]) # number of choc for free\n",
    "\n",
    "#start writing your code here\n",
    "choc = m//c \n",
    "wraps = m//c \n",
    "\n",
    "while (k*(wraps//w) !=0):\n",
    "    choc = choc + k*(wraps//w)\n",
    "    wraps = wraps%w + k*(wraps//w)\n",
    "\n",
    "print(choc)\n",
    "    "
   ]
  },
  {
   "cell_type": "markdown",
   "metadata": {},
   "source": [
    "# Print The Pattern\n",
    "\n",
    "Pattern printing is an exercise done frequently to learn and master loop iterations. This type of exercise is recommended for all new coders and professionals.\n",
    "\n",
    "## Description:\n",
    "\n",
    "Printing different patterns is a very good exercise to reinforce iteration through loops and strong logic building. Here you will be given a positive integer and you will generate pattern based on that integer.\n",
    "\n",
    "----------------------------------------------------------------------\n",
    "Input:\n",
    "A positive integer n\n",
    "1 <= n <=20\n",
    "\n",
    "Output:\n",
    "A pattern as described by the Sample input and outputs below.\n",
    "\n",
    "----------------------------------------------------------------------\n",
    "Sample input:\n",
    "5"
   ]
  },
  {
   "cell_type": "code",
   "execution_count": 4,
   "metadata": {},
   "outputs": [
    {
     "name": "stdout",
     "output_type": "stream",
     "text": [
      "Enter the number of layers you wanted to print: 3\n",
      "  *\n",
      " *_*\n",
      "*_*_*\n"
     ]
    }
   ],
   "source": [
    "n = int(input(\"Enter the number of layers you wanted to print: \"))\n",
    "\n",
    "for i in range(1, n+1):\n",
    "    for j in range(n-i):\n",
    "        print(' ', end ='')\n",
    "    for k in range(i-1):\n",
    "        print('*_', end = '')\n",
    "    print('*')\n",
    "    \n",
    "# n = int(input(\"Enter the depth of the pyramid you want to print: \"))\n",
    "\n",
    "# for i in range(n):\n",
    "#     for j in range(n-i-1):\n",
    "#         print(' ', end = '')\n",
    "#     for k in range(i):\n",
    "#         print('*_', end = '')\n",
    "#     print('*')"
   ]
  },
  {
   "cell_type": "markdown",
   "metadata": {},
   "source": [
    "# Alphabetic Patterns:"
   ]
  },
  {
   "cell_type": "markdown",
   "metadata": {},
   "source": [
    "## Pattern - I"
   ]
  },
  {
   "cell_type": "code",
   "execution_count": 16,
   "metadata": {},
   "outputs": [
    {
     "name": "stdout",
     "output_type": "stream",
     "text": [
      "Enter the number of layers you wanted to print: 5\n",
      "A\n",
      "AB\n",
      "ABC\n",
      "ABCD\n",
      "ABCDE\n"
     ]
    }
   ],
   "source": [
    "n = int(input(\"Enter the number of layers you wanted to print: \"))\n",
    "\n",
    "for i in range(65, 65+n):\n",
    "    for j in range(65, i+1):\n",
    "        print(chr(j),end=\"\")\n",
    "    print()"
   ]
  },
  {
   "cell_type": "code",
   "execution_count": 12,
   "metadata": {},
   "outputs": [
    {
     "name": "stdout",
     "output_type": "stream",
     "text": [
      "A\n",
      "AB\n",
      "ABC\n",
      "ABCD\n",
      "ABCDE\n",
      "a\n",
      "ab\n",
      "abc\n",
      "abcd\n",
      "abcde\n"
     ]
    }
   ],
   "source": [
    "n = 5\n",
    "for i in range(65, 65+n):\n",
    "    for j in range(65, i+1):\n",
    "        print(chr(j), end = '')\n",
    "    print()\n",
    "    \n",
    "for i in range(97, 97+n):\n",
    "    for j in range(97, i+1):\n",
    "        print(chr(j), end = '')\n",
    "    print()    "
   ]
  },
  {
   "cell_type": "code",
   "execution_count": 5,
   "metadata": {},
   "outputs": [
    {
     "name": "stdout",
     "output_type": "stream",
     "text": [
      "Enter the number of layers you wanted to print: 5\n",
      "a\n",
      "ab\n",
      "abc\n",
      "abcd\n",
      "abcde\n"
     ]
    }
   ],
   "source": [
    "n = int(input(\"Enter the number of layers you wanted to print: \"))\n",
    "\n",
    "for i in range(97, 97+n):\n",
    "    for j in range(97, i+1):\n",
    "        print(chr(j), end = '')\n",
    "    print()  "
   ]
  },
  {
   "cell_type": "markdown",
   "metadata": {},
   "source": [
    "## Pattern- II"
   ]
  },
  {
   "cell_type": "code",
   "execution_count": 1,
   "metadata": {},
   "outputs": [
    {
     "name": "stdout",
     "output_type": "stream",
     "text": [
      "Enter the number of layers you wanted to print: 5\n",
      "A\n",
      "BB\n",
      "CCC\n",
      "DDDD\n",
      "EEEEE\n"
     ]
    }
   ],
   "source": [
    "n = int(input(\"Enter the number of layers you wanted to print: \"))\n",
    "\n",
    "for i in range (65, 65+n):\n",
    "    for j in range(65,i+1):\n",
    "        print(chr(i),end=\"\")\n",
    "    print()"
   ]
  },
  {
   "cell_type": "markdown",
   "metadata": {},
   "source": [
    "## Pattern III"
   ]
  },
  {
   "cell_type": "code",
   "execution_count": 2,
   "metadata": {},
   "outputs": [
    {
     "name": "stdout",
     "output_type": "stream",
     "text": [
      "Enter the number of layers you wanted to print: 5\n",
      "A\n",
      "BC\n",
      "CDE\n",
      "DEFG\n",
      "EFGHI\n"
     ]
    }
   ],
   "source": [
    "n = int(input(\"Enter the number of layers you wanted to print: \"))\n",
    "\n",
    "for i in range(65,65+n):\n",
    "    k=i\n",
    "    # Inner loop\n",
    "    for j in range(65,i+1):\n",
    "        print(chr(k),end=\"\")\n",
    "        k=k+1\n",
    "    print()"
   ]
  },
  {
   "cell_type": "code",
   "execution_count": 5,
   "metadata": {},
   "outputs": [
    {
     "name": "stdout",
     "output_type": "stream",
     "text": [
      "Enter the number of layers you wanted to print: 5\n",
      "    E\n",
      "   ED\n",
      "  EDC\n",
      " EDCB\n",
      "EDCBA\n"
     ]
    }
   ],
   "source": [
    "n = int(input(\"Enter the number of layers you wanted to print: \"))\n",
    "\n",
    "for i in range(65,65+n):\n",
    "    k= 65+n-1\n",
    "    # Inner loop\n",
    "    for x in range(65+n-1-i):\n",
    "        print(' ', end = '')\n",
    "    for j in range(65,i+1):\n",
    "        print(chr(k),end=\"\")\n",
    "        k=k-1\n",
    "    print()"
   ]
  },
  {
   "cell_type": "code",
   "execution_count": 19,
   "metadata": {},
   "outputs": [
    {
     "name": "stdout",
     "output_type": "stream",
     "text": [
      "    E\n",
      "   ED\n",
      "  EDC\n",
      " EDCB\n",
      "EDCBA\n"
     ]
    }
   ],
   "source": [
    "for i in range(65, 65+n):\n",
    "    k = 65+n-1\n",
    "    for j in range(65+n-1-i):\n",
    "        print(' ', end = '')\n",
    "    for p in range(65, i+1):\n",
    "        print(chr(k), end = '')\n",
    "        k -= 1\n",
    "    print()"
   ]
  },
  {
   "cell_type": "code",
   "execution_count": 6,
   "metadata": {},
   "outputs": [
    {
     "name": "stdout",
     "output_type": "stream",
     "text": [
      "Enter the number of layers you wanted to print: 5\n",
      "        E-\n",
      "      E-D-E-\n",
      "    E-D-C-D-E-\n",
      "  E-D-C-B-C-D-E-\n",
      "E-D-C-B-A-B-C-D-E-\n"
     ]
    }
   ],
   "source": [
    "n = int(input(\"Enter the number of layers you wanted to print: \"))\n",
    "p = 65+n+1\n",
    "\n",
    "for i in range(65,65+n):\n",
    "    if i <= 69:\n",
    "        k= 65+n-1\n",
    "        # Inner loop\n",
    "        for x in range(2*(65+n-1-i)):\n",
    "            print(' ', end = '')\n",
    "        for j in range(65,i+1):\n",
    "            print(chr(k)+'-',end=\"\")\n",
    "            k=k-1\n",
    "        p = p-1\n",
    "        m = p\n",
    "        for y in range(i-65):\n",
    "            print(chr(m)+'-',end = '')\n",
    "            m = m+1\n",
    "        print()\n",
    "    \n",
    "        "
   ]
  },
  {
   "cell_type": "code",
   "execution_count": null,
   "metadata": {},
   "outputs": [],
   "source": [
    "n = int(input(\"Enter the number of layers you wanted to print: \"))\n",
    "p = 65+n+1\n",
    "\n",
    "for i in range(65,65+n):\n",
    "    if i <= 69:\n",
    "        k= 65+n-1\n",
    "        # Inner loop\n",
    "        for x in range(2*(65+n-1-i)):\n",
    "            print(' ', end = '')\n",
    "        for j in range(66,i+1):\n",
    "            print(chr(k)+'-',end=\"\")\n",
    "            k=k-1\n",
    "        p = p-1\n",
    "        m = p\n",
    "        for y in range(i-65):\n",
    "            print(chr(m)+'-',end = '')\n",
    "            m = m+1\n",
    "        print(chr(69))\n",
    "        print()\n",
    "    \n",
    "        "
   ]
  },
  {
   "cell_type": "code",
   "execution_count": 24,
   "metadata": {},
   "outputs": [
    {
     "name": "stdout",
     "output_type": "stream",
     "text": [
      "Enter the number of layers you wanted to print: 5\n",
      "E\n",
      "DE\n",
      "CDE\n",
      "BCDE\n",
      "ABCDE\n"
     ]
    }
   ],
   "source": [
    "n = int(input(\"Enter the number of layers you wanted to print: \"))\n",
    "\n",
    "for i in range(64+n, 64,-1):\n",
    "    k = i\n",
    "    for j in range(64+n, i-1,-1):\n",
    "        print(chr(k),end=\"\")\n",
    "        k = k + 1\n",
    "    print()"
   ]
  },
  {
   "cell_type": "code",
   "execution_count": 7,
   "metadata": {},
   "outputs": [
    {
     "data": {
      "text/plain": [
       "[70, 69, 68, 67, 66]"
      ]
     },
     "execution_count": 7,
     "metadata": {},
     "output_type": "execute_result"
    }
   ],
   "source": [
    "a = list(range(70,65,-1))\n",
    "a"
   ]
  },
  {
   "cell_type": "code",
   "execution_count": 9,
   "metadata": {},
   "outputs": [
    {
     "data": {
      "text/plain": [
       "[66, 67, 68, 69, 70]"
      ]
     },
     "execution_count": 9,
     "metadata": {},
     "output_type": "execute_result"
    }
   ],
   "source": [
    "sorted(a)"
   ]
  },
  {
   "cell_type": "code",
   "execution_count": 14,
   "metadata": {},
   "outputs": [
    {
     "name": "stdout",
     "output_type": "stream",
     "text": [
      "Enter the number of layers you wanted to print: 5\n",
      "ABCDE\n",
      "ABCD\n",
      "ABC\n",
      "AB\n",
      "A\n"
     ]
    }
   ],
   "source": [
    "n = int(input(\"Enter the number of layers you wanted to print: \"))\n",
    "\n",
    "for i in range(64+n, 64,-1):\n",
    "    for j in range(65, i+1 ):\n",
    "        print(chr(j),end=\"\")\n",
    "    print()"
   ]
  },
  {
   "cell_type": "code",
   "execution_count": 13,
   "metadata": {},
   "outputs": [
    {
     "name": "stdout",
     "output_type": "stream",
     "text": [
      "Enter the number of layers you wanted to print: 5\n",
      "EDCBA\n",
      "DCBA\n",
      "CBA\n",
      "BA\n",
      "A\n"
     ]
    }
   ],
   "source": [
    "n = int(input(\"Enter the number of layers you wanted to print: \"))\n",
    "\n",
    "for i in range(64+n, 64,-1):\n",
    "    for j in range(i, 64,-1):\n",
    "        print(chr(j),end=\"\")\n",
    "    print()"
   ]
  },
  {
   "cell_type": "code",
   "execution_count": 27,
   "metadata": {},
   "outputs": [
    {
     "name": "stdout",
     "output_type": "stream",
     "text": [
      "Enter the number of layers you wanted to print: 5\n",
      "\n",
      "\n",
      "\n",
      "\n",
      "\n"
     ]
    }
   ],
   "source": [
    "n = int(input(\"Enter the number of layers you wanted to print: \"))\n",
    "\n",
    "for i in range(1,n+1):\n",
    "    for j in range(0, m-i):\n",
    "        print(\" .\", end = '')\n",
    "    print()"
   ]
  },
  {
   "cell_type": "code",
   "execution_count": 1,
   "metadata": {},
   "outputs": [
    {
     "name": "stdout",
     "output_type": "stream",
     "text": [
      "5\n"
     ]
    },
    {
     "ename": "NameError",
     "evalue": "name 'letters' is not defined",
     "output_type": "error",
     "traceback": [
      "\u001b[1;31m---------------------------------------------------------------------------\u001b[0m",
      "\u001b[1;31mNameError\u001b[0m                                 Traceback (most recent call last)",
      "\u001b[1;32m<ipython-input-1-0db1e5e9bdf9>\u001b[0m in \u001b[0;36m<module>\u001b[1;34m\u001b[0m\n\u001b[0;32m     23\u001b[0m     \u001b[1;32mreturn\u001b[0m \u001b[1;34m'\\n'\u001b[0m\u001b[1;33m.\u001b[0m\u001b[0mjoin\u001b[0m\u001b[1;33m(\u001b[0m\u001b[0mpattern\u001b[0m\u001b[1;33m)\u001b[0m\u001b[1;33m\u001b[0m\u001b[1;33m\u001b[0m\u001b[0m\n\u001b[0;32m     24\u001b[0m \u001b[1;33m\u001b[0m\u001b[0m\n\u001b[1;32m---> 25\u001b[1;33m \u001b[0mprint\u001b[0m\u001b[1;33m(\u001b[0m\u001b[0mgenerate_pattern\u001b[0m\u001b[1;33m(\u001b[0m\u001b[0mn\u001b[0m\u001b[1;33m)\u001b[0m\u001b[1;33m)\u001b[0m\u001b[1;33m\u001b[0m\u001b[1;33m\u001b[0m\u001b[0m\n\u001b[0m",
      "\u001b[1;32m<ipython-input-1-0db1e5e9bdf9>\u001b[0m in \u001b[0;36mgenerate_pattern\u001b[1;34m(n)\u001b[0m\n\u001b[0;32m     13\u001b[0m \u001b[1;33m\u001b[0m\u001b[0m\n\u001b[0;32m     14\u001b[0m         \u001b[1;32mfor\u001b[0m \u001b[0mj\u001b[0m \u001b[1;32min\u001b[0m \u001b[0mrange\u001b[0m\u001b[1;33m(\u001b[0m\u001b[0mn\u001b[0m \u001b[1;33m-\u001b[0m \u001b[0mi\u001b[0m\u001b[1;33m)\u001b[0m\u001b[1;33m:\u001b[0m\u001b[1;33m\u001b[0m\u001b[1;33m\u001b[0m\u001b[0m\n\u001b[1;32m---> 15\u001b[1;33m             \u001b[0mrow_list\u001b[0m\u001b[1;33m[\u001b[0m\u001b[0mleft_index\u001b[0m \u001b[1;33m+\u001b[0m \u001b[1;33m(\u001b[0m\u001b[0mj\u001b[0m \u001b[1;33m*\u001b[0m \u001b[1;36m2\u001b[0m\u001b[1;33m)\u001b[0m\u001b[1;33m]\u001b[0m \u001b[1;33m=\u001b[0m \u001b[0mletters\u001b[0m\u001b[1;33m[\u001b[0m\u001b[0mn\u001b[0m \u001b[1;33m-\u001b[0m \u001b[1;36m1\u001b[0m \u001b[1;33m-\u001b[0m \u001b[0mj\u001b[0m\u001b[1;33m]\u001b[0m\u001b[1;33m\u001b[0m\u001b[1;33m\u001b[0m\u001b[0m\n\u001b[0m\u001b[0;32m     16\u001b[0m             \u001b[0mrow_list\u001b[0m\u001b[1;33m[\u001b[0m\u001b[0mright_index\u001b[0m \u001b[1;33m-\u001b[0m \u001b[1;33m(\u001b[0m\u001b[0mj\u001b[0m \u001b[1;33m*\u001b[0m \u001b[1;36m2\u001b[0m\u001b[1;33m)\u001b[0m\u001b[1;33m]\u001b[0m \u001b[1;33m=\u001b[0m \u001b[0mletters\u001b[0m\u001b[1;33m[\u001b[0m\u001b[0mn\u001b[0m \u001b[1;33m-\u001b[0m \u001b[1;36m1\u001b[0m \u001b[1;33m-\u001b[0m \u001b[0mj\u001b[0m\u001b[1;33m]\u001b[0m\u001b[1;33m\u001b[0m\u001b[1;33m\u001b[0m\u001b[0m\n\u001b[0;32m     17\u001b[0m \u001b[1;33m\u001b[0m\u001b[0m\n",
      "\u001b[1;31mNameError\u001b[0m: name 'letters' is not defined"
     ]
    }
   ],
   "source": [
    "n = int(input())\n",
    "\n",
    "# Write your code below\n",
    "def generate_pattern(n):\n",
    "\n",
    "    max_len = 4 * n - 3  # The length of the longest row\n",
    "    pattern = []\n",
    "    \n",
    "    for i in range(n):\n",
    "        row_list = ['-'] * max_len\n",
    "        left_index = (max_len // 2) - (i * 2)\n",
    "        right_index = (max_len // 2) + (i * 2)\n",
    "        \n",
    "        for j in range(n - i):\n",
    "            row_list[left_index + (j * 2)] = letters[n - 1 - j]\n",
    "            row_list[right_index - (j * 2)] = letters[n - 1 - j]\n",
    "        \n",
    "        pattern.append(''.join(row_list))\n",
    "    \n",
    "    # The lower half is the reverse of the upper half excluding the middle line\n",
    "    pattern.extend(pattern[:-1][::-1])\n",
    "    \n",
    "    return '\\n'.join(pattern)\n",
    "    \n",
    "print(generate_pattern(n))"
   ]
  },
  {
   "cell_type": "markdown",
   "metadata": {},
   "source": [
    "## Armstrong number:\n",
    "\n",
    "### Description\n",
    "\n",
    "    Any number, say n is called an Armstrong number if it is equal to the sum of its digits, where each is raised to the power of number of digits in n.\n",
    "    For example:\n",
    "    153=13+53+33\n",
    "\n",
    "    Write Python code to determine whether an entered three digit number is an Armstrong number or not. \n",
    "    Assume that the number entered will strictly be a three digit number.\n",
    "    Print \"True\" if it is an Armstrong number and print \"False\" if it is not.\n",
    "    Sample Input:\n",
    "    153\n",
    "    Sample Output:\n",
    "    True\n",
    "    Execution Time Limit\n",
    "    10 seconds"
   ]
  },
  {
   "cell_type": "code",
   "execution_count": 29,
   "metadata": {},
   "outputs": [
    {
     "name": "stdout",
     "output_type": "stream",
     "text": [
      "Enter the number: 548834\n",
      "True\n"
     ]
    }
   ],
   "source": [
    "n=int(input(\"Enter the number: \")) # 153, 548834 etc.,\n",
    "\n",
    "#we can use list comprehension and map function to get the digits of the number\n",
    "digits=list(map(int,str(n)))  # OR digits = [i for i in str(n)]\n",
    "\n",
    "#str(n) converts the number to string, an iterable, and we then simple convert each char of the string \n",
    "#which in this case is a digit to int\n",
    "#and get a list of all the digits of n\n",
    "\n",
    "#we then use map again to find the sum of cubes of all digits stored in int\n",
    "#if this is same as n, then armstrong number else not\n",
    "num=sum(list(map(lambda x:x**(len(digits)),digits))) \n",
    "print(num==n)\n",
    "\n",
    "\n",
    "#without getting into lists and list comprehension, we can also use a approach similar to \n",
    "#that taken in reverse the digits\n",
    "\n",
    "#input number is in n\n",
    "\n",
    "# '''\n",
    "# s=0 #we will store sum in this\n",
    "# num=n #mqke a copy of n\n",
    "# while n!=0:\n",
    "#     s=s+ ((n%10)**3)\n",
    "#     n=n//10\n",
    "\n",
    "# print(s==)\n",
    "\n",
    "\n",
    "# '''"
   ]
  },
  {
   "cell_type": "code",
   "execution_count": 22,
   "metadata": {},
   "outputs": [
    {
     "name": "stdout",
     "output_type": "stream",
     "text": [
      "Enter the number: 12345\n",
      "digits:  [1, 2, 3, 4, 5]\n"
     ]
    }
   ],
   "source": [
    "n=int(input(\"Enter the number: \")) # n = input(\"Enter the number: \")\n",
    "\n",
    "#we can use list comprehension and map function to get the digits of the number\n",
    "# digits=list(map(int,str(n)))  # you cannot use this function to get the albhabets of a word\n",
    "digits = [int(i) for i in str(n)]\n",
    "print(\"digits: \", digits)\n",
    "# digits_alt = [i for i in n] , It will through out an error bcz int object is not iterable. we shall be careful.\n"
   ]
  },
  {
   "cell_type": "code",
   "execution_count": 24,
   "metadata": {},
   "outputs": [
    {
     "name": "stdout",
     "output_type": "stream",
     "text": [
      "Enter a word: abcde\n"
     ]
    },
    {
     "data": {
      "text/plain": [
       "'abcde'"
      ]
     },
     "execution_count": 24,
     "metadata": {},
     "output_type": "execute_result"
    }
   ],
   "source": [
    "word = input(\"Enter a word: \")\n",
    "word"
   ]
  },
  {
   "cell_type": "code",
   "execution_count": 26,
   "metadata": {},
   "outputs": [
    {
     "data": {
      "text/plain": [
       "['a', 'b', 'c', 'd', 'e']"
      ]
     },
     "execution_count": 26,
     "metadata": {},
     "output_type": "execute_result"
    }
   ],
   "source": [
    "word_list = [i for i in word]\n",
    "word_list"
   ]
  },
  {
   "cell_type": "markdown",
   "metadata": {},
   "source": [
    "## Fibonacci Series:\n",
    "\n",
    "Description\n",
    "Compute and display Fibonacci series upto n terms where n is a positive integer entered by the user."
   ]
  },
  {
   "cell_type": "code",
   "execution_count": 1,
   "metadata": {},
   "outputs": [
    {
     "name": "stdout",
     "output_type": "stream",
     "text": [
      "Enter a positive number: 5\n",
      "0 1 1 2 3 "
     ]
    }
   ],
   "source": [
    "n=int(input(\"Enter a positive number: \"))\n",
    "#write your code here\n",
    "number1 = 0\n",
    "number2 = 1\n",
    "series = 0\n",
    "for i in range(n):\n",
    "    print(series, end = ' ')\n",
    "    number1 = number2\n",
    "    number2 = series\n",
    "    series = number1 + number2\n",
    "\n",
    "    \n",
    "# using while loop\n",
    "\n",
    "# Fibonacci series\n",
    "\n",
    "# n = 5\n",
    "\n",
    "# n1 = 0\n",
    "# n2 = 1\n",
    "# series = 0\n",
    "\n",
    "# while n> 0:\n",
    "#     print(series, end = ' ')\n",
    "#     n1 = n2\n",
    "#     n2 = series\n",
    "#     series = n1 + n2\n",
    "#     n -= 1"
   ]
  },
  {
   "cell_type": "code",
   "execution_count": 19,
   "metadata": {},
   "outputs": [
    {
     "name": "stdout",
     "output_type": "stream",
     "text": [
      "Enter a positive number: 5\n",
      "[0, 1, 1, 2, 3]\n"
     ]
    }
   ],
   "source": [
    "#  An alternate approach for printing \n",
    " list\n",
    "\n",
    "n=int(input(\"Enter a positive number: \"))\n",
    "#write your code here\n",
    "number1 = 0\n",
    "number2 = 1\n",
    "series = 0\n",
    "L = [0,1]\n",
    "for i in range(n-2):\n",
    "    \n",
    "    #print(series, end = ' ')\n",
    "    series = number1 + number2\n",
    "    L.append(series)\n",
    "    number1 = number2\n",
    "    number2 = series\n",
    "print(L)"
   ]
  },
  {
   "cell_type": "code",
   "execution_count": 32,
   "metadata": {},
   "outputs": [
    {
     "data": {
      "text/plain": [
       "[0, 1, 1, 2, 3]"
      ]
     },
     "execution_count": 32,
     "metadata": {},
     "output_type": "execute_result"
    }
   ],
   "source": [
    "n = 5\n",
    "num1 = 0\n",
    "num2 = 1\n",
    "series = 0\n",
    "L = []\n",
    "for i in range(n):\n",
    "    L.append(series)\n",
    "    num1 = num2\n",
    "    num2 = series\n",
    "    series = num1 + num2\n",
    "L    "
   ]
  },
  {
   "cell_type": "markdown",
   "metadata": {},
   "source": [
    "# Sum of primes\n"
   ]
  },
  {
   "cell_type": "code",
   "execution_count": null,
   "metadata": {},
   "outputs": [],
   "source": [
    "n=int(input())\n",
    "#find the sum of primes from 2 to n \n",
    "primes_list = []\n",
    "\n",
    "for i in range(2,n+1):\n",
    "    flag = True\n",
    "    for j in range(2,i):\n",
    "        if i%j == 0:\n",
    "            flag = False\n",
    "            break\n",
    "    if flag == True:\n",
    "        primes_list.append(i)\n",
    "\n",
    "print(sum(primes_list))\n",
    "        "
   ]
  },
  {
   "cell_type": "markdown",
   "metadata": {},
   "source": [
    "## Calendar Problem:\n",
    "\n",
    "### Description:\n",
    "\n",
    "You are planning to go to your friend's wedding and you have long events all month, lasting at least a few days. You have the start and end dates of events and your task is to find out events overlapping with the wedding date.\n",
    "\n",
    "The code for taking input has already been written for you, please don't modify that, but do read and try to understand the way input has been taken. You will be asked to take input on your own for most of the problems here onwards. Taking data in a suitable format is an important skill for a Data Scientist.\n",
    "\n",
    "----------------------------------------------------------------------\n",
    "Input:\n",
    "The input will contain a list of lists where each sub-list has only two elements representing the start and end date of an event, the start date will be less than or equal to the end date. The next line of input will have a wedding date. \n",
    "\n",
    "Output:\n",
    "The output should have the number of events overlapping with the wedding date.\n",
    "\n",
    "----------------------------------------------------------------------\n",
    "Sample input:\n",
    "[ [29,31], [23,26], [24,25] ]\n",
    "24\n",
    "\n",
    "Sample output:\n",
    "2\n",
    "\n",
    "Explanation:\n",
    "There are three events in the month.\n",
    "Event 1= from date 29 to 31\n",
    "Event 2= from date 23 to 26\n",
    "Event 3= from date 24 to 25\n",
    "Wedding is on 24. This means it will clash with Event 3 and Event 2, that is two events. The output is therefore 2.\n",
    "\n",
    "----------------------------------------------------------------------\n",
    "Sample input:\n",
    "[ [1, 4], [7, 10], [8, 8], [14, 23] ]\n",
    "26\n",
    "\n",
    "Sample output:\n",
    "0\n",
    "Execution Time Limit\n",
    "20 seconds"
   ]
  },
  {
   "cell_type": "code",
   "execution_count": null,
   "metadata": {},
   "outputs": [],
   "source": [
    "#taking input\n",
    "import ast\n",
    "input_str1 = input()\n",
    "input_list1 = ast.literal_eval(input_str1)\n",
    "events = input_list1\n",
    "\n",
    "wedding = int(input())\n",
    "\n",
    "#start writing from here\n",
    "clash = 0\n",
    "for event in events:\n",
    "    if event[0]<=wedding and event[1]>=wedding:\n",
    "        clash = clash + 1\n",
    "\n",
    "print(clash)"
   ]
  },
  {
   "cell_type": "markdown",
   "metadata": {},
   "source": [
    "## Fenced Matrix:\n",
    "\n",
    "### Description\n",
    "\n",
    "You will be given two positive integers m and n. You have to make a list of lists (which can be visualised as a matrix) of size m*n, that is m sublists (rows), with each sublists having n integers (columns). The matrix should be such that it should have 1 on the border and 0 everywhere else. See sample input and output for more clarification.\n",
    "\n",
    "----------------------------------------------------------------------\n",
    "\n",
    "Input: Two integers separated by a comma\n",
    "\n",
    "Output: A list of lists of size m*n printed like matrix as shown in the sample output.\n",
    "\n",
    "----------------------------------------------------------------------\n",
    "\n",
    "Sample input: 4,5\n",
    "\n",
    "Sample output:\n",
    "\n",
    "[1, 1, 1, 1, 1] \n",
    "[1, 0, 0, 0, 1] \n",
    "[1, 0, 0, 0, 1] \n",
    "[1, 1, 1, 1, 1]\n",
    "\n",
    "----------------------------------------------------------------------\n",
    "\n",
    "Sample input: 3,3\n",
    "\n",
    "Sample output:\n",
    "\n",
    "[1, 1, 1]\n",
    "[1, 0, 1]\n",
    "[1, 1, 1]\n",
    "\n",
    "----------------------------------------------------------------------\n",
    "\n",
    "Sample input: 3,2\n",
    "Sample output:\n",
    "\n",
    "[1, 1]\n",
    "[1, 1]\n",
    "[1, 1]\n",
    "Execution Time Limit\n",
    "20 seconds"
   ]
  },
  {
   "cell_type": "code",
   "execution_count": 4,
   "metadata": {},
   "outputs": [
    {
     "data": {
      "text/plain": [
       "[0, 0, 0]"
      ]
     },
     "execution_count": 4,
     "metadata": {},
     "output_type": "execute_result"
    }
   ],
   "source": [
    "# final = [0]*3\n",
    "# final"
   ]
  },
  {
   "cell_type": "code",
   "execution_count": 7,
   "metadata": {},
   "outputs": [
    {
     "name": "stdout",
     "output_type": "stream",
     "text": [
      "[0, 0, 0, 0, 0]\n"
     ]
    },
    {
     "data": {
      "text/plain": [
       "[[0, 0, 0, 0, 0], [0, 0, 0, 0, 0], [0, 0, 0, 0, 0], [0, 0, 0, 0, 0]]"
      ]
     },
     "execution_count": 7,
     "metadata": {},
     "output_type": "execute_result"
    }
   ],
   "source": [
    "final = [0]*n\n",
    "print(final)\n",
    "list(final)\n",
    "final = [final for i in range(4)]\n",
    "final"
   ]
  },
  {
   "cell_type": "code",
   "execution_count": 16,
   "metadata": {},
   "outputs": [
    {
     "name": "stdout",
     "output_type": "stream",
     "text": [
      "4,4\n",
      "[1, 1, 1, 1]\n",
      "[1, 0, 0, 1]\n",
      "[1, 0, 0, 1]\n",
      "[1, 1, 1, 1]\n"
     ]
    }
   ],
   "source": [
    " #take input on your own here\n",
    "import ast \n",
    "my_list = ast.literal_eval(input())\n",
    "m = my_list[0]\n",
    "n = my_list[1]\n",
    "\n",
    "#start writing code here\n",
    "final = [0]*n\n",
    "final = [list(final) for i in range(m)]\n",
    "\n",
    "for i in range(m):\n",
    "    for j in range(n):\n",
    "        if (i==0) or (j==0) or (i == m-1) or (j == n-1):\n",
    "            final[i][j]=1\n",
    "#         else:\n",
    "#             final[i][j]=0\n",
    "\n",
    "for x in final:\n",
    "    print(x)\n",
    "    "
   ]
  },
  {
   "cell_type": "code",
   "execution_count": 39,
   "metadata": {},
   "outputs": [
    {
     "data": {
      "text/plain": [
       "[[1, 1, 1, 1, 1], [1, 0, 0, 0, 1], [1, 0, 0, 0, 1], [1, 1, 1, 1, 1]]"
      ]
     },
     "execution_count": 39,
     "metadata": {},
     "output_type": "execute_result"
    }
   ],
   "source": [
    "n = 5\n",
    "m = 4\n",
    "final = [0]*n\n",
    "final = [list(final) for i in range(m)]\n",
    "final\n",
    "\n",
    "for row in range(m):\n",
    "    for col in range(n):\n",
    "        if row == 0 or col == 0 or row == m-1 or col == n-1:\n",
    "            final[row][col] = 1\n",
    "\n",
    "\n",
    "final"
   ]
  },
  {
   "cell_type": "markdown",
   "metadata": {},
   "source": [
    "## Pascals Triangle"
   ]
  },
  {
   "cell_type": "code",
   "execution_count": 4,
   "metadata": {},
   "outputs": [
    {
     "name": "stdout",
     "output_type": "stream",
     "text": [
      "Enter the no of Layers you wanted to print: 8\n",
      "       1 \n",
      "      1 1 \n",
      "     1 2 1 \n",
      "    1 3 3 1 \n",
      "   1 4 6 4 1 \n",
      "  1 5 10 10 5 1 \n",
      " 1 6 15 20 15 6 1 \n",
      "1 7 21 35 35 21 7 1 \n",
      "[[1], [1, 1], [1, 2, 1], [1, 3, 3, 1], [1, 4, 6, 4, 1], [1, 5, 10, 10, 5, 1], [1, 6, 15, 20, 15, 6, 1], [1, 7, 21, 35, 35, 21, 7, 1]]\n",
      "[1, 5, 10, 10, 5, 1]\n"
     ]
    }
   ],
   "source": [
    "# Print Pascal's Triangle in Python\n",
    "from math import factorial\n",
    " \n",
    "# input n\n",
    "n = int(input(\"Enter the no of Layers you wanted to print: \")) \n",
    "List = []\n",
    "for i in range(n):\n",
    "    List.append([])\n",
    "    for j in range(n-i-1):\n",
    " \n",
    "        # for left spacing\n",
    "        print(end=' ')\n",
    " \n",
    "    for k in range(i+1):\n",
    " \n",
    "        # nCr = n!/((n-r)!*r!)\n",
    "        res = factorial(i)//(factorial(k)*factorial(i-k))\n",
    "        print(res, end=' ')\n",
    "        List[i].append(res)\n",
    "    # for new line\n",
    "    print()\n",
    "\n",
    "print(List)\n",
    "print(List[5])"
   ]
  },
  {
   "cell_type": "code",
   "execution_count": 40,
   "metadata": {},
   "outputs": [
    {
     "name": "stdout",
     "output_type": "stream",
     "text": [
      "Enter the number: 8\n"
     ]
    },
    {
     "ename": "IndexError",
     "evalue": "list index out of range",
     "output_type": "error",
     "traceback": [
      "\u001b[1;31m---------------------------------------------------------------------------\u001b[0m",
      "\u001b[1;31mIndexError\u001b[0m                                Traceback (most recent call last)",
      "\u001b[1;32m<ipython-input-40-06d271ad33fb>\u001b[0m in \u001b[0;36m<module>\u001b[1;34m\u001b[0m\n\u001b[0;32m      5\u001b[0m     \u001b[0mlist1\u001b[0m\u001b[1;33m[\u001b[0m\u001b[0mi\u001b[0m\u001b[1;33m]\u001b[0m\u001b[1;33m.\u001b[0m\u001b[0mappend\u001b[0m\u001b[1;33m(\u001b[0m\u001b[1;36m1\u001b[0m\u001b[1;33m)\u001b[0m\u001b[1;33m\u001b[0m\u001b[1;33m\u001b[0m\u001b[0m\n\u001b[0;32m      6\u001b[0m     \u001b[1;32mfor\u001b[0m \u001b[0mj\u001b[0m \u001b[1;32min\u001b[0m \u001b[0mrange\u001b[0m\u001b[1;33m(\u001b[0m\u001b[1;36m1\u001b[0m\u001b[1;33m,\u001b[0m \u001b[0mi\u001b[0m\u001b[1;33m)\u001b[0m\u001b[1;33m:\u001b[0m\u001b[1;33m\u001b[0m\u001b[1;33m\u001b[0m\u001b[0m\n\u001b[1;32m----> 7\u001b[1;33m         \u001b[0mlist1\u001b[0m\u001b[1;33m[\u001b[0m\u001b[0mi\u001b[0m\u001b[1;33m]\u001b[0m\u001b[1;33m.\u001b[0m\u001b[0mappend\u001b[0m\u001b[1;33m(\u001b[0m\u001b[0mlist1\u001b[0m\u001b[1;33m[\u001b[0m\u001b[0mi\u001b[0m \u001b[1;33m-\u001b[0m \u001b[1;36m1\u001b[0m\u001b[1;33m]\u001b[0m\u001b[1;33m[\u001b[0m\u001b[0mj\u001b[0m \u001b[1;33m-\u001b[0m \u001b[1;36m1\u001b[0m\u001b[1;33m]\u001b[0m \u001b[1;33m+\u001b[0m \u001b[0mlist1\u001b[0m\u001b[1;33m[\u001b[0m\u001b[0mi\u001b[0m \u001b[1;33m-\u001b[0m \u001b[1;36m1\u001b[0m\u001b[1;33m]\u001b[0m\u001b[1;33m[\u001b[0m\u001b[0mj\u001b[0m\u001b[1;33m]\u001b[0m\u001b[1;33m)\u001b[0m\u001b[1;33m\u001b[0m\u001b[1;33m\u001b[0m\u001b[0m\n\u001b[0m\u001b[0;32m      8\u001b[0m         \u001b[1;32mif\u001b[0m\u001b[1;33m(\u001b[0m\u001b[0mnum\u001b[0m \u001b[1;33m!=\u001b[0m \u001b[1;36m0\u001b[0m\u001b[1;33m)\u001b[0m\u001b[1;33m:\u001b[0m\u001b[1;33m\u001b[0m\u001b[1;33m\u001b[0m\u001b[0m\n\u001b[0;32m      9\u001b[0m             \u001b[0mlist1\u001b[0m\u001b[1;33m[\u001b[0m\u001b[0mi\u001b[0m\u001b[1;33m]\u001b[0m\u001b[1;33m.\u001b[0m\u001b[0mappend\u001b[0m\u001b[1;33m(\u001b[0m\u001b[1;36m1\u001b[0m\u001b[1;33m)\u001b[0m\u001b[1;33m\u001b[0m\u001b[1;33m\u001b[0m\u001b[0m\n",
      "\u001b[1;31mIndexError\u001b[0m: list index out of range"
     ]
    }
   ],
   "source": [
    "num = int(input(\"Enter the number: \"))  \n",
    "list1 = [] #an empty list  \n",
    "for i in range(num):\n",
    "    list1.append([])  \n",
    "    list1[i].append(1)  \n",
    "    for j in range(1, i):  \n",
    "        list1[i].append(list1[i - 1][j - 1] + list1[i - 1][j])  \n",
    "        if(num != 0):  \n",
    "            list1[i].append(1)  \n",
    "for i in range(num):  \n",
    "    print(\" \" * (num - i), end = \" \", sep = \" \")  \n",
    "    for j in range(0, i + 1):  \n",
    "        print('{0:6}'.format(list1[i][j]), end = \" \", sep = \" \")  \n",
    "        print()\n",
    "\n",
    "print(list1)"
   ]
  },
  {
   "cell_type": "code",
   "execution_count": null,
   "metadata": {},
   "outputs": [],
   "source": [
    "# Method 3:\n",
    "\n",
    "n=int(input())\n",
    "\n",
    "# we will make a list with n lists in it\n",
    "# each nth list will have n numbers\n",
    "#we put all 1 in all sub lists\n",
    "#suppose n = 4\n",
    "Pascals=[[1 for i in range(j)] for j in range(1, n+1)]\n",
    "#Pascals = [[1], [1, 1], [1, 1, 1], [1, 1, 1, 1], [1, 1, 1, 1, 1], [1, 1, 1, 1, 1, 1]]\n",
    "#we dont need to change first two sublists\n",
    "for i in range(2, n):\n",
    "    for j in range(1,i):\n",
    "        Pascals[i][j]=Pascals[i-1][j-1]+Pascals[i-1][j]\n",
    "        #we add from previous sublist as shown in the link\n",
    "\n",
    "print(Pascals[-1]) #print last element of the list\n"
   ]
  },
  {
   "cell_type": "markdown",
   "metadata": {},
   "source": [
    "## Lego Stack\n",
    "\n",
    "### Description:\n",
    "\n",
    "You are given a row of Lego Blocks consisting of n blocks. All the blocks given have a square base whose side length is known. You need to stack the blocks over each other and create a vertical tower. Block-1 can go over Block-2 only if sideLength(Block-2)=>sideLength(Block-1).\n",
    "\n",
    "From the row of Lego blocks, you can only pick up either the leftmost or rightmost block.\n",
    "\n",
    "Print \"Possible\" if it is possible to stack all n cubes this way or else print \"Impossible\".\n",
    "\n",
    "\n",
    "\n",
    "Input Format:\n",
    "\n",
    "The input will contain a list of n integers representing the side length of each block's base in the row starting from the leftmost.\n",
    "\n",
    "\n",
    "\n",
    "Sample Input:\n",
    "\n",
    "[5 ,4, 2, 1, 4 ,5]\n",
    "\n",
    "Sample Output:\n",
    "\n",
    "Possible"
   ]
  },
  {
   "cell_type": "code",
   "execution_count": null,
   "metadata": {},
   "outputs": [],
   "source": [
    "import ast,sys\n",
    "input_str = sys.stdin.read()\n",
    "sides = ast.literal_eval(input_str)#list of side lengths\n",
    "\n",
    "l=len(sides)\n",
    "diff = [(sides[i]-sides[i+1]) for i in range(l-1)]\n",
    "i = 0 \n",
    "while (i<l-1 and diff[i]>=0): \n",
    "    i += 1 \n",
    "while (i<l-1 and diff[i]<=0): \n",
    "    i += 1\n",
    "if (i==l-1):\n",
    "    print(\"Possible\") \n",
    "else: \n",
    "    print(\"Impossible\") "
   ]
  },
  {
   "cell_type": "code",
   "execution_count": 1,
   "metadata": {},
   "outputs": [
    {
     "ename": "FileNotFoundError",
     "evalue": "[Errno 2] File online_exam_data_part1.csv does not exist: 'online_exam_data_part1.csv'",
     "output_type": "error",
     "traceback": [
      "\u001b[1;31m---------------------------------------------------------------------------\u001b[0m",
      "\u001b[1;31mFileNotFoundError\u001b[0m                         Traceback (most recent call last)",
      "\u001b[1;32m<ipython-input-1-edf7d9632262>\u001b[0m in \u001b[0;36m<module>\u001b[1;34m\u001b[0m\n\u001b[0;32m      1\u001b[0m \u001b[1;32mimport\u001b[0m \u001b[0mpandas\u001b[0m \u001b[1;32mas\u001b[0m \u001b[0mpd\u001b[0m\u001b[1;33m\u001b[0m\u001b[1;33m\u001b[0m\u001b[0m\n\u001b[1;32m----> 2\u001b[1;33m \u001b[0mdata1\u001b[0m \u001b[1;33m=\u001b[0m \u001b[0mpd\u001b[0m\u001b[1;33m.\u001b[0m\u001b[0mread_csv\u001b[0m\u001b[1;33m(\u001b[0m\u001b[1;34m'online_exam_data_part1.csv'\u001b[0m\u001b[1;33m)\u001b[0m\u001b[1;33m\u001b[0m\u001b[1;33m\u001b[0m\u001b[0m\n\u001b[0m",
      "\u001b[1;32m~\\anaconda3\\lib\\site-packages\\pandas\\io\\parsers.py\u001b[0m in \u001b[0;36mparser_f\u001b[1;34m(filepath_or_buffer, sep, delimiter, header, names, index_col, usecols, squeeze, prefix, mangle_dupe_cols, dtype, engine, converters, true_values, false_values, skipinitialspace, skiprows, skipfooter, nrows, na_values, keep_default_na, na_filter, verbose, skip_blank_lines, parse_dates, infer_datetime_format, keep_date_col, date_parser, dayfirst, cache_dates, iterator, chunksize, compression, thousands, decimal, lineterminator, quotechar, quoting, doublequote, escapechar, comment, encoding, dialect, error_bad_lines, warn_bad_lines, delim_whitespace, low_memory, memory_map, float_precision)\u001b[0m\n\u001b[0;32m    674\u001b[0m         )\n\u001b[0;32m    675\u001b[0m \u001b[1;33m\u001b[0m\u001b[0m\n\u001b[1;32m--> 676\u001b[1;33m         \u001b[1;32mreturn\u001b[0m \u001b[0m_read\u001b[0m\u001b[1;33m(\u001b[0m\u001b[0mfilepath_or_buffer\u001b[0m\u001b[1;33m,\u001b[0m \u001b[0mkwds\u001b[0m\u001b[1;33m)\u001b[0m\u001b[1;33m\u001b[0m\u001b[1;33m\u001b[0m\u001b[0m\n\u001b[0m\u001b[0;32m    677\u001b[0m \u001b[1;33m\u001b[0m\u001b[0m\n\u001b[0;32m    678\u001b[0m     \u001b[0mparser_f\u001b[0m\u001b[1;33m.\u001b[0m\u001b[0m__name__\u001b[0m \u001b[1;33m=\u001b[0m \u001b[0mname\u001b[0m\u001b[1;33m\u001b[0m\u001b[1;33m\u001b[0m\u001b[0m\n",
      "\u001b[1;32m~\\anaconda3\\lib\\site-packages\\pandas\\io\\parsers.py\u001b[0m in \u001b[0;36m_read\u001b[1;34m(filepath_or_buffer, kwds)\u001b[0m\n\u001b[0;32m    446\u001b[0m \u001b[1;33m\u001b[0m\u001b[0m\n\u001b[0;32m    447\u001b[0m     \u001b[1;31m# Create the parser.\u001b[0m\u001b[1;33m\u001b[0m\u001b[1;33m\u001b[0m\u001b[1;33m\u001b[0m\u001b[0m\n\u001b[1;32m--> 448\u001b[1;33m     \u001b[0mparser\u001b[0m \u001b[1;33m=\u001b[0m \u001b[0mTextFileReader\u001b[0m\u001b[1;33m(\u001b[0m\u001b[0mfp_or_buf\u001b[0m\u001b[1;33m,\u001b[0m \u001b[1;33m**\u001b[0m\u001b[0mkwds\u001b[0m\u001b[1;33m)\u001b[0m\u001b[1;33m\u001b[0m\u001b[1;33m\u001b[0m\u001b[0m\n\u001b[0m\u001b[0;32m    449\u001b[0m \u001b[1;33m\u001b[0m\u001b[0m\n\u001b[0;32m    450\u001b[0m     \u001b[1;32mif\u001b[0m \u001b[0mchunksize\u001b[0m \u001b[1;32mor\u001b[0m \u001b[0miterator\u001b[0m\u001b[1;33m:\u001b[0m\u001b[1;33m\u001b[0m\u001b[1;33m\u001b[0m\u001b[0m\n",
      "\u001b[1;32m~\\anaconda3\\lib\\site-packages\\pandas\\io\\parsers.py\u001b[0m in \u001b[0;36m__init__\u001b[1;34m(self, f, engine, **kwds)\u001b[0m\n\u001b[0;32m    878\u001b[0m             \u001b[0mself\u001b[0m\u001b[1;33m.\u001b[0m\u001b[0moptions\u001b[0m\u001b[1;33m[\u001b[0m\u001b[1;34m\"has_index_names\"\u001b[0m\u001b[1;33m]\u001b[0m \u001b[1;33m=\u001b[0m \u001b[0mkwds\u001b[0m\u001b[1;33m[\u001b[0m\u001b[1;34m\"has_index_names\"\u001b[0m\u001b[1;33m]\u001b[0m\u001b[1;33m\u001b[0m\u001b[1;33m\u001b[0m\u001b[0m\n\u001b[0;32m    879\u001b[0m \u001b[1;33m\u001b[0m\u001b[0m\n\u001b[1;32m--> 880\u001b[1;33m         \u001b[0mself\u001b[0m\u001b[1;33m.\u001b[0m\u001b[0m_make_engine\u001b[0m\u001b[1;33m(\u001b[0m\u001b[0mself\u001b[0m\u001b[1;33m.\u001b[0m\u001b[0mengine\u001b[0m\u001b[1;33m)\u001b[0m\u001b[1;33m\u001b[0m\u001b[1;33m\u001b[0m\u001b[0m\n\u001b[0m\u001b[0;32m    881\u001b[0m \u001b[1;33m\u001b[0m\u001b[0m\n\u001b[0;32m    882\u001b[0m     \u001b[1;32mdef\u001b[0m \u001b[0mclose\u001b[0m\u001b[1;33m(\u001b[0m\u001b[0mself\u001b[0m\u001b[1;33m)\u001b[0m\u001b[1;33m:\u001b[0m\u001b[1;33m\u001b[0m\u001b[1;33m\u001b[0m\u001b[0m\n",
      "\u001b[1;32m~\\anaconda3\\lib\\site-packages\\pandas\\io\\parsers.py\u001b[0m in \u001b[0;36m_make_engine\u001b[1;34m(self, engine)\u001b[0m\n\u001b[0;32m   1112\u001b[0m     \u001b[1;32mdef\u001b[0m \u001b[0m_make_engine\u001b[0m\u001b[1;33m(\u001b[0m\u001b[0mself\u001b[0m\u001b[1;33m,\u001b[0m \u001b[0mengine\u001b[0m\u001b[1;33m=\u001b[0m\u001b[1;34m\"c\"\u001b[0m\u001b[1;33m)\u001b[0m\u001b[1;33m:\u001b[0m\u001b[1;33m\u001b[0m\u001b[1;33m\u001b[0m\u001b[0m\n\u001b[0;32m   1113\u001b[0m         \u001b[1;32mif\u001b[0m \u001b[0mengine\u001b[0m \u001b[1;33m==\u001b[0m \u001b[1;34m\"c\"\u001b[0m\u001b[1;33m:\u001b[0m\u001b[1;33m\u001b[0m\u001b[1;33m\u001b[0m\u001b[0m\n\u001b[1;32m-> 1114\u001b[1;33m             \u001b[0mself\u001b[0m\u001b[1;33m.\u001b[0m\u001b[0m_engine\u001b[0m \u001b[1;33m=\u001b[0m \u001b[0mCParserWrapper\u001b[0m\u001b[1;33m(\u001b[0m\u001b[0mself\u001b[0m\u001b[1;33m.\u001b[0m\u001b[0mf\u001b[0m\u001b[1;33m,\u001b[0m \u001b[1;33m**\u001b[0m\u001b[0mself\u001b[0m\u001b[1;33m.\u001b[0m\u001b[0moptions\u001b[0m\u001b[1;33m)\u001b[0m\u001b[1;33m\u001b[0m\u001b[1;33m\u001b[0m\u001b[0m\n\u001b[0m\u001b[0;32m   1115\u001b[0m         \u001b[1;32melse\u001b[0m\u001b[1;33m:\u001b[0m\u001b[1;33m\u001b[0m\u001b[1;33m\u001b[0m\u001b[0m\n\u001b[0;32m   1116\u001b[0m             \u001b[1;32mif\u001b[0m \u001b[0mengine\u001b[0m \u001b[1;33m==\u001b[0m \u001b[1;34m\"python\"\u001b[0m\u001b[1;33m:\u001b[0m\u001b[1;33m\u001b[0m\u001b[1;33m\u001b[0m\u001b[0m\n",
      "\u001b[1;32m~\\anaconda3\\lib\\site-packages\\pandas\\io\\parsers.py\u001b[0m in \u001b[0;36m__init__\u001b[1;34m(self, src, **kwds)\u001b[0m\n\u001b[0;32m   1889\u001b[0m         \u001b[0mkwds\u001b[0m\u001b[1;33m[\u001b[0m\u001b[1;34m\"usecols\"\u001b[0m\u001b[1;33m]\u001b[0m \u001b[1;33m=\u001b[0m \u001b[0mself\u001b[0m\u001b[1;33m.\u001b[0m\u001b[0musecols\u001b[0m\u001b[1;33m\u001b[0m\u001b[1;33m\u001b[0m\u001b[0m\n\u001b[0;32m   1890\u001b[0m \u001b[1;33m\u001b[0m\u001b[0m\n\u001b[1;32m-> 1891\u001b[1;33m         \u001b[0mself\u001b[0m\u001b[1;33m.\u001b[0m\u001b[0m_reader\u001b[0m \u001b[1;33m=\u001b[0m \u001b[0mparsers\u001b[0m\u001b[1;33m.\u001b[0m\u001b[0mTextReader\u001b[0m\u001b[1;33m(\u001b[0m\u001b[0msrc\u001b[0m\u001b[1;33m,\u001b[0m \u001b[1;33m**\u001b[0m\u001b[0mkwds\u001b[0m\u001b[1;33m)\u001b[0m\u001b[1;33m\u001b[0m\u001b[1;33m\u001b[0m\u001b[0m\n\u001b[0m\u001b[0;32m   1892\u001b[0m         \u001b[0mself\u001b[0m\u001b[1;33m.\u001b[0m\u001b[0munnamed_cols\u001b[0m \u001b[1;33m=\u001b[0m \u001b[0mself\u001b[0m\u001b[1;33m.\u001b[0m\u001b[0m_reader\u001b[0m\u001b[1;33m.\u001b[0m\u001b[0munnamed_cols\u001b[0m\u001b[1;33m\u001b[0m\u001b[1;33m\u001b[0m\u001b[0m\n\u001b[0;32m   1893\u001b[0m \u001b[1;33m\u001b[0m\u001b[0m\n",
      "\u001b[1;32mpandas\\_libs\\parsers.pyx\u001b[0m in \u001b[0;36mpandas._libs.parsers.TextReader.__cinit__\u001b[1;34m()\u001b[0m\n",
      "\u001b[1;32mpandas\\_libs\\parsers.pyx\u001b[0m in \u001b[0;36mpandas._libs.parsers.TextReader._setup_parser_source\u001b[1;34m()\u001b[0m\n",
      "\u001b[1;31mFileNotFoundError\u001b[0m: [Errno 2] File online_exam_data_part1.csv does not exist: 'online_exam_data_part1.csv'"
     ]
    }
   ],
   "source": [
    "import pandas as pd\n",
    "data1 = pd.read_csv('online_exam_data_part1.csv')"
   ]
  },
  {
   "cell_type": "code",
   "execution_count": null,
   "metadata": {},
   "outputs": [],
   "source": []
  },
  {
   "cell_type": "code",
   "execution_count": null,
   "metadata": {},
   "outputs": [],
   "source": [
    "import ast\n",
    "T = int(input())\n",
    "N = int(input())\n",
    "A = input()\n",
    "A = list(map(int, A.split(' ')))\n",
    "X_max = max(A)\n",
    "X = 0\n",
    "for i in range(len(A)):\n",
    "    A[i] = A[i]^X\n",
    "min_val = A[0] | A[1]\n",
    "\n",
    "count = 0\n",
    "for X in range(X_max+1):\n",
    "    for i in range(len(A)):\n",
    "        A[i] = A[i]^X\n",
    "    if A[0] | A[1] == min_val:\n",
    "        count += 1\n",
    "\n",
    "print(count)\n"
   ]
  }
 ],
 "metadata": {
  "kernelspec": {
   "display_name": "Python 3",
   "language": "python",
   "name": "python3"
  },
  "language_info": {
   "codemirror_mode": {
    "name": "ipython",
    "version": 3
   },
   "file_extension": ".py",
   "mimetype": "text/x-python",
   "name": "python",
   "nbconvert_exporter": "python",
   "pygments_lexer": "ipython3",
   "version": "3.8.3"
  }
 },
 "nbformat": 4,
 "nbformat_minor": 4
}
