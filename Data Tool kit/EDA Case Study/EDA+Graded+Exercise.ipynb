{
 "cells": [
  {
   "cell_type": "code",
   "execution_count": 32,
   "metadata": {},
   "outputs": [],
   "source": [
    "#Import the required Libraries.\n",
    "import numpy as np\n",
    "import pandas as pd\n",
    "import matplotlib.pyplot as plt\n",
    "import seaborn as sns"
   ]
  },
  {
   "cell_type": "code",
   "execution_count": 33,
   "metadata": {},
   "outputs": [],
   "source": [
    "import warnings\n",
    "warnings.filterwarnings(\"ignore\")"
   ]
  },
  {
   "cell_type": "code",
   "execution_count": null,
   "metadata": {},
   "outputs": [],
   "source": []
  },
  {
   "cell_type": "code",
   "execution_count": null,
   "metadata": {},
   "outputs": [],
   "source": []
  },
  {
   "cell_type": "markdown",
   "metadata": {},
   "source": [
    "## Data Cleaning "
   ]
  },
  {
   "cell_type": "markdown",
   "metadata": {},
   "source": [
    "### Data Reading & Data Types "
   ]
  },
  {
   "cell_type": "code",
   "execution_count": 34,
   "metadata": {},
   "outputs": [],
   "source": [
    "#Read the data in pandas\n",
    "inp0= pd.read_csv(\"Attribute+DataSet.csv\")\n",
    "inp1= pd.read_csv(\"Dress+Sales.csv\")"
   ]
  },
  {
   "cell_type": "markdown",
   "metadata": {},
   "source": [
    "You have “Attribute DataSet” which contains a column named “Price”. Choose the correct statement from the following about its data type and variable type.\n",
    "- Integer type and numerical variable\n",
    "- Object type and categorical ordinal variable\n",
    "- Object type and categorical nominal variable\n",
    "- Float type and categorical variable.\n"
   ]
  },
  {
   "cell_type": "markdown",
   "metadata": {},
   "source": [
    "There is another column in “Attribute DataSet” named as “Recommendation”, choose the correct statement about its data type and variable type.\n",
    "- Integer type and categorical\n",
    "- Object type and categorical\n",
    "- Integer type and continuous numerical\n",
    "- Object type only.\n"
   ]
  },
  {
   "cell_type": "markdown",
   "metadata": {},
   "source": [
    "Which of the following column do you think are of no use in “Attribute DataSet”.\n",
    "- Dress_ID\n",
    "- Price\n",
    "- Size and material\n",
    "- NeckLine\n",
    "- None of the above\n"
   ]
  },
  {
   "cell_type": "code",
   "execution_count": 35,
   "metadata": {},
   "outputs": [
    {
     "data": {
      "text/html": [
       "<div>\n",
       "<style scoped>\n",
       "    .dataframe tbody tr th:only-of-type {\n",
       "        vertical-align: middle;\n",
       "    }\n",
       "\n",
       "    .dataframe tbody tr th {\n",
       "        vertical-align: top;\n",
       "    }\n",
       "\n",
       "    .dataframe thead th {\n",
       "        text-align: right;\n",
       "    }\n",
       "</style>\n",
       "<table border=\"1\" class=\"dataframe\">\n",
       "  <thead>\n",
       "    <tr style=\"text-align: right;\">\n",
       "      <th></th>\n",
       "      <th>Dress_ID</th>\n",
       "      <th>Style</th>\n",
       "      <th>Price</th>\n",
       "      <th>Rating</th>\n",
       "      <th>Size</th>\n",
       "      <th>Season</th>\n",
       "      <th>NeckLine</th>\n",
       "      <th>SleeveLength</th>\n",
       "      <th>Material</th>\n",
       "      <th>FabricType</th>\n",
       "      <th>Decoration</th>\n",
       "      <th>Pattern Type</th>\n",
       "      <th>Recommendation</th>\n",
       "    </tr>\n",
       "  </thead>\n",
       "  <tbody>\n",
       "    <tr>\n",
       "      <th>0</th>\n",
       "      <td>1006032852</td>\n",
       "      <td>Sexy</td>\n",
       "      <td>Low</td>\n",
       "      <td>4.6</td>\n",
       "      <td>M</td>\n",
       "      <td>Summer</td>\n",
       "      <td>o-neck</td>\n",
       "      <td>sleevless</td>\n",
       "      <td>NaN</td>\n",
       "      <td>chiffon</td>\n",
       "      <td>ruffles</td>\n",
       "      <td>animal</td>\n",
       "      <td>1</td>\n",
       "    </tr>\n",
       "    <tr>\n",
       "      <th>1</th>\n",
       "      <td>1212192089</td>\n",
       "      <td>Casual</td>\n",
       "      <td>Low</td>\n",
       "      <td>0.0</td>\n",
       "      <td>L</td>\n",
       "      <td>Summer</td>\n",
       "      <td>o-neck</td>\n",
       "      <td>Petal</td>\n",
       "      <td>microfiber</td>\n",
       "      <td>NaN</td>\n",
       "      <td>ruffles</td>\n",
       "      <td>animal</td>\n",
       "      <td>0</td>\n",
       "    </tr>\n",
       "    <tr>\n",
       "      <th>2</th>\n",
       "      <td>1190380701</td>\n",
       "      <td>vintage</td>\n",
       "      <td>High</td>\n",
       "      <td>0.0</td>\n",
       "      <td>L</td>\n",
       "      <td>Automn</td>\n",
       "      <td>o-neck</td>\n",
       "      <td>full</td>\n",
       "      <td>polyster</td>\n",
       "      <td>NaN</td>\n",
       "      <td>NaN</td>\n",
       "      <td>print</td>\n",
       "      <td>0</td>\n",
       "    </tr>\n",
       "    <tr>\n",
       "      <th>3</th>\n",
       "      <td>966005983</td>\n",
       "      <td>Brief</td>\n",
       "      <td>Average</td>\n",
       "      <td>4.6</td>\n",
       "      <td>L</td>\n",
       "      <td>Spring</td>\n",
       "      <td>o-neck</td>\n",
       "      <td>full</td>\n",
       "      <td>silk</td>\n",
       "      <td>chiffon</td>\n",
       "      <td>embroidary</td>\n",
       "      <td>print</td>\n",
       "      <td>1</td>\n",
       "    </tr>\n",
       "    <tr>\n",
       "      <th>4</th>\n",
       "      <td>876339541</td>\n",
       "      <td>cute</td>\n",
       "      <td>Low</td>\n",
       "      <td>4.5</td>\n",
       "      <td>M</td>\n",
       "      <td>Summer</td>\n",
       "      <td>o-neck</td>\n",
       "      <td>butterfly</td>\n",
       "      <td>chiffonfabric</td>\n",
       "      <td>chiffon</td>\n",
       "      <td>bow</td>\n",
       "      <td>dot</td>\n",
       "      <td>0</td>\n",
       "    </tr>\n",
       "  </tbody>\n",
       "</table>\n",
       "</div>"
      ],
      "text/plain": [
       "     Dress_ID    Style    Price  Rating Size  Season NeckLine SleeveLength  \\\n",
       "0  1006032852     Sexy      Low     4.6    M  Summer   o-neck    sleevless   \n",
       "1  1212192089   Casual      Low     0.0    L  Summer   o-neck        Petal   \n",
       "2  1190380701  vintage     High     0.0    L  Automn   o-neck         full   \n",
       "3   966005983    Brief  Average     4.6    L  Spring   o-neck         full   \n",
       "4   876339541     cute      Low     4.5    M  Summer   o-neck    butterfly   \n",
       "\n",
       "        Material FabricType  Decoration Pattern Type  Recommendation  \n",
       "0            NaN    chiffon     ruffles       animal               1  \n",
       "1     microfiber        NaN     ruffles       animal               0  \n",
       "2       polyster        NaN         NaN        print               0  \n",
       "3           silk    chiffon  embroidary        print               1  \n",
       "4  chiffonfabric    chiffon         bow          dot               0  "
      ]
     },
     "execution_count": 35,
     "metadata": {},
     "output_type": "execute_result"
    }
   ],
   "source": [
    "# Print the information about the attributes of inp0 and inp1.\n",
    "inp0.head()"
   ]
  },
  {
   "cell_type": "code",
   "execution_count": 36,
   "metadata": {},
   "outputs": [
    {
     "data": {
      "text/html": [
       "<div>\n",
       "<style scoped>\n",
       "    .dataframe tbody tr th:only-of-type {\n",
       "        vertical-align: middle;\n",
       "    }\n",
       "\n",
       "    .dataframe tbody tr th {\n",
       "        vertical-align: top;\n",
       "    }\n",
       "\n",
       "    .dataframe thead th {\n",
       "        text-align: right;\n",
       "    }\n",
       "</style>\n",
       "<table border=\"1\" class=\"dataframe\">\n",
       "  <thead>\n",
       "    <tr style=\"text-align: right;\">\n",
       "      <th></th>\n",
       "      <th>Dress_ID</th>\n",
       "      <th>29-08-2013</th>\n",
       "      <th>31-08-2013</th>\n",
       "      <th>09-02-2013</th>\n",
       "      <th>09-04-2013</th>\n",
       "      <th>09-06-2013</th>\n",
       "      <th>09-08-2013</th>\n",
       "      <th>09-10-2013</th>\n",
       "      <th>09-12-2013</th>\n",
       "      <th>14-09-2013</th>\n",
       "      <th>...</th>\n",
       "      <th>24-09-2013</th>\n",
       "      <th>26-09-2013</th>\n",
       "      <th>28-09-2013</th>\n",
       "      <th>30-09-2013</th>\n",
       "      <th>10-02-2013</th>\n",
       "      <th>10-04-2013</th>\n",
       "      <th>10-06-2013</th>\n",
       "      <th>10-08-2013</th>\n",
       "      <th>10-10-2013</th>\n",
       "      <th>10-12-2013</th>\n",
       "    </tr>\n",
       "  </thead>\n",
       "  <tbody>\n",
       "    <tr>\n",
       "      <th>0</th>\n",
       "      <td>1.006033e+09</td>\n",
       "      <td>2114</td>\n",
       "      <td>2274</td>\n",
       "      <td>2491</td>\n",
       "      <td>2660</td>\n",
       "      <td>2727</td>\n",
       "      <td>2887</td>\n",
       "      <td>2930</td>\n",
       "      <td>3119</td>\n",
       "      <td>3204</td>\n",
       "      <td>...</td>\n",
       "      <td>3554</td>\n",
       "      <td>3624.0</td>\n",
       "      <td>3706</td>\n",
       "      <td>3746.0</td>\n",
       "      <td>3795.0</td>\n",
       "      <td>3832.0</td>\n",
       "      <td>3897</td>\n",
       "      <td>3923.0</td>\n",
       "      <td>3985.0</td>\n",
       "      <td>4048</td>\n",
       "    </tr>\n",
       "    <tr>\n",
       "      <th>1</th>\n",
       "      <td>1.212192e+09</td>\n",
       "      <td>151</td>\n",
       "      <td>275</td>\n",
       "      <td>570</td>\n",
       "      <td>750</td>\n",
       "      <td>813</td>\n",
       "      <td>1066</td>\n",
       "      <td>1164</td>\n",
       "      <td>1558</td>\n",
       "      <td>1756</td>\n",
       "      <td>...</td>\n",
       "      <td>2710</td>\n",
       "      <td>2942.0</td>\n",
       "      <td>3258</td>\n",
       "      <td>3354.0</td>\n",
       "      <td>3475.0</td>\n",
       "      <td>3654.0</td>\n",
       "      <td>3911</td>\n",
       "      <td>4024.0</td>\n",
       "      <td>4125.0</td>\n",
       "      <td>4277</td>\n",
       "    </tr>\n",
       "    <tr>\n",
       "      <th>2</th>\n",
       "      <td>1.190381e+09</td>\n",
       "      <td>6</td>\n",
       "      <td>7</td>\n",
       "      <td>7</td>\n",
       "      <td>7</td>\n",
       "      <td>8</td>\n",
       "      <td>8</td>\n",
       "      <td>9</td>\n",
       "      <td>10</td>\n",
       "      <td>10</td>\n",
       "      <td>...</td>\n",
       "      <td>11</td>\n",
       "      <td>11.0</td>\n",
       "      <td>11</td>\n",
       "      <td>11.0</td>\n",
       "      <td>11.0</td>\n",
       "      <td>11.0</td>\n",
       "      <td>11</td>\n",
       "      <td>11.0</td>\n",
       "      <td>11.0</td>\n",
       "      <td>11</td>\n",
       "    </tr>\n",
       "    <tr>\n",
       "      <th>3</th>\n",
       "      <td>9.660060e+08</td>\n",
       "      <td>1005</td>\n",
       "      <td>1128</td>\n",
       "      <td>1326</td>\n",
       "      <td>1455</td>\n",
       "      <td>1507</td>\n",
       "      <td>1621</td>\n",
       "      <td>1637</td>\n",
       "      <td>1723</td>\n",
       "      <td>1746</td>\n",
       "      <td>...</td>\n",
       "      <td>1878</td>\n",
       "      <td>1892.0</td>\n",
       "      <td>1914</td>\n",
       "      <td>1924.0</td>\n",
       "      <td>1929.0</td>\n",
       "      <td>1941.0</td>\n",
       "      <td>1952</td>\n",
       "      <td>1955.0</td>\n",
       "      <td>1959.0</td>\n",
       "      <td>1963</td>\n",
       "    </tr>\n",
       "    <tr>\n",
       "      <th>4</th>\n",
       "      <td>8.763395e+08</td>\n",
       "      <td>996</td>\n",
       "      <td>1175</td>\n",
       "      <td>1304</td>\n",
       "      <td>1396</td>\n",
       "      <td>1432</td>\n",
       "      <td>1559</td>\n",
       "      <td>1570</td>\n",
       "      <td>1638</td>\n",
       "      <td>1655</td>\n",
       "      <td>...</td>\n",
       "      <td>2032</td>\n",
       "      <td>2156.0</td>\n",
       "      <td>2252</td>\n",
       "      <td>2312.0</td>\n",
       "      <td>2387.0</td>\n",
       "      <td>2459.0</td>\n",
       "      <td>2544</td>\n",
       "      <td>2614.0</td>\n",
       "      <td>2693.0</td>\n",
       "      <td>2736</td>\n",
       "    </tr>\n",
       "  </tbody>\n",
       "</table>\n",
       "<p>5 rows × 24 columns</p>\n",
       "</div>"
      ],
      "text/plain": [
       "       Dress_ID  29-08-2013  31-08-2013  09-02-2013  09-04-2013  09-06-2013  \\\n",
       "0  1.006033e+09        2114        2274        2491        2660        2727   \n",
       "1  1.212192e+09         151         275         570         750         813   \n",
       "2  1.190381e+09           6           7           7           7           8   \n",
       "3  9.660060e+08        1005        1128        1326        1455        1507   \n",
       "4  8.763395e+08         996        1175        1304        1396        1432   \n",
       "\n",
       "   09-08-2013  09-10-2013 09-12-2013 14-09-2013  ... 24-09-2013 26-09-2013  \\\n",
       "0        2887        2930       3119       3204  ...       3554     3624.0   \n",
       "1        1066        1164       1558       1756  ...       2710     2942.0   \n",
       "2           8           9         10         10  ...         11       11.0   \n",
       "3        1621        1637       1723       1746  ...       1878     1892.0   \n",
       "4        1559        1570       1638       1655  ...       2032     2156.0   \n",
       "\n",
       "  28-09-2013 30-09-2013  10-02-2013  10-04-2013  10-06-2013  10-08-2013  \\\n",
       "0       3706     3746.0      3795.0      3832.0        3897      3923.0   \n",
       "1       3258     3354.0      3475.0      3654.0        3911      4024.0   \n",
       "2         11       11.0        11.0        11.0          11        11.0   \n",
       "3       1914     1924.0      1929.0      1941.0        1952      1955.0   \n",
       "4       2252     2312.0      2387.0      2459.0        2544      2614.0   \n",
       "\n",
       "   10-10-2013  10-12-2013  \n",
       "0      3985.0        4048  \n",
       "1      4125.0        4277  \n",
       "2        11.0          11  \n",
       "3      1959.0        1963  \n",
       "4      2693.0        2736  \n",
       "\n",
       "[5 rows x 24 columns]"
      ]
     },
     "execution_count": 36,
     "metadata": {},
     "output_type": "execute_result"
    }
   ],
   "source": [
    "inp1.head()"
   ]
  },
  {
   "cell_type": "code",
   "execution_count": 37,
   "metadata": {},
   "outputs": [
    {
     "data": {
      "text/plain": [
       "Dress_ID            int64\n",
       "Style              object\n",
       "Price              object\n",
       "Rating            float64\n",
       "Size               object\n",
       "Season             object\n",
       "NeckLine           object\n",
       "SleeveLength       object\n",
       "Material           object\n",
       "FabricType         object\n",
       "Decoration         object\n",
       "Pattern Type       object\n",
       "Recommendation      int64\n",
       "dtype: object"
      ]
     },
     "execution_count": 37,
     "metadata": {},
     "output_type": "execute_result"
    }
   ],
   "source": [
    "inp0.dtypes"
   ]
  },
  {
   "cell_type": "code",
   "execution_count": 38,
   "metadata": {},
   "outputs": [
    {
     "data": {
      "text/plain": [
       "count         477\n",
       "unique          5\n",
       "top       Average\n",
       "freq          240\n",
       "Name: Price, dtype: object"
      ]
     },
     "execution_count": 38,
     "metadata": {},
     "output_type": "execute_result"
    }
   ],
   "source": [
    "inp0.Price.describe()"
   ]
  },
  {
   "cell_type": "code",
   "execution_count": 8,
   "metadata": {},
   "outputs": [
    {
     "data": {
      "text/plain": [
       "Average      240\n",
       "Low          165\n",
       "Medium        30\n",
       "High          21\n",
       "very-high     21\n",
       "Name: Price, dtype: int64"
      ]
     },
     "execution_count": 8,
     "metadata": {},
     "output_type": "execute_result"
    }
   ],
   "source": [
    "inp0.Price.value_counts()"
   ]
  },
  {
   "cell_type": "code",
   "execution_count": 9,
   "metadata": {},
   "outputs": [
    {
     "data": {
      "text/plain": [
       "0    274\n",
       "1    205\n",
       "Name: Recommendation, dtype: int64"
      ]
     },
     "execution_count": 9,
     "metadata": {},
     "output_type": "execute_result"
    }
   ],
   "source": [
    "inp0.Recommendation.value_counts()"
   ]
  },
  {
   "cell_type": "code",
   "execution_count": 10,
   "metadata": {},
   "outputs": [
    {
     "name": "stdout",
     "output_type": "stream",
     "text": [
      "<class 'pandas.core.frame.DataFrame'>\n",
      "RangeIndex: 479 entries, 0 to 478\n",
      "Data columns (total 13 columns):\n",
      " #   Column          Non-Null Count  Dtype  \n",
      "---  ------          --------------  -----  \n",
      " 0   Dress_ID        479 non-null    int64  \n",
      " 1   Style           479 non-null    object \n",
      " 2   Price           477 non-null    object \n",
      " 3   Rating          479 non-null    float64\n",
      " 4   Size            479 non-null    object \n",
      " 5   Season          477 non-null    object \n",
      " 6   NeckLine        476 non-null    object \n",
      " 7   SleeveLength    477 non-null    object \n",
      " 8   Material        360 non-null    object \n",
      " 9   FabricType      223 non-null    object \n",
      " 10  Decoration      255 non-null    object \n",
      " 11  Pattern Type    377 non-null    object \n",
      " 12  Recommendation  479 non-null    int64  \n",
      "dtypes: float64(1), int64(2), object(10)\n",
      "memory usage: 48.8+ KB\n"
     ]
    }
   ],
   "source": [
    "inp0.info()"
   ]
  },
  {
   "cell_type": "code",
   "execution_count": 11,
   "metadata": {
    "scrolled": true
   },
   "outputs": [
    {
     "data": {
      "text/plain": [
       "o-neck             257\n",
       "v-neck             119\n",
       "slash-neck          25\n",
       "boat-neck           18\n",
       "Sweetheart          14\n",
       "turndowncollor      13\n",
       "bowneck             10\n",
       "peterpan-collor      5\n",
       "sqare-collor         5\n",
       "open                 3\n",
       "Scoop                2\n",
       "backless             1\n",
       "halter               1\n",
       "mandarin-collor      1\n",
       "sweetheart           1\n",
       "ruffled              1\n",
       "Name: NeckLine, dtype: int64"
      ]
     },
     "execution_count": 11,
     "metadata": {},
     "output_type": "execute_result"
    }
   ],
   "source": [
    "inp0.NeckLine.value_counts()"
   ]
  },
  {
   "cell_type": "code",
   "execution_count": 12,
   "metadata": {},
   "outputs": [
    {
     "data": {
      "text/plain": [
       "Summer    154\n",
       "Spring    116\n",
       "Winter     94\n",
       "Automn     59\n",
       "winter     45\n",
       "Autumn      7\n",
       "spring      2\n",
       "Name: Season, dtype: int64"
      ]
     },
     "execution_count": 12,
     "metadata": {},
     "output_type": "execute_result"
    }
   ],
   "source": [
    "inp0.Season.value_counts()"
   ]
  },
  {
   "cell_type": "code",
   "execution_count": 13,
   "metadata": {},
   "outputs": [
    {
     "data": {
      "text/plain": [
       "sleevless         216\n",
       "full               94\n",
       "short              92\n",
       "halfsleeve         32\n",
       "threequarter       17\n",
       "thressqatar         8\n",
       "sleeveless          4\n",
       "capsleeves          3\n",
       "cap-sleeves         2\n",
       "sleeevless          2\n",
       "Petal               1\n",
       "turndowncollor      1\n",
       "butterfly           1\n",
       "half                1\n",
       "threequater         1\n",
       "sleveless           1\n",
       "urndowncollor       1\n",
       "Name: SleeveLength, dtype: int64"
      ]
     },
     "execution_count": 13,
     "metadata": {},
     "output_type": "execute_result"
    }
   ],
   "source": [
    "inp0.SleeveLength.value_counts()"
   ]
  },
  {
   "cell_type": "code",
   "execution_count": null,
   "metadata": {},
   "outputs": [],
   "source": []
  },
  {
   "cell_type": "code",
   "execution_count": null,
   "metadata": {},
   "outputs": [],
   "source": [
    "\n"
   ]
  },
  {
   "cell_type": "markdown",
   "metadata": {},
   "source": [
    "### Fixing the Rows and Columns "
   ]
  },
  {
   "cell_type": "markdown",
   "metadata": {},
   "source": [
    "As you can see, there is a column in “Attribute Dataset” named as ‘Size’. This column contains the values in abbreviation format. Write a code in Python to convert the followings:\n",
    "\n",
    "- M into  “Medium”\n",
    "- L into  “Large”\n",
    "- XL into “Extra large”\n",
    "- free into “Free”\n",
    "- S, s & small into “Small”.\n",
    "\n",
    "Now once you are done with changes in the dataset, what is the value of the lowest percentage, the highest percentage and the percentage of Small size categories in the column named “Size”?\n"
   ]
  },
  {
   "cell_type": "code",
   "execution_count": 14,
   "metadata": {},
   "outputs": [
    {
     "data": {
      "text/plain": [
       "M        171\n",
       "free     165\n",
       "L         93\n",
       "S         34\n",
       "XL        14\n",
       "s          1\n",
       "small      1\n",
       "Name: Size, dtype: int64"
      ]
     },
     "execution_count": 14,
     "metadata": {},
     "output_type": "execute_result"
    }
   ],
   "source": [
    "inp0.Size.value_counts()"
   ]
  },
  {
   "cell_type": "code",
   "execution_count": 39,
   "metadata": {},
   "outputs": [],
   "source": [
    "def fix_rows(x):\n",
    "    if (x == \"M\"):\n",
    "        return \"Medium\"\n",
    "    elif (x == \"L\"):\n",
    "        return \"Large\"\n",
    "    elif (x == \"XL\"):\n",
    "        return \"Extra large\"\n",
    "    elif (x == \"free\"):\n",
    "        return \"Free\"\n",
    "    elif (x == \"S\" or x == \"s\" or x == \"small\"):\n",
    "        return \"Small\""
   ]
  },
  {
   "cell_type": "code",
   "execution_count": 16,
   "metadata": {},
   "outputs": [
    {
     "data": {
      "text/plain": [
       "'Medium'"
      ]
     },
     "execution_count": 16,
     "metadata": {},
     "output_type": "execute_result"
    }
   ],
   "source": [
    "fix_rows(\"M\")"
   ]
  },
  {
   "cell_type": "code",
   "execution_count": 40,
   "metadata": {},
   "outputs": [],
   "source": [
    "inp0.Size = inp0.Size.apply(fix_rows)"
   ]
  },
  {
   "cell_type": "code",
   "execution_count": 41,
   "metadata": {},
   "outputs": [
    {
     "data": {
      "text/plain": [
       "Medium         171\n",
       "Free           165\n",
       "Large           93\n",
       "Small           36\n",
       "Extra large     14\n",
       "Name: Size, dtype: int64"
      ]
     },
     "execution_count": 41,
     "metadata": {},
     "output_type": "execute_result"
    }
   ],
   "source": [
    "inp0.Size.value_counts()"
   ]
  },
  {
   "cell_type": "code",
   "execution_count": 19,
   "metadata": {},
   "outputs": [
    {
     "data": {
      "text/plain": [
       "Dress_ID            int64\n",
       "Style              object\n",
       "Price              object\n",
       "Rating            float64\n",
       "Size               object\n",
       "Season             object\n",
       "NeckLine           object\n",
       "SleeveLength       object\n",
       "Material           object\n",
       "FabricType         object\n",
       "Decoration         object\n",
       "Pattern Type       object\n",
       "Recommendation      int64\n",
       "dtype: object"
      ]
     },
     "execution_count": 19,
     "metadata": {},
     "output_type": "execute_result"
    }
   ],
   "source": [
    "inp0.dtypes"
   ]
  },
  {
   "cell_type": "code",
   "execution_count": 42,
   "metadata": {},
   "outputs": [
    {
     "data": {
      "text/html": [
       "<div>\n",
       "<style scoped>\n",
       "    .dataframe tbody tr th:only-of-type {\n",
       "        vertical-align: middle;\n",
       "    }\n",
       "\n",
       "    .dataframe tbody tr th {\n",
       "        vertical-align: top;\n",
       "    }\n",
       "\n",
       "    .dataframe thead th {\n",
       "        text-align: right;\n",
       "    }\n",
       "</style>\n",
       "<table border=\"1\" class=\"dataframe\">\n",
       "  <thead>\n",
       "    <tr style=\"text-align: right;\">\n",
       "      <th></th>\n",
       "      <th>Dress_ID</th>\n",
       "      <th>Style</th>\n",
       "      <th>Price</th>\n",
       "      <th>Rating</th>\n",
       "      <th>Size</th>\n",
       "      <th>Season</th>\n",
       "      <th>NeckLine</th>\n",
       "      <th>SleeveLength</th>\n",
       "      <th>Material</th>\n",
       "      <th>FabricType</th>\n",
       "      <th>Decoration</th>\n",
       "      <th>Pattern Type</th>\n",
       "      <th>Recommendation</th>\n",
       "    </tr>\n",
       "  </thead>\n",
       "  <tbody>\n",
       "    <tr>\n",
       "      <th>0</th>\n",
       "      <td>1006032852</td>\n",
       "      <td>Sexy</td>\n",
       "      <td>Low</td>\n",
       "      <td>4.6</td>\n",
       "      <td>Medium</td>\n",
       "      <td>Summer</td>\n",
       "      <td>o-neck</td>\n",
       "      <td>sleevless</td>\n",
       "      <td>NaN</td>\n",
       "      <td>chiffon</td>\n",
       "      <td>ruffles</td>\n",
       "      <td>animal</td>\n",
       "      <td>1</td>\n",
       "    </tr>\n",
       "    <tr>\n",
       "      <th>1</th>\n",
       "      <td>1212192089</td>\n",
       "      <td>Casual</td>\n",
       "      <td>Low</td>\n",
       "      <td>0.0</td>\n",
       "      <td>Large</td>\n",
       "      <td>Summer</td>\n",
       "      <td>o-neck</td>\n",
       "      <td>Petal</td>\n",
       "      <td>microfiber</td>\n",
       "      <td>NaN</td>\n",
       "      <td>ruffles</td>\n",
       "      <td>animal</td>\n",
       "      <td>0</td>\n",
       "    </tr>\n",
       "    <tr>\n",
       "      <th>2</th>\n",
       "      <td>1190380701</td>\n",
       "      <td>vintage</td>\n",
       "      <td>High</td>\n",
       "      <td>0.0</td>\n",
       "      <td>Large</td>\n",
       "      <td>Automn</td>\n",
       "      <td>o-neck</td>\n",
       "      <td>full</td>\n",
       "      <td>polyster</td>\n",
       "      <td>NaN</td>\n",
       "      <td>NaN</td>\n",
       "      <td>print</td>\n",
       "      <td>0</td>\n",
       "    </tr>\n",
       "    <tr>\n",
       "      <th>3</th>\n",
       "      <td>966005983</td>\n",
       "      <td>Brief</td>\n",
       "      <td>Average</td>\n",
       "      <td>4.6</td>\n",
       "      <td>Large</td>\n",
       "      <td>Spring</td>\n",
       "      <td>o-neck</td>\n",
       "      <td>full</td>\n",
       "      <td>silk</td>\n",
       "      <td>chiffon</td>\n",
       "      <td>embroidary</td>\n",
       "      <td>print</td>\n",
       "      <td>1</td>\n",
       "    </tr>\n",
       "    <tr>\n",
       "      <th>4</th>\n",
       "      <td>876339541</td>\n",
       "      <td>cute</td>\n",
       "      <td>Low</td>\n",
       "      <td>4.5</td>\n",
       "      <td>Medium</td>\n",
       "      <td>Summer</td>\n",
       "      <td>o-neck</td>\n",
       "      <td>butterfly</td>\n",
       "      <td>chiffonfabric</td>\n",
       "      <td>chiffon</td>\n",
       "      <td>bow</td>\n",
       "      <td>dot</td>\n",
       "      <td>0</td>\n",
       "    </tr>\n",
       "  </tbody>\n",
       "</table>\n",
       "</div>"
      ],
      "text/plain": [
       "     Dress_ID    Style    Price  Rating    Size  Season NeckLine SleeveLength  \\\n",
       "0  1006032852     Sexy      Low     4.6  Medium  Summer   o-neck    sleevless   \n",
       "1  1212192089   Casual      Low     0.0   Large  Summer   o-neck        Petal   \n",
       "2  1190380701  vintage     High     0.0   Large  Automn   o-neck         full   \n",
       "3   966005983    Brief  Average     4.6   Large  Spring   o-neck         full   \n",
       "4   876339541     cute      Low     4.5  Medium  Summer   o-neck    butterfly   \n",
       "\n",
       "        Material FabricType  Decoration Pattern Type  Recommendation  \n",
       "0            NaN    chiffon     ruffles       animal               1  \n",
       "1     microfiber        NaN     ruffles       animal               0  \n",
       "2       polyster        NaN         NaN        print               0  \n",
       "3           silk    chiffon  embroidary        print               1  \n",
       "4  chiffonfabric    chiffon         bow          dot               0  "
      ]
     },
     "execution_count": 42,
     "metadata": {},
     "output_type": "execute_result"
    }
   ],
   "source": [
    "inp0.head()"
   ]
  },
  {
   "cell_type": "code",
   "execution_count": 43,
   "metadata": {},
   "outputs": [
    {
     "data": {
      "text/plain": [
       "Dress_ID            0\n",
       "Style               0\n",
       "Price               2\n",
       "Rating              0\n",
       "Size                0\n",
       "Season              2\n",
       "NeckLine            3\n",
       "SleeveLength        2\n",
       "Material          119\n",
       "FabricType        256\n",
       "Decoration        224\n",
       "Pattern Type      102\n",
       "Recommendation      0\n",
       "dtype: int64"
      ]
     },
     "execution_count": 43,
     "metadata": {},
     "output_type": "execute_result"
    }
   ],
   "source": [
    "inp0.isnull().sum()"
   ]
  },
  {
   "cell_type": "code",
   "execution_count": 22,
   "metadata": {},
   "outputs": [
    {
     "data": {
      "text/plain": [
       "(479, 13)"
      ]
     },
     "execution_count": 22,
     "metadata": {},
     "output_type": "execute_result"
    }
   ],
   "source": [
    "inp0.shape"
   ]
  },
  {
   "cell_type": "code",
   "execution_count": 23,
   "metadata": {},
   "outputs": [],
   "source": [
    "# Column fixing, correcting size abbreviation. count the percentage of each size category in \"Size\" column.\n"
   ]
  },
  {
   "cell_type": "code",
   "execution_count": null,
   "metadata": {},
   "outputs": [],
   "source": []
  },
  {
   "cell_type": "code",
   "execution_count": null,
   "metadata": {},
   "outputs": [],
   "source": []
  },
  {
   "cell_type": "code",
   "execution_count": 24,
   "metadata": {},
   "outputs": [
    {
     "data": {
      "text/plain": [
       "Medium         171\n",
       "Free           165\n",
       "Large           93\n",
       "Small           36\n",
       "Extra large     14\n",
       "Name: Size, dtype: int64"
      ]
     },
     "execution_count": 24,
     "metadata": {},
     "output_type": "execute_result"
    }
   ],
   "source": [
    "# Print the value counts of each category in \"Size\" column.\n",
    "inp0.Size.value_counts()"
   ]
  },
  {
   "cell_type": "markdown",
   "metadata": {},
   "source": [
    "### Impute/Remove Missing values"
   ]
  },
  {
   "cell_type": "code",
   "execution_count": 25,
   "metadata": {},
   "outputs": [
    {
     "data": {
      "text/plain": [
       "Dress_ID            0\n",
       "Style               0\n",
       "Price               2\n",
       "Rating              0\n",
       "Size                0\n",
       "Season              2\n",
       "NeckLine            3\n",
       "SleeveLength        2\n",
       "Material          119\n",
       "FabricType        256\n",
       "Decoration        224\n",
       "Pattern Type      102\n",
       "Recommendation      0\n",
       "dtype: int64"
      ]
     },
     "execution_count": 25,
     "metadata": {},
     "output_type": "execute_result"
    }
   ],
   "source": [
    "# Print the null count of each variables of inp0 and inp1.\n",
    "inp0.isnull().sum()"
   ]
  },
  {
   "cell_type": "code",
   "execution_count": 26,
   "metadata": {},
   "outputs": [
    {
     "data": {
      "text/plain": [
       "Dress_ID        0\n",
       "29-08-2013      0\n",
       "31-08-2013      0\n",
       "09-02-2013      0\n",
       "09-04-2013      0\n",
       "09-06-2013      0\n",
       "09-08-2013      0\n",
       "09-10-2013      0\n",
       "09-12-2013      0\n",
       "14-09-2013      0\n",
       "16-09-2013      0\n",
       "18-09-2013      0\n",
       "20-09-2013      0\n",
       "22-09-2013      0\n",
       "24-09-2013      0\n",
       "26-09-2013    222\n",
       "28-09-2013      0\n",
       "30-09-2013    257\n",
       "10-02-2013    259\n",
       "10-04-2013    258\n",
       "10-06-2013      0\n",
       "10-08-2013    255\n",
       "10-10-2013    255\n",
       "10-12-2013      0\n",
       "dtype: int64"
      ]
     },
     "execution_count": 26,
     "metadata": {},
     "output_type": "execute_result"
    }
   ],
   "source": [
    "inp1.isnull().sum()"
   ]
  },
  {
   "cell_type": "code",
   "execution_count": 27,
   "metadata": {},
   "outputs": [
    {
     "data": {
      "text/plain": [
       "Dress_ID      float64\n",
       "29-08-2013      int64\n",
       "31-08-2013      int64\n",
       "09-02-2013      int64\n",
       "09-04-2013      int64\n",
       "09-06-2013      int64\n",
       "09-08-2013      int64\n",
       "09-10-2013      int64\n",
       "09-12-2013     object\n",
       "14-09-2013     object\n",
       "16-09-2013     object\n",
       "18-09-2013     object\n",
       "20-09-2013     object\n",
       "22-09-2013     object\n",
       "24-09-2013      int64\n",
       "26-09-2013    float64\n",
       "28-09-2013      int64\n",
       "30-09-2013    float64\n",
       "10-02-2013    float64\n",
       "10-04-2013    float64\n",
       "10-06-2013      int64\n",
       "10-08-2013    float64\n",
       "10-10-2013    float64\n",
       "10-12-2013      int64\n",
       "dtype: object"
      ]
     },
     "execution_count": 27,
     "metadata": {},
     "output_type": "execute_result"
    }
   ],
   "source": [
    "inp1.dtypes"
   ]
  },
  {
   "cell_type": "markdown",
   "metadata": {},
   "source": [
    "You are given another dataset named “Dress Sales”. Now if you observe the datatypes of the columns using ‘inp1.info()’ command, you can identify that there are certain columns defined as object data type though they primarily consist of numeric data.\n",
    "\n",
    "Now if you try and convert these object data type columns into numeric data type(float), you will come across an error message. Try to correct this error.\n",
    "\n",
    "\n",
    "\n",
    "\n",
    "\n"
   ]
  },
  {
   "cell_type": "code",
   "execution_count": 28,
   "metadata": {
    "scrolled": true
   },
   "outputs": [
    {
     "data": {
      "text/html": [
       "<div>\n",
       "<style scoped>\n",
       "    .dataframe tbody tr th:only-of-type {\n",
       "        vertical-align: middle;\n",
       "    }\n",
       "\n",
       "    .dataframe tbody tr th {\n",
       "        vertical-align: top;\n",
       "    }\n",
       "\n",
       "    .dataframe thead th {\n",
       "        text-align: right;\n",
       "    }\n",
       "</style>\n",
       "<table border=\"1\" class=\"dataframe\">\n",
       "  <thead>\n",
       "    <tr style=\"text-align: right;\">\n",
       "      <th></th>\n",
       "      <th>Dress_ID</th>\n",
       "      <th>29-08-2013</th>\n",
       "      <th>31-08-2013</th>\n",
       "      <th>09-02-2013</th>\n",
       "      <th>09-04-2013</th>\n",
       "      <th>09-06-2013</th>\n",
       "      <th>09-08-2013</th>\n",
       "      <th>09-10-2013</th>\n",
       "      <th>09-12-2013</th>\n",
       "      <th>14-09-2013</th>\n",
       "      <th>...</th>\n",
       "      <th>24-09-2013</th>\n",
       "      <th>26-09-2013</th>\n",
       "      <th>28-09-2013</th>\n",
       "      <th>30-09-2013</th>\n",
       "      <th>10-02-2013</th>\n",
       "      <th>10-04-2013</th>\n",
       "      <th>10-06-2013</th>\n",
       "      <th>10-08-2013</th>\n",
       "      <th>10-10-2013</th>\n",
       "      <th>10-12-2013</th>\n",
       "    </tr>\n",
       "  </thead>\n",
       "  <tbody>\n",
       "    <tr>\n",
       "      <th>0</th>\n",
       "      <td>1.006033e+09</td>\n",
       "      <td>2114</td>\n",
       "      <td>2274</td>\n",
       "      <td>2491</td>\n",
       "      <td>2660</td>\n",
       "      <td>2727</td>\n",
       "      <td>2887</td>\n",
       "      <td>2930</td>\n",
       "      <td>3119</td>\n",
       "      <td>3204</td>\n",
       "      <td>...</td>\n",
       "      <td>3554</td>\n",
       "      <td>3624.0</td>\n",
       "      <td>3706</td>\n",
       "      <td>3746.0</td>\n",
       "      <td>3795.0</td>\n",
       "      <td>3832.0</td>\n",
       "      <td>3897</td>\n",
       "      <td>3923.0</td>\n",
       "      <td>3985.0</td>\n",
       "      <td>4048</td>\n",
       "    </tr>\n",
       "    <tr>\n",
       "      <th>1</th>\n",
       "      <td>1.212192e+09</td>\n",
       "      <td>151</td>\n",
       "      <td>275</td>\n",
       "      <td>570</td>\n",
       "      <td>750</td>\n",
       "      <td>813</td>\n",
       "      <td>1066</td>\n",
       "      <td>1164</td>\n",
       "      <td>1558</td>\n",
       "      <td>1756</td>\n",
       "      <td>...</td>\n",
       "      <td>2710</td>\n",
       "      <td>2942.0</td>\n",
       "      <td>3258</td>\n",
       "      <td>3354.0</td>\n",
       "      <td>3475.0</td>\n",
       "      <td>3654.0</td>\n",
       "      <td>3911</td>\n",
       "      <td>4024.0</td>\n",
       "      <td>4125.0</td>\n",
       "      <td>4277</td>\n",
       "    </tr>\n",
       "    <tr>\n",
       "      <th>2</th>\n",
       "      <td>1.190381e+09</td>\n",
       "      <td>6</td>\n",
       "      <td>7</td>\n",
       "      <td>7</td>\n",
       "      <td>7</td>\n",
       "      <td>8</td>\n",
       "      <td>8</td>\n",
       "      <td>9</td>\n",
       "      <td>10</td>\n",
       "      <td>10</td>\n",
       "      <td>...</td>\n",
       "      <td>11</td>\n",
       "      <td>11.0</td>\n",
       "      <td>11</td>\n",
       "      <td>11.0</td>\n",
       "      <td>11.0</td>\n",
       "      <td>11.0</td>\n",
       "      <td>11</td>\n",
       "      <td>11.0</td>\n",
       "      <td>11.0</td>\n",
       "      <td>11</td>\n",
       "    </tr>\n",
       "    <tr>\n",
       "      <th>3</th>\n",
       "      <td>9.660060e+08</td>\n",
       "      <td>1005</td>\n",
       "      <td>1128</td>\n",
       "      <td>1326</td>\n",
       "      <td>1455</td>\n",
       "      <td>1507</td>\n",
       "      <td>1621</td>\n",
       "      <td>1637</td>\n",
       "      <td>1723</td>\n",
       "      <td>1746</td>\n",
       "      <td>...</td>\n",
       "      <td>1878</td>\n",
       "      <td>1892.0</td>\n",
       "      <td>1914</td>\n",
       "      <td>1924.0</td>\n",
       "      <td>1929.0</td>\n",
       "      <td>1941.0</td>\n",
       "      <td>1952</td>\n",
       "      <td>1955.0</td>\n",
       "      <td>1959.0</td>\n",
       "      <td>1963</td>\n",
       "    </tr>\n",
       "    <tr>\n",
       "      <th>4</th>\n",
       "      <td>8.763395e+08</td>\n",
       "      <td>996</td>\n",
       "      <td>1175</td>\n",
       "      <td>1304</td>\n",
       "      <td>1396</td>\n",
       "      <td>1432</td>\n",
       "      <td>1559</td>\n",
       "      <td>1570</td>\n",
       "      <td>1638</td>\n",
       "      <td>1655</td>\n",
       "      <td>...</td>\n",
       "      <td>2032</td>\n",
       "      <td>2156.0</td>\n",
       "      <td>2252</td>\n",
       "      <td>2312.0</td>\n",
       "      <td>2387.0</td>\n",
       "      <td>2459.0</td>\n",
       "      <td>2544</td>\n",
       "      <td>2614.0</td>\n",
       "      <td>2693.0</td>\n",
       "      <td>2736</td>\n",
       "    </tr>\n",
       "    <tr>\n",
       "      <th>...</th>\n",
       "      <td>...</td>\n",
       "      <td>...</td>\n",
       "      <td>...</td>\n",
       "      <td>...</td>\n",
       "      <td>...</td>\n",
       "      <td>...</td>\n",
       "      <td>...</td>\n",
       "      <td>...</td>\n",
       "      <td>...</td>\n",
       "      <td>...</td>\n",
       "      <td>...</td>\n",
       "      <td>...</td>\n",
       "      <td>...</td>\n",
       "      <td>...</td>\n",
       "      <td>...</td>\n",
       "      <td>...</td>\n",
       "      <td>...</td>\n",
       "      <td>...</td>\n",
       "      <td>...</td>\n",
       "      <td>...</td>\n",
       "      <td>...</td>\n",
       "    </tr>\n",
       "    <tr>\n",
       "      <th>474</th>\n",
       "      <td>9.905592e+08</td>\n",
       "      <td>0</td>\n",
       "      <td>0</td>\n",
       "      <td>0</td>\n",
       "      <td>60</td>\n",
       "      <td>62</td>\n",
       "      <td>64</td>\n",
       "      <td>65</td>\n",
       "      <td>67</td>\n",
       "      <td>68</td>\n",
       "      <td>...</td>\n",
       "      <td>73</td>\n",
       "      <td>74.0</td>\n",
       "      <td>75</td>\n",
       "      <td>75.0</td>\n",
       "      <td>76.0</td>\n",
       "      <td>76.0</td>\n",
       "      <td>77</td>\n",
       "      <td>77.0</td>\n",
       "      <td>77.0</td>\n",
       "      <td>77</td>\n",
       "    </tr>\n",
       "    <tr>\n",
       "      <th>475</th>\n",
       "      <td>7.133920e+08</td>\n",
       "      <td>0</td>\n",
       "      <td>0</td>\n",
       "      <td>0</td>\n",
       "      <td>560</td>\n",
       "      <td>554</td>\n",
       "      <td>544</td>\n",
       "      <td>537</td>\n",
       "      <td>525</td>\n",
       "      <td>519</td>\n",
       "      <td>...</td>\n",
       "      <td>400</td>\n",
       "      <td>388.0</td>\n",
       "      <td>360</td>\n",
       "      <td>364.0</td>\n",
       "      <td>372.0</td>\n",
       "      <td>377.0</td>\n",
       "      <td>380</td>\n",
       "      <td>382.0</td>\n",
       "      <td>384.0</td>\n",
       "      <td>285</td>\n",
       "    </tr>\n",
       "    <tr>\n",
       "      <th>476</th>\n",
       "      <td>5.328743e+08</td>\n",
       "      <td>0</td>\n",
       "      <td>0</td>\n",
       "      <td>0</td>\n",
       "      <td>734</td>\n",
       "      <td>728</td>\n",
       "      <td>726</td>\n",
       "      <td>715</td>\n",
       "      <td>694</td>\n",
       "      <td>690</td>\n",
       "      <td>...</td>\n",
       "      <td>616</td>\n",
       "      <td>597.0</td>\n",
       "      <td>586</td>\n",
       "      <td>569.0</td>\n",
       "      <td>561.0</td>\n",
       "      <td>555.0</td>\n",
       "      <td>551</td>\n",
       "      <td>546.0</td>\n",
       "      <td>535.0</td>\n",
       "      <td>520</td>\n",
       "    </tr>\n",
       "    <tr>\n",
       "      <th>477</th>\n",
       "      <td>6.554649e+08</td>\n",
       "      <td>0</td>\n",
       "      <td>0</td>\n",
       "      <td>0</td>\n",
       "      <td>254</td>\n",
       "      <td>259</td>\n",
       "      <td>261</td>\n",
       "      <td>263</td>\n",
       "      <td>268</td>\n",
       "      <td>270</td>\n",
       "      <td>...</td>\n",
       "      <td>257</td>\n",
       "      <td>256.0</td>\n",
       "      <td>255</td>\n",
       "      <td>254.0</td>\n",
       "      <td>253.0</td>\n",
       "      <td>250.0</td>\n",
       "      <td>249</td>\n",
       "      <td>249.0</td>\n",
       "      <td>249.0</td>\n",
       "      <td>248</td>\n",
       "    </tr>\n",
       "    <tr>\n",
       "      <th>478</th>\n",
       "      <td>9.199310e+08</td>\n",
       "      <td>0</td>\n",
       "      <td>0</td>\n",
       "      <td>0</td>\n",
       "      <td>538</td>\n",
       "      <td>545</td>\n",
       "      <td>558</td>\n",
       "      <td>563</td>\n",
       "      <td>578</td>\n",
       "      <td>585</td>\n",
       "      <td>...</td>\n",
       "      <td>628</td>\n",
       "      <td>632.0</td>\n",
       "      <td>639</td>\n",
       "      <td>645.0</td>\n",
       "      <td>651.0</td>\n",
       "      <td>655.0</td>\n",
       "      <td>660</td>\n",
       "      <td>668.0</td>\n",
       "      <td>674.0</td>\n",
       "      <td>680</td>\n",
       "    </tr>\n",
       "  </tbody>\n",
       "</table>\n",
       "<p>479 rows × 24 columns</p>\n",
       "</div>"
      ],
      "text/plain": [
       "         Dress_ID  29-08-2013  31-08-2013  09-02-2013  09-04-2013  09-06-2013  \\\n",
       "0    1.006033e+09        2114        2274        2491        2660        2727   \n",
       "1    1.212192e+09         151         275         570         750         813   \n",
       "2    1.190381e+09           6           7           7           7           8   \n",
       "3    9.660060e+08        1005        1128        1326        1455        1507   \n",
       "4    8.763395e+08         996        1175        1304        1396        1432   \n",
       "..            ...         ...         ...         ...         ...         ...   \n",
       "474  9.905592e+08           0           0           0          60          62   \n",
       "475  7.133920e+08           0           0           0         560         554   \n",
       "476  5.328743e+08           0           0           0         734         728   \n",
       "477  6.554649e+08           0           0           0         254         259   \n",
       "478  9.199310e+08           0           0           0         538         545   \n",
       "\n",
       "     09-08-2013  09-10-2013 09-12-2013 14-09-2013  ... 24-09-2013 26-09-2013  \\\n",
       "0          2887        2930       3119       3204  ...       3554     3624.0   \n",
       "1          1066        1164       1558       1756  ...       2710     2942.0   \n",
       "2             8           9         10         10  ...         11       11.0   \n",
       "3          1621        1637       1723       1746  ...       1878     1892.0   \n",
       "4          1559        1570       1638       1655  ...       2032     2156.0   \n",
       "..          ...         ...        ...        ...  ...        ...        ...   \n",
       "474          64          65         67         68  ...         73       74.0   \n",
       "475         544         537        525        519  ...        400      388.0   \n",
       "476         726         715        694        690  ...        616      597.0   \n",
       "477         261         263        268        270  ...        257      256.0   \n",
       "478         558         563        578        585  ...        628      632.0   \n",
       "\n",
       "    28-09-2013 30-09-2013  10-02-2013  10-04-2013  10-06-2013  10-08-2013  \\\n",
       "0         3706     3746.0      3795.0      3832.0        3897      3923.0   \n",
       "1         3258     3354.0      3475.0      3654.0        3911      4024.0   \n",
       "2           11       11.0        11.0        11.0          11        11.0   \n",
       "3         1914     1924.0      1929.0      1941.0        1952      1955.0   \n",
       "4         2252     2312.0      2387.0      2459.0        2544      2614.0   \n",
       "..         ...        ...         ...         ...         ...         ...   \n",
       "474         75       75.0        76.0        76.0          77        77.0   \n",
       "475        360      364.0       372.0       377.0         380       382.0   \n",
       "476        586      569.0       561.0       555.0         551       546.0   \n",
       "477        255      254.0       253.0       250.0         249       249.0   \n",
       "478        639      645.0       651.0       655.0         660       668.0   \n",
       "\n",
       "     10-10-2013  10-12-2013  \n",
       "0        3985.0        4048  \n",
       "1        4125.0        4277  \n",
       "2          11.0          11  \n",
       "3        1959.0        1963  \n",
       "4        2693.0        2736  \n",
       "..          ...         ...  \n",
       "474        77.0          77  \n",
       "475       384.0         285  \n",
       "476       535.0         520  \n",
       "477       249.0         248  \n",
       "478       674.0         680  \n",
       "\n",
       "[479 rows x 24 columns]"
      ]
     },
     "execution_count": 28,
     "metadata": {},
     "output_type": "execute_result"
    }
   ],
   "source": [
    "# Print the data types information of inp1 i.e. \"Dress Sales\" data.\n",
    "inp1"
   ]
  },
  {
   "cell_type": "code",
   "execution_count": 29,
   "metadata": {},
   "outputs": [
    {
     "data": {
      "text/plain": [
       "2       9\n",
       "1       9\n",
       "3       8\n",
       "25      6\n",
       "5       6\n",
       "       ..\n",
       "1906    1\n",
       "1744    1\n",
       "194     1\n",
       "2934    1\n",
       "96      1\n",
       "Name: 09-12-2013, Length: 311, dtype: int64"
      ]
     },
     "execution_count": 29,
     "metadata": {},
     "output_type": "execute_result"
    }
   ],
   "source": [
    "inp1[\"09-12-2013\"].value_counts()"
   ]
  },
  {
   "cell_type": "code",
   "execution_count": 30,
   "metadata": {},
   "outputs": [
    {
     "data": {
      "text/plain": [
       "Dress_ID      float64\n",
       "29-08-2013      int64\n",
       "31-08-2013      int64\n",
       "09-02-2013      int64\n",
       "09-04-2013      int64\n",
       "09-06-2013      int64\n",
       "09-08-2013      int64\n",
       "09-10-2013      int64\n",
       "09-12-2013     object\n",
       "14-09-2013     object\n",
       "16-09-2013     object\n",
       "18-09-2013     object\n",
       "20-09-2013     object\n",
       "22-09-2013     object\n",
       "24-09-2013      int64\n",
       "26-09-2013    float64\n",
       "28-09-2013      int64\n",
       "30-09-2013    float64\n",
       "10-02-2013    float64\n",
       "10-04-2013    float64\n",
       "10-06-2013      int64\n",
       "10-08-2013    float64\n",
       "10-10-2013    float64\n",
       "10-12-2013      int64\n",
       "dtype: object"
      ]
     },
     "execution_count": 30,
     "metadata": {},
     "output_type": "execute_result"
    }
   ],
   "source": [
    "inp1.dtypes"
   ]
  },
  {
   "cell_type": "code",
   "execution_count": 31,
   "metadata": {},
   "outputs": [
    {
     "ename": "ValueError",
     "evalue": "could not convert string to float: 'Removed'",
     "output_type": "error",
     "traceback": [
      "\u001b[1;31m---------------------------------------------------------------------------\u001b[0m",
      "\u001b[1;31mValueError\u001b[0m                                Traceback (most recent call last)",
      "\u001b[1;32m<ipython-input-31-9c8fa8e042fb>\u001b[0m in \u001b[0;36m<module>\u001b[1;34m\u001b[0m\n\u001b[0;32m      1\u001b[0m \u001b[1;31m# Try to convert the object type into float type of data. YOU GET ERROR MESSAGE.\u001b[0m\u001b[1;33m\u001b[0m\u001b[1;33m\u001b[0m\u001b[1;33m\u001b[0m\u001b[0m\n\u001b[1;32m----> 2\u001b[1;33m \u001b[0minp1\u001b[0m\u001b[1;33m[\u001b[0m\u001b[1;34m\"09-12-2013\"\u001b[0m\u001b[1;33m]\u001b[0m \u001b[1;33m=\u001b[0m \u001b[0minp1\u001b[0m\u001b[1;33m[\u001b[0m\u001b[1;34m\"09-12-2013\"\u001b[0m\u001b[1;33m]\u001b[0m\u001b[1;33m.\u001b[0m\u001b[0mastype\u001b[0m\u001b[1;33m(\u001b[0m\u001b[1;34m\"float64\"\u001b[0m\u001b[1;33m)\u001b[0m\u001b[1;33m\u001b[0m\u001b[1;33m\u001b[0m\u001b[0m\n\u001b[0m",
      "\u001b[1;32m~\\anaconda3\\lib\\site-packages\\pandas\\core\\generic.py\u001b[0m in \u001b[0;36mastype\u001b[1;34m(self, dtype, copy, errors)\u001b[0m\n\u001b[0;32m   5696\u001b[0m         \u001b[1;32melse\u001b[0m\u001b[1;33m:\u001b[0m\u001b[1;33m\u001b[0m\u001b[1;33m\u001b[0m\u001b[0m\n\u001b[0;32m   5697\u001b[0m             \u001b[1;31m# else, only a single dtype is given\u001b[0m\u001b[1;33m\u001b[0m\u001b[1;33m\u001b[0m\u001b[1;33m\u001b[0m\u001b[0m\n\u001b[1;32m-> 5698\u001b[1;33m             \u001b[0mnew_data\u001b[0m \u001b[1;33m=\u001b[0m \u001b[0mself\u001b[0m\u001b[1;33m.\u001b[0m\u001b[0m_data\u001b[0m\u001b[1;33m.\u001b[0m\u001b[0mastype\u001b[0m\u001b[1;33m(\u001b[0m\u001b[0mdtype\u001b[0m\u001b[1;33m=\u001b[0m\u001b[0mdtype\u001b[0m\u001b[1;33m,\u001b[0m \u001b[0mcopy\u001b[0m\u001b[1;33m=\u001b[0m\u001b[0mcopy\u001b[0m\u001b[1;33m,\u001b[0m \u001b[0merrors\u001b[0m\u001b[1;33m=\u001b[0m\u001b[0merrors\u001b[0m\u001b[1;33m)\u001b[0m\u001b[1;33m\u001b[0m\u001b[1;33m\u001b[0m\u001b[0m\n\u001b[0m\u001b[0;32m   5699\u001b[0m             \u001b[1;32mreturn\u001b[0m \u001b[0mself\u001b[0m\u001b[1;33m.\u001b[0m\u001b[0m_constructor\u001b[0m\u001b[1;33m(\u001b[0m\u001b[0mnew_data\u001b[0m\u001b[1;33m)\u001b[0m\u001b[1;33m.\u001b[0m\u001b[0m__finalize__\u001b[0m\u001b[1;33m(\u001b[0m\u001b[0mself\u001b[0m\u001b[1;33m)\u001b[0m\u001b[1;33m\u001b[0m\u001b[1;33m\u001b[0m\u001b[0m\n\u001b[0;32m   5700\u001b[0m \u001b[1;33m\u001b[0m\u001b[0m\n",
      "\u001b[1;32m~\\anaconda3\\lib\\site-packages\\pandas\\core\\internals\\managers.py\u001b[0m in \u001b[0;36mastype\u001b[1;34m(self, dtype, copy, errors)\u001b[0m\n\u001b[0;32m    580\u001b[0m \u001b[1;33m\u001b[0m\u001b[0m\n\u001b[0;32m    581\u001b[0m     \u001b[1;32mdef\u001b[0m \u001b[0mastype\u001b[0m\u001b[1;33m(\u001b[0m\u001b[0mself\u001b[0m\u001b[1;33m,\u001b[0m \u001b[0mdtype\u001b[0m\u001b[1;33m,\u001b[0m \u001b[0mcopy\u001b[0m\u001b[1;33m:\u001b[0m \u001b[0mbool\u001b[0m \u001b[1;33m=\u001b[0m \u001b[1;32mFalse\u001b[0m\u001b[1;33m,\u001b[0m \u001b[0merrors\u001b[0m\u001b[1;33m:\u001b[0m \u001b[0mstr\u001b[0m \u001b[1;33m=\u001b[0m \u001b[1;34m\"raise\"\u001b[0m\u001b[1;33m)\u001b[0m\u001b[1;33m:\u001b[0m\u001b[1;33m\u001b[0m\u001b[1;33m\u001b[0m\u001b[0m\n\u001b[1;32m--> 582\u001b[1;33m         \u001b[1;32mreturn\u001b[0m \u001b[0mself\u001b[0m\u001b[1;33m.\u001b[0m\u001b[0mapply\u001b[0m\u001b[1;33m(\u001b[0m\u001b[1;34m\"astype\"\u001b[0m\u001b[1;33m,\u001b[0m \u001b[0mdtype\u001b[0m\u001b[1;33m=\u001b[0m\u001b[0mdtype\u001b[0m\u001b[1;33m,\u001b[0m \u001b[0mcopy\u001b[0m\u001b[1;33m=\u001b[0m\u001b[0mcopy\u001b[0m\u001b[1;33m,\u001b[0m \u001b[0merrors\u001b[0m\u001b[1;33m=\u001b[0m\u001b[0merrors\u001b[0m\u001b[1;33m)\u001b[0m\u001b[1;33m\u001b[0m\u001b[1;33m\u001b[0m\u001b[0m\n\u001b[0m\u001b[0;32m    583\u001b[0m \u001b[1;33m\u001b[0m\u001b[0m\n\u001b[0;32m    584\u001b[0m     \u001b[1;32mdef\u001b[0m \u001b[0mconvert\u001b[0m\u001b[1;33m(\u001b[0m\u001b[0mself\u001b[0m\u001b[1;33m,\u001b[0m \u001b[1;33m**\u001b[0m\u001b[0mkwargs\u001b[0m\u001b[1;33m)\u001b[0m\u001b[1;33m:\u001b[0m\u001b[1;33m\u001b[0m\u001b[1;33m\u001b[0m\u001b[0m\n",
      "\u001b[1;32m~\\anaconda3\\lib\\site-packages\\pandas\\core\\internals\\managers.py\u001b[0m in \u001b[0;36mapply\u001b[1;34m(self, f, filter, **kwargs)\u001b[0m\n\u001b[0;32m    440\u001b[0m                 \u001b[0mapplied\u001b[0m \u001b[1;33m=\u001b[0m \u001b[0mb\u001b[0m\u001b[1;33m.\u001b[0m\u001b[0mapply\u001b[0m\u001b[1;33m(\u001b[0m\u001b[0mf\u001b[0m\u001b[1;33m,\u001b[0m \u001b[1;33m**\u001b[0m\u001b[0mkwargs\u001b[0m\u001b[1;33m)\u001b[0m\u001b[1;33m\u001b[0m\u001b[1;33m\u001b[0m\u001b[0m\n\u001b[0;32m    441\u001b[0m             \u001b[1;32melse\u001b[0m\u001b[1;33m:\u001b[0m\u001b[1;33m\u001b[0m\u001b[1;33m\u001b[0m\u001b[0m\n\u001b[1;32m--> 442\u001b[1;33m                 \u001b[0mapplied\u001b[0m \u001b[1;33m=\u001b[0m \u001b[0mgetattr\u001b[0m\u001b[1;33m(\u001b[0m\u001b[0mb\u001b[0m\u001b[1;33m,\u001b[0m \u001b[0mf\u001b[0m\u001b[1;33m)\u001b[0m\u001b[1;33m(\u001b[0m\u001b[1;33m**\u001b[0m\u001b[0mkwargs\u001b[0m\u001b[1;33m)\u001b[0m\u001b[1;33m\u001b[0m\u001b[1;33m\u001b[0m\u001b[0m\n\u001b[0m\u001b[0;32m    443\u001b[0m             \u001b[0mresult_blocks\u001b[0m \u001b[1;33m=\u001b[0m \u001b[0m_extend_blocks\u001b[0m\u001b[1;33m(\u001b[0m\u001b[0mapplied\u001b[0m\u001b[1;33m,\u001b[0m \u001b[0mresult_blocks\u001b[0m\u001b[1;33m)\u001b[0m\u001b[1;33m\u001b[0m\u001b[1;33m\u001b[0m\u001b[0m\n\u001b[0;32m    444\u001b[0m \u001b[1;33m\u001b[0m\u001b[0m\n",
      "\u001b[1;32m~\\anaconda3\\lib\\site-packages\\pandas\\core\\internals\\blocks.py\u001b[0m in \u001b[0;36mastype\u001b[1;34m(self, dtype, copy, errors)\u001b[0m\n\u001b[0;32m    623\u001b[0m             \u001b[0mvals1d\u001b[0m \u001b[1;33m=\u001b[0m \u001b[0mvalues\u001b[0m\u001b[1;33m.\u001b[0m\u001b[0mravel\u001b[0m\u001b[1;33m(\u001b[0m\u001b[1;33m)\u001b[0m\u001b[1;33m\u001b[0m\u001b[1;33m\u001b[0m\u001b[0m\n\u001b[0;32m    624\u001b[0m             \u001b[1;32mtry\u001b[0m\u001b[1;33m:\u001b[0m\u001b[1;33m\u001b[0m\u001b[1;33m\u001b[0m\u001b[0m\n\u001b[1;32m--> 625\u001b[1;33m                 \u001b[0mvalues\u001b[0m \u001b[1;33m=\u001b[0m \u001b[0mastype_nansafe\u001b[0m\u001b[1;33m(\u001b[0m\u001b[0mvals1d\u001b[0m\u001b[1;33m,\u001b[0m \u001b[0mdtype\u001b[0m\u001b[1;33m,\u001b[0m \u001b[0mcopy\u001b[0m\u001b[1;33m=\u001b[0m\u001b[1;32mTrue\u001b[0m\u001b[1;33m)\u001b[0m\u001b[1;33m\u001b[0m\u001b[1;33m\u001b[0m\u001b[0m\n\u001b[0m\u001b[0;32m    626\u001b[0m             \u001b[1;32mexcept\u001b[0m \u001b[1;33m(\u001b[0m\u001b[0mValueError\u001b[0m\u001b[1;33m,\u001b[0m \u001b[0mTypeError\u001b[0m\u001b[1;33m)\u001b[0m\u001b[1;33m:\u001b[0m\u001b[1;33m\u001b[0m\u001b[1;33m\u001b[0m\u001b[0m\n\u001b[0;32m    627\u001b[0m                 \u001b[1;31m# e.g. astype_nansafe can fail on object-dtype of strings\u001b[0m\u001b[1;33m\u001b[0m\u001b[1;33m\u001b[0m\u001b[1;33m\u001b[0m\u001b[0m\n",
      "\u001b[1;32m~\\anaconda3\\lib\\site-packages\\pandas\\core\\dtypes\\cast.py\u001b[0m in \u001b[0;36mastype_nansafe\u001b[1;34m(arr, dtype, copy, skipna)\u001b[0m\n\u001b[0;32m    895\u001b[0m     \u001b[1;32mif\u001b[0m \u001b[0mcopy\u001b[0m \u001b[1;32mor\u001b[0m \u001b[0mis_object_dtype\u001b[0m\u001b[1;33m(\u001b[0m\u001b[0marr\u001b[0m\u001b[1;33m)\u001b[0m \u001b[1;32mor\u001b[0m \u001b[0mis_object_dtype\u001b[0m\u001b[1;33m(\u001b[0m\u001b[0mdtype\u001b[0m\u001b[1;33m)\u001b[0m\u001b[1;33m:\u001b[0m\u001b[1;33m\u001b[0m\u001b[1;33m\u001b[0m\u001b[0m\n\u001b[0;32m    896\u001b[0m         \u001b[1;31m# Explicit copy, or required since NumPy can't view from / to object.\u001b[0m\u001b[1;33m\u001b[0m\u001b[1;33m\u001b[0m\u001b[1;33m\u001b[0m\u001b[0m\n\u001b[1;32m--> 897\u001b[1;33m         \u001b[1;32mreturn\u001b[0m \u001b[0marr\u001b[0m\u001b[1;33m.\u001b[0m\u001b[0mastype\u001b[0m\u001b[1;33m(\u001b[0m\u001b[0mdtype\u001b[0m\u001b[1;33m,\u001b[0m \u001b[0mcopy\u001b[0m\u001b[1;33m=\u001b[0m\u001b[1;32mTrue\u001b[0m\u001b[1;33m)\u001b[0m\u001b[1;33m\u001b[0m\u001b[1;33m\u001b[0m\u001b[0m\n\u001b[0m\u001b[0;32m    898\u001b[0m \u001b[1;33m\u001b[0m\u001b[0m\n\u001b[0;32m    899\u001b[0m     \u001b[1;32mreturn\u001b[0m \u001b[0marr\u001b[0m\u001b[1;33m.\u001b[0m\u001b[0mview\u001b[0m\u001b[1;33m(\u001b[0m\u001b[0mdtype\u001b[0m\u001b[1;33m)\u001b[0m\u001b[1;33m\u001b[0m\u001b[1;33m\u001b[0m\u001b[0m\n",
      "\u001b[1;31mValueError\u001b[0m: could not convert string to float: 'Removed'"
     ]
    }
   ],
   "source": [
    "# Try to convert the object type into float type of data. YOU GET ERROR MESSAGE.\n",
    "inp1[\"09-12-2013\"] = inp1[\"09-12-2013\"].astype(\"float64\")"
   ]
  },
  {
   "cell_type": "code",
   "execution_count": null,
   "metadata": {},
   "outputs": [],
   "source": [
    "inp1[\"14-09-2013\"] = inp1[\"14-09-2013\"].astype(\"float64\")"
   ]
  },
  {
   "cell_type": "code",
   "execution_count": null,
   "metadata": {},
   "outputs": [],
   "source": [
    "inp1[\"16-09-2013\"] = inp1[\"16-09-2013\"].astype(\"float64\")\n",
    "inp1[\"18-09-2013\"] = inp1[\"18-09-2013\"].astype(\"float64\")\n",
    "inp1[\"20-09-2013\"] = inp1[\"20-09-2013\"].astype(\"float64\")\n",
    "inp1[\"22-09-2013\"] = inp1[\"22-09-2013\"].astype(\"float64\")"
   ]
  },
  {
   "cell_type": "code",
   "execution_count": null,
   "metadata": {},
   "outputs": [],
   "source": [
    "inp1[\"18-09-2013\"] = inp1[\"18-09-2013\"].astype(\"float64\")"
   ]
  },
  {
   "cell_type": "code",
   "execution_count": null,
   "metadata": {},
   "outputs": [],
   "source": [
    "inp1[\"20-09-2013\"] = inp1[\"20-09-2013\"].astype(\"float64\")\n"
   ]
  },
  {
   "cell_type": "code",
   "execution_count": null,
   "metadata": {},
   "outputs": [],
   "source": [
    "inp1[\"22-09-2013\"] = inp1[\"22-09-2013\"].astype(\"float64\")"
   ]
  },
  {
   "cell_type": "code",
   "execution_count": 44,
   "metadata": {},
   "outputs": [],
   "source": [
    "inp1.loc[inp1['09-12-2013'] == 'Removed', \"09-12-2013\"] = np.NAN\n",
    "\n",
    "inp1.loc[inp1['14-09-2013']== 'removed',\"14-09-2013\"] = np.NaN\n",
    "\n",
    "inp1.loc[inp1['16-09-2013']== 'removed',\"16-09-2013\"] = np.NaN\n",
    "\n",
    "inp1.loc[inp1['18-09-2013']== 'removed',\"18-09-2013\"] = np.NaN\n",
    "\n",
    "inp1.loc[inp1['20-09-2013']== 'removed',\"20-09-2013\"] = np.NaN\n",
    "\n",
    "inp1.loc[inp1['22-09-2013']== 'Orders',\"22-09-2013\"] = np.NaN"
   ]
  },
  {
   "cell_type": "code",
   "execution_count": 45,
   "metadata": {},
   "outputs": [
    {
     "data": {
      "text/plain": [
       "Dress_ID        0\n",
       "29-08-2013      0\n",
       "31-08-2013      0\n",
       "09-02-2013      0\n",
       "09-04-2013      0\n",
       "09-06-2013      0\n",
       "09-08-2013      0\n",
       "09-10-2013      0\n",
       "09-12-2013      1\n",
       "14-09-2013      1\n",
       "16-09-2013      1\n",
       "18-09-2013      1\n",
       "20-09-2013      1\n",
       "22-09-2013      1\n",
       "24-09-2013      0\n",
       "26-09-2013    222\n",
       "28-09-2013      0\n",
       "30-09-2013    257\n",
       "10-02-2013    259\n",
       "10-04-2013    258\n",
       "10-06-2013      0\n",
       "10-08-2013    255\n",
       "10-10-2013    255\n",
       "10-12-2013      0\n",
       "dtype: int64"
      ]
     },
     "execution_count": 45,
     "metadata": {},
     "output_type": "execute_result"
    }
   ],
   "source": [
    "inp1.isnull().sum()"
   ]
  },
  {
   "cell_type": "code",
   "execution_count": null,
   "metadata": {},
   "outputs": [],
   "source": [
    "# Do the required changes in the \"Dress Sales\" data set to get null values on string values.\n",
    "inp1.dtypes"
   ]
  },
  {
   "cell_type": "code",
   "execution_count": 46,
   "metadata": {},
   "outputs": [],
   "source": [
    "# Convert the object type columns in \"Dress Sales\" into float type of data type.\n",
    "inp1[\"09-12-2013\"] = inp1[\"09-12-2013\"].astype(\"float64\")\n",
    "inp1[\"14-09-2013\"] = inp1[\"14-09-2013\"].astype(\"float64\")\n",
    "inp1[\"16-09-2013\"] = inp1[\"16-09-2013\"].astype(\"float64\")\n",
    "inp1[\"18-09-2013\"] = inp1[\"18-09-2013\"].astype(\"float64\")\n",
    "inp1[\"20-09-2013\"] = inp1[\"20-09-2013\"].astype(\"float64\")\n",
    "inp1[\"22-09-2013\"] = inp1[\"22-09-2013\"].astype(\"float64\")"
   ]
  },
  {
   "cell_type": "code",
   "execution_count": null,
   "metadata": {},
   "outputs": [],
   "source": [
    "inp1.dtypes"
   ]
  },
  {
   "cell_type": "markdown",
   "metadata": {},
   "source": [
    "When you see the null counts in “Dress Sales” dataset after performing all the operations that have been mentioned in jupyter notebook, you will find that there are some columns in “Dress Sales” data where there are more than 40% of missing values. Based on your understanding of dealing with missing values do the following steps."
   ]
  },
  {
   "cell_type": "code",
   "execution_count": null,
   "metadata": {},
   "outputs": [],
   "source": [
    "inp1.info()"
   ]
  },
  {
   "cell_type": "code",
   "execution_count": 47,
   "metadata": {},
   "outputs": [
    {
     "data": {
      "text/plain": [
       "Dress_ID        0\n",
       "29-08-2013      0\n",
       "31-08-2013      0\n",
       "09-02-2013      0\n",
       "09-04-2013      0\n",
       "09-06-2013      0\n",
       "09-08-2013      0\n",
       "09-10-2013      0\n",
       "09-12-2013      1\n",
       "14-09-2013      1\n",
       "16-09-2013      1\n",
       "18-09-2013      1\n",
       "20-09-2013      1\n",
       "22-09-2013      1\n",
       "24-09-2013      0\n",
       "26-09-2013    222\n",
       "28-09-2013      0\n",
       "30-09-2013    257\n",
       "10-02-2013    259\n",
       "10-04-2013    258\n",
       "10-06-2013      0\n",
       "10-08-2013    255\n",
       "10-10-2013    255\n",
       "10-12-2013      0\n",
       "dtype: int64"
      ]
     },
     "execution_count": 47,
     "metadata": {},
     "output_type": "execute_result"
    }
   ],
   "source": [
    "inp1.isnull().sum()"
   ]
  },
  {
   "cell_type": "code",
   "execution_count": null,
   "metadata": {},
   "outputs": [],
   "source": []
  },
  {
   "cell_type": "code",
   "execution_count": null,
   "metadata": {},
   "outputs": [],
   "source": []
  },
  {
   "cell_type": "code",
   "execution_count": null,
   "metadata": {},
   "outputs": [],
   "source": []
  },
  {
   "cell_type": "code",
   "execution_count": null,
   "metadata": {},
   "outputs": [],
   "source": []
  },
  {
   "cell_type": "code",
   "execution_count": null,
   "metadata": {},
   "outputs": [],
   "source": [
    "# Print the null percetange of each column of inp1.\n"
   ]
  },
  {
   "cell_type": "code",
   "execution_count": 48,
   "metadata": {},
   "outputs": [],
   "source": [
    "# Drop the columns in \"Dress Sales\" which have more than 40% of missing values.\n",
    "inp1= inp1.drop([\"26-09-2013\"] , axis= 1)\n",
    "\n",
    "inp1= inp1.drop([\"30-09-2013\"] , axis= 1)\n",
    "\n",
    "inp1= inp1.drop([\"10-02-2013\"] , axis= 1)\n",
    "\n",
    "inp1= inp1.drop([\"10-04-2013\"] , axis= 1)\n",
    "\n",
    "inp1= inp1.drop([\"10-08-2013\"] , axis= 1)\n",
    "\n",
    "inp1= inp1.drop([\"10-10-2013\"] , axis= 1)"
   ]
  },
  {
   "cell_type": "code",
   "execution_count": 49,
   "metadata": {},
   "outputs": [
    {
     "data": {
      "text/plain": [
       "Dress_ID      0\n",
       "29-08-2013    0\n",
       "31-08-2013    0\n",
       "09-02-2013    0\n",
       "09-04-2013    0\n",
       "09-06-2013    0\n",
       "09-08-2013    0\n",
       "09-10-2013    0\n",
       "09-12-2013    1\n",
       "14-09-2013    1\n",
       "16-09-2013    1\n",
       "18-09-2013    1\n",
       "20-09-2013    1\n",
       "22-09-2013    1\n",
       "24-09-2013    0\n",
       "28-09-2013    0\n",
       "10-06-2013    0\n",
       "10-12-2013    0\n",
       "dtype: int64"
      ]
     },
     "execution_count": 49,
     "metadata": {},
     "output_type": "execute_result"
    }
   ],
   "source": [
    "inp1.isnull().sum()"
   ]
  },
  {
   "cell_type": "code",
   "execution_count": null,
   "metadata": {},
   "outputs": [],
   "source": []
  },
  {
   "cell_type": "markdown",
   "metadata": {},
   "source": [
    "You should categorise the dates into seasons in “Dress Sales” data to simplify the analysis according to the following criteria:\n",
    "- June, July and August: Summer.\n",
    "- September, October and November: Autumn.\n",
    "- December, January and February: WInter.\n",
    "- March, April and May: Spring.\n",
    "\n",
    "\n"
   ]
  },
  {
   "cell_type": "code",
   "execution_count": null,
   "metadata": {},
   "outputs": [],
   "source": [
    "inp1[\"29-08-2013\"].sum()"
   ]
  },
  {
   "cell_type": "code",
   "execution_count": null,
   "metadata": {},
   "outputs": [],
   "source": [
    "inp1[\"09-02-2013\"].sum()"
   ]
  },
  {
   "cell_type": "code",
   "execution_count": null,
   "metadata": {},
   "outputs": [],
   "source": [
    "inp1[\"09-04-2013\"].sum()"
   ]
  },
  {
   "cell_type": "code",
   "execution_count": null,
   "metadata": {},
   "outputs": [],
   "source": [
    "inp1[\"09-10-2013\"].sum()"
   ]
  },
  {
   "cell_type": "code",
   "execution_count": 50,
   "metadata": {},
   "outputs": [],
   "source": [
    "inp1['Spring'] = inp1.apply(lambda x: x['09-04-2013'], axis=1)\n",
    "\n",
    "inp1['Summer'] = inp1.apply(lambda x: x['29-08-2013'] + x['31-08-2013']+ x['09-06-2013']+ x['09-08-2013']+ x['10-06-2013'], axis=1)\n",
    "\n",
    "inp1['Winter'] = inp1.apply(lambda x: x['09-02-2013'] + x['09-12-2013']+ x['10-12-2013'], axis=1)\n",
    "\n",
    "inp1['Autumn'] = inp1.apply(lambda x: x['09-10-2013'] + x['14-09-2013']+ x['16-09-2013']+ x['18-09-2013']+ x['20-09-2013']+ x['22-09-2013']+ x['24-09-2013']+ x['28-09-2013'], axis=1)\n"
   ]
  },
  {
   "cell_type": "code",
   "execution_count": null,
   "metadata": {},
   "outputs": [],
   "source": [
    "# Create the four seasons columns in inp1, according to the above criteria.\n"
   ]
  },
  {
   "cell_type": "code",
   "execution_count": 51,
   "metadata": {},
   "outputs": [
    {
     "data": {
      "text/html": [
       "<div>\n",
       "<style scoped>\n",
       "    .dataframe tbody tr th:only-of-type {\n",
       "        vertical-align: middle;\n",
       "    }\n",
       "\n",
       "    .dataframe tbody tr th {\n",
       "        vertical-align: top;\n",
       "    }\n",
       "\n",
       "    .dataframe thead th {\n",
       "        text-align: right;\n",
       "    }\n",
       "</style>\n",
       "<table border=\"1\" class=\"dataframe\">\n",
       "  <thead>\n",
       "    <tr style=\"text-align: right;\">\n",
       "      <th></th>\n",
       "      <th>Dress_ID</th>\n",
       "      <th>29-08-2013</th>\n",
       "      <th>31-08-2013</th>\n",
       "      <th>09-02-2013</th>\n",
       "      <th>09-04-2013</th>\n",
       "      <th>09-06-2013</th>\n",
       "      <th>09-08-2013</th>\n",
       "      <th>09-10-2013</th>\n",
       "      <th>09-12-2013</th>\n",
       "      <th>14-09-2013</th>\n",
       "      <th>...</th>\n",
       "      <th>20-09-2013</th>\n",
       "      <th>22-09-2013</th>\n",
       "      <th>24-09-2013</th>\n",
       "      <th>28-09-2013</th>\n",
       "      <th>10-06-2013</th>\n",
       "      <th>10-12-2013</th>\n",
       "      <th>Spring</th>\n",
       "      <th>Summer</th>\n",
       "      <th>Winter</th>\n",
       "      <th>Autumn</th>\n",
       "    </tr>\n",
       "  </thead>\n",
       "  <tbody>\n",
       "    <tr>\n",
       "      <th>0</th>\n",
       "      <td>1.006033e+09</td>\n",
       "      <td>2114</td>\n",
       "      <td>2274</td>\n",
       "      <td>2491</td>\n",
       "      <td>2660</td>\n",
       "      <td>2727</td>\n",
       "      <td>2887</td>\n",
       "      <td>2930</td>\n",
       "      <td>3119.0</td>\n",
       "      <td>3204.0</td>\n",
       "      <td>...</td>\n",
       "      <td>3386.0</td>\n",
       "      <td>3479.0</td>\n",
       "      <td>3554</td>\n",
       "      <td>3706</td>\n",
       "      <td>3897</td>\n",
       "      <td>4048</td>\n",
       "      <td>2660.0</td>\n",
       "      <td>13899.0</td>\n",
       "      <td>9658.0</td>\n",
       "      <td>26857.0</td>\n",
       "    </tr>\n",
       "    <tr>\n",
       "      <th>1</th>\n",
       "      <td>1.212192e+09</td>\n",
       "      <td>151</td>\n",
       "      <td>275</td>\n",
       "      <td>570</td>\n",
       "      <td>750</td>\n",
       "      <td>813</td>\n",
       "      <td>1066</td>\n",
       "      <td>1164</td>\n",
       "      <td>1558.0</td>\n",
       "      <td>1756.0</td>\n",
       "      <td>...</td>\n",
       "      <td>2106.0</td>\n",
       "      <td>2454.0</td>\n",
       "      <td>2710</td>\n",
       "      <td>3258</td>\n",
       "      <td>3911</td>\n",
       "      <td>4277</td>\n",
       "      <td>750.0</td>\n",
       "      <td>6216.0</td>\n",
       "      <td>6405.0</td>\n",
       "      <td>17311.0</td>\n",
       "    </tr>\n",
       "    <tr>\n",
       "      <th>2</th>\n",
       "      <td>1.190381e+09</td>\n",
       "      <td>6</td>\n",
       "      <td>7</td>\n",
       "      <td>7</td>\n",
       "      <td>7</td>\n",
       "      <td>8</td>\n",
       "      <td>8</td>\n",
       "      <td>9</td>\n",
       "      <td>10.0</td>\n",
       "      <td>10.0</td>\n",
       "      <td>...</td>\n",
       "      <td>10.0</td>\n",
       "      <td>11.0</td>\n",
       "      <td>11</td>\n",
       "      <td>11</td>\n",
       "      <td>11</td>\n",
       "      <td>11</td>\n",
       "      <td>7.0</td>\n",
       "      <td>40.0</td>\n",
       "      <td>28.0</td>\n",
       "      <td>82.0</td>\n",
       "    </tr>\n",
       "    <tr>\n",
       "      <th>3</th>\n",
       "      <td>9.660060e+08</td>\n",
       "      <td>1005</td>\n",
       "      <td>1128</td>\n",
       "      <td>1326</td>\n",
       "      <td>1455</td>\n",
       "      <td>1507</td>\n",
       "      <td>1621</td>\n",
       "      <td>1637</td>\n",
       "      <td>1723.0</td>\n",
       "      <td>1746.0</td>\n",
       "      <td>...</td>\n",
       "      <td>1812.0</td>\n",
       "      <td>1845.0</td>\n",
       "      <td>1878</td>\n",
       "      <td>1914</td>\n",
       "      <td>1952</td>\n",
       "      <td>1963</td>\n",
       "      <td>1455.0</td>\n",
       "      <td>7213.0</td>\n",
       "      <td>5012.0</td>\n",
       "      <td>14411.0</td>\n",
       "    </tr>\n",
       "    <tr>\n",
       "      <th>4</th>\n",
       "      <td>8.763395e+08</td>\n",
       "      <td>996</td>\n",
       "      <td>1175</td>\n",
       "      <td>1304</td>\n",
       "      <td>1396</td>\n",
       "      <td>1432</td>\n",
       "      <td>1559</td>\n",
       "      <td>1570</td>\n",
       "      <td>1638.0</td>\n",
       "      <td>1655.0</td>\n",
       "      <td>...</td>\n",
       "      <td>1824.0</td>\n",
       "      <td>1919.0</td>\n",
       "      <td>2032</td>\n",
       "      <td>2252</td>\n",
       "      <td>2544</td>\n",
       "      <td>2736</td>\n",
       "      <td>1396.0</td>\n",
       "      <td>7706.0</td>\n",
       "      <td>5678.0</td>\n",
       "      <td>14676.0</td>\n",
       "    </tr>\n",
       "  </tbody>\n",
       "</table>\n",
       "<p>5 rows × 22 columns</p>\n",
       "</div>"
      ],
      "text/plain": [
       "       Dress_ID  29-08-2013  31-08-2013  09-02-2013  09-04-2013  09-06-2013  \\\n",
       "0  1.006033e+09        2114        2274        2491        2660        2727   \n",
       "1  1.212192e+09         151         275         570         750         813   \n",
       "2  1.190381e+09           6           7           7           7           8   \n",
       "3  9.660060e+08        1005        1128        1326        1455        1507   \n",
       "4  8.763395e+08         996        1175        1304        1396        1432   \n",
       "\n",
       "   09-08-2013  09-10-2013  09-12-2013  14-09-2013  ...  20-09-2013  \\\n",
       "0        2887        2930      3119.0      3204.0  ...      3386.0   \n",
       "1        1066        1164      1558.0      1756.0  ...      2106.0   \n",
       "2           8           9        10.0        10.0  ...        10.0   \n",
       "3        1621        1637      1723.0      1746.0  ...      1812.0   \n",
       "4        1559        1570      1638.0      1655.0  ...      1824.0   \n",
       "\n",
       "   22-09-2013  24-09-2013  28-09-2013  10-06-2013  10-12-2013  Spring  \\\n",
       "0      3479.0        3554        3706        3897        4048  2660.0   \n",
       "1      2454.0        2710        3258        3911        4277   750.0   \n",
       "2        11.0          11          11          11          11     7.0   \n",
       "3      1845.0        1878        1914        1952        1963  1455.0   \n",
       "4      1919.0        2032        2252        2544        2736  1396.0   \n",
       "\n",
       "    Summer  Winter   Autumn  \n",
       "0  13899.0  9658.0  26857.0  \n",
       "1   6216.0  6405.0  17311.0  \n",
       "2     40.0    28.0     82.0  \n",
       "3   7213.0  5012.0  14411.0  \n",
       "4   7706.0  5678.0  14676.0  \n",
       "\n",
       "[5 rows x 22 columns]"
      ]
     },
     "execution_count": 51,
     "metadata": {},
     "output_type": "execute_result"
    }
   ],
   "source": [
    "# calculate the sum of sales in each seasons in inp1 i.e. \"Dress Sales\".\n",
    "inp1.head()"
   ]
  },
  {
   "cell_type": "code",
   "execution_count": null,
   "metadata": {},
   "outputs": [],
   "source": []
  },
  {
   "cell_type": "code",
   "execution_count": 52,
   "metadata": {},
   "outputs": [],
   "source": [
    "inp0.Season= inp0.Season.replace('Automn', \"Autumn\")\n",
    "\n",
    "inp0.Season= inp0.Season.replace('spring', \"Spring\")\n",
    "\n",
    "inp0.Season= inp0.Season.replace('winter', \"Winter\")"
   ]
  },
  {
   "cell_type": "code",
   "execution_count": 53,
   "metadata": {},
   "outputs": [],
   "source": [
    "inp0.SleeveLength= inp0.SleeveLength.replace(['cap-sleeves', 'capsleeves'], \"cap sleeves\")\n",
    "\n",
    "inp0.SleeveLength= inp0.SleeveLength.replace('full', \"full sleeves\")\n",
    "\n",
    "inp0.SleeveLength= inp0.SleeveLength.replace(['half','halfsleeve'], \"half sleeves\")\n",
    "\n",
    "inp0.SleeveLength= inp0.SleeveLength.replace(['sleevless', 'sleeevless', 'sleeveless', 'sleveless'], \"sleeve less\")\n",
    "\n",
    "inp0.SleeveLength= inp0.SleeveLength.replace(['threequarter','threequater', 'thressqatar'], \"three quater\")\n",
    "\n",
    "inp0.SleeveLength= inp0.SleeveLength.replace(['turndowncollor','urndowncollor'], \"turn down collar\")"
   ]
  },
  {
   "cell_type": "code",
   "execution_count": null,
   "metadata": {},
   "outputs": [],
   "source": []
  },
  {
   "cell_type": "code",
   "execution_count": null,
   "metadata": {},
   "outputs": [],
   "source": [
    "inp0.head()"
   ]
  },
  {
   "cell_type": "code",
   "execution_count": 54,
   "metadata": {},
   "outputs": [
    {
     "data": {
      "text/plain": [
       "Dress_ID            0\n",
       "Style               0\n",
       "Price               2\n",
       "Rating              0\n",
       "Size                0\n",
       "Season              2\n",
       "NeckLine            3\n",
       "SleeveLength        2\n",
       "Material          119\n",
       "FabricType        256\n",
       "Decoration        224\n",
       "Pattern Type      102\n",
       "Recommendation      0\n",
       "dtype: int64"
      ]
     },
     "execution_count": 54,
     "metadata": {},
     "output_type": "execute_result"
    }
   ],
   "source": [
    "inp0.isnull().sum()"
   ]
  },
  {
   "cell_type": "code",
   "execution_count": null,
   "metadata": {},
   "outputs": [],
   "source": []
  },
  {
   "cell_type": "code",
   "execution_count": null,
   "metadata": {},
   "outputs": [],
   "source": []
  },
  {
   "cell_type": "code",
   "execution_count": null,
   "metadata": {},
   "outputs": [],
   "source": []
  },
  {
   "cell_type": "markdown",
   "metadata": {},
   "source": [
    "Now let's merge inp1 with inp0 with left join manner, so that the information of inp0 should remain intact."
   ]
  },
  {
   "cell_type": "code",
   "execution_count": 55,
   "metadata": {},
   "outputs": [
    {
     "data": {
      "text/html": [
       "<div>\n",
       "<style scoped>\n",
       "    .dataframe tbody tr th:only-of-type {\n",
       "        vertical-align: middle;\n",
       "    }\n",
       "\n",
       "    .dataframe tbody tr th {\n",
       "        vertical-align: top;\n",
       "    }\n",
       "\n",
       "    .dataframe thead th {\n",
       "        text-align: right;\n",
       "    }\n",
       "</style>\n",
       "<table border=\"1\" class=\"dataframe\">\n",
       "  <thead>\n",
       "    <tr style=\"text-align: right;\">\n",
       "      <th></th>\n",
       "      <th>Dress_ID</th>\n",
       "      <th>Style</th>\n",
       "      <th>Price</th>\n",
       "      <th>Rating</th>\n",
       "      <th>Size</th>\n",
       "      <th>Season</th>\n",
       "      <th>NeckLine</th>\n",
       "      <th>SleeveLength</th>\n",
       "      <th>Material</th>\n",
       "      <th>FabricType</th>\n",
       "      <th>...</th>\n",
       "      <th>20-09-2013</th>\n",
       "      <th>22-09-2013</th>\n",
       "      <th>24-09-2013</th>\n",
       "      <th>28-09-2013</th>\n",
       "      <th>10-06-2013</th>\n",
       "      <th>10-12-2013</th>\n",
       "      <th>Spring</th>\n",
       "      <th>Summer</th>\n",
       "      <th>Winter</th>\n",
       "      <th>Autumn</th>\n",
       "    </tr>\n",
       "  </thead>\n",
       "  <tbody>\n",
       "    <tr>\n",
       "      <th>0</th>\n",
       "      <td>1006032852</td>\n",
       "      <td>Sexy</td>\n",
       "      <td>Low</td>\n",
       "      <td>4.6</td>\n",
       "      <td>Medium</td>\n",
       "      <td>Summer</td>\n",
       "      <td>o-neck</td>\n",
       "      <td>sleeve less</td>\n",
       "      <td>NaN</td>\n",
       "      <td>chiffon</td>\n",
       "      <td>...</td>\n",
       "      <td>3386.0</td>\n",
       "      <td>3479.0</td>\n",
       "      <td>3554</td>\n",
       "      <td>3706</td>\n",
       "      <td>3897</td>\n",
       "      <td>4048</td>\n",
       "      <td>2660.0</td>\n",
       "      <td>13899.0</td>\n",
       "      <td>9658.0</td>\n",
       "      <td>26857.0</td>\n",
       "    </tr>\n",
       "    <tr>\n",
       "      <th>1</th>\n",
       "      <td>1212192089</td>\n",
       "      <td>Casual</td>\n",
       "      <td>Low</td>\n",
       "      <td>0.0</td>\n",
       "      <td>Large</td>\n",
       "      <td>Summer</td>\n",
       "      <td>o-neck</td>\n",
       "      <td>Petal</td>\n",
       "      <td>microfiber</td>\n",
       "      <td>NaN</td>\n",
       "      <td>...</td>\n",
       "      <td>2106.0</td>\n",
       "      <td>2454.0</td>\n",
       "      <td>2710</td>\n",
       "      <td>3258</td>\n",
       "      <td>3911</td>\n",
       "      <td>4277</td>\n",
       "      <td>750.0</td>\n",
       "      <td>6216.0</td>\n",
       "      <td>6405.0</td>\n",
       "      <td>17311.0</td>\n",
       "    </tr>\n",
       "    <tr>\n",
       "      <th>2</th>\n",
       "      <td>1190380701</td>\n",
       "      <td>vintage</td>\n",
       "      <td>High</td>\n",
       "      <td>0.0</td>\n",
       "      <td>Large</td>\n",
       "      <td>Autumn</td>\n",
       "      <td>o-neck</td>\n",
       "      <td>full sleeves</td>\n",
       "      <td>polyster</td>\n",
       "      <td>NaN</td>\n",
       "      <td>...</td>\n",
       "      <td>10.0</td>\n",
       "      <td>11.0</td>\n",
       "      <td>11</td>\n",
       "      <td>11</td>\n",
       "      <td>11</td>\n",
       "      <td>11</td>\n",
       "      <td>7.0</td>\n",
       "      <td>40.0</td>\n",
       "      <td>28.0</td>\n",
       "      <td>82.0</td>\n",
       "    </tr>\n",
       "    <tr>\n",
       "      <th>3</th>\n",
       "      <td>966005983</td>\n",
       "      <td>Brief</td>\n",
       "      <td>Average</td>\n",
       "      <td>4.6</td>\n",
       "      <td>Large</td>\n",
       "      <td>Spring</td>\n",
       "      <td>o-neck</td>\n",
       "      <td>full sleeves</td>\n",
       "      <td>silk</td>\n",
       "      <td>chiffon</td>\n",
       "      <td>...</td>\n",
       "      <td>1812.0</td>\n",
       "      <td>1845.0</td>\n",
       "      <td>1878</td>\n",
       "      <td>1914</td>\n",
       "      <td>1952</td>\n",
       "      <td>1963</td>\n",
       "      <td>1455.0</td>\n",
       "      <td>7213.0</td>\n",
       "      <td>5012.0</td>\n",
       "      <td>14411.0</td>\n",
       "    </tr>\n",
       "    <tr>\n",
       "      <th>4</th>\n",
       "      <td>876339541</td>\n",
       "      <td>cute</td>\n",
       "      <td>Low</td>\n",
       "      <td>4.5</td>\n",
       "      <td>Medium</td>\n",
       "      <td>Summer</td>\n",
       "      <td>o-neck</td>\n",
       "      <td>butterfly</td>\n",
       "      <td>chiffonfabric</td>\n",
       "      <td>chiffon</td>\n",
       "      <td>...</td>\n",
       "      <td>1824.0</td>\n",
       "      <td>1919.0</td>\n",
       "      <td>2032</td>\n",
       "      <td>2252</td>\n",
       "      <td>2544</td>\n",
       "      <td>2736</td>\n",
       "      <td>1396.0</td>\n",
       "      <td>7706.0</td>\n",
       "      <td>5678.0</td>\n",
       "      <td>14676.0</td>\n",
       "    </tr>\n",
       "  </tbody>\n",
       "</table>\n",
       "<p>5 rows × 34 columns</p>\n",
       "</div>"
      ],
      "text/plain": [
       "     Dress_ID    Style    Price  Rating    Size  Season NeckLine  \\\n",
       "0  1006032852     Sexy      Low     4.6  Medium  Summer   o-neck   \n",
       "1  1212192089   Casual      Low     0.0   Large  Summer   o-neck   \n",
       "2  1190380701  vintage     High     0.0   Large  Autumn   o-neck   \n",
       "3   966005983    Brief  Average     4.6   Large  Spring   o-neck   \n",
       "4   876339541     cute      Low     4.5  Medium  Summer   o-neck   \n",
       "\n",
       "   SleeveLength       Material FabricType  ... 20-09-2013 22-09-2013  \\\n",
       "0   sleeve less            NaN    chiffon  ...     3386.0     3479.0   \n",
       "1         Petal     microfiber        NaN  ...     2106.0     2454.0   \n",
       "2  full sleeves       polyster        NaN  ...       10.0       11.0   \n",
       "3  full sleeves           silk    chiffon  ...     1812.0     1845.0   \n",
       "4     butterfly  chiffonfabric    chiffon  ...     1824.0     1919.0   \n",
       "\n",
       "   24-09-2013  28-09-2013  10-06-2013  10-12-2013  Spring   Summer  Winter  \\\n",
       "0        3554        3706        3897        4048  2660.0  13899.0  9658.0   \n",
       "1        2710        3258        3911        4277   750.0   6216.0  6405.0   \n",
       "2          11          11          11          11     7.0     40.0    28.0   \n",
       "3        1878        1914        1952        1963  1455.0   7213.0  5012.0   \n",
       "4        2032        2252        2544        2736  1396.0   7706.0  5678.0   \n",
       "\n",
       "    Autumn  \n",
       "0  26857.0  \n",
       "1  17311.0  \n",
       "2     82.0  \n",
       "3  14411.0  \n",
       "4  14676.0  \n",
       "\n",
       "[5 rows x 34 columns]"
      ]
     },
     "execution_count": 55,
     "metadata": {},
     "output_type": "execute_result"
    }
   ],
   "source": [
    "# Merge inp0 with inp1 into inp0. this is also called left merge.\n",
    "inp2 = pd.merge(left=inp0,right=inp1, how='left', left_on='Dress_ID', right_on='Dress_ID')\n",
    "inp2.head()"
   ]
  },
  {
   "cell_type": "code",
   "execution_count": null,
   "metadata": {},
   "outputs": [],
   "source": [
    "# Now Drop the Date columns from inp0 as it is already combined into four seasons.\n",
    "inp2.dtypes"
   ]
  },
  {
   "cell_type": "code",
   "execution_count": 56,
   "metadata": {},
   "outputs": [],
   "source": [
    "inp2.drop(inp2.loc[:, '29-08-2013' : '10-12-2013'].columns, axis = 1, inplace = True )"
   ]
  },
  {
   "cell_type": "code",
   "execution_count": 57,
   "metadata": {},
   "outputs": [
    {
     "data": {
      "text/html": [
       "<div>\n",
       "<style scoped>\n",
       "    .dataframe tbody tr th:only-of-type {\n",
       "        vertical-align: middle;\n",
       "    }\n",
       "\n",
       "    .dataframe tbody tr th {\n",
       "        vertical-align: top;\n",
       "    }\n",
       "\n",
       "    .dataframe thead th {\n",
       "        text-align: right;\n",
       "    }\n",
       "</style>\n",
       "<table border=\"1\" class=\"dataframe\">\n",
       "  <thead>\n",
       "    <tr style=\"text-align: right;\">\n",
       "      <th></th>\n",
       "      <th>Dress_ID</th>\n",
       "      <th>Style</th>\n",
       "      <th>Price</th>\n",
       "      <th>Rating</th>\n",
       "      <th>Size</th>\n",
       "      <th>Season</th>\n",
       "      <th>NeckLine</th>\n",
       "      <th>SleeveLength</th>\n",
       "      <th>Material</th>\n",
       "      <th>FabricType</th>\n",
       "      <th>Decoration</th>\n",
       "      <th>Pattern Type</th>\n",
       "      <th>Recommendation</th>\n",
       "      <th>Spring</th>\n",
       "      <th>Summer</th>\n",
       "      <th>Winter</th>\n",
       "      <th>Autumn</th>\n",
       "    </tr>\n",
       "  </thead>\n",
       "  <tbody>\n",
       "    <tr>\n",
       "      <th>0</th>\n",
       "      <td>1006032852</td>\n",
       "      <td>Sexy</td>\n",
       "      <td>Low</td>\n",
       "      <td>4.6</td>\n",
       "      <td>Medium</td>\n",
       "      <td>Summer</td>\n",
       "      <td>o-neck</td>\n",
       "      <td>sleeve less</td>\n",
       "      <td>NaN</td>\n",
       "      <td>chiffon</td>\n",
       "      <td>ruffles</td>\n",
       "      <td>animal</td>\n",
       "      <td>1</td>\n",
       "      <td>2660.0</td>\n",
       "      <td>13899.0</td>\n",
       "      <td>9658.0</td>\n",
       "      <td>26857.0</td>\n",
       "    </tr>\n",
       "    <tr>\n",
       "      <th>1</th>\n",
       "      <td>1212192089</td>\n",
       "      <td>Casual</td>\n",
       "      <td>Low</td>\n",
       "      <td>0.0</td>\n",
       "      <td>Large</td>\n",
       "      <td>Summer</td>\n",
       "      <td>o-neck</td>\n",
       "      <td>Petal</td>\n",
       "      <td>microfiber</td>\n",
       "      <td>NaN</td>\n",
       "      <td>ruffles</td>\n",
       "      <td>animal</td>\n",
       "      <td>0</td>\n",
       "      <td>750.0</td>\n",
       "      <td>6216.0</td>\n",
       "      <td>6405.0</td>\n",
       "      <td>17311.0</td>\n",
       "    </tr>\n",
       "    <tr>\n",
       "      <th>2</th>\n",
       "      <td>1190380701</td>\n",
       "      <td>vintage</td>\n",
       "      <td>High</td>\n",
       "      <td>0.0</td>\n",
       "      <td>Large</td>\n",
       "      <td>Autumn</td>\n",
       "      <td>o-neck</td>\n",
       "      <td>full sleeves</td>\n",
       "      <td>polyster</td>\n",
       "      <td>NaN</td>\n",
       "      <td>NaN</td>\n",
       "      <td>print</td>\n",
       "      <td>0</td>\n",
       "      <td>7.0</td>\n",
       "      <td>40.0</td>\n",
       "      <td>28.0</td>\n",
       "      <td>82.0</td>\n",
       "    </tr>\n",
       "    <tr>\n",
       "      <th>3</th>\n",
       "      <td>966005983</td>\n",
       "      <td>Brief</td>\n",
       "      <td>Average</td>\n",
       "      <td>4.6</td>\n",
       "      <td>Large</td>\n",
       "      <td>Spring</td>\n",
       "      <td>o-neck</td>\n",
       "      <td>full sleeves</td>\n",
       "      <td>silk</td>\n",
       "      <td>chiffon</td>\n",
       "      <td>embroidary</td>\n",
       "      <td>print</td>\n",
       "      <td>1</td>\n",
       "      <td>1455.0</td>\n",
       "      <td>7213.0</td>\n",
       "      <td>5012.0</td>\n",
       "      <td>14411.0</td>\n",
       "    </tr>\n",
       "    <tr>\n",
       "      <th>4</th>\n",
       "      <td>876339541</td>\n",
       "      <td>cute</td>\n",
       "      <td>Low</td>\n",
       "      <td>4.5</td>\n",
       "      <td>Medium</td>\n",
       "      <td>Summer</td>\n",
       "      <td>o-neck</td>\n",
       "      <td>butterfly</td>\n",
       "      <td>chiffonfabric</td>\n",
       "      <td>chiffon</td>\n",
       "      <td>bow</td>\n",
       "      <td>dot</td>\n",
       "      <td>0</td>\n",
       "      <td>1396.0</td>\n",
       "      <td>7706.0</td>\n",
       "      <td>5678.0</td>\n",
       "      <td>14676.0</td>\n",
       "    </tr>\n",
       "  </tbody>\n",
       "</table>\n",
       "</div>"
      ],
      "text/plain": [
       "     Dress_ID    Style    Price  Rating    Size  Season NeckLine  \\\n",
       "0  1006032852     Sexy      Low     4.6  Medium  Summer   o-neck   \n",
       "1  1212192089   Casual      Low     0.0   Large  Summer   o-neck   \n",
       "2  1190380701  vintage     High     0.0   Large  Autumn   o-neck   \n",
       "3   966005983    Brief  Average     4.6   Large  Spring   o-neck   \n",
       "4   876339541     cute      Low     4.5  Medium  Summer   o-neck   \n",
       "\n",
       "   SleeveLength       Material FabricType  Decoration Pattern Type  \\\n",
       "0   sleeve less            NaN    chiffon     ruffles       animal   \n",
       "1         Petal     microfiber        NaN     ruffles       animal   \n",
       "2  full sleeves       polyster        NaN         NaN        print   \n",
       "3  full sleeves           silk    chiffon  embroidary        print   \n",
       "4     butterfly  chiffonfabric    chiffon         bow          dot   \n",
       "\n",
       "   Recommendation  Spring   Summer  Winter   Autumn  \n",
       "0               1  2660.0  13899.0  9658.0  26857.0  \n",
       "1               0   750.0   6216.0  6405.0  17311.0  \n",
       "2               0     7.0     40.0    28.0     82.0  \n",
       "3               1  1455.0   7213.0  5012.0  14411.0  \n",
       "4               0  1396.0   7706.0  5678.0  14676.0  "
      ]
     },
     "execution_count": 57,
     "metadata": {},
     "output_type": "execute_result"
    }
   ],
   "source": [
    "inp2.head()"
   ]
  },
  {
   "cell_type": "code",
   "execution_count": 58,
   "metadata": {},
   "outputs": [
    {
     "data": {
      "text/plain": [
       "Dress_ID            0\n",
       "Style               0\n",
       "Price               2\n",
       "Rating              0\n",
       "Size                0\n",
       "Season              2\n",
       "NeckLine            3\n",
       "SleeveLength        2\n",
       "Material          119\n",
       "FabricType        256\n",
       "Decoration        224\n",
       "Pattern Type      102\n",
       "Recommendation      0\n",
       "Spring              0\n",
       "Summer              0\n",
       "Winter              1\n",
       "Autumn              2\n",
       "dtype: int64"
      ]
     },
     "execution_count": 58,
     "metadata": {},
     "output_type": "execute_result"
    }
   ],
   "source": [
    "inp2.isnull().sum()"
   ]
  },
  {
   "cell_type": "code",
   "execution_count": 59,
   "metadata": {},
   "outputs": [],
   "source": [
    "inp2 = inp2[~inp2.Price.isnull()]\n",
    "\n",
    "inp2 = inp2[~inp2.Season.isnull()]\n",
    "\n",
    "inp2 = inp2[~inp2.NeckLine.isnull()]\n",
    "\n",
    "inp2 = inp2[~inp2.SleeveLength.isnull()]\n",
    "\n",
    "inp2 = inp2[~inp2.Winter.isnull()]\n",
    "\n",
    "inp2 = inp2[~inp2.Autumn.isnull()]"
   ]
  },
  {
   "cell_type": "code",
   "execution_count": 60,
   "metadata": {},
   "outputs": [
    {
     "data": {
      "text/plain": [
       "Dress_ID            0\n",
       "Style               0\n",
       "Price               0\n",
       "Rating              0\n",
       "Size                0\n",
       "Season              0\n",
       "NeckLine            0\n",
       "SleeveLength        0\n",
       "Material          116\n",
       "FabricType        250\n",
       "Decoration        220\n",
       "Pattern Type       98\n",
       "Recommendation      0\n",
       "Spring              0\n",
       "Summer              0\n",
       "Winter              0\n",
       "Autumn              0\n",
       "dtype: int64"
      ]
     },
     "execution_count": 60,
     "metadata": {},
     "output_type": "execute_result"
    }
   ],
   "source": [
    "inp2.isnull().sum()"
   ]
  },
  {
   "cell_type": "code",
   "execution_count": null,
   "metadata": {},
   "outputs": [],
   "source": []
  },
  {
   "cell_type": "code",
   "execution_count": 61,
   "metadata": {},
   "outputs": [
    {
     "data": {
      "text/html": [
       "<div>\n",
       "<style scoped>\n",
       "    .dataframe tbody tr th:only-of-type {\n",
       "        vertical-align: middle;\n",
       "    }\n",
       "\n",
       "    .dataframe tbody tr th {\n",
       "        vertical-align: top;\n",
       "    }\n",
       "\n",
       "    .dataframe thead th {\n",
       "        text-align: right;\n",
       "    }\n",
       "</style>\n",
       "<table border=\"1\" class=\"dataframe\">\n",
       "  <thead>\n",
       "    <tr style=\"text-align: right;\">\n",
       "      <th></th>\n",
       "      <th>Dress_ID</th>\n",
       "      <th>Style</th>\n",
       "      <th>Price</th>\n",
       "      <th>Rating</th>\n",
       "      <th>Size</th>\n",
       "      <th>Season</th>\n",
       "      <th>NeckLine</th>\n",
       "      <th>SleeveLength</th>\n",
       "      <th>Material</th>\n",
       "      <th>FabricType</th>\n",
       "      <th>Decoration</th>\n",
       "      <th>Pattern Type</th>\n",
       "      <th>Recommendation</th>\n",
       "      <th>Spring</th>\n",
       "      <th>Summer</th>\n",
       "      <th>Winter</th>\n",
       "      <th>Autumn</th>\n",
       "    </tr>\n",
       "  </thead>\n",
       "  <tbody>\n",
       "    <tr>\n",
       "      <th>0</th>\n",
       "      <td>1006032852</td>\n",
       "      <td>Sexy</td>\n",
       "      <td>Low</td>\n",
       "      <td>4.6</td>\n",
       "      <td>Medium</td>\n",
       "      <td>Summer</td>\n",
       "      <td>o-neck</td>\n",
       "      <td>sleeve less</td>\n",
       "      <td>NaN</td>\n",
       "      <td>chiffon</td>\n",
       "      <td>ruffles</td>\n",
       "      <td>animal</td>\n",
       "      <td>1</td>\n",
       "      <td>2660.0</td>\n",
       "      <td>13899.0</td>\n",
       "      <td>9658.0</td>\n",
       "      <td>26857.0</td>\n",
       "    </tr>\n",
       "    <tr>\n",
       "      <th>5</th>\n",
       "      <td>1068332458</td>\n",
       "      <td>bohemian</td>\n",
       "      <td>Low</td>\n",
       "      <td>0.0</td>\n",
       "      <td>Medium</td>\n",
       "      <td>Summer</td>\n",
       "      <td>v-neck</td>\n",
       "      <td>sleeve less</td>\n",
       "      <td>NaN</td>\n",
       "      <td>NaN</td>\n",
       "      <td>NaN</td>\n",
       "      <td>print</td>\n",
       "      <td>0</td>\n",
       "      <td>13.0</td>\n",
       "      <td>62.0</td>\n",
       "      <td>56.0</td>\n",
       "      <td>169.0</td>\n",
       "    </tr>\n",
       "    <tr>\n",
       "      <th>11</th>\n",
       "      <td>957723897</td>\n",
       "      <td>sexy</td>\n",
       "      <td>Low</td>\n",
       "      <td>4.7</td>\n",
       "      <td>Medium</td>\n",
       "      <td>Winter</td>\n",
       "      <td>o-neck</td>\n",
       "      <td>three quater</td>\n",
       "      <td>NaN</td>\n",
       "      <td>chiffon</td>\n",
       "      <td>lace</td>\n",
       "      <td>print</td>\n",
       "      <td>1</td>\n",
       "      <td>1568.0</td>\n",
       "      <td>8640.0</td>\n",
       "      <td>6356.0</td>\n",
       "      <td>17340.0</td>\n",
       "    </tr>\n",
       "    <tr>\n",
       "      <th>16</th>\n",
       "      <td>830467746</td>\n",
       "      <td>bohemian</td>\n",
       "      <td>Medium</td>\n",
       "      <td>5.0</td>\n",
       "      <td>Free</td>\n",
       "      <td>Autumn</td>\n",
       "      <td>o-neck</td>\n",
       "      <td>full sleeves</td>\n",
       "      <td>NaN</td>\n",
       "      <td>NaN</td>\n",
       "      <td>hollowout</td>\n",
       "      <td>patchwork</td>\n",
       "      <td>1</td>\n",
       "      <td>17.0</td>\n",
       "      <td>76.0</td>\n",
       "      <td>53.0</td>\n",
       "      <td>141.0</td>\n",
       "    </tr>\n",
       "    <tr>\n",
       "      <th>20</th>\n",
       "      <td>856178100</td>\n",
       "      <td>Casual</td>\n",
       "      <td>Low</td>\n",
       "      <td>4.3</td>\n",
       "      <td>Medium</td>\n",
       "      <td>Summer</td>\n",
       "      <td>o-neck</td>\n",
       "      <td>sleeve less</td>\n",
       "      <td>NaN</td>\n",
       "      <td>chiffon</td>\n",
       "      <td>NaN</td>\n",
       "      <td>solid</td>\n",
       "      <td>0</td>\n",
       "      <td>1109.0</td>\n",
       "      <td>5802.0</td>\n",
       "      <td>4066.0</td>\n",
       "      <td>10826.0</td>\n",
       "    </tr>\n",
       "    <tr>\n",
       "      <th>...</th>\n",
       "      <td>...</td>\n",
       "      <td>...</td>\n",
       "      <td>...</td>\n",
       "      <td>...</td>\n",
       "      <td>...</td>\n",
       "      <td>...</td>\n",
       "      <td>...</td>\n",
       "      <td>...</td>\n",
       "      <td>...</td>\n",
       "      <td>...</td>\n",
       "      <td>...</td>\n",
       "      <td>...</td>\n",
       "      <td>...</td>\n",
       "      <td>...</td>\n",
       "      <td>...</td>\n",
       "      <td>...</td>\n",
       "      <td>...</td>\n",
       "    </tr>\n",
       "    <tr>\n",
       "      <th>446</th>\n",
       "      <td>933413410</td>\n",
       "      <td>Casual</td>\n",
       "      <td>Average</td>\n",
       "      <td>4.8</td>\n",
       "      <td>Medium</td>\n",
       "      <td>Summer</td>\n",
       "      <td>o-neck</td>\n",
       "      <td>half sleeves</td>\n",
       "      <td>NaN</td>\n",
       "      <td>NaN</td>\n",
       "      <td>NaN</td>\n",
       "      <td>NaN</td>\n",
       "      <td>0</td>\n",
       "      <td>174.0</td>\n",
       "      <td>562.0</td>\n",
       "      <td>394.0</td>\n",
       "      <td>1562.0</td>\n",
       "    </tr>\n",
       "    <tr>\n",
       "      <th>450</th>\n",
       "      <td>1124754999</td>\n",
       "      <td>Sexy</td>\n",
       "      <td>Average</td>\n",
       "      <td>0.0</td>\n",
       "      <td>Small</td>\n",
       "      <td>Summer</td>\n",
       "      <td>v-neck</td>\n",
       "      <td>sleeve less</td>\n",
       "      <td>NaN</td>\n",
       "      <td>NaN</td>\n",
       "      <td>NaN</td>\n",
       "      <td>NaN</td>\n",
       "      <td>1</td>\n",
       "      <td>1.0</td>\n",
       "      <td>3.0</td>\n",
       "      <td>2.0</td>\n",
       "      <td>7.0</td>\n",
       "    </tr>\n",
       "    <tr>\n",
       "      <th>451</th>\n",
       "      <td>832949213</td>\n",
       "      <td>Casual</td>\n",
       "      <td>Low</td>\n",
       "      <td>4.4</td>\n",
       "      <td>Free</td>\n",
       "      <td>Summer</td>\n",
       "      <td>o-neck</td>\n",
       "      <td>sleeve less</td>\n",
       "      <td>NaN</td>\n",
       "      <td>NaN</td>\n",
       "      <td>NaN</td>\n",
       "      <td>animal</td>\n",
       "      <td>0</td>\n",
       "      <td>62.0</td>\n",
       "      <td>206.0</td>\n",
       "      <td>142.0</td>\n",
       "      <td>551.0</td>\n",
       "    </tr>\n",
       "    <tr>\n",
       "      <th>453</th>\n",
       "      <td>929898500</td>\n",
       "      <td>work</td>\n",
       "      <td>Average</td>\n",
       "      <td>4.8</td>\n",
       "      <td>Medium</td>\n",
       "      <td>Winter</td>\n",
       "      <td>turndowncollor</td>\n",
       "      <td>full sleeves</td>\n",
       "      <td>NaN</td>\n",
       "      <td>NaN</td>\n",
       "      <td>NaN</td>\n",
       "      <td>solid</td>\n",
       "      <td>0</td>\n",
       "      <td>110.0</td>\n",
       "      <td>554.0</td>\n",
       "      <td>502.0</td>\n",
       "      <td>1403.0</td>\n",
       "    </tr>\n",
       "    <tr>\n",
       "      <th>465</th>\n",
       "      <td>974775647</td>\n",
       "      <td>Casual</td>\n",
       "      <td>Low</td>\n",
       "      <td>5.0</td>\n",
       "      <td>Medium</td>\n",
       "      <td>Autumn</td>\n",
       "      <td>o-neck</td>\n",
       "      <td>sleeve less</td>\n",
       "      <td>NaN</td>\n",
       "      <td>chiffon</td>\n",
       "      <td>NaN</td>\n",
       "      <td>print</td>\n",
       "      <td>1</td>\n",
       "      <td>32.0</td>\n",
       "      <td>173.0</td>\n",
       "      <td>169.0</td>\n",
       "      <td>518.0</td>\n",
       "    </tr>\n",
       "  </tbody>\n",
       "</table>\n",
       "<p>116 rows × 17 columns</p>\n",
       "</div>"
      ],
      "text/plain": [
       "       Dress_ID     Style    Price  Rating    Size  Season        NeckLine  \\\n",
       "0    1006032852      Sexy      Low     4.6  Medium  Summer          o-neck   \n",
       "5    1068332458  bohemian      Low     0.0  Medium  Summer          v-neck   \n",
       "11    957723897      sexy      Low     4.7  Medium  Winter          o-neck   \n",
       "16    830467746  bohemian   Medium     5.0    Free  Autumn          o-neck   \n",
       "20    856178100    Casual      Low     4.3  Medium  Summer          o-neck   \n",
       "..          ...       ...      ...     ...     ...     ...             ...   \n",
       "446   933413410    Casual  Average     4.8  Medium  Summer          o-neck   \n",
       "450  1124754999      Sexy  Average     0.0   Small  Summer          v-neck   \n",
       "451   832949213    Casual      Low     4.4    Free  Summer          o-neck   \n",
       "453   929898500      work  Average     4.8  Medium  Winter  turndowncollor   \n",
       "465   974775647    Casual      Low     5.0  Medium  Autumn          o-neck   \n",
       "\n",
       "     SleeveLength Material FabricType Decoration Pattern Type  Recommendation  \\\n",
       "0     sleeve less      NaN    chiffon    ruffles       animal               1   \n",
       "5     sleeve less      NaN        NaN        NaN        print               0   \n",
       "11   three quater      NaN    chiffon       lace        print               1   \n",
       "16   full sleeves      NaN        NaN  hollowout    patchwork               1   \n",
       "20    sleeve less      NaN    chiffon        NaN        solid               0   \n",
       "..            ...      ...        ...        ...          ...             ...   \n",
       "446  half sleeves      NaN        NaN        NaN          NaN               0   \n",
       "450   sleeve less      NaN        NaN        NaN          NaN               1   \n",
       "451   sleeve less      NaN        NaN        NaN       animal               0   \n",
       "453  full sleeves      NaN        NaN        NaN        solid               0   \n",
       "465   sleeve less      NaN    chiffon        NaN        print               1   \n",
       "\n",
       "     Spring   Summer  Winter   Autumn  \n",
       "0    2660.0  13899.0  9658.0  26857.0  \n",
       "5      13.0     62.0    56.0    169.0  \n",
       "11   1568.0   8640.0  6356.0  17340.0  \n",
       "16     17.0     76.0    53.0    141.0  \n",
       "20   1109.0   5802.0  4066.0  10826.0  \n",
       "..      ...      ...     ...      ...  \n",
       "446   174.0    562.0   394.0   1562.0  \n",
       "450     1.0      3.0     2.0      7.0  \n",
       "451    62.0    206.0   142.0    551.0  \n",
       "453   110.0    554.0   502.0   1403.0  \n",
       "465    32.0    173.0   169.0    518.0  \n",
       "\n",
       "[116 rows x 17 columns]"
      ]
     },
     "execution_count": 61,
     "metadata": {},
     "output_type": "execute_result"
    }
   ],
   "source": [
    "inp2[inp2.Material.isnull() == True]"
   ]
  },
  {
   "cell_type": "code",
   "execution_count": 62,
   "metadata": {},
   "outputs": [
    {
     "data": {
      "text/html": [
       "<div>\n",
       "<style scoped>\n",
       "    .dataframe tbody tr th:only-of-type {\n",
       "        vertical-align: middle;\n",
       "    }\n",
       "\n",
       "    .dataframe tbody tr th {\n",
       "        vertical-align: top;\n",
       "    }\n",
       "\n",
       "    .dataframe thead th {\n",
       "        text-align: right;\n",
       "    }\n",
       "</style>\n",
       "<table border=\"1\" class=\"dataframe\">\n",
       "  <thead>\n",
       "    <tr style=\"text-align: right;\">\n",
       "      <th></th>\n",
       "      <th>Dress_ID</th>\n",
       "      <th>Style</th>\n",
       "      <th>Price</th>\n",
       "      <th>Rating</th>\n",
       "      <th>Size</th>\n",
       "      <th>Season</th>\n",
       "      <th>NeckLine</th>\n",
       "      <th>SleeveLength</th>\n",
       "      <th>Material</th>\n",
       "      <th>FabricType</th>\n",
       "      <th>Decoration</th>\n",
       "      <th>Pattern Type</th>\n",
       "      <th>Recommendation</th>\n",
       "      <th>Spring</th>\n",
       "      <th>Summer</th>\n",
       "      <th>Winter</th>\n",
       "      <th>Autumn</th>\n",
       "    </tr>\n",
       "  </thead>\n",
       "  <tbody>\n",
       "    <tr>\n",
       "      <th>1</th>\n",
       "      <td>1212192089</td>\n",
       "      <td>Casual</td>\n",
       "      <td>Low</td>\n",
       "      <td>0.0</td>\n",
       "      <td>Large</td>\n",
       "      <td>Summer</td>\n",
       "      <td>o-neck</td>\n",
       "      <td>Petal</td>\n",
       "      <td>microfiber</td>\n",
       "      <td>NaN</td>\n",
       "      <td>ruffles</td>\n",
       "      <td>animal</td>\n",
       "      <td>0</td>\n",
       "      <td>750.0</td>\n",
       "      <td>6216.0</td>\n",
       "      <td>6405.0</td>\n",
       "      <td>17311.0</td>\n",
       "    </tr>\n",
       "    <tr>\n",
       "      <th>2</th>\n",
       "      <td>1190380701</td>\n",
       "      <td>vintage</td>\n",
       "      <td>High</td>\n",
       "      <td>0.0</td>\n",
       "      <td>Large</td>\n",
       "      <td>Autumn</td>\n",
       "      <td>o-neck</td>\n",
       "      <td>full sleeves</td>\n",
       "      <td>polyster</td>\n",
       "      <td>NaN</td>\n",
       "      <td>NaN</td>\n",
       "      <td>print</td>\n",
       "      <td>0</td>\n",
       "      <td>7.0</td>\n",
       "      <td>40.0</td>\n",
       "      <td>28.0</td>\n",
       "      <td>82.0</td>\n",
       "    </tr>\n",
       "    <tr>\n",
       "      <th>5</th>\n",
       "      <td>1068332458</td>\n",
       "      <td>bohemian</td>\n",
       "      <td>Low</td>\n",
       "      <td>0.0</td>\n",
       "      <td>Medium</td>\n",
       "      <td>Summer</td>\n",
       "      <td>v-neck</td>\n",
       "      <td>sleeve less</td>\n",
       "      <td>NaN</td>\n",
       "      <td>NaN</td>\n",
       "      <td>NaN</td>\n",
       "      <td>print</td>\n",
       "      <td>0</td>\n",
       "      <td>13.0</td>\n",
       "      <td>62.0</td>\n",
       "      <td>56.0</td>\n",
       "      <td>169.0</td>\n",
       "    </tr>\n",
       "    <tr>\n",
       "      <th>6</th>\n",
       "      <td>1220707172</td>\n",
       "      <td>Casual</td>\n",
       "      <td>Average</td>\n",
       "      <td>0.0</td>\n",
       "      <td>Extra large</td>\n",
       "      <td>Summer</td>\n",
       "      <td>o-neck</td>\n",
       "      <td>full sleeves</td>\n",
       "      <td>cotton</td>\n",
       "      <td>NaN</td>\n",
       "      <td>NaN</td>\n",
       "      <td>solid</td>\n",
       "      <td>0</td>\n",
       "      <td>165.0</td>\n",
       "      <td>965.0</td>\n",
       "      <td>934.0</td>\n",
       "      <td>2536.0</td>\n",
       "    </tr>\n",
       "    <tr>\n",
       "      <th>10</th>\n",
       "      <td>898481530</td>\n",
       "      <td>Flare</td>\n",
       "      <td>Average</td>\n",
       "      <td>0.0</td>\n",
       "      <td>Free</td>\n",
       "      <td>Spring</td>\n",
       "      <td>v-neck</td>\n",
       "      <td>short</td>\n",
       "      <td>nylon</td>\n",
       "      <td>NaN</td>\n",
       "      <td>NaN</td>\n",
       "      <td>animal</td>\n",
       "      <td>0</td>\n",
       "      <td>59.0</td>\n",
       "      <td>383.0</td>\n",
       "      <td>346.0</td>\n",
       "      <td>980.0</td>\n",
       "    </tr>\n",
       "    <tr>\n",
       "      <th>...</th>\n",
       "      <td>...</td>\n",
       "      <td>...</td>\n",
       "      <td>...</td>\n",
       "      <td>...</td>\n",
       "      <td>...</td>\n",
       "      <td>...</td>\n",
       "      <td>...</td>\n",
       "      <td>...</td>\n",
       "      <td>...</td>\n",
       "      <td>...</td>\n",
       "      <td>...</td>\n",
       "      <td>...</td>\n",
       "      <td>...</td>\n",
       "      <td>...</td>\n",
       "      <td>...</td>\n",
       "      <td>...</td>\n",
       "      <td>...</td>\n",
       "    </tr>\n",
       "    <tr>\n",
       "      <th>464</th>\n",
       "      <td>692445545</td>\n",
       "      <td>Casual</td>\n",
       "      <td>Low</td>\n",
       "      <td>4.4</td>\n",
       "      <td>Free</td>\n",
       "      <td>Summer</td>\n",
       "      <td>o-neck</td>\n",
       "      <td>full sleeves</td>\n",
       "      <td>cotton</td>\n",
       "      <td>NaN</td>\n",
       "      <td>NaN</td>\n",
       "      <td>solid</td>\n",
       "      <td>1</td>\n",
       "      <td>329.0</td>\n",
       "      <td>870.0</td>\n",
       "      <td>529.0</td>\n",
       "      <td>2141.0</td>\n",
       "    </tr>\n",
       "    <tr>\n",
       "      <th>469</th>\n",
       "      <td>1190558632</td>\n",
       "      <td>cute</td>\n",
       "      <td>Average</td>\n",
       "      <td>0.0</td>\n",
       "      <td>Large</td>\n",
       "      <td>Summer</td>\n",
       "      <td>o-neck</td>\n",
       "      <td>sleeve less</td>\n",
       "      <td>cotton</td>\n",
       "      <td>NaN</td>\n",
       "      <td>lace</td>\n",
       "      <td>solid</td>\n",
       "      <td>1</td>\n",
       "      <td>1.0</td>\n",
       "      <td>3.0</td>\n",
       "      <td>3.0</td>\n",
       "      <td>8.0</td>\n",
       "    </tr>\n",
       "    <tr>\n",
       "      <th>471</th>\n",
       "      <td>964917582</td>\n",
       "      <td>Casual</td>\n",
       "      <td>Average</td>\n",
       "      <td>5.0</td>\n",
       "      <td>Large</td>\n",
       "      <td>Summer</td>\n",
       "      <td>o-neck</td>\n",
       "      <td>sleeve less</td>\n",
       "      <td>cotton</td>\n",
       "      <td>NaN</td>\n",
       "      <td>NaN</td>\n",
       "      <td>NaN</td>\n",
       "      <td>1</td>\n",
       "      <td>23.0</td>\n",
       "      <td>150.0</td>\n",
       "      <td>150.0</td>\n",
       "      <td>458.0</td>\n",
       "    </tr>\n",
       "    <tr>\n",
       "      <th>475</th>\n",
       "      <td>713391965</td>\n",
       "      <td>Casual</td>\n",
       "      <td>Low</td>\n",
       "      <td>4.7</td>\n",
       "      <td>Medium</td>\n",
       "      <td>Spring</td>\n",
       "      <td>o-neck</td>\n",
       "      <td>full sleeves</td>\n",
       "      <td>polyster</td>\n",
       "      <td>NaN</td>\n",
       "      <td>NaN</td>\n",
       "      <td>solid</td>\n",
       "      <td>1</td>\n",
       "      <td>560.0</td>\n",
       "      <td>1478.0</td>\n",
       "      <td>810.0</td>\n",
       "      <td>3800.0</td>\n",
       "    </tr>\n",
       "    <tr>\n",
       "      <th>476</th>\n",
       "      <td>532874347</td>\n",
       "      <td>Casual</td>\n",
       "      <td>Average</td>\n",
       "      <td>4.7</td>\n",
       "      <td>Medium</td>\n",
       "      <td>Summer</td>\n",
       "      <td>v-neck</td>\n",
       "      <td>full sleeves</td>\n",
       "      <td>cotton</td>\n",
       "      <td>NaN</td>\n",
       "      <td>lace</td>\n",
       "      <td>solid</td>\n",
       "      <td>1</td>\n",
       "      <td>734.0</td>\n",
       "      <td>2005.0</td>\n",
       "      <td>1214.0</td>\n",
       "      <td>5290.0</td>\n",
       "    </tr>\n",
       "  </tbody>\n",
       "</table>\n",
       "<p>250 rows × 17 columns</p>\n",
       "</div>"
      ],
      "text/plain": [
       "       Dress_ID     Style    Price  Rating         Size  Season NeckLine  \\\n",
       "1    1212192089    Casual      Low     0.0        Large  Summer   o-neck   \n",
       "2    1190380701   vintage     High     0.0        Large  Autumn   o-neck   \n",
       "5    1068332458  bohemian      Low     0.0       Medium  Summer   v-neck   \n",
       "6    1220707172    Casual  Average     0.0  Extra large  Summer   o-neck   \n",
       "10    898481530     Flare  Average     0.0         Free  Spring   v-neck   \n",
       "..          ...       ...      ...     ...          ...     ...      ...   \n",
       "464   692445545    Casual      Low     4.4         Free  Summer   o-neck   \n",
       "469  1190558632      cute  Average     0.0        Large  Summer   o-neck   \n",
       "471   964917582    Casual  Average     5.0        Large  Summer   o-neck   \n",
       "475   713391965    Casual      Low     4.7       Medium  Spring   o-neck   \n",
       "476   532874347    Casual  Average     4.7       Medium  Summer   v-neck   \n",
       "\n",
       "     SleeveLength    Material FabricType Decoration Pattern Type  \\\n",
       "1           Petal  microfiber        NaN    ruffles       animal   \n",
       "2    full sleeves    polyster        NaN        NaN        print   \n",
       "5     sleeve less         NaN        NaN        NaN        print   \n",
       "6    full sleeves      cotton        NaN        NaN        solid   \n",
       "10          short       nylon        NaN        NaN       animal   \n",
       "..            ...         ...        ...        ...          ...   \n",
       "464  full sleeves      cotton        NaN        NaN        solid   \n",
       "469   sleeve less      cotton        NaN       lace        solid   \n",
       "471   sleeve less      cotton        NaN        NaN          NaN   \n",
       "475  full sleeves    polyster        NaN        NaN        solid   \n",
       "476  full sleeves      cotton        NaN       lace        solid   \n",
       "\n",
       "     Recommendation  Spring  Summer  Winter   Autumn  \n",
       "1                 0   750.0  6216.0  6405.0  17311.0  \n",
       "2                 0     7.0    40.0    28.0     82.0  \n",
       "5                 0    13.0    62.0    56.0    169.0  \n",
       "6                 0   165.0   965.0   934.0   2536.0  \n",
       "10                0    59.0   383.0   346.0    980.0  \n",
       "..              ...     ...     ...     ...      ...  \n",
       "464               1   329.0   870.0   529.0   2141.0  \n",
       "469               1     1.0     3.0     3.0      8.0  \n",
       "471               1    23.0   150.0   150.0    458.0  \n",
       "475               1   560.0  1478.0   810.0   3800.0  \n",
       "476               1   734.0  2005.0  1214.0   5290.0  \n",
       "\n",
       "[250 rows x 17 columns]"
      ]
     },
     "execution_count": 62,
     "metadata": {},
     "output_type": "execute_result"
    }
   ],
   "source": [
    "inp2[inp2.FabricType.isnull() == True]"
   ]
  },
  {
   "cell_type": "code",
   "execution_count": 63,
   "metadata": {},
   "outputs": [
    {
     "data": {
      "text/html": [
       "<div>\n",
       "<style scoped>\n",
       "    .dataframe tbody tr th:only-of-type {\n",
       "        vertical-align: middle;\n",
       "    }\n",
       "\n",
       "    .dataframe tbody tr th {\n",
       "        vertical-align: top;\n",
       "    }\n",
       "\n",
       "    .dataframe thead th {\n",
       "        text-align: right;\n",
       "    }\n",
       "</style>\n",
       "<table border=\"1\" class=\"dataframe\">\n",
       "  <thead>\n",
       "    <tr style=\"text-align: right;\">\n",
       "      <th></th>\n",
       "      <th>Dress_ID</th>\n",
       "      <th>Style</th>\n",
       "      <th>Price</th>\n",
       "      <th>Rating</th>\n",
       "      <th>Size</th>\n",
       "      <th>Season</th>\n",
       "      <th>NeckLine</th>\n",
       "      <th>SleeveLength</th>\n",
       "      <th>Material</th>\n",
       "      <th>FabricType</th>\n",
       "      <th>Decoration</th>\n",
       "      <th>Pattern Type</th>\n",
       "      <th>Recommendation</th>\n",
       "      <th>Spring</th>\n",
       "      <th>Summer</th>\n",
       "      <th>Winter</th>\n",
       "      <th>Autumn</th>\n",
       "    </tr>\n",
       "  </thead>\n",
       "  <tbody>\n",
       "    <tr>\n",
       "      <th>2</th>\n",
       "      <td>1190380701</td>\n",
       "      <td>vintage</td>\n",
       "      <td>High</td>\n",
       "      <td>0.0</td>\n",
       "      <td>Large</td>\n",
       "      <td>Autumn</td>\n",
       "      <td>o-neck</td>\n",
       "      <td>full sleeves</td>\n",
       "      <td>polyster</td>\n",
       "      <td>NaN</td>\n",
       "      <td>NaN</td>\n",
       "      <td>print</td>\n",
       "      <td>0</td>\n",
       "      <td>7.0</td>\n",
       "      <td>40.0</td>\n",
       "      <td>28.0</td>\n",
       "      <td>82.0</td>\n",
       "    </tr>\n",
       "    <tr>\n",
       "      <th>5</th>\n",
       "      <td>1068332458</td>\n",
       "      <td>bohemian</td>\n",
       "      <td>Low</td>\n",
       "      <td>0.0</td>\n",
       "      <td>Medium</td>\n",
       "      <td>Summer</td>\n",
       "      <td>v-neck</td>\n",
       "      <td>sleeve less</td>\n",
       "      <td>NaN</td>\n",
       "      <td>NaN</td>\n",
       "      <td>NaN</td>\n",
       "      <td>print</td>\n",
       "      <td>0</td>\n",
       "      <td>13.0</td>\n",
       "      <td>62.0</td>\n",
       "      <td>56.0</td>\n",
       "      <td>169.0</td>\n",
       "    </tr>\n",
       "    <tr>\n",
       "      <th>6</th>\n",
       "      <td>1220707172</td>\n",
       "      <td>Casual</td>\n",
       "      <td>Average</td>\n",
       "      <td>0.0</td>\n",
       "      <td>Extra large</td>\n",
       "      <td>Summer</td>\n",
       "      <td>o-neck</td>\n",
       "      <td>full sleeves</td>\n",
       "      <td>cotton</td>\n",
       "      <td>NaN</td>\n",
       "      <td>NaN</td>\n",
       "      <td>solid</td>\n",
       "      <td>0</td>\n",
       "      <td>165.0</td>\n",
       "      <td>965.0</td>\n",
       "      <td>934.0</td>\n",
       "      <td>2536.0</td>\n",
       "    </tr>\n",
       "    <tr>\n",
       "      <th>8</th>\n",
       "      <td>985292672</td>\n",
       "      <td>bohemian</td>\n",
       "      <td>Low</td>\n",
       "      <td>0.0</td>\n",
       "      <td>Free</td>\n",
       "      <td>Summer</td>\n",
       "      <td>v-neck</td>\n",
       "      <td>sleeve less</td>\n",
       "      <td>nylon</td>\n",
       "      <td>chiffon</td>\n",
       "      <td>NaN</td>\n",
       "      <td>NaN</td>\n",
       "      <td>1</td>\n",
       "      <td>12.0</td>\n",
       "      <td>58.0</td>\n",
       "      <td>39.0</td>\n",
       "      <td>107.0</td>\n",
       "    </tr>\n",
       "    <tr>\n",
       "      <th>10</th>\n",
       "      <td>898481530</td>\n",
       "      <td>Flare</td>\n",
       "      <td>Average</td>\n",
       "      <td>0.0</td>\n",
       "      <td>Free</td>\n",
       "      <td>Spring</td>\n",
       "      <td>v-neck</td>\n",
       "      <td>short</td>\n",
       "      <td>nylon</td>\n",
       "      <td>NaN</td>\n",
       "      <td>NaN</td>\n",
       "      <td>animal</td>\n",
       "      <td>0</td>\n",
       "      <td>59.0</td>\n",
       "      <td>383.0</td>\n",
       "      <td>346.0</td>\n",
       "      <td>980.0</td>\n",
       "    </tr>\n",
       "    <tr>\n",
       "      <th>...</th>\n",
       "      <td>...</td>\n",
       "      <td>...</td>\n",
       "      <td>...</td>\n",
       "      <td>...</td>\n",
       "      <td>...</td>\n",
       "      <td>...</td>\n",
       "      <td>...</td>\n",
       "      <td>...</td>\n",
       "      <td>...</td>\n",
       "      <td>...</td>\n",
       "      <td>...</td>\n",
       "      <td>...</td>\n",
       "      <td>...</td>\n",
       "      <td>...</td>\n",
       "      <td>...</td>\n",
       "      <td>...</td>\n",
       "      <td>...</td>\n",
       "    </tr>\n",
       "    <tr>\n",
       "      <th>465</th>\n",
       "      <td>974775647</td>\n",
       "      <td>Casual</td>\n",
       "      <td>Low</td>\n",
       "      <td>5.0</td>\n",
       "      <td>Medium</td>\n",
       "      <td>Autumn</td>\n",
       "      <td>o-neck</td>\n",
       "      <td>sleeve less</td>\n",
       "      <td>NaN</td>\n",
       "      <td>chiffon</td>\n",
       "      <td>NaN</td>\n",
       "      <td>print</td>\n",
       "      <td>1</td>\n",
       "      <td>32.0</td>\n",
       "      <td>173.0</td>\n",
       "      <td>169.0</td>\n",
       "      <td>518.0</td>\n",
       "    </tr>\n",
       "    <tr>\n",
       "      <th>471</th>\n",
       "      <td>964917582</td>\n",
       "      <td>Casual</td>\n",
       "      <td>Average</td>\n",
       "      <td>5.0</td>\n",
       "      <td>Large</td>\n",
       "      <td>Summer</td>\n",
       "      <td>o-neck</td>\n",
       "      <td>sleeve less</td>\n",
       "      <td>cotton</td>\n",
       "      <td>NaN</td>\n",
       "      <td>NaN</td>\n",
       "      <td>NaN</td>\n",
       "      <td>1</td>\n",
       "      <td>23.0</td>\n",
       "      <td>150.0</td>\n",
       "      <td>150.0</td>\n",
       "      <td>458.0</td>\n",
       "    </tr>\n",
       "    <tr>\n",
       "      <th>472</th>\n",
       "      <td>859922576</td>\n",
       "      <td>cute</td>\n",
       "      <td>Average</td>\n",
       "      <td>4.6</td>\n",
       "      <td>Medium</td>\n",
       "      <td>Spring</td>\n",
       "      <td>o-neck</td>\n",
       "      <td>half sleeves</td>\n",
       "      <td>acrylic</td>\n",
       "      <td>chiffon</td>\n",
       "      <td>NaN</td>\n",
       "      <td>NaN</td>\n",
       "      <td>0</td>\n",
       "      <td>433.0</td>\n",
       "      <td>1426.0</td>\n",
       "      <td>1020.0</td>\n",
       "      <td>3919.0</td>\n",
       "    </tr>\n",
       "    <tr>\n",
       "      <th>474</th>\n",
       "      <td>990559192</td>\n",
       "      <td>Brief</td>\n",
       "      <td>Average</td>\n",
       "      <td>4.7</td>\n",
       "      <td>Medium</td>\n",
       "      <td>Winter</td>\n",
       "      <td>o-neck</td>\n",
       "      <td>half sleeves</td>\n",
       "      <td>acrylic</td>\n",
       "      <td>chiffon</td>\n",
       "      <td>NaN</td>\n",
       "      <td>striped</td>\n",
       "      <td>0</td>\n",
       "      <td>60.0</td>\n",
       "      <td>203.0</td>\n",
       "      <td>144.0</td>\n",
       "      <td>565.0</td>\n",
       "    </tr>\n",
       "    <tr>\n",
       "      <th>475</th>\n",
       "      <td>713391965</td>\n",
       "      <td>Casual</td>\n",
       "      <td>Low</td>\n",
       "      <td>4.7</td>\n",
       "      <td>Medium</td>\n",
       "      <td>Spring</td>\n",
       "      <td>o-neck</td>\n",
       "      <td>full sleeves</td>\n",
       "      <td>polyster</td>\n",
       "      <td>NaN</td>\n",
       "      <td>NaN</td>\n",
       "      <td>solid</td>\n",
       "      <td>1</td>\n",
       "      <td>560.0</td>\n",
       "      <td>1478.0</td>\n",
       "      <td>810.0</td>\n",
       "      <td>3800.0</td>\n",
       "    </tr>\n",
       "  </tbody>\n",
       "</table>\n",
       "<p>220 rows × 17 columns</p>\n",
       "</div>"
      ],
      "text/plain": [
       "       Dress_ID     Style    Price  Rating         Size  Season NeckLine  \\\n",
       "2    1190380701   vintage     High     0.0        Large  Autumn   o-neck   \n",
       "5    1068332458  bohemian      Low     0.0       Medium  Summer   v-neck   \n",
       "6    1220707172    Casual  Average     0.0  Extra large  Summer   o-neck   \n",
       "8     985292672  bohemian      Low     0.0         Free  Summer   v-neck   \n",
       "10    898481530     Flare  Average     0.0         Free  Spring   v-neck   \n",
       "..          ...       ...      ...     ...          ...     ...      ...   \n",
       "465   974775647    Casual      Low     5.0       Medium  Autumn   o-neck   \n",
       "471   964917582    Casual  Average     5.0        Large  Summer   o-neck   \n",
       "472   859922576      cute  Average     4.6       Medium  Spring   o-neck   \n",
       "474   990559192     Brief  Average     4.7       Medium  Winter   o-neck   \n",
       "475   713391965    Casual      Low     4.7       Medium  Spring   o-neck   \n",
       "\n",
       "     SleeveLength  Material FabricType Decoration Pattern Type  \\\n",
       "2    full sleeves  polyster        NaN        NaN        print   \n",
       "5     sleeve less       NaN        NaN        NaN        print   \n",
       "6    full sleeves    cotton        NaN        NaN        solid   \n",
       "8     sleeve less     nylon    chiffon        NaN          NaN   \n",
       "10          short     nylon        NaN        NaN       animal   \n",
       "..            ...       ...        ...        ...          ...   \n",
       "465   sleeve less       NaN    chiffon        NaN        print   \n",
       "471   sleeve less    cotton        NaN        NaN          NaN   \n",
       "472  half sleeves   acrylic    chiffon        NaN          NaN   \n",
       "474  half sleeves   acrylic    chiffon        NaN      striped   \n",
       "475  full sleeves  polyster        NaN        NaN        solid   \n",
       "\n",
       "     Recommendation  Spring  Summer  Winter  Autumn  \n",
       "2                 0     7.0    40.0    28.0    82.0  \n",
       "5                 0    13.0    62.0    56.0   169.0  \n",
       "6                 0   165.0   965.0   934.0  2536.0  \n",
       "8                 1    12.0    58.0    39.0   107.0  \n",
       "10                0    59.0   383.0   346.0   980.0  \n",
       "..              ...     ...     ...     ...     ...  \n",
       "465               1    32.0   173.0   169.0   518.0  \n",
       "471               1    23.0   150.0   150.0   458.0  \n",
       "472               0   433.0  1426.0  1020.0  3919.0  \n",
       "474               0    60.0   203.0   144.0   565.0  \n",
       "475               1   560.0  1478.0   810.0  3800.0  \n",
       "\n",
       "[220 rows x 17 columns]"
      ]
     },
     "execution_count": 63,
     "metadata": {},
     "output_type": "execute_result"
    }
   ],
   "source": [
    "inp2[inp2.Decoration.isnull() == True]"
   ]
  },
  {
   "cell_type": "code",
   "execution_count": 64,
   "metadata": {},
   "outputs": [
    {
     "data": {
      "text/html": [
       "<div>\n",
       "<style scoped>\n",
       "    .dataframe tbody tr th:only-of-type {\n",
       "        vertical-align: middle;\n",
       "    }\n",
       "\n",
       "    .dataframe tbody tr th {\n",
       "        vertical-align: top;\n",
       "    }\n",
       "\n",
       "    .dataframe thead th {\n",
       "        text-align: right;\n",
       "    }\n",
       "</style>\n",
       "<table border=\"1\" class=\"dataframe\">\n",
       "  <thead>\n",
       "    <tr style=\"text-align: right;\">\n",
       "      <th></th>\n",
       "      <th>Dress_ID</th>\n",
       "      <th>Style</th>\n",
       "      <th>Price</th>\n",
       "      <th>Rating</th>\n",
       "      <th>Size</th>\n",
       "      <th>Season</th>\n",
       "      <th>NeckLine</th>\n",
       "      <th>SleeveLength</th>\n",
       "      <th>Material</th>\n",
       "      <th>FabricType</th>\n",
       "      <th>Decoration</th>\n",
       "      <th>Pattern Type</th>\n",
       "      <th>Recommendation</th>\n",
       "      <th>Spring</th>\n",
       "      <th>Summer</th>\n",
       "      <th>Winter</th>\n",
       "      <th>Autumn</th>\n",
       "    </tr>\n",
       "  </thead>\n",
       "  <tbody>\n",
       "    <tr>\n",
       "      <th>8</th>\n",
       "      <td>985292672</td>\n",
       "      <td>bohemian</td>\n",
       "      <td>Low</td>\n",
       "      <td>0.0</td>\n",
       "      <td>Free</td>\n",
       "      <td>Summer</td>\n",
       "      <td>v-neck</td>\n",
       "      <td>sleeve less</td>\n",
       "      <td>nylon</td>\n",
       "      <td>chiffon</td>\n",
       "      <td>NaN</td>\n",
       "      <td>NaN</td>\n",
       "      <td>1</td>\n",
       "      <td>12.0</td>\n",
       "      <td>58.0</td>\n",
       "      <td>39.0</td>\n",
       "      <td>107.0</td>\n",
       "    </tr>\n",
       "    <tr>\n",
       "      <th>14</th>\n",
       "      <td>1162628131</td>\n",
       "      <td>Casual</td>\n",
       "      <td>Low</td>\n",
       "      <td>0.0</td>\n",
       "      <td>Free</td>\n",
       "      <td>Winter</td>\n",
       "      <td>boat-neck</td>\n",
       "      <td>full sleeves</td>\n",
       "      <td>other</td>\n",
       "      <td>other</td>\n",
       "      <td>lace</td>\n",
       "      <td>NaN</td>\n",
       "      <td>0</td>\n",
       "      <td>25.0</td>\n",
       "      <td>264.0</td>\n",
       "      <td>284.0</td>\n",
       "      <td>678.0</td>\n",
       "    </tr>\n",
       "    <tr>\n",
       "      <th>18</th>\n",
       "      <td>1113221101</td>\n",
       "      <td>Sexy</td>\n",
       "      <td>Average</td>\n",
       "      <td>5.0</td>\n",
       "      <td>Medium</td>\n",
       "      <td>Autumn</td>\n",
       "      <td>o-neck</td>\n",
       "      <td>sleeve less</td>\n",
       "      <td>milksilk</td>\n",
       "      <td>NaN</td>\n",
       "      <td>NaN</td>\n",
       "      <td>NaN</td>\n",
       "      <td>1</td>\n",
       "      <td>279.0</td>\n",
       "      <td>1482.0</td>\n",
       "      <td>1268.0</td>\n",
       "      <td>3550.0</td>\n",
       "    </tr>\n",
       "    <tr>\n",
       "      <th>78</th>\n",
       "      <td>943188872</td>\n",
       "      <td>bohemian</td>\n",
       "      <td>very-high</td>\n",
       "      <td>4.7</td>\n",
       "      <td>Free</td>\n",
       "      <td>Winter</td>\n",
       "      <td>v-neck</td>\n",
       "      <td>sleeve less</td>\n",
       "      <td>polyster</td>\n",
       "      <td>NaN</td>\n",
       "      <td>NaN</td>\n",
       "      <td>NaN</td>\n",
       "      <td>1</td>\n",
       "      <td>71.0</td>\n",
       "      <td>364.0</td>\n",
       "      <td>240.0</td>\n",
       "      <td>637.0</td>\n",
       "    </tr>\n",
       "    <tr>\n",
       "      <th>108</th>\n",
       "      <td>737538048</td>\n",
       "      <td>Casual</td>\n",
       "      <td>Average</td>\n",
       "      <td>4.7</td>\n",
       "      <td>Large</td>\n",
       "      <td>Autumn</td>\n",
       "      <td>o-neck</td>\n",
       "      <td>half sleeves</td>\n",
       "      <td>NaN</td>\n",
       "      <td>NaN</td>\n",
       "      <td>lace</td>\n",
       "      <td>NaN</td>\n",
       "      <td>0</td>\n",
       "      <td>3466.0</td>\n",
       "      <td>16731.0</td>\n",
       "      <td>9885.0</td>\n",
       "      <td>27461.0</td>\n",
       "    </tr>\n",
       "    <tr>\n",
       "      <th>...</th>\n",
       "      <td>...</td>\n",
       "      <td>...</td>\n",
       "      <td>...</td>\n",
       "      <td>...</td>\n",
       "      <td>...</td>\n",
       "      <td>...</td>\n",
       "      <td>...</td>\n",
       "      <td>...</td>\n",
       "      <td>...</td>\n",
       "      <td>...</td>\n",
       "      <td>...</td>\n",
       "      <td>...</td>\n",
       "      <td>...</td>\n",
       "      <td>...</td>\n",
       "      <td>...</td>\n",
       "      <td>...</td>\n",
       "      <td>...</td>\n",
       "    </tr>\n",
       "    <tr>\n",
       "      <th>445</th>\n",
       "      <td>828790972</td>\n",
       "      <td>party</td>\n",
       "      <td>Average</td>\n",
       "      <td>4.9</td>\n",
       "      <td>Medium</td>\n",
       "      <td>Winter</td>\n",
       "      <td>o-neck</td>\n",
       "      <td>half sleeves</td>\n",
       "      <td>cotton</td>\n",
       "      <td>NaN</td>\n",
       "      <td>lace</td>\n",
       "      <td>NaN</td>\n",
       "      <td>1</td>\n",
       "      <td>129.0</td>\n",
       "      <td>472.0</td>\n",
       "      <td>372.0</td>\n",
       "      <td>1277.0</td>\n",
       "    </tr>\n",
       "    <tr>\n",
       "      <th>446</th>\n",
       "      <td>933413410</td>\n",
       "      <td>Casual</td>\n",
       "      <td>Average</td>\n",
       "      <td>4.8</td>\n",
       "      <td>Medium</td>\n",
       "      <td>Summer</td>\n",
       "      <td>o-neck</td>\n",
       "      <td>half sleeves</td>\n",
       "      <td>NaN</td>\n",
       "      <td>NaN</td>\n",
       "      <td>NaN</td>\n",
       "      <td>NaN</td>\n",
       "      <td>0</td>\n",
       "      <td>174.0</td>\n",
       "      <td>562.0</td>\n",
       "      <td>394.0</td>\n",
       "      <td>1562.0</td>\n",
       "    </tr>\n",
       "    <tr>\n",
       "      <th>450</th>\n",
       "      <td>1124754999</td>\n",
       "      <td>Sexy</td>\n",
       "      <td>Average</td>\n",
       "      <td>0.0</td>\n",
       "      <td>Small</td>\n",
       "      <td>Summer</td>\n",
       "      <td>v-neck</td>\n",
       "      <td>sleeve less</td>\n",
       "      <td>NaN</td>\n",
       "      <td>NaN</td>\n",
       "      <td>NaN</td>\n",
       "      <td>NaN</td>\n",
       "      <td>1</td>\n",
       "      <td>1.0</td>\n",
       "      <td>3.0</td>\n",
       "      <td>2.0</td>\n",
       "      <td>7.0</td>\n",
       "    </tr>\n",
       "    <tr>\n",
       "      <th>471</th>\n",
       "      <td>964917582</td>\n",
       "      <td>Casual</td>\n",
       "      <td>Average</td>\n",
       "      <td>5.0</td>\n",
       "      <td>Large</td>\n",
       "      <td>Summer</td>\n",
       "      <td>o-neck</td>\n",
       "      <td>sleeve less</td>\n",
       "      <td>cotton</td>\n",
       "      <td>NaN</td>\n",
       "      <td>NaN</td>\n",
       "      <td>NaN</td>\n",
       "      <td>1</td>\n",
       "      <td>23.0</td>\n",
       "      <td>150.0</td>\n",
       "      <td>150.0</td>\n",
       "      <td>458.0</td>\n",
       "    </tr>\n",
       "    <tr>\n",
       "      <th>472</th>\n",
       "      <td>859922576</td>\n",
       "      <td>cute</td>\n",
       "      <td>Average</td>\n",
       "      <td>4.6</td>\n",
       "      <td>Medium</td>\n",
       "      <td>Spring</td>\n",
       "      <td>o-neck</td>\n",
       "      <td>half sleeves</td>\n",
       "      <td>acrylic</td>\n",
       "      <td>chiffon</td>\n",
       "      <td>NaN</td>\n",
       "      <td>NaN</td>\n",
       "      <td>0</td>\n",
       "      <td>433.0</td>\n",
       "      <td>1426.0</td>\n",
       "      <td>1020.0</td>\n",
       "      <td>3919.0</td>\n",
       "    </tr>\n",
       "  </tbody>\n",
       "</table>\n",
       "<p>98 rows × 17 columns</p>\n",
       "</div>"
      ],
      "text/plain": [
       "       Dress_ID     Style      Price  Rating    Size  Season   NeckLine  \\\n",
       "8     985292672  bohemian        Low     0.0    Free  Summer     v-neck   \n",
       "14   1162628131    Casual        Low     0.0    Free  Winter  boat-neck   \n",
       "18   1113221101      Sexy    Average     5.0  Medium  Autumn     o-neck   \n",
       "78    943188872  bohemian  very-high     4.7    Free  Winter     v-neck   \n",
       "108   737538048    Casual    Average     4.7   Large  Autumn     o-neck   \n",
       "..          ...       ...        ...     ...     ...     ...        ...   \n",
       "445   828790972     party    Average     4.9  Medium  Winter     o-neck   \n",
       "446   933413410    Casual    Average     4.8  Medium  Summer     o-neck   \n",
       "450  1124754999      Sexy    Average     0.0   Small  Summer     v-neck   \n",
       "471   964917582    Casual    Average     5.0   Large  Summer     o-neck   \n",
       "472   859922576      cute    Average     4.6  Medium  Spring     o-neck   \n",
       "\n",
       "     SleeveLength  Material FabricType Decoration Pattern Type  \\\n",
       "8     sleeve less     nylon    chiffon        NaN          NaN   \n",
       "14   full sleeves     other      other       lace          NaN   \n",
       "18    sleeve less  milksilk        NaN        NaN          NaN   \n",
       "78    sleeve less  polyster        NaN        NaN          NaN   \n",
       "108  half sleeves       NaN        NaN       lace          NaN   \n",
       "..            ...       ...        ...        ...          ...   \n",
       "445  half sleeves    cotton        NaN       lace          NaN   \n",
       "446  half sleeves       NaN        NaN        NaN          NaN   \n",
       "450   sleeve less       NaN        NaN        NaN          NaN   \n",
       "471   sleeve less    cotton        NaN        NaN          NaN   \n",
       "472  half sleeves   acrylic    chiffon        NaN          NaN   \n",
       "\n",
       "     Recommendation  Spring   Summer  Winter   Autumn  \n",
       "8                 1    12.0     58.0    39.0    107.0  \n",
       "14                0    25.0    264.0   284.0    678.0  \n",
       "18                1   279.0   1482.0  1268.0   3550.0  \n",
       "78                1    71.0    364.0   240.0    637.0  \n",
       "108               0  3466.0  16731.0  9885.0  27461.0  \n",
       "..              ...     ...      ...     ...      ...  \n",
       "445               1   129.0    472.0   372.0   1277.0  \n",
       "446               0   174.0    562.0   394.0   1562.0  \n",
       "450               1     1.0      3.0     2.0      7.0  \n",
       "471               1    23.0    150.0   150.0    458.0  \n",
       "472               0   433.0   1426.0  1020.0   3919.0  \n",
       "\n",
       "[98 rows x 17 columns]"
      ]
     },
     "execution_count": 64,
     "metadata": {},
     "output_type": "execute_result"
    }
   ],
   "source": [
    "inp2[inp2[\"Pattern Type\"].isnull() == True]"
   ]
  },
  {
   "cell_type": "code",
   "execution_count": null,
   "metadata": {},
   "outputs": [],
   "source": [
    "# Now we shall replace all the null values with a string \"Missing\""
   ]
  },
  {
   "cell_type": "code",
   "execution_count": 65,
   "metadata": {},
   "outputs": [],
   "source": [
    "inp2.Material= inp2.Material.replace(np.NaN, \"Missing\")\n",
    "\n",
    "inp2.FabricType= inp2.FabricType.replace(np.NaN, \"Missing\")\n",
    "\n",
    "inp2.Decoration= inp2.Decoration.replace(np.NaN, \"Missing\")\n",
    "\n",
    "inp2['Pattern Type']= inp2['Pattern Type'].replace(np.NaN, \"Missing\")"
   ]
  },
  {
   "cell_type": "code",
   "execution_count": null,
   "metadata": {},
   "outputs": [],
   "source": []
  },
  {
   "cell_type": "code",
   "execution_count": null,
   "metadata": {},
   "outputs": [],
   "source": []
  },
  {
   "cell_type": "code",
   "execution_count": null,
   "metadata": {},
   "outputs": [],
   "source": []
  },
  {
   "cell_type": "code",
   "execution_count": null,
   "metadata": {},
   "outputs": [],
   "source": []
  },
  {
   "cell_type": "markdown",
   "metadata": {},
   "source": [
    "Print the null count of inp0 to get the idea about the missing values in data set."
   ]
  },
  {
   "cell_type": "code",
   "execution_count": null,
   "metadata": {},
   "outputs": [],
   "source": [
    "# Print the null count of each columns in inp0 dataframe i.e. combined data frame of inp0 and inp1 without date columns.\n"
   ]
  },
  {
   "cell_type": "markdown",
   "metadata": {},
   "source": [
    "You can see that there are two types of variables one with a large number of missing values and another is very less number of missing values. These two columns can be categorized as:\n",
    "\n",
    "Type-1: Missing values are very less (around 2 or 3 missing values): Price, Season, NeckLine, SleeveLength, Winter and Autumn. \n",
    "\n",
    "Type-2: Missing values are large in numbers (more than 15%): Material, FabricType, Decoration and Pattern Type.\n",
    "\n"
   ]
  },
  {
   "cell_type": "code",
   "execution_count": null,
   "metadata": {},
   "outputs": [],
   "source": [
    "# Deal with the missing values of Type-1 columns: Price, Season, NeckLine, SleeveLength, Winter and Autumn.\n"
   ]
  },
  {
   "cell_type": "code",
   "execution_count": null,
   "metadata": {},
   "outputs": [],
   "source": [
    "# Deal with the missing values for Type-2 columns: Material, FabricType, Decoration and Pattern Type.\n"
   ]
  },
  {
   "cell_type": "code",
   "execution_count": null,
   "metadata": {},
   "outputs": [],
   "source": [
    "inp2"
   ]
  },
  {
   "cell_type": "code",
   "execution_count": 66,
   "metadata": {},
   "outputs": [
    {
     "data": {
      "text/plain": [
       "Dress_ID          0\n",
       "Style             0\n",
       "Price             0\n",
       "Rating            0\n",
       "Size              0\n",
       "Season            0\n",
       "NeckLine          0\n",
       "SleeveLength      0\n",
       "Material          0\n",
       "FabricType        0\n",
       "Decoration        0\n",
       "Pattern Type      0\n",
       "Recommendation    0\n",
       "Spring            0\n",
       "Summer            0\n",
       "Winter            0\n",
       "Autumn            0\n",
       "dtype: int64"
      ]
     },
     "execution_count": 66,
     "metadata": {},
     "output_type": "execute_result"
    }
   ],
   "source": [
    "inp2.isnull().sum()"
   ]
  },
  {
   "cell_type": "code",
   "execution_count": null,
   "metadata": {},
   "outputs": [],
   "source": [
    "inp2.to_csv(\"EDA_execl_modified.csv\")"
   ]
  },
  {
   "cell_type": "markdown",
   "metadata": {},
   "source": [
    "### Standardise value "
   ]
  },
  {
   "cell_type": "markdown",
   "metadata": {},
   "source": [
    "In the given dataset, there are certain discrepancies with the categorical names such as irregular spellings. Choose the correct option of columns with irregular categories and update them.\n",
    " \n",
    "- Season, NeckLine\n",
    "- Price, Material\n",
    "- fabricType, Decoration\n",
    "- Season, SleeveLength\n"
   ]
  },
  {
   "cell_type": "code",
   "execution_count": null,
   "metadata": {},
   "outputs": [],
   "source": [
    "#correcting the spellings.\n"
   ]
  },
  {
   "cell_type": "code",
   "execution_count": null,
   "metadata": {},
   "outputs": [],
   "source": [
    "#correcting the Spellings.\n"
   ]
  },
  {
   "cell_type": "markdown",
   "metadata": {},
   "source": [
    "## Univariate Analysis "
   ]
  },
  {
   "cell_type": "markdown",
   "metadata": {},
   "source": [
    "### Categorical Unordered Univariate Analysis\n",
    " "
   ]
  },
  {
   "cell_type": "markdown",
   "metadata": {},
   "source": [
    "There is a column named ‘Style’ in ‘Attribute Dataset’ which consists of the different style categories of the women apparels. Certain categories whose total sale is less than 50000 across all the seasons is considered under one single category as ‘Others’.\n"
   ]
  },
  {
   "cell_type": "markdown",
   "metadata": {},
   "source": [
    "Which of the following categories in ‘Style’ column can be grouped into ‘Others’ category? and perform the grouping operation in the notebook for further analysis.\n",
    "- Flare, fashion\n",
    "- Novelty, bohemian\n",
    "- OL, fashion, work\n",
    "- Novelty, fashion, Flare\n"
   ]
  },
  {
   "cell_type": "code",
   "execution_count": 67,
   "metadata": {},
   "outputs": [
    {
     "data": {
      "text/html": [
       "<div>\n",
       "<style scoped>\n",
       "    .dataframe tbody tr th:only-of-type {\n",
       "        vertical-align: middle;\n",
       "    }\n",
       "\n",
       "    .dataframe tbody tr th {\n",
       "        vertical-align: top;\n",
       "    }\n",
       "\n",
       "    .dataframe thead th {\n",
       "        text-align: right;\n",
       "    }\n",
       "</style>\n",
       "<table border=\"1\" class=\"dataframe\">\n",
       "  <thead>\n",
       "    <tr style=\"text-align: right;\">\n",
       "      <th></th>\n",
       "      <th>Dress_ID</th>\n",
       "      <th>Style</th>\n",
       "      <th>Price</th>\n",
       "      <th>Rating</th>\n",
       "      <th>Size</th>\n",
       "      <th>Season</th>\n",
       "      <th>NeckLine</th>\n",
       "      <th>SleeveLength</th>\n",
       "      <th>Material</th>\n",
       "      <th>FabricType</th>\n",
       "      <th>Decoration</th>\n",
       "      <th>Pattern Type</th>\n",
       "      <th>Recommendation</th>\n",
       "      <th>Spring</th>\n",
       "      <th>Summer</th>\n",
       "      <th>Winter</th>\n",
       "      <th>Autumn</th>\n",
       "    </tr>\n",
       "  </thead>\n",
       "  <tbody>\n",
       "    <tr>\n",
       "      <th>0</th>\n",
       "      <td>1006032852</td>\n",
       "      <td>Sexy</td>\n",
       "      <td>Low</td>\n",
       "      <td>4.6</td>\n",
       "      <td>Medium</td>\n",
       "      <td>Summer</td>\n",
       "      <td>o-neck</td>\n",
       "      <td>sleeve less</td>\n",
       "      <td>Missing</td>\n",
       "      <td>chiffon</td>\n",
       "      <td>ruffles</td>\n",
       "      <td>animal</td>\n",
       "      <td>1</td>\n",
       "      <td>2660.0</td>\n",
       "      <td>13899.0</td>\n",
       "      <td>9658.0</td>\n",
       "      <td>26857.0</td>\n",
       "    </tr>\n",
       "    <tr>\n",
       "      <th>1</th>\n",
       "      <td>1212192089</td>\n",
       "      <td>Casual</td>\n",
       "      <td>Low</td>\n",
       "      <td>0.0</td>\n",
       "      <td>Large</td>\n",
       "      <td>Summer</td>\n",
       "      <td>o-neck</td>\n",
       "      <td>Petal</td>\n",
       "      <td>microfiber</td>\n",
       "      <td>Missing</td>\n",
       "      <td>ruffles</td>\n",
       "      <td>animal</td>\n",
       "      <td>0</td>\n",
       "      <td>750.0</td>\n",
       "      <td>6216.0</td>\n",
       "      <td>6405.0</td>\n",
       "      <td>17311.0</td>\n",
       "    </tr>\n",
       "    <tr>\n",
       "      <th>2</th>\n",
       "      <td>1190380701</td>\n",
       "      <td>vintage</td>\n",
       "      <td>High</td>\n",
       "      <td>0.0</td>\n",
       "      <td>Large</td>\n",
       "      <td>Autumn</td>\n",
       "      <td>o-neck</td>\n",
       "      <td>full sleeves</td>\n",
       "      <td>polyster</td>\n",
       "      <td>Missing</td>\n",
       "      <td>Missing</td>\n",
       "      <td>print</td>\n",
       "      <td>0</td>\n",
       "      <td>7.0</td>\n",
       "      <td>40.0</td>\n",
       "      <td>28.0</td>\n",
       "      <td>82.0</td>\n",
       "    </tr>\n",
       "    <tr>\n",
       "      <th>3</th>\n",
       "      <td>966005983</td>\n",
       "      <td>Brief</td>\n",
       "      <td>Average</td>\n",
       "      <td>4.6</td>\n",
       "      <td>Large</td>\n",
       "      <td>Spring</td>\n",
       "      <td>o-neck</td>\n",
       "      <td>full sleeves</td>\n",
       "      <td>silk</td>\n",
       "      <td>chiffon</td>\n",
       "      <td>embroidary</td>\n",
       "      <td>print</td>\n",
       "      <td>1</td>\n",
       "      <td>1455.0</td>\n",
       "      <td>7213.0</td>\n",
       "      <td>5012.0</td>\n",
       "      <td>14411.0</td>\n",
       "    </tr>\n",
       "    <tr>\n",
       "      <th>4</th>\n",
       "      <td>876339541</td>\n",
       "      <td>cute</td>\n",
       "      <td>Low</td>\n",
       "      <td>4.5</td>\n",
       "      <td>Medium</td>\n",
       "      <td>Summer</td>\n",
       "      <td>o-neck</td>\n",
       "      <td>butterfly</td>\n",
       "      <td>chiffonfabric</td>\n",
       "      <td>chiffon</td>\n",
       "      <td>bow</td>\n",
       "      <td>dot</td>\n",
       "      <td>0</td>\n",
       "      <td>1396.0</td>\n",
       "      <td>7706.0</td>\n",
       "      <td>5678.0</td>\n",
       "      <td>14676.0</td>\n",
       "    </tr>\n",
       "    <tr>\n",
       "      <th>...</th>\n",
       "      <td>...</td>\n",
       "      <td>...</td>\n",
       "      <td>...</td>\n",
       "      <td>...</td>\n",
       "      <td>...</td>\n",
       "      <td>...</td>\n",
       "      <td>...</td>\n",
       "      <td>...</td>\n",
       "      <td>...</td>\n",
       "      <td>...</td>\n",
       "      <td>...</td>\n",
       "      <td>...</td>\n",
       "      <td>...</td>\n",
       "      <td>...</td>\n",
       "      <td>...</td>\n",
       "      <td>...</td>\n",
       "      <td>...</td>\n",
       "    </tr>\n",
       "    <tr>\n",
       "      <th>474</th>\n",
       "      <td>990559192</td>\n",
       "      <td>Brief</td>\n",
       "      <td>Average</td>\n",
       "      <td>4.7</td>\n",
       "      <td>Medium</td>\n",
       "      <td>Winter</td>\n",
       "      <td>o-neck</td>\n",
       "      <td>half sleeves</td>\n",
       "      <td>acrylic</td>\n",
       "      <td>chiffon</td>\n",
       "      <td>Missing</td>\n",
       "      <td>striped</td>\n",
       "      <td>0</td>\n",
       "      <td>60.0</td>\n",
       "      <td>203.0</td>\n",
       "      <td>144.0</td>\n",
       "      <td>565.0</td>\n",
       "    </tr>\n",
       "    <tr>\n",
       "      <th>475</th>\n",
       "      <td>713391965</td>\n",
       "      <td>Casual</td>\n",
       "      <td>Low</td>\n",
       "      <td>4.7</td>\n",
       "      <td>Medium</td>\n",
       "      <td>Spring</td>\n",
       "      <td>o-neck</td>\n",
       "      <td>full sleeves</td>\n",
       "      <td>polyster</td>\n",
       "      <td>Missing</td>\n",
       "      <td>Missing</td>\n",
       "      <td>solid</td>\n",
       "      <td>1</td>\n",
       "      <td>560.0</td>\n",
       "      <td>1478.0</td>\n",
       "      <td>810.0</td>\n",
       "      <td>3800.0</td>\n",
       "    </tr>\n",
       "    <tr>\n",
       "      <th>476</th>\n",
       "      <td>532874347</td>\n",
       "      <td>Casual</td>\n",
       "      <td>Average</td>\n",
       "      <td>4.7</td>\n",
       "      <td>Medium</td>\n",
       "      <td>Summer</td>\n",
       "      <td>v-neck</td>\n",
       "      <td>full sleeves</td>\n",
       "      <td>cotton</td>\n",
       "      <td>Missing</td>\n",
       "      <td>lace</td>\n",
       "      <td>solid</td>\n",
       "      <td>1</td>\n",
       "      <td>734.0</td>\n",
       "      <td>2005.0</td>\n",
       "      <td>1214.0</td>\n",
       "      <td>5290.0</td>\n",
       "    </tr>\n",
       "    <tr>\n",
       "      <th>477</th>\n",
       "      <td>655464934</td>\n",
       "      <td>Casual</td>\n",
       "      <td>Average</td>\n",
       "      <td>4.6</td>\n",
       "      <td>Large</td>\n",
       "      <td>Winter</td>\n",
       "      <td>boat-neck</td>\n",
       "      <td>sleeve less</td>\n",
       "      <td>silk</td>\n",
       "      <td>broadcloth</td>\n",
       "      <td>applique</td>\n",
       "      <td>print</td>\n",
       "      <td>1</td>\n",
       "      <td>254.0</td>\n",
       "      <td>769.0</td>\n",
       "      <td>516.0</td>\n",
       "      <td>2117.0</td>\n",
       "    </tr>\n",
       "    <tr>\n",
       "      <th>478</th>\n",
       "      <td>919930954</td>\n",
       "      <td>Casual</td>\n",
       "      <td>Low</td>\n",
       "      <td>4.4</td>\n",
       "      <td>Free</td>\n",
       "      <td>Summer</td>\n",
       "      <td>v-neck</td>\n",
       "      <td>short</td>\n",
       "      <td>cotton</td>\n",
       "      <td>Corduroy</td>\n",
       "      <td>lace</td>\n",
       "      <td>solid</td>\n",
       "      <td>0</td>\n",
       "      <td>538.0</td>\n",
       "      <td>1763.0</td>\n",
       "      <td>1258.0</td>\n",
       "      <td>4828.0</td>\n",
       "    </tr>\n",
       "  </tbody>\n",
       "</table>\n",
       "<p>471 rows × 17 columns</p>\n",
       "</div>"
      ],
      "text/plain": [
       "       Dress_ID    Style    Price  Rating    Size  Season   NeckLine  \\\n",
       "0    1006032852     Sexy      Low     4.6  Medium  Summer     o-neck   \n",
       "1    1212192089   Casual      Low     0.0   Large  Summer     o-neck   \n",
       "2    1190380701  vintage     High     0.0   Large  Autumn     o-neck   \n",
       "3     966005983    Brief  Average     4.6   Large  Spring     o-neck   \n",
       "4     876339541     cute      Low     4.5  Medium  Summer     o-neck   \n",
       "..          ...      ...      ...     ...     ...     ...        ...   \n",
       "474   990559192    Brief  Average     4.7  Medium  Winter     o-neck   \n",
       "475   713391965   Casual      Low     4.7  Medium  Spring     o-neck   \n",
       "476   532874347   Casual  Average     4.7  Medium  Summer     v-neck   \n",
       "477   655464934   Casual  Average     4.6   Large  Winter  boat-neck   \n",
       "478   919930954   Casual      Low     4.4    Free  Summer     v-neck   \n",
       "\n",
       "     SleeveLength       Material  FabricType  Decoration Pattern Type  \\\n",
       "0     sleeve less        Missing     chiffon     ruffles       animal   \n",
       "1           Petal     microfiber     Missing     ruffles       animal   \n",
       "2    full sleeves       polyster     Missing     Missing        print   \n",
       "3    full sleeves           silk     chiffon  embroidary        print   \n",
       "4       butterfly  chiffonfabric     chiffon         bow          dot   \n",
       "..            ...            ...         ...         ...          ...   \n",
       "474  half sleeves        acrylic     chiffon     Missing      striped   \n",
       "475  full sleeves       polyster     Missing     Missing        solid   \n",
       "476  full sleeves         cotton     Missing        lace        solid   \n",
       "477   sleeve less           silk  broadcloth    applique        print   \n",
       "478         short         cotton    Corduroy        lace        solid   \n",
       "\n",
       "     Recommendation  Spring   Summer  Winter   Autumn  \n",
       "0                 1  2660.0  13899.0  9658.0  26857.0  \n",
       "1                 0   750.0   6216.0  6405.0  17311.0  \n",
       "2                 0     7.0     40.0    28.0     82.0  \n",
       "3                 1  1455.0   7213.0  5012.0  14411.0  \n",
       "4                 0  1396.0   7706.0  5678.0  14676.0  \n",
       "..              ...     ...      ...     ...      ...  \n",
       "474               0    60.0    203.0   144.0    565.0  \n",
       "475               1   560.0   1478.0   810.0   3800.0  \n",
       "476               1   734.0   2005.0  1214.0   5290.0  \n",
       "477               1   254.0    769.0   516.0   2117.0  \n",
       "478               0   538.0   1763.0  1258.0   4828.0  \n",
       "\n",
       "[471 rows x 17 columns]"
      ]
     },
     "execution_count": 67,
     "metadata": {},
     "output_type": "execute_result"
    }
   ],
   "source": [
    "inp2"
   ]
  },
  {
   "cell_type": "code",
   "execution_count": 68,
   "metadata": {},
   "outputs": [],
   "source": [
    "inp2[\"Sales\"] = inp2.apply(lambda x: x[\"Spring\"] + x[\"Summer\"] + x[\"Winter\"] + x[\"Autumn\"] , axis = 1)"
   ]
  },
  {
   "cell_type": "code",
   "execution_count": 69,
   "metadata": {},
   "outputs": [
    {
     "data": {
      "text/html": [
       "<div>\n",
       "<style scoped>\n",
       "    .dataframe tbody tr th:only-of-type {\n",
       "        vertical-align: middle;\n",
       "    }\n",
       "\n",
       "    .dataframe tbody tr th {\n",
       "        vertical-align: top;\n",
       "    }\n",
       "\n",
       "    .dataframe thead th {\n",
       "        text-align: right;\n",
       "    }\n",
       "</style>\n",
       "<table border=\"1\" class=\"dataframe\">\n",
       "  <thead>\n",
       "    <tr style=\"text-align: right;\">\n",
       "      <th></th>\n",
       "      <th>Dress_ID</th>\n",
       "      <th>Style</th>\n",
       "      <th>Price</th>\n",
       "      <th>Rating</th>\n",
       "      <th>Size</th>\n",
       "      <th>Season</th>\n",
       "      <th>NeckLine</th>\n",
       "      <th>SleeveLength</th>\n",
       "      <th>Material</th>\n",
       "      <th>FabricType</th>\n",
       "      <th>Decoration</th>\n",
       "      <th>Pattern Type</th>\n",
       "      <th>Recommendation</th>\n",
       "      <th>Spring</th>\n",
       "      <th>Summer</th>\n",
       "      <th>Winter</th>\n",
       "      <th>Autumn</th>\n",
       "      <th>Sales</th>\n",
       "    </tr>\n",
       "  </thead>\n",
       "  <tbody>\n",
       "    <tr>\n",
       "      <th>0</th>\n",
       "      <td>1006032852</td>\n",
       "      <td>Sexy</td>\n",
       "      <td>Low</td>\n",
       "      <td>4.6</td>\n",
       "      <td>Medium</td>\n",
       "      <td>Summer</td>\n",
       "      <td>o-neck</td>\n",
       "      <td>sleeve less</td>\n",
       "      <td>Missing</td>\n",
       "      <td>chiffon</td>\n",
       "      <td>ruffles</td>\n",
       "      <td>animal</td>\n",
       "      <td>1</td>\n",
       "      <td>2660.0</td>\n",
       "      <td>13899.0</td>\n",
       "      <td>9658.0</td>\n",
       "      <td>26857.0</td>\n",
       "      <td>53074.0</td>\n",
       "    </tr>\n",
       "    <tr>\n",
       "      <th>1</th>\n",
       "      <td>1212192089</td>\n",
       "      <td>Casual</td>\n",
       "      <td>Low</td>\n",
       "      <td>0.0</td>\n",
       "      <td>Large</td>\n",
       "      <td>Summer</td>\n",
       "      <td>o-neck</td>\n",
       "      <td>Petal</td>\n",
       "      <td>microfiber</td>\n",
       "      <td>Missing</td>\n",
       "      <td>ruffles</td>\n",
       "      <td>animal</td>\n",
       "      <td>0</td>\n",
       "      <td>750.0</td>\n",
       "      <td>6216.0</td>\n",
       "      <td>6405.0</td>\n",
       "      <td>17311.0</td>\n",
       "      <td>30682.0</td>\n",
       "    </tr>\n",
       "    <tr>\n",
       "      <th>2</th>\n",
       "      <td>1190380701</td>\n",
       "      <td>vintage</td>\n",
       "      <td>High</td>\n",
       "      <td>0.0</td>\n",
       "      <td>Large</td>\n",
       "      <td>Autumn</td>\n",
       "      <td>o-neck</td>\n",
       "      <td>full sleeves</td>\n",
       "      <td>polyster</td>\n",
       "      <td>Missing</td>\n",
       "      <td>Missing</td>\n",
       "      <td>print</td>\n",
       "      <td>0</td>\n",
       "      <td>7.0</td>\n",
       "      <td>40.0</td>\n",
       "      <td>28.0</td>\n",
       "      <td>82.0</td>\n",
       "      <td>157.0</td>\n",
       "    </tr>\n",
       "    <tr>\n",
       "      <th>3</th>\n",
       "      <td>966005983</td>\n",
       "      <td>Brief</td>\n",
       "      <td>Average</td>\n",
       "      <td>4.6</td>\n",
       "      <td>Large</td>\n",
       "      <td>Spring</td>\n",
       "      <td>o-neck</td>\n",
       "      <td>full sleeves</td>\n",
       "      <td>silk</td>\n",
       "      <td>chiffon</td>\n",
       "      <td>embroidary</td>\n",
       "      <td>print</td>\n",
       "      <td>1</td>\n",
       "      <td>1455.0</td>\n",
       "      <td>7213.0</td>\n",
       "      <td>5012.0</td>\n",
       "      <td>14411.0</td>\n",
       "      <td>28091.0</td>\n",
       "    </tr>\n",
       "    <tr>\n",
       "      <th>4</th>\n",
       "      <td>876339541</td>\n",
       "      <td>cute</td>\n",
       "      <td>Low</td>\n",
       "      <td>4.5</td>\n",
       "      <td>Medium</td>\n",
       "      <td>Summer</td>\n",
       "      <td>o-neck</td>\n",
       "      <td>butterfly</td>\n",
       "      <td>chiffonfabric</td>\n",
       "      <td>chiffon</td>\n",
       "      <td>bow</td>\n",
       "      <td>dot</td>\n",
       "      <td>0</td>\n",
       "      <td>1396.0</td>\n",
       "      <td>7706.0</td>\n",
       "      <td>5678.0</td>\n",
       "      <td>14676.0</td>\n",
       "      <td>29456.0</td>\n",
       "    </tr>\n",
       "  </tbody>\n",
       "</table>\n",
       "</div>"
      ],
      "text/plain": [
       "     Dress_ID    Style    Price  Rating    Size  Season NeckLine  \\\n",
       "0  1006032852     Sexy      Low     4.6  Medium  Summer   o-neck   \n",
       "1  1212192089   Casual      Low     0.0   Large  Summer   o-neck   \n",
       "2  1190380701  vintage     High     0.0   Large  Autumn   o-neck   \n",
       "3   966005983    Brief  Average     4.6   Large  Spring   o-neck   \n",
       "4   876339541     cute      Low     4.5  Medium  Summer   o-neck   \n",
       "\n",
       "   SleeveLength       Material FabricType  Decoration Pattern Type  \\\n",
       "0   sleeve less        Missing    chiffon     ruffles       animal   \n",
       "1         Petal     microfiber    Missing     ruffles       animal   \n",
       "2  full sleeves       polyster    Missing     Missing        print   \n",
       "3  full sleeves           silk    chiffon  embroidary        print   \n",
       "4     butterfly  chiffonfabric    chiffon         bow          dot   \n",
       "\n",
       "   Recommendation  Spring   Summer  Winter   Autumn    Sales  \n",
       "0               1  2660.0  13899.0  9658.0  26857.0  53074.0  \n",
       "1               0   750.0   6216.0  6405.0  17311.0  30682.0  \n",
       "2               0     7.0     40.0    28.0     82.0    157.0  \n",
       "3               1  1455.0   7213.0  5012.0  14411.0  28091.0  \n",
       "4               0  1396.0   7706.0  5678.0  14676.0  29456.0  "
      ]
     },
     "execution_count": 69,
     "metadata": {},
     "output_type": "execute_result"
    }
   ],
   "source": [
    "inp2.head()"
   ]
  },
  {
   "cell_type": "code",
   "execution_count": null,
   "metadata": {},
   "outputs": [],
   "source": []
  },
  {
   "cell_type": "code",
   "execution_count": null,
   "metadata": {},
   "outputs": [],
   "source": [
    "inp2.Spring.describe()"
   ]
  },
  {
   "cell_type": "code",
   "execution_count": null,
   "metadata": {},
   "outputs": [],
   "source": [
    "inp2.Winter.describe()"
   ]
  },
  {
   "cell_type": "code",
   "execution_count": null,
   "metadata": {},
   "outputs": [],
   "source": [
    "inp2.Winter.describe()"
   ]
  },
  {
   "cell_type": "code",
   "execution_count": null,
   "metadata": {},
   "outputs": [],
   "source": [
    "inp2.Autumn.describe()"
   ]
  },
  {
   "cell_type": "code",
   "execution_count": null,
   "metadata": {},
   "outputs": [],
   "source": [
    "inp2.Autumn.quantile([0.5,0.75,0.99,1])"
   ]
  },
  {
   "cell_type": "code",
   "execution_count": 70,
   "metadata": {},
   "outputs": [
    {
     "data": {
      "text/plain": [
       "Casual      217\n",
       "Sexy         65\n",
       "party        48\n",
       "cute         43\n",
       "vintage      25\n",
       "bohemian     23\n",
       "work         17\n",
       "Brief        17\n",
       "sexy          6\n",
       "Novelty       6\n",
       "Flare         2\n",
       "OL            1\n",
       "fashion       1\n",
       "Name: Style, dtype: int64"
      ]
     },
     "execution_count": 70,
     "metadata": {},
     "output_type": "execute_result"
    }
   ],
   "source": [
    "inp2.Style.value_counts()"
   ]
  },
  {
   "cell_type": "code",
   "execution_count": 71,
   "metadata": {},
   "outputs": [],
   "source": [
    "total_sales = inp2.groupby(by=[\"Style\"])[\"Sales\"].sum()"
   ]
  },
  {
   "cell_type": "code",
   "execution_count": 72,
   "metadata": {},
   "outputs": [
    {
     "data": {
      "text/plain": [
       "Style\n",
       "Brief        139628.0\n",
       "Casual      1103558.0\n",
       "Flare          2089.0\n",
       "Novelty       13286.0\n",
       "OL              289.0\n",
       "Sexy         452355.0\n",
       "bohemian      69117.0\n",
       "cute         361999.0\n",
       "fashion         395.0\n",
       "party        142041.0\n",
       "sexy          77443.0\n",
       "vintage      180574.0\n",
       "work          93095.0\n",
       "Name: Sales, dtype: float64"
      ]
     },
     "execution_count": 72,
     "metadata": {},
     "output_type": "execute_result"
    }
   ],
   "source": [
    "total_sales"
   ]
  },
  {
   "cell_type": "code",
   "execution_count": 73,
   "metadata": {},
   "outputs": [
    {
     "data": {
      "text/plain": [
       "Style\n",
       "Flare       2089.0\n",
       "Novelty    13286.0\n",
       "OL           289.0\n",
       "fashion      395.0\n",
       "Name: Sales, dtype: float64"
      ]
     },
     "execution_count": 73,
     "metadata": {},
     "output_type": "execute_result"
    }
   ],
   "source": [
    "total_sales[total_sales <50000]"
   ]
  },
  {
   "cell_type": "code",
   "execution_count": 74,
   "metadata": {},
   "outputs": [],
   "source": [
    "inp2.replace(total_sales[total_sales <50000].index, \"Others\" , inplace = True)"
   ]
  },
  {
   "cell_type": "code",
   "execution_count": 75,
   "metadata": {},
   "outputs": [
    {
     "data": {
      "text/plain": [
       "Casual      217\n",
       "Sexy         65\n",
       "party        48\n",
       "cute         43\n",
       "vintage      25\n",
       "bohemian     23\n",
       "work         17\n",
       "Brief        17\n",
       "Others       10\n",
       "sexy          6\n",
       "Name: Style, dtype: int64"
      ]
     },
     "execution_count": 75,
     "metadata": {},
     "output_type": "execute_result"
    }
   ],
   "source": [
    "inp2.Style.value_counts()"
   ]
  },
  {
   "cell_type": "code",
   "execution_count": null,
   "metadata": {},
   "outputs": [],
   "source": [
    "# Group \"Style\" categories into \"Others\" which have less than 50000 sales across all the seasons.\n"
   ]
  },
  {
   "cell_type": "markdown",
   "metadata": {},
   "source": [
    "What is the percentage of “cute” and “Others” category in “Style” column in “Attribute DataSet” respectively?\n",
    "- 46%, 5%\n",
    "- 9%, 2.1%\n",
    "- 2.1%, 5%\n",
    "- 13.8%, 9%\n"
   ]
  },
  {
   "cell_type": "code",
   "execution_count": 76,
   "metadata": {},
   "outputs": [
    {
     "data": {
      "text/plain": [
       "Casual      0.460722\n",
       "Sexy        0.138004\n",
       "party       0.101911\n",
       "cute        0.091295\n",
       "vintage     0.053079\n",
       "bohemian    0.048832\n",
       "work        0.036093\n",
       "Brief       0.036093\n",
       "Others      0.021231\n",
       "sexy        0.012739\n",
       "Name: Style, dtype: float64"
      ]
     },
     "execution_count": 76,
     "metadata": {},
     "output_type": "execute_result"
    }
   ],
   "source": [
    "# Calculate the percentage of each categories in the \"Style\" variable.\n",
    "inp2.Style.value_counts(normalize =True)"
   ]
  },
  {
   "cell_type": "code",
   "execution_count": 77,
   "metadata": {},
   "outputs": [
    {
     "data": {
      "image/png": "[encoded data removed]",
      "text/plain": [
       "<Figure size 432x288 with 1 Axes>"
      ]
     },
     "metadata": {
      "needs_background": "light"
     },
     "output_type": "display_data"
    }
   ],
   "source": [
    "inp2.Style.value_counts(normalize =True).plot.barh()\n",
    "plt.show()"
   ]
  },
  {
   "cell_type": "markdown",
   "metadata": {},
   "source": [
    "Similarly Club Neckline, SLeeve length categories into \"Others\" which have less than 50000 sales across all the seasons."
   ]
  },
  {
   "cell_type": "code",
   "execution_count": 79,
   "metadata": {},
   "outputs": [],
   "source": [
    "# Group \"Neckline\" categories into \"Others\" which have less than 50000 sales across all the seasons.\n",
    "byneckline = inp2.groupby(by = [\"NeckLine\"])[\"Sales\"].sum()\n"
   ]
  },
  {
   "cell_type": "code",
   "execution_count": 82,
   "metadata": {},
   "outputs": [
    {
     "data": {
      "text/plain": [
       "NeckLine\n",
       "Scoop                 3135.0\n",
       "Sweetheart           14588.0\n",
       "backless              2888.0\n",
       "boat-neck            53049.0\n",
       "bowneck              21633.0\n",
       "halter                2355.0\n",
       "mandarin-collor        289.0\n",
       "o-neck             1671102.0\n",
       "open                  7396.0\n",
       "peterpan-collor      18908.0\n",
       "ruffled             118871.0\n",
       "slash-neck           68396.0\n",
       "sqare-collor         32395.0\n",
       "sweetheart            2728.0\n",
       "turndowncollor       68496.0\n",
       "v-neck              549640.0\n",
       "Name: Sales, dtype: float64"
      ]
     },
     "execution_count": 82,
     "metadata": {},
     "output_type": "execute_result"
    }
   ],
   "source": [
    "byneckline"
   ]
  },
  {
   "cell_type": "code",
   "execution_count": 83,
   "metadata": {},
   "outputs": [],
   "source": [
    "inp2.replace(byneckline[byneckline <50000].index , \"Others\", inplace = True)"
   ]
  },
  {
   "cell_type": "code",
   "execution_count": 84,
   "metadata": {},
   "outputs": [
    {
     "data": {
      "text/plain": [
       "o-neck            255\n",
       "v-neck            117\n",
       "Others             42\n",
       "slash-neck         25\n",
       "boat-neck          18\n",
       "turndowncollor     13\n",
       "ruffled             1\n",
       "Name: NeckLine, dtype: int64"
      ]
     },
     "execution_count": 84,
     "metadata": {},
     "output_type": "execute_result"
    }
   ],
   "source": [
    "inp2.NeckLine.value_counts()"
   ]
  },
  {
   "cell_type": "code",
   "execution_count": 85,
   "metadata": {},
   "outputs": [
    {
     "data": {
      "text/plain": [
       "SleeveLength\n",
       "Petal                30682.0\n",
       "butterfly            29456.0\n",
       "cap sleeves          13603.0\n",
       "full sleeves        455494.0\n",
       "half sleeves        207843.0\n",
       "short               696130.0\n",
       "sleeve less         965535.0\n",
       "three quater        233543.0\n",
       "turn down collar      3583.0\n",
       "Name: Sales, dtype: float64"
      ]
     },
     "execution_count": 85,
     "metadata": {},
     "output_type": "execute_result"
    }
   ],
   "source": [
    "# Group \"Sleeve length\" categories into \"Others\" which have less than 50000 sales across all the seasons.\n",
    "bysleevelength = inp2.groupby(by = [\"SleeveLength\"])[\"Sales\"].sum()\n",
    "bysleevelength"
   ]
  },
  {
   "cell_type": "code",
   "execution_count": 89,
   "metadata": {},
   "outputs": [],
   "source": [
    "inp2.replace(bysleevelength[bysleevelength <50000].index , \"Others\" , inplace = True)"
   ]
  },
  {
   "cell_type": "code",
   "execution_count": 90,
   "metadata": {},
   "outputs": [
    {
     "data": {
      "text/plain": [
       "sleeve less     220\n",
       "short            92\n",
       "full sleeves     91\n",
       "half sleeves     33\n",
       "three quater     26\n",
       "Others            9\n",
       "Name: SleeveLength, dtype: int64"
      ]
     },
     "execution_count": 90,
     "metadata": {},
     "output_type": "execute_result"
    }
   ],
   "source": [
    "inp2.SleeveLength.value_counts()"
   ]
  },
  {
   "cell_type": "code",
   "execution_count": null,
   "metadata": {},
   "outputs": [],
   "source": []
  },
  {
   "cell_type": "code",
   "execution_count": null,
   "metadata": {},
   "outputs": [],
   "source": []
  },
  {
   "cell_type": "markdown",
   "metadata": {},
   "source": [
    "Club material, fabrictype, patterntype and decoration categories into \"Others\" which have less than 25000 sales across all the seasons"
   ]
  },
  {
   "cell_type": "code",
   "execution_count": 91,
   "metadata": {},
   "outputs": [
    {
     "data": {
      "text/plain": [
       "Material\n",
       "Missing          663212.0\n",
       "acrylic           12155.0\n",
       "cashmere           5667.0\n",
       "chiffonfabric    333284.0\n",
       "cotton           727417.0\n",
       "lace               6296.0\n",
       "linen             20149.0\n",
       "lycra             12555.0\n",
       "microfiber        31817.0\n",
       "milksilk          33710.0\n",
       "mix               68490.0\n",
       "modal               522.0\n",
       "model               245.0\n",
       "nylon             29483.0\n",
       "other              5458.0\n",
       "polyster         487879.0\n",
       "rayon             65208.0\n",
       "shiffon            8295.0\n",
       "silk              93867.0\n",
       "sill               2719.0\n",
       "spandex           22402.0\n",
       "viscos             4180.0\n",
       "wool                859.0\n",
       "Name: Sales, dtype: float64"
      ]
     },
     "execution_count": 91,
     "metadata": {},
     "output_type": "execute_result"
    }
   ],
   "source": [
    "# Group \"material\" categories into \"Others\" which have less than 25000 sales across all the seasons.\n",
    "bymaterial = inp2.groupby(by = [\"Material\"])[\"Sales\"].sum()\n",
    "bymaterial"
   ]
  },
  {
   "cell_type": "code",
   "execution_count": 92,
   "metadata": {},
   "outputs": [],
   "source": [
    "inp2.replace(bymaterial[bymaterial < 25000].index, \"Others\", inplace = True)"
   ]
  },
  {
   "cell_type": "code",
   "execution_count": 93,
   "metadata": {},
   "outputs": [
    {
     "data": {
      "text/plain": [
       "cotton           144\n",
       "Missing          116\n",
       "polyster          92\n",
       "Others            29\n",
       "silk              26\n",
       "chiffonfabric     24\n",
       "mix               12\n",
       "rayon             10\n",
       "nylon             10\n",
       "milksilk           5\n",
       "microfiber         3\n",
       "Name: Material, dtype: int64"
      ]
     },
     "execution_count": 93,
     "metadata": {},
     "output_type": "execute_result"
    }
   ],
   "source": [
    "inp2.Material.value_counts()"
   ]
  },
  {
   "cell_type": "code",
   "execution_count": null,
   "metadata": {},
   "outputs": [],
   "source": []
  },
  {
   "cell_type": "code",
   "execution_count": null,
   "metadata": {},
   "outputs": [],
   "source": []
  },
  {
   "cell_type": "code",
   "execution_count": 94,
   "metadata": {},
   "outputs": [
    {
     "data": {
      "text/plain": [
       "FabricType\n",
       "Corduroy        10866.0\n",
       "Missing       1217947.0\n",
       "Others          30819.0\n",
       "batik            4021.0\n",
       "broadcloth     119998.0\n",
       "chiffon        999160.0\n",
       "dobby            2761.0\n",
       "flannael         6835.0\n",
       "flannel         14733.0\n",
       "jersey         119952.0\n",
       "knitted            14.0\n",
       "knitting           39.0\n",
       "organza           762.0\n",
       "poplin           1443.0\n",
       "satin           11403.0\n",
       "sattin           9673.0\n",
       "terry             373.0\n",
       "tulle            2119.0\n",
       "wollen           2858.0\n",
       "worsted         80093.0\n",
       "Name: Sales, dtype: float64"
      ]
     },
     "execution_count": 94,
     "metadata": {},
     "output_type": "execute_result"
    }
   ],
   "source": [
    "# Group \"fabric type\" categories into \"Others\" which have less than 25000 sales across all the seasons.\n",
    "byfabrictype = inp2.groupby(by = [\"FabricType\"])[\"Sales\"].sum()\n",
    "byfabrictype"
   ]
  },
  {
   "cell_type": "code",
   "execution_count": 95,
   "metadata": {},
   "outputs": [
    {
     "data": {
      "text/plain": [
       "Missing       250\n",
       "chiffon       128\n",
       "Others         34\n",
       "broadcloth     29\n",
       "worsted        18\n",
       "jersey         12\n",
       "Name: FabricType, dtype: int64"
      ]
     },
     "execution_count": 95,
     "metadata": {},
     "output_type": "execute_result"
    }
   ],
   "source": [
    "inp2.replace(byfabrictype[byfabrictype < 25000].index, \"Others\", inplace = True)\n",
    "inp2.FabricType.value_counts()"
   ]
  },
  {
   "cell_type": "code",
   "execution_count": null,
   "metadata": {},
   "outputs": [],
   "source": []
  },
  {
   "cell_type": "code",
   "execution_count": null,
   "metadata": {},
   "outputs": [],
   "source": []
  },
  {
   "cell_type": "code",
   "execution_count": 96,
   "metadata": {},
   "outputs": [
    {
     "data": {
      "text/plain": [
       "Pattern Type\n",
       "Missing       247682.0\n",
       "animal        211273.0\n",
       "character       3738.0\n",
       "dot           245091.0\n",
       "floral         10614.0\n",
       "geometric     114335.0\n",
       "leapord         3017.0\n",
       "leopard        25267.0\n",
       "none            5991.0\n",
       "patchwork     190360.0\n",
       "plaid           1369.0\n",
       "print         403025.0\n",
       "solid        1107050.0\n",
       "splice          5112.0\n",
       "striped        61945.0\n",
       "Name: Sales, dtype: float64"
      ]
     },
     "execution_count": 96,
     "metadata": {},
     "output_type": "execute_result"
    }
   ],
   "source": [
    "# Group \"patern type\" categories into \"Others\" which have less than 25000 sales across all the seasons.\n",
    "bypatterntype = inp2.groupby(by = [\"Pattern Type\"])[\"Sales\"].sum()\n",
    "bypatterntype"
   ]
  },
  {
   "cell_type": "code",
   "execution_count": 98,
   "metadata": {},
   "outputs": [
    {
     "data": {
      "text/plain": [
       "solid        196\n",
       "Missing       98\n",
       "print         67\n",
       "patchwork     46\n",
       "animal        19\n",
       "striped       15\n",
       "dot           13\n",
       "Others         9\n",
       "geometric      5\n",
       "leopard        3\n",
       "Name: Pattern Type, dtype: int64"
      ]
     },
     "execution_count": 98,
     "metadata": {},
     "output_type": "execute_result"
    }
   ],
   "source": [
    "inp2.replace(bypatterntype[bypatterntype < 25000].index, \"Others\", inplace = True)\n",
    "inp2[\"Pattern Type\"].value_counts()"
   ]
  },
  {
   "cell_type": "code",
   "execution_count": null,
   "metadata": {},
   "outputs": [],
   "source": []
  },
  {
   "cell_type": "code",
   "execution_count": null,
   "metadata": {},
   "outputs": [],
   "source": [
    "# Group \"decoration\" categories into \"Others\" which have less than 25000 sales across all the seasons.\n"
   ]
  },
  {
   "cell_type": "code",
   "execution_count": 99,
   "metadata": {},
   "outputs": [
    {
     "data": {
      "text/plain": [
       "Decoration\n",
       "Missing       1084474.0\n",
       "Others         428139.0\n",
       "Tiered          22147.0\n",
       "applique        67873.0\n",
       "beading         48911.0\n",
       "bow            255359.0\n",
       "button          22203.0\n",
       "cascading         210.0\n",
       "crystal          6450.0\n",
       "draped           7099.0\n",
       "embroidary      41868.0\n",
       "feathers           64.0\n",
       "flowers          6676.0\n",
       "hollowout       67758.0\n",
       "pearls             41.0\n",
       "plain            2740.0\n",
       "pockets         21532.0\n",
       "rivet           17801.0\n",
       "ruched           7940.0\n",
       "ruffles        191187.0\n",
       "sashes         285759.0\n",
       "sequined        48699.0\n",
       "tassel            939.0\n",
       "Name: Sales, dtype: float64"
      ]
     },
     "execution_count": 99,
     "metadata": {},
     "output_type": "execute_result"
    }
   ],
   "source": [
    "bydecoration = inp2.groupby(by = [\"Decoration\"])[\"Sales\"].sum()\n",
    "bydecoration"
   ]
  },
  {
   "cell_type": "code",
   "execution_count": 100,
   "metadata": {},
   "outputs": [
    {
     "data": {
      "text/plain": [
       "Missing       220\n",
       "Others        100\n",
       "sashes         41\n",
       "beading        21\n",
       "hollowout      21\n",
       "applique       20\n",
       "ruffles        17\n",
       "bow            14\n",
       "sequined       13\n",
       "embroidary      4\n",
       "Name: Decoration, dtype: int64"
      ]
     },
     "execution_count": 100,
     "metadata": {},
     "output_type": "execute_result"
    }
   ],
   "source": [
    "inp2.replace(bydecoration[bydecoration < 25000].index, \"Others\", inplace = True)\n",
    "inp2.Decoration.value_counts()"
   ]
  },
  {
   "cell_type": "code",
   "execution_count": null,
   "metadata": {},
   "outputs": [],
   "source": []
  },
  {
   "cell_type": "markdown",
   "metadata": {},
   "source": [
    "### Caregorical Ordered Univariate Analysis"
   ]
  },
  {
   "cell_type": "markdown",
   "metadata": {},
   "source": [
    "Which of the following is an unordered variable in “Attribute DataSet”.\n",
    "- Style\n",
    "- Price\n",
    "- Season\n",
    "- Size\n"
   ]
  },
  {
   "cell_type": "markdown",
   "metadata": {},
   "source": [
    "### Numerical variable Univariate analysis:"
   ]
  },
  {
   "cell_type": "markdown",
   "metadata": {},
   "source": [
    "What is the approximate difference between the maximum value and 75th percentile in “Autumn” column.\n",
    "- Approx 54000\n",
    "- Approx 55000\n",
    "- Approx 52000\n",
    "- Approx 50000\n",
    "\n"
   ]
  },
  {
   "cell_type": "code",
   "execution_count": 101,
   "metadata": {},
   "outputs": [
    {
     "data": {
      "text/plain": [
       "count      471.000000\n",
       "mean      2852.849257\n",
       "std       5037.033044\n",
       "min          1.000000\n",
       "25%        410.500000\n",
       "50%       1334.000000\n",
       "75%       3126.000000\n",
       "max      55532.000000\n",
       "Name: Autumn, dtype: float64"
      ]
     },
     "execution_count": 101,
     "metadata": {},
     "output_type": "execute_result"
    }
   ],
   "source": [
    "# Describe the numerical variale: \"Autumn\".\n",
    "inp2.Autumn.describe()"
   ]
  },
  {
   "cell_type": "code",
   "execution_count": 102,
   "metadata": {},
   "outputs": [
    {
     "data": {
      "text/plain": [
       "<matplotlib.axes._subplots.AxesSubplot at 0x1d27de06370>"
      ]
     },
     "execution_count": 102,
     "metadata": {},
     "output_type": "execute_result"
    },
    {
     "data": {
      "image/png": "[encoded data removed]",
      "text/plain": [
       "<Figure size 432x288 with 1 Axes>"
      ]
     },
     "metadata": {
      "needs_background": "light"
     },
     "output_type": "display_data"
    }
   ],
   "source": [
    "# plot the boxplot of \"Autumn\" column.\n",
    "inp2.Autumn.plot.box()"
   ]
  },
  {
   "cell_type": "markdown",
   "metadata": {},
   "source": [
    "Which of the following season has the highest difference between the maximum value and 99th quantile of sales?\n",
    "- Winter\n",
    "- Summer\n",
    "- Spring\n",
    "- Autumn\n"
   ]
  },
  {
   "cell_type": "code",
   "execution_count": 103,
   "metadata": {},
   "outputs": [
    {
     "data": {
      "text/plain": [
       "0.99     8985.3\n",
       "1.00    20388.0\n",
       "Name: Winter, dtype: float64"
      ]
     },
     "execution_count": 103,
     "metadata": {},
     "output_type": "execute_result"
    }
   ],
   "source": [
    "# Find the maximum and 99th percentile of Winter season.\n",
    "inp2.Winter.quantile([0.99,1])"
   ]
  },
  {
   "cell_type": "code",
   "execution_count": 104,
   "metadata": {},
   "outputs": [
    {
     "data": {
      "text/plain": [
       "0.99    13974.0\n",
       "1.00    35577.0\n",
       "Name: Summer, dtype: float64"
      ]
     },
     "execution_count": 104,
     "metadata": {},
     "output_type": "execute_result"
    }
   ],
   "source": [
    "# Find the maximum and 99th percentile of Summer season.\n",
    "inp2.Summer.quantile([0.99,1])"
   ]
  },
  {
   "cell_type": "code",
   "execution_count": 105,
   "metadata": {},
   "outputs": [
    {
     "data": {
      "text/plain": [
       "0.99    2657.2\n",
       "1.00    7374.0\n",
       "Name: Spring, dtype: float64"
      ]
     },
     "execution_count": 105,
     "metadata": {},
     "output_type": "execute_result"
    }
   ],
   "source": [
    "# Find the maximum and 99th percentile of Spring season.\n",
    "inp2.Spring.quantile([0.99,1])"
   ]
  },
  {
   "cell_type": "code",
   "execution_count": 106,
   "metadata": {},
   "outputs": [
    {
     "data": {
      "text/plain": [
       "0.99    24134.0\n",
       "1.00    55532.0\n",
       "Name: Autumn, dtype: float64"
      ]
     },
     "execution_count": 106,
     "metadata": {},
     "output_type": "execute_result"
    }
   ],
   "source": [
    "# Find the maximum and 99th percentile of Autumn season.\n",
    "inp2.Autumn.quantile([0.99,1])"
   ]
  },
  {
   "cell_type": "markdown",
   "metadata": {},
   "source": [
    "## Bivariate Analysis "
   ]
  },
  {
   "cell_type": "markdown",
   "metadata": {},
   "source": [
    "### Numerical- Categorical analysis"
   ]
  },
  {
   "cell_type": "markdown",
   "metadata": {},
   "source": [
    "Which of the following “Price” category has the lowest average value of rating?\n",
    "- very-high\n",
    "- Medium\n",
    "- Low\n",
    "- High\n"
   ]
  },
  {
   "cell_type": "code",
   "execution_count": 109,
   "metadata": {},
   "outputs": [
    {
     "data": {
      "text/html": [
       "<div>\n",
       "<style scoped>\n",
       "    .dataframe tbody tr th:only-of-type {\n",
       "        vertical-align: middle;\n",
       "    }\n",
       "\n",
       "    .dataframe tbody tr th {\n",
       "        vertical-align: top;\n",
       "    }\n",
       "\n",
       "    .dataframe thead th {\n",
       "        text-align: right;\n",
       "    }\n",
       "</style>\n",
       "<table border=\"1\" class=\"dataframe\">\n",
       "  <thead>\n",
       "    <tr style=\"text-align: right;\">\n",
       "      <th></th>\n",
       "      <th>Dress_ID</th>\n",
       "      <th>Style</th>\n",
       "      <th>Price</th>\n",
       "      <th>Rating</th>\n",
       "      <th>Size</th>\n",
       "      <th>Season</th>\n",
       "      <th>NeckLine</th>\n",
       "      <th>SleeveLength</th>\n",
       "      <th>Material</th>\n",
       "      <th>FabricType</th>\n",
       "      <th>Decoration</th>\n",
       "      <th>Pattern Type</th>\n",
       "      <th>Recommendation</th>\n",
       "      <th>Spring</th>\n",
       "      <th>Summer</th>\n",
       "      <th>Winter</th>\n",
       "      <th>Autumn</th>\n",
       "      <th>Sales</th>\n",
       "    </tr>\n",
       "  </thead>\n",
       "  <tbody>\n",
       "    <tr>\n",
       "      <th>0</th>\n",
       "      <td>1006032852</td>\n",
       "      <td>Sexy</td>\n",
       "      <td>Low</td>\n",
       "      <td>4.6</td>\n",
       "      <td>Medium</td>\n",
       "      <td>Summer</td>\n",
       "      <td>o-neck</td>\n",
       "      <td>sleeve less</td>\n",
       "      <td>Missing</td>\n",
       "      <td>chiffon</td>\n",
       "      <td>ruffles</td>\n",
       "      <td>animal</td>\n",
       "      <td>1</td>\n",
       "      <td>2660.0</td>\n",
       "      <td>13899.0</td>\n",
       "      <td>9658.0</td>\n",
       "      <td>26857.0</td>\n",
       "      <td>53074.0</td>\n",
       "    </tr>\n",
       "    <tr>\n",
       "      <th>1</th>\n",
       "      <td>1212192089</td>\n",
       "      <td>Casual</td>\n",
       "      <td>Low</td>\n",
       "      <td>0.0</td>\n",
       "      <td>Large</td>\n",
       "      <td>Summer</td>\n",
       "      <td>o-neck</td>\n",
       "      <td>Others</td>\n",
       "      <td>microfiber</td>\n",
       "      <td>Missing</td>\n",
       "      <td>ruffles</td>\n",
       "      <td>animal</td>\n",
       "      <td>0</td>\n",
       "      <td>750.0</td>\n",
       "      <td>6216.0</td>\n",
       "      <td>6405.0</td>\n",
       "      <td>17311.0</td>\n",
       "      <td>30682.0</td>\n",
       "    </tr>\n",
       "    <tr>\n",
       "      <th>2</th>\n",
       "      <td>1190380701</td>\n",
       "      <td>vintage</td>\n",
       "      <td>High</td>\n",
       "      <td>0.0</td>\n",
       "      <td>Large</td>\n",
       "      <td>Autumn</td>\n",
       "      <td>o-neck</td>\n",
       "      <td>full sleeves</td>\n",
       "      <td>polyster</td>\n",
       "      <td>Missing</td>\n",
       "      <td>Missing</td>\n",
       "      <td>print</td>\n",
       "      <td>0</td>\n",
       "      <td>7.0</td>\n",
       "      <td>40.0</td>\n",
       "      <td>28.0</td>\n",
       "      <td>82.0</td>\n",
       "      <td>157.0</td>\n",
       "    </tr>\n",
       "    <tr>\n",
       "      <th>3</th>\n",
       "      <td>966005983</td>\n",
       "      <td>Brief</td>\n",
       "      <td>Average</td>\n",
       "      <td>4.6</td>\n",
       "      <td>Large</td>\n",
       "      <td>Spring</td>\n",
       "      <td>o-neck</td>\n",
       "      <td>full sleeves</td>\n",
       "      <td>silk</td>\n",
       "      <td>chiffon</td>\n",
       "      <td>embroidary</td>\n",
       "      <td>print</td>\n",
       "      <td>1</td>\n",
       "      <td>1455.0</td>\n",
       "      <td>7213.0</td>\n",
       "      <td>5012.0</td>\n",
       "      <td>14411.0</td>\n",
       "      <td>28091.0</td>\n",
       "    </tr>\n",
       "    <tr>\n",
       "      <th>4</th>\n",
       "      <td>876339541</td>\n",
       "      <td>cute</td>\n",
       "      <td>Low</td>\n",
       "      <td>4.5</td>\n",
       "      <td>Medium</td>\n",
       "      <td>Summer</td>\n",
       "      <td>o-neck</td>\n",
       "      <td>Others</td>\n",
       "      <td>chiffonfabric</td>\n",
       "      <td>chiffon</td>\n",
       "      <td>bow</td>\n",
       "      <td>dot</td>\n",
       "      <td>0</td>\n",
       "      <td>1396.0</td>\n",
       "      <td>7706.0</td>\n",
       "      <td>5678.0</td>\n",
       "      <td>14676.0</td>\n",
       "      <td>29456.0</td>\n",
       "    </tr>\n",
       "  </tbody>\n",
       "</table>\n",
       "</div>"
      ],
      "text/plain": [
       "     Dress_ID    Style    Price  Rating    Size  Season NeckLine  \\\n",
       "0  1006032852     Sexy      Low     4.6  Medium  Summer   o-neck   \n",
       "1  1212192089   Casual      Low     0.0   Large  Summer   o-neck   \n",
       "2  1190380701  vintage     High     0.0   Large  Autumn   o-neck   \n",
       "3   966005983    Brief  Average     4.6   Large  Spring   o-neck   \n",
       "4   876339541     cute      Low     4.5  Medium  Summer   o-neck   \n",
       "\n",
       "   SleeveLength       Material FabricType  Decoration Pattern Type  \\\n",
       "0   sleeve less        Missing    chiffon     ruffles       animal   \n",
       "1        Others     microfiber    Missing     ruffles       animal   \n",
       "2  full sleeves       polyster    Missing     Missing        print   \n",
       "3  full sleeves           silk    chiffon  embroidary        print   \n",
       "4        Others  chiffonfabric    chiffon         bow          dot   \n",
       "\n",
       "   Recommendation  Spring   Summer  Winter   Autumn    Sales  \n",
       "0               1  2660.0  13899.0  9658.0  26857.0  53074.0  \n",
       "1               0   750.0   6216.0  6405.0  17311.0  30682.0  \n",
       "2               0     7.0     40.0    28.0     82.0    157.0  \n",
       "3               1  1455.0   7213.0  5012.0  14411.0  28091.0  \n",
       "4               0  1396.0   7706.0  5678.0  14676.0  29456.0  "
      ]
     },
     "execution_count": 109,
     "metadata": {},
     "output_type": "execute_result"
    }
   ],
   "source": [
    "inp2.head()"
   ]
  },
  {
   "cell_type": "code",
   "execution_count": 110,
   "metadata": {},
   "outputs": [
    {
     "data": {
      "text/plain": [
       "Price\n",
       "Average      3.454430\n",
       "High         2.914286\n",
       "Low          3.731481\n",
       "Medium       3.156667\n",
       "very-high    3.123810\n",
       "Name: Rating, dtype: float64"
      ]
     },
     "execution_count": 110,
     "metadata": {},
     "output_type": "execute_result"
    }
   ],
   "source": [
    "# Find the Mean of Ratings for each Price category.\n",
    "inp2.groupby(\"Price\")[\"Rating\"].mean()"
   ]
  },
  {
   "cell_type": "markdown",
   "metadata": {},
   "source": [
    "What is the median of the rating of “vintage” category in Style column?\n",
    "- 4.6\n",
    "- 4.7\n",
    "- 4.55\n",
    "- 0.00\n"
   ]
  },
  {
   "cell_type": "code",
   "execution_count": 111,
   "metadata": {},
   "outputs": [
    {
     "data": {
      "text/plain": [
       "Style\n",
       "Brief       4.60\n",
       "Casual      4.60\n",
       "Others      0.00\n",
       "Sexy        4.60\n",
       "bohemian    4.60\n",
       "cute        4.60\n",
       "party       4.70\n",
       "sexy        4.55\n",
       "vintage     4.60\n",
       "work        4.70\n",
       "Name: Rating, dtype: float64"
      ]
     },
     "execution_count": 111,
     "metadata": {},
     "output_type": "execute_result"
    }
   ],
   "source": [
    "# Find the median of Ratings for each Style category.\n",
    "inp2.groupby(\"Style\")[\"Rating\"].median()"
   ]
  },
  {
   "cell_type": "markdown",
   "metadata": {},
   "source": [
    "Which of the following season has the highest average value of sale for “Recommendation” value equals to 1.\n",
    "- Summer\n",
    "- Spring\n",
    "- Autumn\n",
    "- Winter\n"
   ]
  },
  {
   "cell_type": "code",
   "execution_count": 112,
   "metadata": {},
   "outputs": [
    {
     "data": {
      "text/plain": [
       "Recommendation\n",
       "False    1433.547794\n",
       "True     1469.899497\n",
       "Name: Summer, dtype: float64"
      ]
     },
     "execution_count": 112,
     "metadata": {},
     "output_type": "execute_result"
    }
   ],
   "source": [
    "inp2.groupby(inp2.Recommendation ==1)[\"Summer\"].mean()"
   ]
  },
  {
   "cell_type": "code",
   "execution_count": 113,
   "metadata": {},
   "outputs": [
    {
     "data": {
      "text/plain": [
       "Recommendation\n",
       "False    298.209559\n",
       "True     303.658291\n",
       "Name: Spring, dtype: float64"
      ]
     },
     "execution_count": 113,
     "metadata": {},
     "output_type": "execute_result"
    }
   ],
   "source": [
    "inp2.groupby(inp2.Recommendation ==1)[\"Spring\"].mean()"
   ]
  },
  {
   "cell_type": "code",
   "execution_count": 114,
   "metadata": {},
   "outputs": [
    {
     "data": {
      "text/plain": [
       "Recommendation\n",
       "False    2841.720588\n",
       "True     2868.060302\n",
       "Name: Autumn, dtype: float64"
      ]
     },
     "execution_count": 114,
     "metadata": {},
     "output_type": "execute_result"
    }
   ],
   "source": [
    "inp2.groupby(inp2.Recommendation ==1)[\"Autumn\"].mean()"
   ]
  },
  {
   "cell_type": "code",
   "execution_count": 115,
   "metadata": {},
   "outputs": [
    {
     "data": {
      "text/plain": [
       "Recommendation\n",
       "False     987.654412\n",
       "True     1002.809045\n",
       "Name: Winter, dtype: float64"
      ]
     },
     "execution_count": 115,
     "metadata": {},
     "output_type": "execute_result"
    }
   ],
   "source": [
    "inp2.groupby(inp2.Recommendation ==1)[\"Winter\"].mean()"
   ]
  },
  {
   "cell_type": "code",
   "execution_count": 117,
   "metadata": {},
   "outputs": [
    {
     "name": "stdout",
     "output_type": "stream",
     "text": [
      "Recommendation\n",
      "0    2841.720588\n",
      "1    2868.060302\n",
      "Name: Autumn, dtype: float64\n"
     ]
    },
    {
     "data": {
      "image/png": "[encoded data removed]",
      "text/plain": [
       "<Figure size 432x288 with 1 Axes>"
      ]
     },
     "metadata": {
      "needs_background": "light"
     },
     "output_type": "display_data"
    }
   ],
   "source": [
    "print(inp2.groupby('Recommendation')['Autumn'].mean())\n",
    "\n",
    "sns.boxplot(data=inp2, x=\"Recommendation\",y=\"Autumn\")\n",
    "\n",
    "plt.show()"
   ]
  },
  {
   "cell_type": "code",
   "execution_count": null,
   "metadata": {},
   "outputs": [],
   "source": [
    "# Summer sale vs Recommendation.\n"
   ]
  },
  {
   "cell_type": "code",
   "execution_count": null,
   "metadata": {},
   "outputs": [],
   "source": [
    "# Spring sale vs Recommendation.\n"
   ]
  },
  {
   "cell_type": "code",
   "execution_count": null,
   "metadata": {},
   "outputs": [],
   "source": [
    "# Autumn sale vs Recommendation.\n"
   ]
  },
  {
   "cell_type": "code",
   "execution_count": null,
   "metadata": {},
   "outputs": [],
   "source": [
    "# Winter sale vs Recommendation.\n"
   ]
  },
  {
   "cell_type": "markdown",
   "metadata": {},
   "source": [
    "### Categorical categorical bivariate analysis\n"
   ]
  },
  {
   "cell_type": "markdown",
   "metadata": {},
   "source": [
    "Which of the following size categories has the highest positive recommendations?\n",
    "- Medium and extra large\n",
    "- Extra large and small\n",
    "- Free and small\n",
    "- Free and medium\n"
   ]
  },
  {
   "cell_type": "code",
   "execution_count": null,
   "metadata": {},
   "outputs": [],
   "source": [
    "# Size vs Recommendation.\n"
   ]
  },
  {
   "cell_type": "code",
   "execution_count": 119,
   "metadata": {},
   "outputs": [
    {
     "data": {
      "text/plain": [
       "0    272\n",
       "1    199\n",
       "Name: Recommendation, dtype: int64"
      ]
     },
     "execution_count": 119,
     "metadata": {},
     "output_type": "execute_result"
    }
   ],
   "source": [
    "inp2.Recommendation.value_counts()"
   ]
  },
  {
   "cell_type": "code",
   "execution_count": 121,
   "metadata": {},
   "outputs": [
    {
     "data": {
      "text/plain": [
       "Size\n",
       "Extra large     4\n",
       "Free           74\n",
       "Large          32\n",
       "Medium         76\n",
       "Small          13\n",
       "Name: Recommendation, dtype: int64"
      ]
     },
     "execution_count": 121,
     "metadata": {},
     "output_type": "execute_result"
    }
   ],
   "source": [
    "inp2.groupby(\"Size\")[\"Recommendation\"].sum()"
   ]
  },
  {
   "cell_type": "code",
   "execution_count": 123,
   "metadata": {},
   "outputs": [
    {
     "data": {
      "text/plain": [
       "Size\n",
       "Extra large     4\n",
       "Free           74\n",
       "Large          32\n",
       "Medium         76\n",
       "Small          13\n",
       "Name: Recommendation, dtype: int64"
      ]
     },
     "execution_count": 123,
     "metadata": {},
     "output_type": "execute_result"
    },
    {
     "data": {
      "image/png": "[encoded data removed]",
      "text/plain": [
       "<Figure size 432x288 with 1 Axes>"
      ]
     },
     "metadata": {
      "needs_background": "light"
     },
     "output_type": "display_data"
    }
   ],
   "source": [
    "inp2.groupby(['Size'])['Recommendation'].mean().plot.barh()\n",
    "inp2.groupby('Size')['Recommendation'].sum()"
   ]
  },
  {
   "cell_type": "markdown",
   "metadata": {},
   "source": [
    "### Multivariate analysis "
   ]
  },
  {
   "cell_type": "markdown",
   "metadata": {},
   "source": [
    "Which of the following pair of “Style” and “Price” category has the highest average of positive recommendations?\n",
    "- Price: medium and style: vintage\n",
    "- Price: medium and style: cute\n",
    "- Price: very high and style: party\n",
    "- Price: low and style: sexy\n"
   ]
  },
  {
   "cell_type": "code",
   "execution_count": null,
   "metadata": {},
   "outputs": [],
   "source": [
    "# plot the heat map of Style, price and Recommendation.\n"
   ]
  },
  {
   "cell_type": "code",
   "execution_count": 124,
   "metadata": {},
   "outputs": [
    {
     "data": {
      "text/html": [
       "<div>\n",
       "<style scoped>\n",
       "    .dataframe tbody tr th:only-of-type {\n",
       "        vertical-align: middle;\n",
       "    }\n",
       "\n",
       "    .dataframe tbody tr th {\n",
       "        vertical-align: top;\n",
       "    }\n",
       "\n",
       "    .dataframe thead th {\n",
       "        text-align: right;\n",
       "    }\n",
       "</style>\n",
       "<table border=\"1\" class=\"dataframe\">\n",
       "  <thead>\n",
       "    <tr style=\"text-align: right;\">\n",
       "      <th>Style</th>\n",
       "      <th>Brief</th>\n",
       "      <th>Casual</th>\n",
       "      <th>Others</th>\n",
       "      <th>Sexy</th>\n",
       "      <th>bohemian</th>\n",
       "      <th>cute</th>\n",
       "      <th>party</th>\n",
       "      <th>sexy</th>\n",
       "      <th>vintage</th>\n",
       "      <th>work</th>\n",
       "    </tr>\n",
       "    <tr>\n",
       "      <th>Price</th>\n",
       "      <th></th>\n",
       "      <th></th>\n",
       "      <th></th>\n",
       "      <th></th>\n",
       "      <th></th>\n",
       "      <th></th>\n",
       "      <th></th>\n",
       "      <th></th>\n",
       "      <th></th>\n",
       "      <th></th>\n",
       "    </tr>\n",
       "  </thead>\n",
       "  <tbody>\n",
       "    <tr>\n",
       "      <th>Average</th>\n",
       "      <td>0.333333</td>\n",
       "      <td>0.345455</td>\n",
       "      <td>0.375</td>\n",
       "      <td>0.344828</td>\n",
       "      <td>0.333333</td>\n",
       "      <td>0.400000</td>\n",
       "      <td>0.647059</td>\n",
       "      <td>0.00</td>\n",
       "      <td>0.352941</td>\n",
       "      <td>0.214286</td>\n",
       "    </tr>\n",
       "    <tr>\n",
       "      <th>High</th>\n",
       "      <td>NaN</td>\n",
       "      <td>0.666667</td>\n",
       "      <td>NaN</td>\n",
       "      <td>0.000000</td>\n",
       "      <td>NaN</td>\n",
       "      <td>0.666667</td>\n",
       "      <td>0.333333</td>\n",
       "      <td>NaN</td>\n",
       "      <td>0.000000</td>\n",
       "      <td>NaN</td>\n",
       "    </tr>\n",
       "    <tr>\n",
       "      <th>Low</th>\n",
       "      <td>0.000000</td>\n",
       "      <td>0.379310</td>\n",
       "      <td>NaN</td>\n",
       "      <td>0.500000</td>\n",
       "      <td>0.666667</td>\n",
       "      <td>0.500000</td>\n",
       "      <td>NaN</td>\n",
       "      <td>0.75</td>\n",
       "      <td>0.250000</td>\n",
       "      <td>0.000000</td>\n",
       "    </tr>\n",
       "    <tr>\n",
       "      <th>Medium</th>\n",
       "      <td>NaN</td>\n",
       "      <td>0.666667</td>\n",
       "      <td>0.500</td>\n",
       "      <td>0.000000</td>\n",
       "      <td>1.000000</td>\n",
       "      <td>1.000000</td>\n",
       "      <td>0.800000</td>\n",
       "      <td>0.00</td>\n",
       "      <td>0.500000</td>\n",
       "      <td>0.000000</td>\n",
       "    </tr>\n",
       "    <tr>\n",
       "      <th>very-high</th>\n",
       "      <td>NaN</td>\n",
       "      <td>0.500000</td>\n",
       "      <td>NaN</td>\n",
       "      <td>0.000000</td>\n",
       "      <td>1.000000</td>\n",
       "      <td>NaN</td>\n",
       "      <td>0.823529</td>\n",
       "      <td>NaN</td>\n",
       "      <td>NaN</td>\n",
       "      <td>NaN</td>\n",
       "    </tr>\n",
       "  </tbody>\n",
       "</table>\n",
       "</div>"
      ],
      "text/plain": [
       "Style         Brief    Casual  Others      Sexy  bohemian      cute     party  \\\n",
       "Price                                                                           \n",
       "Average    0.333333  0.345455   0.375  0.344828  0.333333  0.400000  0.647059   \n",
       "High            NaN  0.666667     NaN  0.000000       NaN  0.666667  0.333333   \n",
       "Low        0.000000  0.379310     NaN  0.500000  0.666667  0.500000       NaN   \n",
       "Medium          NaN  0.666667   0.500  0.000000  1.000000  1.000000  0.800000   \n",
       "very-high       NaN  0.500000     NaN  0.000000  1.000000       NaN  0.823529   \n",
       "\n",
       "Style      sexy   vintage      work  \n",
       "Price                                \n",
       "Average    0.00  0.352941  0.214286  \n",
       "High        NaN  0.000000       NaN  \n",
       "Low        0.75  0.250000  0.000000  \n",
       "Medium     0.00  0.500000  0.000000  \n",
       "very-high   NaN       NaN       NaN  "
      ]
     },
     "execution_count": 124,
     "metadata": {},
     "output_type": "execute_result"
    }
   ],
   "source": [
    "pd.pivot_table(data = inp2, index = \"Price\" , columns = \"Style\" , values = \"Recommendation\")"
   ]
  },
  {
   "cell_type": "code",
   "execution_count": 125,
   "metadata": {},
   "outputs": [
    {
     "data": {
      "text/plain": [
       "<matplotlib.axes._subplots.AxesSubplot at 0x1d27e13da30>"
      ]
     },
     "execution_count": 125,
     "metadata": {},
     "output_type": "execute_result"
    },
    {
     "data": {
      "image/png": "[encoded data removed]",
      "text/plain": [
       "<Figure size 432x288 with 2 Axes>"
      ]
     },
     "metadata": {
      "needs_background": "light"
     },
     "output_type": "display_data"
    }
   ],
   "source": [
    "res = pd.pivot_table(data = inp2, index = \"Price\" , columns = \"Style\" , values = \"Recommendation\")\n",
    "sns.heatmap(res, annot = True, cmap = \"RdYlGn\")"
   ]
  },
  {
   "cell_type": "code",
   "execution_count": 126,
   "metadata": {},
   "outputs": [
    {
     "data": {
      "text/plain": [
       "0.42250530785562634"
      ]
     },
     "execution_count": 126,
     "metadata": {},
     "output_type": "execute_result"
    }
   ],
   "source": [
    "inp2.Recommendation.mean()"
   ]
  },
  {
   "cell_type": "code",
   "execution_count": 127,
   "metadata": {},
   "outputs": [
    {
     "data": {
      "image/png": "[encoded data removed]",
      "text/plain": [
       "<Figure size 432x288 with 2 Axes>"
      ]
     },
     "metadata": {
      "needs_background": "light"
     },
     "output_type": "display_data"
    }
   ],
   "source": [
    "res = pd.pivot_table(data = inp2, index = \"Price\" , columns = \"Style\" , values = \"Recommendation\")\n",
    "sns.heatmap(res, annot = True, cmap = \"RdYlGn\", center=0.423 )\n",
    "plt.show()"
   ]
  },
  {
   "cell_type": "markdown",
   "metadata": {},
   "source": [
    "Which of the following material type has no recommendation in summer and winter seasons?\n",
    "- Mix and Milksilk\n",
    "- Nylon and Rayon\n",
    "- Microfiber and Silk\n",
    "- Milksilk and Microfiber\n"
   ]
  },
  {
   "cell_type": "code",
   "execution_count": 128,
   "metadata": {},
   "outputs": [
    {
     "data": {
      "text/plain": [
       "cotton           144\n",
       "Missing          116\n",
       "polyster          92\n",
       "Others            29\n",
       "silk              26\n",
       "chiffonfabric     24\n",
       "mix               12\n",
       "rayon             10\n",
       "nylon             10\n",
       "milksilk           5\n",
       "microfiber         3\n",
       "Name: Material, dtype: int64"
      ]
     },
     "execution_count": 128,
     "metadata": {},
     "output_type": "execute_result"
    }
   ],
   "source": [
    "inp2.Material.value_counts()"
   ]
  },
  {
   "cell_type": "code",
   "execution_count": 129,
   "metadata": {},
   "outputs": [
    {
     "data": {
      "text/html": [
       "<div>\n",
       "<style scoped>\n",
       "    .dataframe tbody tr th:only-of-type {\n",
       "        vertical-align: middle;\n",
       "    }\n",
       "\n",
       "    .dataframe tbody tr th {\n",
       "        vertical-align: top;\n",
       "    }\n",
       "\n",
       "    .dataframe thead th {\n",
       "        text-align: right;\n",
       "    }\n",
       "</style>\n",
       "<table border=\"1\" class=\"dataframe\">\n",
       "  <thead>\n",
       "    <tr style=\"text-align: right;\">\n",
       "      <th>Summer</th>\n",
       "      <th>2.0</th>\n",
       "      <th>3.0</th>\n",
       "      <th>4.0</th>\n",
       "      <th>5.0</th>\n",
       "      <th>6.0</th>\n",
       "      <th>7.0</th>\n",
       "      <th>8.0</th>\n",
       "      <th>9.0</th>\n",
       "      <th>10.0</th>\n",
       "      <th>11.0</th>\n",
       "      <th>...</th>\n",
       "      <th>9616.0</th>\n",
       "      <th>9858.0</th>\n",
       "      <th>11260.0</th>\n",
       "      <th>11421.0</th>\n",
       "      <th>13899.0</th>\n",
       "      <th>14149.0</th>\n",
       "      <th>14402.0</th>\n",
       "      <th>16731.0</th>\n",
       "      <th>27024.0</th>\n",
       "      <th>35577.0</th>\n",
       "    </tr>\n",
       "    <tr>\n",
       "      <th>Material</th>\n",
       "      <th></th>\n",
       "      <th></th>\n",
       "      <th></th>\n",
       "      <th></th>\n",
       "      <th></th>\n",
       "      <th></th>\n",
       "      <th></th>\n",
       "      <th></th>\n",
       "      <th></th>\n",
       "      <th></th>\n",
       "      <th></th>\n",
       "      <th></th>\n",
       "      <th></th>\n",
       "      <th></th>\n",
       "      <th></th>\n",
       "      <th></th>\n",
       "      <th></th>\n",
       "      <th></th>\n",
       "      <th></th>\n",
       "      <th></th>\n",
       "      <th></th>\n",
       "    </tr>\n",
       "  </thead>\n",
       "  <tbody>\n",
       "    <tr>\n",
       "      <th>Missing</th>\n",
       "      <td>NaN</td>\n",
       "      <td>1.0</td>\n",
       "      <td>NaN</td>\n",
       "      <td>NaN</td>\n",
       "      <td>0.5</td>\n",
       "      <td>NaN</td>\n",
       "      <td>0.0</td>\n",
       "      <td>NaN</td>\n",
       "      <td>NaN</td>\n",
       "      <td>NaN</td>\n",
       "      <td>...</td>\n",
       "      <td>0.0</td>\n",
       "      <td>NaN</td>\n",
       "      <td>NaN</td>\n",
       "      <td>0.0</td>\n",
       "      <td>1.0</td>\n",
       "      <td>NaN</td>\n",
       "      <td>NaN</td>\n",
       "      <td>0.0</td>\n",
       "      <td>NaN</td>\n",
       "      <td>NaN</td>\n",
       "    </tr>\n",
       "    <tr>\n",
       "      <th>Others</th>\n",
       "      <td>NaN</td>\n",
       "      <td>1.0</td>\n",
       "      <td>NaN</td>\n",
       "      <td>NaN</td>\n",
       "      <td>1.0</td>\n",
       "      <td>1.0</td>\n",
       "      <td>NaN</td>\n",
       "      <td>NaN</td>\n",
       "      <td>NaN</td>\n",
       "      <td>NaN</td>\n",
       "      <td>...</td>\n",
       "      <td>NaN</td>\n",
       "      <td>NaN</td>\n",
       "      <td>NaN</td>\n",
       "      <td>NaN</td>\n",
       "      <td>NaN</td>\n",
       "      <td>NaN</td>\n",
       "      <td>NaN</td>\n",
       "      <td>NaN</td>\n",
       "      <td>NaN</td>\n",
       "      <td>NaN</td>\n",
       "    </tr>\n",
       "    <tr>\n",
       "      <th>chiffonfabric</th>\n",
       "      <td>NaN</td>\n",
       "      <td>NaN</td>\n",
       "      <td>NaN</td>\n",
       "      <td>NaN</td>\n",
       "      <td>1.0</td>\n",
       "      <td>NaN</td>\n",
       "      <td>NaN</td>\n",
       "      <td>NaN</td>\n",
       "      <td>NaN</td>\n",
       "      <td>NaN</td>\n",
       "      <td>...</td>\n",
       "      <td>NaN</td>\n",
       "      <td>NaN</td>\n",
       "      <td>0.0</td>\n",
       "      <td>NaN</td>\n",
       "      <td>NaN</td>\n",
       "      <td>NaN</td>\n",
       "      <td>NaN</td>\n",
       "      <td>NaN</td>\n",
       "      <td>NaN</td>\n",
       "      <td>1.0</td>\n",
       "    </tr>\n",
       "    <tr>\n",
       "      <th>cotton</th>\n",
       "      <td>1.0</td>\n",
       "      <td>1.0</td>\n",
       "      <td>NaN</td>\n",
       "      <td>0.0</td>\n",
       "      <td>NaN</td>\n",
       "      <td>NaN</td>\n",
       "      <td>1.0</td>\n",
       "      <td>0.0</td>\n",
       "      <td>NaN</td>\n",
       "      <td>1.0</td>\n",
       "      <td>...</td>\n",
       "      <td>NaN</td>\n",
       "      <td>NaN</td>\n",
       "      <td>NaN</td>\n",
       "      <td>NaN</td>\n",
       "      <td>NaN</td>\n",
       "      <td>NaN</td>\n",
       "      <td>1.0</td>\n",
       "      <td>NaN</td>\n",
       "      <td>NaN</td>\n",
       "      <td>NaN</td>\n",
       "    </tr>\n",
       "    <tr>\n",
       "      <th>microfiber</th>\n",
       "      <td>NaN</td>\n",
       "      <td>NaN</td>\n",
       "      <td>NaN</td>\n",
       "      <td>NaN</td>\n",
       "      <td>NaN</td>\n",
       "      <td>NaN</td>\n",
       "      <td>NaN</td>\n",
       "      <td>NaN</td>\n",
       "      <td>NaN</td>\n",
       "      <td>NaN</td>\n",
       "      <td>...</td>\n",
       "      <td>NaN</td>\n",
       "      <td>NaN</td>\n",
       "      <td>NaN</td>\n",
       "      <td>NaN</td>\n",
       "      <td>NaN</td>\n",
       "      <td>NaN</td>\n",
       "      <td>NaN</td>\n",
       "      <td>NaN</td>\n",
       "      <td>NaN</td>\n",
       "      <td>NaN</td>\n",
       "    </tr>\n",
       "    <tr>\n",
       "      <th>milksilk</th>\n",
       "      <td>NaN</td>\n",
       "      <td>NaN</td>\n",
       "      <td>NaN</td>\n",
       "      <td>NaN</td>\n",
       "      <td>NaN</td>\n",
       "      <td>NaN</td>\n",
       "      <td>NaN</td>\n",
       "      <td>NaN</td>\n",
       "      <td>NaN</td>\n",
       "      <td>NaN</td>\n",
       "      <td>...</td>\n",
       "      <td>NaN</td>\n",
       "      <td>NaN</td>\n",
       "      <td>NaN</td>\n",
       "      <td>NaN</td>\n",
       "      <td>NaN</td>\n",
       "      <td>NaN</td>\n",
       "      <td>NaN</td>\n",
       "      <td>NaN</td>\n",
       "      <td>NaN</td>\n",
       "      <td>NaN</td>\n",
       "    </tr>\n",
       "    <tr>\n",
       "      <th>mix</th>\n",
       "      <td>NaN</td>\n",
       "      <td>NaN</td>\n",
       "      <td>NaN</td>\n",
       "      <td>NaN</td>\n",
       "      <td>NaN</td>\n",
       "      <td>NaN</td>\n",
       "      <td>NaN</td>\n",
       "      <td>NaN</td>\n",
       "      <td>NaN</td>\n",
       "      <td>NaN</td>\n",
       "      <td>...</td>\n",
       "      <td>NaN</td>\n",
       "      <td>NaN</td>\n",
       "      <td>NaN</td>\n",
       "      <td>NaN</td>\n",
       "      <td>NaN</td>\n",
       "      <td>NaN</td>\n",
       "      <td>NaN</td>\n",
       "      <td>NaN</td>\n",
       "      <td>NaN</td>\n",
       "      <td>NaN</td>\n",
       "    </tr>\n",
       "    <tr>\n",
       "      <th>nylon</th>\n",
       "      <td>NaN</td>\n",
       "      <td>NaN</td>\n",
       "      <td>0.0</td>\n",
       "      <td>NaN</td>\n",
       "      <td>NaN</td>\n",
       "      <td>NaN</td>\n",
       "      <td>NaN</td>\n",
       "      <td>NaN</td>\n",
       "      <td>NaN</td>\n",
       "      <td>NaN</td>\n",
       "      <td>...</td>\n",
       "      <td>NaN</td>\n",
       "      <td>NaN</td>\n",
       "      <td>NaN</td>\n",
       "      <td>NaN</td>\n",
       "      <td>NaN</td>\n",
       "      <td>NaN</td>\n",
       "      <td>NaN</td>\n",
       "      <td>NaN</td>\n",
       "      <td>NaN</td>\n",
       "      <td>NaN</td>\n",
       "    </tr>\n",
       "    <tr>\n",
       "      <th>polyster</th>\n",
       "      <td>NaN</td>\n",
       "      <td>1.0</td>\n",
       "      <td>NaN</td>\n",
       "      <td>0.0</td>\n",
       "      <td>NaN</td>\n",
       "      <td>NaN</td>\n",
       "      <td>NaN</td>\n",
       "      <td>0.0</td>\n",
       "      <td>NaN</td>\n",
       "      <td>NaN</td>\n",
       "      <td>...</td>\n",
       "      <td>NaN</td>\n",
       "      <td>1.0</td>\n",
       "      <td>NaN</td>\n",
       "      <td>NaN</td>\n",
       "      <td>NaN</td>\n",
       "      <td>NaN</td>\n",
       "      <td>NaN</td>\n",
       "      <td>NaN</td>\n",
       "      <td>0.0</td>\n",
       "      <td>NaN</td>\n",
       "    </tr>\n",
       "    <tr>\n",
       "      <th>rayon</th>\n",
       "      <td>NaN</td>\n",
       "      <td>NaN</td>\n",
       "      <td>NaN</td>\n",
       "      <td>NaN</td>\n",
       "      <td>NaN</td>\n",
       "      <td>1.0</td>\n",
       "      <td>NaN</td>\n",
       "      <td>NaN</td>\n",
       "      <td>NaN</td>\n",
       "      <td>NaN</td>\n",
       "      <td>...</td>\n",
       "      <td>NaN</td>\n",
       "      <td>NaN</td>\n",
       "      <td>NaN</td>\n",
       "      <td>NaN</td>\n",
       "      <td>NaN</td>\n",
       "      <td>0.0</td>\n",
       "      <td>NaN</td>\n",
       "      <td>NaN</td>\n",
       "      <td>NaN</td>\n",
       "      <td>NaN</td>\n",
       "    </tr>\n",
       "    <tr>\n",
       "      <th>silk</th>\n",
       "      <td>NaN</td>\n",
       "      <td>NaN</td>\n",
       "      <td>NaN</td>\n",
       "      <td>NaN</td>\n",
       "      <td>NaN</td>\n",
       "      <td>NaN</td>\n",
       "      <td>1.0</td>\n",
       "      <td>NaN</td>\n",
       "      <td>1.0</td>\n",
       "      <td>NaN</td>\n",
       "      <td>...</td>\n",
       "      <td>NaN</td>\n",
       "      <td>NaN</td>\n",
       "      <td>NaN</td>\n",
       "      <td>NaN</td>\n",
       "      <td>NaN</td>\n",
       "      <td>NaN</td>\n",
       "      <td>NaN</td>\n",
       "      <td>NaN</td>\n",
       "      <td>NaN</td>\n",
       "      <td>NaN</td>\n",
       "    </tr>\n",
       "  </tbody>\n",
       "</table>\n",
       "<p>11 rows × 408 columns</p>\n",
       "</div>"
      ],
      "text/plain": [
       "Summer         2.0      3.0      4.0      5.0      6.0      7.0      8.0      \\\n",
       "Material                                                                       \n",
       "Missing            NaN      1.0      NaN      NaN      0.5      NaN      0.0   \n",
       "Others             NaN      1.0      NaN      NaN      1.0      1.0      NaN   \n",
       "chiffonfabric      NaN      NaN      NaN      NaN      1.0      NaN      NaN   \n",
       "cotton             1.0      1.0      NaN      0.0      NaN      NaN      1.0   \n",
       "microfiber         NaN      NaN      NaN      NaN      NaN      NaN      NaN   \n",
       "milksilk           NaN      NaN      NaN      NaN      NaN      NaN      NaN   \n",
       "mix                NaN      NaN      NaN      NaN      NaN      NaN      NaN   \n",
       "nylon              NaN      NaN      0.0      NaN      NaN      NaN      NaN   \n",
       "polyster           NaN      1.0      NaN      0.0      NaN      NaN      NaN   \n",
       "rayon              NaN      NaN      NaN      NaN      NaN      1.0      NaN   \n",
       "silk               NaN      NaN      NaN      NaN      NaN      NaN      1.0   \n",
       "\n",
       "Summer         9.0      10.0     11.0     ...  9616.0   9858.0   11260.0  \\\n",
       "Material                                  ...                              \n",
       "Missing            NaN      NaN      NaN  ...      0.0      NaN      NaN   \n",
       "Others             NaN      NaN      NaN  ...      NaN      NaN      NaN   \n",
       "chiffonfabric      NaN      NaN      NaN  ...      NaN      NaN      0.0   \n",
       "cotton             0.0      NaN      1.0  ...      NaN      NaN      NaN   \n",
       "microfiber         NaN      NaN      NaN  ...      NaN      NaN      NaN   \n",
       "milksilk           NaN      NaN      NaN  ...      NaN      NaN      NaN   \n",
       "mix                NaN      NaN      NaN  ...      NaN      NaN      NaN   \n",
       "nylon              NaN      NaN      NaN  ...      NaN      NaN      NaN   \n",
       "polyster           0.0      NaN      NaN  ...      NaN      1.0      NaN   \n",
       "rayon              NaN      NaN      NaN  ...      NaN      NaN      NaN   \n",
       "silk               NaN      1.0      NaN  ...      NaN      NaN      NaN   \n",
       "\n",
       "Summer         11421.0  13899.0  14149.0  14402.0  16731.0  27024.0  35577.0  \n",
       "Material                                                                      \n",
       "Missing            0.0      1.0      NaN      NaN      0.0      NaN      NaN  \n",
       "Others             NaN      NaN      NaN      NaN      NaN      NaN      NaN  \n",
       "chiffonfabric      NaN      NaN      NaN      NaN      NaN      NaN      1.0  \n",
       "cotton             NaN      NaN      NaN      1.0      NaN      NaN      NaN  \n",
       "microfiber         NaN      NaN      NaN      NaN      NaN      NaN      NaN  \n",
       "milksilk           NaN      NaN      NaN      NaN      NaN      NaN      NaN  \n",
       "mix                NaN      NaN      NaN      NaN      NaN      NaN      NaN  \n",
       "nylon              NaN      NaN      NaN      NaN      NaN      NaN      NaN  \n",
       "polyster           NaN      NaN      NaN      NaN      NaN      0.0      NaN  \n",
       "rayon              NaN      NaN      0.0      NaN      NaN      NaN      NaN  \n",
       "silk               NaN      NaN      NaN      NaN      NaN      NaN      NaN  \n",
       "\n",
       "[11 rows x 408 columns]"
      ]
     },
     "execution_count": 129,
     "metadata": {},
     "output_type": "execute_result"
    }
   ],
   "source": [
    "pd.pivot_table(data = inp2, index = \"Material\" , columns = \"Summer\" , values = \"Recommendation\")"
   ]
  },
  {
   "cell_type": "code",
   "execution_count": 134,
   "metadata": {},
   "outputs": [
    {
     "data": {
      "image/png": "[encoded data removed]",
      "text/plain": [
       "<Figure size 432x288 with 2 Axes>"
      ]
     },
     "metadata": {
      "needs_background": "light"
     },
     "output_type": "display_data"
    }
   ],
   "source": [
    "res1 = pd.pivot_table(data = inp2, index = \"Material\" , columns = \"Season\" , values = \"Recommendation\")\n",
    "sns.heatmap(res1, annot = True, cmap = \"RdYlGn\", center = 0.423)\n",
    "plt.show()"
   ]
  },
  {
   "cell_type": "code",
   "execution_count": null,
   "metadata": {},
   "outputs": [],
   "source": []
  },
  {
   "cell_type": "code",
   "execution_count": null,
   "metadata": {},
   "outputs": [],
   "source": [
    "# plot the heat map of Season, material and Recommendation.\n"
   ]
  },
  {
   "cell_type": "code",
   "execution_count": null,
   "metadata": {},
   "outputs": [],
   "source": []
  },
  {
   "cell_type": "code",
   "execution_count": null,
   "metadata": {},
   "outputs": [],
   "source": []
  },
  {
   "cell_type": "code",
   "execution_count": null,
   "metadata": {},
   "outputs": [],
   "source": []
  }
 ],
 "metadata": {
  "kernelspec": {
   "display_name": "Python 3",
   "language": "python",
   "name": "python3"
  },
  "language_info": {
   "codemirror_mode": {
    "name": "ipython",
    "version": 3
   },
   "file_extension": ".py",
   "mimetype": "text/x-python",
   "name": "python",
   "nbconvert_exporter": "python",
   "pygments_lexer": "ipython3",
   "version": "3.8.3"
  }
 },
 "nbformat": 4,
 "nbformat_minor": 2
}
