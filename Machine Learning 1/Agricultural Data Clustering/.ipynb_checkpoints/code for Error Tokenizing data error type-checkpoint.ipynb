{
 "cells": [
  {
   "cell_type": "code",
   "execution_count": null,
   "metadata": {},
   "outputs": [],
   "source": [
    "# - I had this problem as well but perhaps for a different reason. \n",
    "# I had some trailing commas in my CSV that were adding an additional column that pandas was attempting to read.\n",
    "# Using the following works but it simply ignores the bad lines:\n",
    "\n",
    "data = pd.read_csv('file1.csv', error_bad_lines=False)\n",
    "\n",
    "# If you want to keep the lines an ugly kind of hack for handling the errors is to do something like the following:\n",
    "\n",
    "line     = []\n",
    "expected = []\n",
    "saw      = []     \n",
    "cont     = True \n",
    "\n",
    "while cont == True:     \n",
    "    try:\n",
    "        data = pd.read_csv('file1.csv',skiprows=line)\n",
    "        cont = False\n",
    "    except Exception as e:    \n",
    "        errortype = e.message.split('.')[0].strip()                                \n",
    "        if errortype == 'Error tokenizing data':                        \n",
    "           cerror      = e.message.split(':')[1].strip().replace(',','')\n",
    "           nums        = [n for n in cerror.split(' ') if str.isdigit(n)]\n",
    "           expected.append(int(nums[0]))\n",
    "           saw.append(int(nums[2]))\n",
    "           line.append(int(nums[1])-1)\n",
    "         else:\n",
    "           cerror      = 'Unknown'\n",
    "           print 'Unknown Error - 222'\n",
    "\n",
    "if line != []:\n",
    "    # Handle the errors however you want"
   ]
  }
 ],
 "metadata": {
  "kernelspec": {
   "display_name": "Python 3",
   "language": "python",
   "name": "python3"
  },
  "language_info": {
   "codemirror_mode": {
    "name": "ipython",
    "version": 3
   },
   "file_extension": ".py",
   "mimetype": "text/x-python",
   "name": "python",
   "nbconvert_exporter": "python",
   "pygments_lexer": "ipython3",
   "version": "3.8.3"
  }
 },
 "nbformat": 4,
 "nbformat_minor": 4
}
