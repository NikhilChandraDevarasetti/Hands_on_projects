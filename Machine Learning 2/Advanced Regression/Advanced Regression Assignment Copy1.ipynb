{
 "cells": [
  {
   "cell_type": "markdown",
   "metadata": {},
   "source": [
    "# Problem Statement:"
   ]
  },
  {
   "cell_type": "markdown",
   "metadata": {},
   "source": [
    "A US-based housing company named Surprise Housing has decided to enter the Australian market. The company uses data analytics to purchase houses at a price below their actual values and flip them on at a higher price. For the same purpose, the company has collected a data set from the sale of houses in Australia. The data is provided in the CSV file below.\n",
    "\n",
    " \n",
    "\n",
    "The company is looking at prospective properties to buy to enter the market. You are required to build a regression model using regularisation in order to predict the actual value of the prospective properties and decide whether to invest in them or not.\n",
    "\n",
    " \n",
    "\n",
    "The company wants to know the following things about the prospective properties:\n",
    "\n",
    "Which variables are significant in predicting the price of a house, and\n",
    "\n",
    "How well those variables describe the price of a house.\n",
    "\n",
    " \n",
    "\n",
    "Also, determine the optimal value of lambda for ridge and lasso regression."
   ]
  },
  {
   "cell_type": "code",
   "execution_count": 2,
   "metadata": {},
   "outputs": [],
   "source": [
    "import numpy as np, pandas as pd\n",
    "import matplotlib.pyplot as plt, seaborn as sns\n",
    "import statsmodels\n",
    "import statsmodels.api as sm\n",
    "import sklearn\n",
    "from sklearn.model_selection import train_test_split\n",
    "from sklearn.linear_model import LinearRegression, Ridge, Lasso\n",
    "from sklearn.preprocessing import PolynomialFeatures, MinMaxScaler\n",
    "from sklearn.metrics import mean_squared_error, r2_score\n",
    "\n",
    "import warnings\n",
    "warnings.filterwarnings('ignore')"
   ]
  },
  {
   "cell_type": "code",
   "execution_count": 3,
   "metadata": {},
   "outputs": [],
   "source": [
    "price = pd.read_csv(\"train.csv\")"
   ]
  },
  {
   "cell_type": "code",
   "execution_count": 4,
   "metadata": {},
   "outputs": [
    {
     "data": {
      "text/plain": [
       "(1460, 81)"
      ]
     },
     "execution_count": 4,
     "metadata": {},
     "output_type": "execute_result"
    }
   ],
   "source": [
    "price.shape"
   ]
  },
  {
   "cell_type": "code",
   "execution_count": null,
   "metadata": {},
   "outputs": [],
   "source": []
  },
  {
   "cell_type": "code",
   "execution_count": 5,
   "metadata": {},
   "outputs": [
    {
     "name": "stdout",
     "output_type": "stream",
     "text": [
      "<class 'pandas.core.frame.DataFrame'>\n",
      "RangeIndex: 1460 entries, 0 to 1459\n",
      "Data columns (total 81 columns):\n",
      " #   Column         Non-Null Count  Dtype  \n",
      "---  ------         --------------  -----  \n",
      " 0   Id             1460 non-null   int64  \n",
      " 1   MSSubClass     1460 non-null   int64  \n",
      " 2   MSZoning       1460 non-null   object \n",
      " 3   LotFrontage    1201 non-null   float64\n",
      " 4   LotArea        1460 non-null   int64  \n",
      " 5   Street         1460 non-null   object \n",
      " 6   Alley          91 non-null     object \n",
      " 7   LotShape       1460 non-null   object \n",
      " 8   LandContour    1460 non-null   object \n",
      " 9   Utilities      1460 non-null   object \n",
      " 10  LotConfig      1460 non-null   object \n",
      " 11  LandSlope      1460 non-null   object \n",
      " 12  Neighborhood   1460 non-null   object \n",
      " 13  Condition1     1460 non-null   object \n",
      " 14  Condition2     1460 non-null   object \n",
      " 15  BldgType       1460 non-null   object \n",
      " 16  HouseStyle     1460 non-null   object \n",
      " 17  OverallQual    1460 non-null   int64  \n",
      " 18  OverallCond    1460 non-null   int64  \n",
      " 19  YearBuilt      1460 non-null   int64  \n",
      " 20  YearRemodAdd   1460 non-null   int64  \n",
      " 21  RoofStyle      1460 non-null   object \n",
      " 22  RoofMatl       1460 non-null   object \n",
      " 23  Exterior1st    1460 non-null   object \n",
      " 24  Exterior2nd    1460 non-null   object \n",
      " 25  MasVnrType     1452 non-null   object \n",
      " 26  MasVnrArea     1452 non-null   float64\n",
      " 27  ExterQual      1460 non-null   object \n",
      " 28  ExterCond      1460 non-null   object \n",
      " 29  Foundation     1460 non-null   object \n",
      " 30  BsmtQual       1423 non-null   object \n",
      " 31  BsmtCond       1423 non-null   object \n",
      " 32  BsmtExposure   1422 non-null   object \n",
      " 33  BsmtFinType1   1423 non-null   object \n",
      " 34  BsmtFinSF1     1460 non-null   int64  \n",
      " 35  BsmtFinType2   1422 non-null   object \n",
      " 36  BsmtFinSF2     1460 non-null   int64  \n",
      " 37  BsmtUnfSF      1460 non-null   int64  \n",
      " 38  TotalBsmtSF    1460 non-null   int64  \n",
      " 39  Heating        1460 non-null   object \n",
      " 40  HeatingQC      1460 non-null   object \n",
      " 41  CentralAir     1460 non-null   object \n",
      " 42  Electrical     1459 non-null   object \n",
      " 43  1stFlrSF       1460 non-null   int64  \n",
      " 44  2ndFlrSF       1460 non-null   int64  \n",
      " 45  LowQualFinSF   1460 non-null   int64  \n",
      " 46  GrLivArea      1460 non-null   int64  \n",
      " 47  BsmtFullBath   1460 non-null   int64  \n",
      " 48  BsmtHalfBath   1460 non-null   int64  \n",
      " 49  FullBath       1460 non-null   int64  \n",
      " 50  HalfBath       1460 non-null   int64  \n",
      " 51  BedroomAbvGr   1460 non-null   int64  \n",
      " 52  KitchenAbvGr   1460 non-null   int64  \n",
      " 53  KitchenQual    1460 non-null   object \n",
      " 54  TotRmsAbvGrd   1460 non-null   int64  \n",
      " 55  Functional     1460 non-null   object \n",
      " 56  Fireplaces     1460 non-null   int64  \n",
      " 57  FireplaceQu    770 non-null    object \n",
      " 58  GarageType     1379 non-null   object \n",
      " 59  GarageYrBlt    1379 non-null   float64\n",
      " 60  GarageFinish   1379 non-null   object \n",
      " 61  GarageCars     1460 non-null   int64  \n",
      " 62  GarageArea     1460 non-null   int64  \n",
      " 63  GarageQual     1379 non-null   object \n",
      " 64  GarageCond     1379 non-null   object \n",
      " 65  PavedDrive     1460 non-null   object \n",
      " 66  WoodDeckSF     1460 non-null   int64  \n",
      " 67  OpenPorchSF    1460 non-null   int64  \n",
      " 68  EnclosedPorch  1460 non-null   int64  \n",
      " 69  3SsnPorch      1460 non-null   int64  \n",
      " 70  ScreenPorch    1460 non-null   int64  \n",
      " 71  PoolArea       1460 non-null   int64  \n",
      " 72  PoolQC         7 non-null      object \n",
      " 73  Fence          281 non-null    object \n",
      " 74  MiscFeature    54 non-null     object \n",
      " 75  MiscVal        1460 non-null   int64  \n",
      " 76  MoSold         1460 non-null   int64  \n",
      " 77  YrSold         1460 non-null   int64  \n",
      " 78  SaleType       1460 non-null   object \n",
      " 79  SaleCondition  1460 non-null   object \n",
      " 80  SalePrice      1460 non-null   int64  \n",
      "dtypes: float64(3), int64(35), object(43)\n",
      "memory usage: 924.0+ KB\n"
     ]
    }
   ],
   "source": [
    "price.info()"
   ]
  },
  {
   "cell_type": "code",
   "execution_count": 9,
   "metadata": {},
   "outputs": [
    {
     "data": {
      "text/plain": [
       "Id                0.00\n",
       "MSSubClass        0.00\n",
       "MSZoning          0.00\n",
       "LotFrontage      17.74\n",
       "LotArea           0.00\n",
       "                 ...  \n",
       "MoSold            0.00\n",
       "YrSold            0.00\n",
       "SaleType          0.00\n",
       "SaleCondition     0.00\n",
       "SalePrice         0.00\n",
       "Length: 81, dtype: float64"
      ]
     },
     "execution_count": 9,
     "metadata": {},
     "output_type": "execute_result"
    }
   ],
   "source": [
    "null_perc = round(price.isnull().mean()*100,2)\n",
    "null_perc   \n",
    "\n",
    "# The null percentage of columns tells us which are the columns to drop immediatly."
   ]
  },
  {
   "cell_type": "code",
   "execution_count": 11,
   "metadata": {},
   "outputs": [
    {
     "data": {
      "text/plain": [
       "Alley          93.77\n",
       "FireplaceQu    47.26\n",
       "PoolQC         99.52\n",
       "Fence          80.75\n",
       "MiscFeature    96.30\n",
       "dtype: float64"
      ]
     },
     "execution_count": 11,
     "metadata": {},
     "output_type": "execute_result"
    }
   ],
   "source": [
    "# Lets see the columns with null percentage greater than 45% and drop them immediatly,\n",
    "# as high null value percentage won't help our final model. \n",
    "\n",
    "null_perc[null_perc > 45]"
   ]
  },
  {
   "cell_type": "code",
   "execution_count": 12,
   "metadata": {},
   "outputs": [],
   "source": [
    "price= price.drop(['FireplaceQu', 'Alley', 'PoolQC', 'Fence', 'MiscFeature'], 1)"
   ]
  },
  {
   "cell_type": "code",
   "execution_count": 20,
   "metadata": {},
   "outputs": [
    {
     "data": {
      "text/plain": [
       "LotFrontage     17.74\n",
       "MasVnrType       0.55\n",
       "MasVnrArea       0.55\n",
       "BsmtQual         2.53\n",
       "BsmtCond         2.53\n",
       "BsmtExposure     2.60\n",
       "BsmtFinType1     2.53\n",
       "BsmtFinType2     2.60\n",
       "Electrical       0.07\n",
       "GarageType       5.55\n",
       "GarageYrBlt      5.55\n",
       "GarageFinish     5.55\n",
       "GarageQual       5.55\n",
       "GarageCond       5.55\n",
       "dtype: float64"
      ]
     },
     "execution_count": 20,
     "metadata": {},
     "output_type": "execute_result"
    }
   ],
   "source": [
    "null_perc = round(price.isnull().mean()*100,2)\n",
    "null_perc[null_perc != 0]"
   ]
  },
  {
   "cell_type": "code",
   "execution_count": 22,
   "metadata": {},
   "outputs": [
    {
     "data": {
      "text/html": [
       "<div>\n",
       "<style scoped>\n",
       "    .dataframe tbody tr th:only-of-type {\n",
       "        vertical-align: middle;\n",
       "    }\n",
       "\n",
       "    .dataframe tbody tr th {\n",
       "        vertical-align: top;\n",
       "    }\n",
       "\n",
       "    .dataframe thead th {\n",
       "        text-align: right;\n",
       "    }\n",
       "</style>\n",
       "<table border=\"1\" class=\"dataframe\">\n",
       "  <thead>\n",
       "    <tr style=\"text-align: right;\">\n",
       "      <th></th>\n",
       "      <th>Id</th>\n",
       "      <th>MSSubClass</th>\n",
       "      <th>MSZoning</th>\n",
       "      <th>LotFrontage</th>\n",
       "      <th>LotArea</th>\n",
       "      <th>Street</th>\n",
       "      <th>LotShape</th>\n",
       "      <th>LandContour</th>\n",
       "      <th>Utilities</th>\n",
       "      <th>LotConfig</th>\n",
       "      <th>...</th>\n",
       "      <th>EnclosedPorch</th>\n",
       "      <th>3SsnPorch</th>\n",
       "      <th>ScreenPorch</th>\n",
       "      <th>PoolArea</th>\n",
       "      <th>MiscVal</th>\n",
       "      <th>MoSold</th>\n",
       "      <th>YrSold</th>\n",
       "      <th>SaleType</th>\n",
       "      <th>SaleCondition</th>\n",
       "      <th>SalePrice</th>\n",
       "    </tr>\n",
       "  </thead>\n",
       "  <tbody>\n",
       "    <tr>\n",
       "      <th>0</th>\n",
       "      <td>1</td>\n",
       "      <td>60</td>\n",
       "      <td>RL</td>\n",
       "      <td>65.0</td>\n",
       "      <td>8450</td>\n",
       "      <td>Pave</td>\n",
       "      <td>Reg</td>\n",
       "      <td>Lvl</td>\n",
       "      <td>AllPub</td>\n",
       "      <td>Inside</td>\n",
       "      <td>...</td>\n",
       "      <td>0</td>\n",
       "      <td>0</td>\n",
       "      <td>0</td>\n",
       "      <td>0</td>\n",
       "      <td>0</td>\n",
       "      <td>2</td>\n",
       "      <td>2008</td>\n",
       "      <td>WD</td>\n",
       "      <td>Normal</td>\n",
       "      <td>208500</td>\n",
       "    </tr>\n",
       "    <tr>\n",
       "      <th>1</th>\n",
       "      <td>2</td>\n",
       "      <td>20</td>\n",
       "      <td>RL</td>\n",
       "      <td>80.0</td>\n",
       "      <td>9600</td>\n",
       "      <td>Pave</td>\n",
       "      <td>Reg</td>\n",
       "      <td>Lvl</td>\n",
       "      <td>AllPub</td>\n",
       "      <td>FR2</td>\n",
       "      <td>...</td>\n",
       "      <td>0</td>\n",
       "      <td>0</td>\n",
       "      <td>0</td>\n",
       "      <td>0</td>\n",
       "      <td>0</td>\n",
       "      <td>5</td>\n",
       "      <td>2007</td>\n",
       "      <td>WD</td>\n",
       "      <td>Normal</td>\n",
       "      <td>181500</td>\n",
       "    </tr>\n",
       "    <tr>\n",
       "      <th>2</th>\n",
       "      <td>3</td>\n",
       "      <td>60</td>\n",
       "      <td>RL</td>\n",
       "      <td>68.0</td>\n",
       "      <td>11250</td>\n",
       "      <td>Pave</td>\n",
       "      <td>IR1</td>\n",
       "      <td>Lvl</td>\n",
       "      <td>AllPub</td>\n",
       "      <td>Inside</td>\n",
       "      <td>...</td>\n",
       "      <td>0</td>\n",
       "      <td>0</td>\n",
       "      <td>0</td>\n",
       "      <td>0</td>\n",
       "      <td>0</td>\n",
       "      <td>9</td>\n",
       "      <td>2008</td>\n",
       "      <td>WD</td>\n",
       "      <td>Normal</td>\n",
       "      <td>223500</td>\n",
       "    </tr>\n",
       "    <tr>\n",
       "      <th>3</th>\n",
       "      <td>4</td>\n",
       "      <td>70</td>\n",
       "      <td>RL</td>\n",
       "      <td>60.0</td>\n",
       "      <td>9550</td>\n",
       "      <td>Pave</td>\n",
       "      <td>IR1</td>\n",
       "      <td>Lvl</td>\n",
       "      <td>AllPub</td>\n",
       "      <td>Corner</td>\n",
       "      <td>...</td>\n",
       "      <td>272</td>\n",
       "      <td>0</td>\n",
       "      <td>0</td>\n",
       "      <td>0</td>\n",
       "      <td>0</td>\n",
       "      <td>2</td>\n",
       "      <td>2006</td>\n",
       "      <td>WD</td>\n",
       "      <td>Abnorml</td>\n",
       "      <td>140000</td>\n",
       "    </tr>\n",
       "    <tr>\n",
       "      <th>4</th>\n",
       "      <td>5</td>\n",
       "      <td>60</td>\n",
       "      <td>RL</td>\n",
       "      <td>84.0</td>\n",
       "      <td>14260</td>\n",
       "      <td>Pave</td>\n",
       "      <td>IR1</td>\n",
       "      <td>Lvl</td>\n",
       "      <td>AllPub</td>\n",
       "      <td>FR2</td>\n",
       "      <td>...</td>\n",
       "      <td>0</td>\n",
       "      <td>0</td>\n",
       "      <td>0</td>\n",
       "      <td>0</td>\n",
       "      <td>0</td>\n",
       "      <td>12</td>\n",
       "      <td>2008</td>\n",
       "      <td>WD</td>\n",
       "      <td>Normal</td>\n",
       "      <td>250000</td>\n",
       "    </tr>\n",
       "  </tbody>\n",
       "</table>\n",
       "<p>5 rows × 76 columns</p>\n",
       "</div>"
      ],
      "text/plain": [
       "   Id  MSSubClass MSZoning  LotFrontage  LotArea Street LotShape LandContour  \\\n",
       "0   1          60       RL         65.0     8450   Pave      Reg         Lvl   \n",
       "1   2          20       RL         80.0     9600   Pave      Reg         Lvl   \n",
       "2   3          60       RL         68.0    11250   Pave      IR1         Lvl   \n",
       "3   4          70       RL         60.0     9550   Pave      IR1         Lvl   \n",
       "4   5          60       RL         84.0    14260   Pave      IR1         Lvl   \n",
       "\n",
       "  Utilities LotConfig  ... EnclosedPorch 3SsnPorch ScreenPorch PoolArea  \\\n",
       "0    AllPub    Inside  ...             0         0           0        0   \n",
       "1    AllPub       FR2  ...             0         0           0        0   \n",
       "2    AllPub    Inside  ...             0         0           0        0   \n",
       "3    AllPub    Corner  ...           272         0           0        0   \n",
       "4    AllPub       FR2  ...             0         0           0        0   \n",
       "\n",
       "  MiscVal MoSold  YrSold  SaleType  SaleCondition  SalePrice  \n",
       "0       0      2    2008        WD         Normal     208500  \n",
       "1       0      5    2007        WD         Normal     181500  \n",
       "2       0      9    2008        WD         Normal     223500  \n",
       "3       0      2    2006        WD        Abnorml     140000  \n",
       "4       0     12    2008        WD         Normal     250000  \n",
       "\n",
       "[5 rows x 76 columns]"
      ]
     },
     "execution_count": 22,
     "metadata": {},
     "output_type": "execute_result"
    }
   ],
   "source": [
    "price.head()"
   ]
  },
  {
   "cell_type": "code",
   "execution_count": 23,
   "metadata": {},
   "outputs": [
    {
     "name": "stdout",
     "output_type": "stream",
     "text": [
      "<class 'pandas.core.frame.DataFrame'>\n",
      "RangeIndex: 1460 entries, 0 to 1459\n",
      "Data columns (total 76 columns):\n",
      " #   Column         Non-Null Count  Dtype  \n",
      "---  ------         --------------  -----  \n",
      " 0   Id             1460 non-null   int64  \n",
      " 1   MSSubClass     1460 non-null   int64  \n",
      " 2   MSZoning       1460 non-null   object \n",
      " 3   LotFrontage    1201 non-null   float64\n",
      " 4   LotArea        1460 non-null   int64  \n",
      " 5   Street         1460 non-null   object \n",
      " 6   LotShape       1460 non-null   object \n",
      " 7   LandContour    1460 non-null   object \n",
      " 8   Utilities      1460 non-null   object \n",
      " 9   LotConfig      1460 non-null   object \n",
      " 10  LandSlope      1460 non-null   object \n",
      " 11  Neighborhood   1460 non-null   object \n",
      " 12  Condition1     1460 non-null   object \n",
      " 13  Condition2     1460 non-null   object \n",
      " 14  BldgType       1460 non-null   object \n",
      " 15  HouseStyle     1460 non-null   object \n",
      " 16  OverallQual    1460 non-null   int64  \n",
      " 17  OverallCond    1460 non-null   int64  \n",
      " 18  YearBuilt      1460 non-null   int64  \n",
      " 19  YearRemodAdd   1460 non-null   int64  \n",
      " 20  RoofStyle      1460 non-null   object \n",
      " 21  RoofMatl       1460 non-null   object \n",
      " 22  Exterior1st    1460 non-null   object \n",
      " 23  Exterior2nd    1460 non-null   object \n",
      " 24  MasVnrType     1452 non-null   object \n",
      " 25  MasVnrArea     1452 non-null   float64\n",
      " 26  ExterQual      1460 non-null   object \n",
      " 27  ExterCond      1460 non-null   object \n",
      " 28  Foundation     1460 non-null   object \n",
      " 29  BsmtQual       1423 non-null   object \n",
      " 30  BsmtCond       1423 non-null   object \n",
      " 31  BsmtExposure   1422 non-null   object \n",
      " 32  BsmtFinType1   1423 non-null   object \n",
      " 33  BsmtFinSF1     1460 non-null   int64  \n",
      " 34  BsmtFinType2   1422 non-null   object \n",
      " 35  BsmtFinSF2     1460 non-null   int64  \n",
      " 36  BsmtUnfSF      1460 non-null   int64  \n",
      " 37  TotalBsmtSF    1460 non-null   int64  \n",
      " 38  Heating        1460 non-null   object \n",
      " 39  HeatingQC      1460 non-null   object \n",
      " 40  CentralAir     1460 non-null   object \n",
      " 41  Electrical     1459 non-null   object \n",
      " 42  1stFlrSF       1460 non-null   int64  \n",
      " 43  2ndFlrSF       1460 non-null   int64  \n",
      " 44  LowQualFinSF   1460 non-null   int64  \n",
      " 45  GrLivArea      1460 non-null   int64  \n",
      " 46  BsmtFullBath   1460 non-null   int64  \n",
      " 47  BsmtHalfBath   1460 non-null   int64  \n",
      " 48  FullBath       1460 non-null   int64  \n",
      " 49  HalfBath       1460 non-null   int64  \n",
      " 50  BedroomAbvGr   1460 non-null   int64  \n",
      " 51  KitchenAbvGr   1460 non-null   int64  \n",
      " 52  KitchenQual    1460 non-null   object \n",
      " 53  TotRmsAbvGrd   1460 non-null   int64  \n",
      " 54  Functional     1460 non-null   object \n",
      " 55  Fireplaces     1460 non-null   int64  \n",
      " 56  GarageType     1379 non-null   object \n",
      " 57  GarageYrBlt    1379 non-null   float64\n",
      " 58  GarageFinish   1379 non-null   object \n",
      " 59  GarageCars     1460 non-null   int64  \n",
      " 60  GarageArea     1460 non-null   int64  \n",
      " 61  GarageQual     1379 non-null   object \n",
      " 62  GarageCond     1379 non-null   object \n",
      " 63  PavedDrive     1460 non-null   object \n",
      " 64  WoodDeckSF     1460 non-null   int64  \n",
      " 65  OpenPorchSF    1460 non-null   int64  \n",
      " 66  EnclosedPorch  1460 non-null   int64  \n",
      " 67  3SsnPorch      1460 non-null   int64  \n",
      " 68  ScreenPorch    1460 non-null   int64  \n",
      " 69  PoolArea       1460 non-null   int64  \n",
      " 70  MiscVal        1460 non-null   int64  \n",
      " 71  MoSold         1460 non-null   int64  \n",
      " 72  YrSold         1460 non-null   int64  \n",
      " 73  SaleType       1460 non-null   object \n",
      " 74  SaleCondition  1460 non-null   object \n",
      " 75  SalePrice      1460 non-null   int64  \n",
      "dtypes: float64(3), int64(35), object(38)\n",
      "memory usage: 867.0+ KB\n"
     ]
    }
   ],
   "source": [
    "price.info()"
   ]
  },
  {
   "cell_type": "code",
   "execution_count": 37,
   "metadata": {},
   "outputs": [],
   "source": [
    "cat_vars = price.select_dtypes(include = 'object')"
   ]
  },
  {
   "cell_type": "code",
   "execution_count": 38,
   "metadata": {},
   "outputs": [
    {
     "data": {
      "text/plain": [
       "Index(['MSZoning', 'Street', 'LotShape', 'LandContour', 'Utilities',\n",
       "       'LotConfig', 'LandSlope', 'Neighborhood', 'Condition1', 'Condition2',\n",
       "       'BldgType', 'HouseStyle', 'RoofStyle', 'RoofMatl', 'Exterior1st',\n",
       "       'Exterior2nd', 'MasVnrType', 'ExterQual', 'ExterCond', 'Foundation',\n",
       "       'BsmtQual', 'BsmtCond', 'BsmtExposure', 'BsmtFinType1', 'BsmtFinType2',\n",
       "       'Heating', 'HeatingQC', 'CentralAir', 'Electrical', 'KitchenQual',\n",
       "       'Functional', 'GarageType', 'GarageFinish', 'GarageQual', 'GarageCond',\n",
       "       'PavedDrive', 'SaleType', 'SaleCondition'],\n",
       "      dtype='object')"
      ]
     },
     "execution_count": 38,
     "metadata": {},
     "output_type": "execute_result"
    }
   ],
   "source": [
    "cat_vars.columns"
   ]
  },
  {
   "cell_type": "code",
   "execution_count": 40,
   "metadata": {},
   "outputs": [],
   "source": [
    "num_vars = price.select_dtypes(include = ['int64', 'float64'])"
   ]
  },
  {
   "cell_type": "code",
   "execution_count": 41,
   "metadata": {},
   "outputs": [
    {
     "data": {
      "text/plain": [
       "Index(['Id', 'MSSubClass', 'LotFrontage', 'LotArea', 'OverallQual',\n",
       "       'OverallCond', 'YearBuilt', 'YearRemodAdd', 'MasVnrArea', 'BsmtFinSF1',\n",
       "       'BsmtFinSF2', 'BsmtUnfSF', 'TotalBsmtSF', '1stFlrSF', '2ndFlrSF',\n",
       "       'LowQualFinSF', 'GrLivArea', 'BsmtFullBath', 'BsmtHalfBath', 'FullBath',\n",
       "       'HalfBath', 'BedroomAbvGr', 'KitchenAbvGr', 'TotRmsAbvGrd',\n",
       "       'Fireplaces', 'GarageYrBlt', 'GarageCars', 'GarageArea', 'WoodDeckSF',\n",
       "       'OpenPorchSF', 'EnclosedPorch', '3SsnPorch', 'ScreenPorch', 'PoolArea',\n",
       "       'MiscVal', 'MoSold', 'YrSold', 'SalePrice'],\n",
       "      dtype='object')"
      ]
     },
     "execution_count": 41,
     "metadata": {},
     "output_type": "execute_result"
    }
   ],
   "source": [
    "num_vars.columns"
   ]
  },
  {
   "cell_type": "code",
   "execution_count": 43,
   "metadata": {},
   "outputs": [
    {
     "data": {
      "text/html": [
       "<div>\n",
       "<style scoped>\n",
       "    .dataframe tbody tr th:only-of-type {\n",
       "        vertical-align: middle;\n",
       "    }\n",
       "\n",
       "    .dataframe tbody tr th {\n",
       "        vertical-align: top;\n",
       "    }\n",
       "\n",
       "    .dataframe thead th {\n",
       "        text-align: right;\n",
       "    }\n",
       "</style>\n",
       "<table border=\"1\" class=\"dataframe\">\n",
       "  <thead>\n",
       "    <tr style=\"text-align: right;\">\n",
       "      <th></th>\n",
       "      <th>MSZoning</th>\n",
       "      <th>Street</th>\n",
       "      <th>LotShape</th>\n",
       "      <th>LandContour</th>\n",
       "      <th>Utilities</th>\n",
       "      <th>LotConfig</th>\n",
       "      <th>LandSlope</th>\n",
       "      <th>Neighborhood</th>\n",
       "      <th>Condition1</th>\n",
       "      <th>Condition2</th>\n",
       "      <th>...</th>\n",
       "      <th>Electrical</th>\n",
       "      <th>KitchenQual</th>\n",
       "      <th>Functional</th>\n",
       "      <th>GarageType</th>\n",
       "      <th>GarageFinish</th>\n",
       "      <th>GarageQual</th>\n",
       "      <th>GarageCond</th>\n",
       "      <th>PavedDrive</th>\n",
       "      <th>SaleType</th>\n",
       "      <th>SaleCondition</th>\n",
       "    </tr>\n",
       "  </thead>\n",
       "  <tbody>\n",
       "    <tr>\n",
       "      <th>1.5Fin</th>\n",
       "      <td>NaN</td>\n",
       "      <td>NaN</td>\n",
       "      <td>NaN</td>\n",
       "      <td>NaN</td>\n",
       "      <td>NaN</td>\n",
       "      <td>NaN</td>\n",
       "      <td>NaN</td>\n",
       "      <td>NaN</td>\n",
       "      <td>NaN</td>\n",
       "      <td>NaN</td>\n",
       "      <td>...</td>\n",
       "      <td>NaN</td>\n",
       "      <td>NaN</td>\n",
       "      <td>NaN</td>\n",
       "      <td>NaN</td>\n",
       "      <td>NaN</td>\n",
       "      <td>NaN</td>\n",
       "      <td>NaN</td>\n",
       "      <td>NaN</td>\n",
       "      <td>NaN</td>\n",
       "      <td>NaN</td>\n",
       "    </tr>\n",
       "    <tr>\n",
       "      <th>1.5Unf</th>\n",
       "      <td>NaN</td>\n",
       "      <td>NaN</td>\n",
       "      <td>NaN</td>\n",
       "      <td>NaN</td>\n",
       "      <td>NaN</td>\n",
       "      <td>NaN</td>\n",
       "      <td>NaN</td>\n",
       "      <td>NaN</td>\n",
       "      <td>NaN</td>\n",
       "      <td>NaN</td>\n",
       "      <td>...</td>\n",
       "      <td>NaN</td>\n",
       "      <td>NaN</td>\n",
       "      <td>NaN</td>\n",
       "      <td>NaN</td>\n",
       "      <td>NaN</td>\n",
       "      <td>NaN</td>\n",
       "      <td>NaN</td>\n",
       "      <td>NaN</td>\n",
       "      <td>NaN</td>\n",
       "      <td>NaN</td>\n",
       "    </tr>\n",
       "    <tr>\n",
       "      <th>1Fam</th>\n",
       "      <td>NaN</td>\n",
       "      <td>NaN</td>\n",
       "      <td>NaN</td>\n",
       "      <td>NaN</td>\n",
       "      <td>NaN</td>\n",
       "      <td>NaN</td>\n",
       "      <td>NaN</td>\n",
       "      <td>NaN</td>\n",
       "      <td>NaN</td>\n",
       "      <td>NaN</td>\n",
       "      <td>...</td>\n",
       "      <td>NaN</td>\n",
       "      <td>NaN</td>\n",
       "      <td>NaN</td>\n",
       "      <td>NaN</td>\n",
       "      <td>NaN</td>\n",
       "      <td>NaN</td>\n",
       "      <td>NaN</td>\n",
       "      <td>NaN</td>\n",
       "      <td>NaN</td>\n",
       "      <td>NaN</td>\n",
       "    </tr>\n",
       "    <tr>\n",
       "      <th>1Story</th>\n",
       "      <td>NaN</td>\n",
       "      <td>NaN</td>\n",
       "      <td>NaN</td>\n",
       "      <td>NaN</td>\n",
       "      <td>NaN</td>\n",
       "      <td>NaN</td>\n",
       "      <td>NaN</td>\n",
       "      <td>NaN</td>\n",
       "      <td>NaN</td>\n",
       "      <td>NaN</td>\n",
       "      <td>...</td>\n",
       "      <td>NaN</td>\n",
       "      <td>NaN</td>\n",
       "      <td>NaN</td>\n",
       "      <td>NaN</td>\n",
       "      <td>NaN</td>\n",
       "      <td>NaN</td>\n",
       "      <td>NaN</td>\n",
       "      <td>NaN</td>\n",
       "      <td>NaN</td>\n",
       "      <td>NaN</td>\n",
       "    </tr>\n",
       "    <tr>\n",
       "      <th>2.5Fin</th>\n",
       "      <td>NaN</td>\n",
       "      <td>NaN</td>\n",
       "      <td>NaN</td>\n",
       "      <td>NaN</td>\n",
       "      <td>NaN</td>\n",
       "      <td>NaN</td>\n",
       "      <td>NaN</td>\n",
       "      <td>NaN</td>\n",
       "      <td>NaN</td>\n",
       "      <td>NaN</td>\n",
       "      <td>...</td>\n",
       "      <td>NaN</td>\n",
       "      <td>NaN</td>\n",
       "      <td>NaN</td>\n",
       "      <td>NaN</td>\n",
       "      <td>NaN</td>\n",
       "      <td>NaN</td>\n",
       "      <td>NaN</td>\n",
       "      <td>NaN</td>\n",
       "      <td>NaN</td>\n",
       "      <td>NaN</td>\n",
       "    </tr>\n",
       "    <tr>\n",
       "      <th>...</th>\n",
       "      <td>...</td>\n",
       "      <td>...</td>\n",
       "      <td>...</td>\n",
       "      <td>...</td>\n",
       "      <td>...</td>\n",
       "      <td>...</td>\n",
       "      <td>...</td>\n",
       "      <td>...</td>\n",
       "      <td>...</td>\n",
       "      <td>...</td>\n",
       "      <td>...</td>\n",
       "      <td>...</td>\n",
       "      <td>...</td>\n",
       "      <td>...</td>\n",
       "      <td>...</td>\n",
       "      <td>...</td>\n",
       "      <td>...</td>\n",
       "      <td>...</td>\n",
       "      <td>...</td>\n",
       "      <td>...</td>\n",
       "      <td>...</td>\n",
       "    </tr>\n",
       "    <tr>\n",
       "      <th>WdShake</th>\n",
       "      <td>NaN</td>\n",
       "      <td>NaN</td>\n",
       "      <td>NaN</td>\n",
       "      <td>NaN</td>\n",
       "      <td>NaN</td>\n",
       "      <td>NaN</td>\n",
       "      <td>NaN</td>\n",
       "      <td>NaN</td>\n",
       "      <td>NaN</td>\n",
       "      <td>NaN</td>\n",
       "      <td>...</td>\n",
       "      <td>NaN</td>\n",
       "      <td>NaN</td>\n",
       "      <td>NaN</td>\n",
       "      <td>NaN</td>\n",
       "      <td>NaN</td>\n",
       "      <td>NaN</td>\n",
       "      <td>NaN</td>\n",
       "      <td>NaN</td>\n",
       "      <td>NaN</td>\n",
       "      <td>NaN</td>\n",
       "    </tr>\n",
       "    <tr>\n",
       "      <th>WdShing</th>\n",
       "      <td>NaN</td>\n",
       "      <td>NaN</td>\n",
       "      <td>NaN</td>\n",
       "      <td>NaN</td>\n",
       "      <td>NaN</td>\n",
       "      <td>NaN</td>\n",
       "      <td>NaN</td>\n",
       "      <td>NaN</td>\n",
       "      <td>NaN</td>\n",
       "      <td>NaN</td>\n",
       "      <td>...</td>\n",
       "      <td>NaN</td>\n",
       "      <td>NaN</td>\n",
       "      <td>NaN</td>\n",
       "      <td>NaN</td>\n",
       "      <td>NaN</td>\n",
       "      <td>NaN</td>\n",
       "      <td>NaN</td>\n",
       "      <td>NaN</td>\n",
       "      <td>NaN</td>\n",
       "      <td>NaN</td>\n",
       "    </tr>\n",
       "    <tr>\n",
       "      <th>WdShngl</th>\n",
       "      <td>NaN</td>\n",
       "      <td>NaN</td>\n",
       "      <td>NaN</td>\n",
       "      <td>NaN</td>\n",
       "      <td>NaN</td>\n",
       "      <td>NaN</td>\n",
       "      <td>NaN</td>\n",
       "      <td>NaN</td>\n",
       "      <td>NaN</td>\n",
       "      <td>NaN</td>\n",
       "      <td>...</td>\n",
       "      <td>NaN</td>\n",
       "      <td>NaN</td>\n",
       "      <td>NaN</td>\n",
       "      <td>NaN</td>\n",
       "      <td>NaN</td>\n",
       "      <td>NaN</td>\n",
       "      <td>NaN</td>\n",
       "      <td>NaN</td>\n",
       "      <td>NaN</td>\n",
       "      <td>NaN</td>\n",
       "    </tr>\n",
       "    <tr>\n",
       "      <th>Wood</th>\n",
       "      <td>NaN</td>\n",
       "      <td>NaN</td>\n",
       "      <td>NaN</td>\n",
       "      <td>NaN</td>\n",
       "      <td>NaN</td>\n",
       "      <td>NaN</td>\n",
       "      <td>NaN</td>\n",
       "      <td>NaN</td>\n",
       "      <td>NaN</td>\n",
       "      <td>NaN</td>\n",
       "      <td>...</td>\n",
       "      <td>NaN</td>\n",
       "      <td>NaN</td>\n",
       "      <td>NaN</td>\n",
       "      <td>NaN</td>\n",
       "      <td>NaN</td>\n",
       "      <td>NaN</td>\n",
       "      <td>NaN</td>\n",
       "      <td>NaN</td>\n",
       "      <td>NaN</td>\n",
       "      <td>NaN</td>\n",
       "    </tr>\n",
       "    <tr>\n",
       "      <th>Y</th>\n",
       "      <td>NaN</td>\n",
       "      <td>NaN</td>\n",
       "      <td>NaN</td>\n",
       "      <td>NaN</td>\n",
       "      <td>NaN</td>\n",
       "      <td>NaN</td>\n",
       "      <td>NaN</td>\n",
       "      <td>NaN</td>\n",
       "      <td>NaN</td>\n",
       "      <td>NaN</td>\n",
       "      <td>...</td>\n",
       "      <td>NaN</td>\n",
       "      <td>NaN</td>\n",
       "      <td>NaN</td>\n",
       "      <td>NaN</td>\n",
       "      <td>NaN</td>\n",
       "      <td>NaN</td>\n",
       "      <td>NaN</td>\n",
       "      <td>1340.0</td>\n",
       "      <td>NaN</td>\n",
       "      <td>NaN</td>\n",
       "    </tr>\n",
       "  </tbody>\n",
       "</table>\n",
       "<p>167 rows × 38 columns</p>\n",
       "</div>"
      ],
      "text/plain": [
       "         MSZoning  Street  LotShape  LandContour  Utilities  LotConfig  \\\n",
       "1.5Fin        NaN     NaN       NaN          NaN        NaN        NaN   \n",
       "1.5Unf        NaN     NaN       NaN          NaN        NaN        NaN   \n",
       "1Fam          NaN     NaN       NaN          NaN        NaN        NaN   \n",
       "1Story        NaN     NaN       NaN          NaN        NaN        NaN   \n",
       "2.5Fin        NaN     NaN       NaN          NaN        NaN        NaN   \n",
       "...           ...     ...       ...          ...        ...        ...   \n",
       "WdShake       NaN     NaN       NaN          NaN        NaN        NaN   \n",
       "WdShing       NaN     NaN       NaN          NaN        NaN        NaN   \n",
       "WdShngl       NaN     NaN       NaN          NaN        NaN        NaN   \n",
       "Wood          NaN     NaN       NaN          NaN        NaN        NaN   \n",
       "Y             NaN     NaN       NaN          NaN        NaN        NaN   \n",
       "\n",
       "         LandSlope  Neighborhood  Condition1  Condition2  ...  Electrical  \\\n",
       "1.5Fin         NaN           NaN         NaN         NaN  ...         NaN   \n",
       "1.5Unf         NaN           NaN         NaN         NaN  ...         NaN   \n",
       "1Fam           NaN           NaN         NaN         NaN  ...         NaN   \n",
       "1Story         NaN           NaN         NaN         NaN  ...         NaN   \n",
       "2.5Fin         NaN           NaN         NaN         NaN  ...         NaN   \n",
       "...            ...           ...         ...         ...  ...         ...   \n",
       "WdShake        NaN           NaN         NaN         NaN  ...         NaN   \n",
       "WdShing        NaN           NaN         NaN         NaN  ...         NaN   \n",
       "WdShngl        NaN           NaN         NaN         NaN  ...         NaN   \n",
       "Wood           NaN           NaN         NaN         NaN  ...         NaN   \n",
       "Y              NaN           NaN         NaN         NaN  ...         NaN   \n",
       "\n",
       "         KitchenQual  Functional  GarageType  GarageFinish  GarageQual  \\\n",
       "1.5Fin           NaN         NaN         NaN           NaN         NaN   \n",
       "1.5Unf           NaN         NaN         NaN           NaN         NaN   \n",
       "1Fam             NaN         NaN         NaN           NaN         NaN   \n",
       "1Story           NaN         NaN         NaN           NaN         NaN   \n",
       "2.5Fin           NaN         NaN         NaN           NaN         NaN   \n",
       "...              ...         ...         ...           ...         ...   \n",
       "WdShake          NaN         NaN         NaN           NaN         NaN   \n",
       "WdShing          NaN         NaN         NaN           NaN         NaN   \n",
       "WdShngl          NaN         NaN         NaN           NaN         NaN   \n",
       "Wood             NaN         NaN         NaN           NaN         NaN   \n",
       "Y                NaN         NaN         NaN           NaN         NaN   \n",
       "\n",
       "         GarageCond  PavedDrive  SaleType  SaleCondition  \n",
       "1.5Fin          NaN         NaN       NaN            NaN  \n",
       "1.5Unf          NaN         NaN       NaN            NaN  \n",
       "1Fam            NaN         NaN       NaN            NaN  \n",
       "1Story          NaN         NaN       NaN            NaN  \n",
       "2.5Fin          NaN         NaN       NaN            NaN  \n",
       "...             ...         ...       ...            ...  \n",
       "WdShake         NaN         NaN       NaN            NaN  \n",
       "WdShing         NaN         NaN       NaN            NaN  \n",
       "WdShngl         NaN         NaN       NaN            NaN  \n",
       "Wood            NaN         NaN       NaN            NaN  \n",
       "Y               NaN      1340.0       NaN            NaN  \n",
       "\n",
       "[167 rows x 38 columns]"
      ]
     },
     "execution_count": 43,
     "metadata": {},
     "output_type": "execute_result"
    }
   ],
   "source": [
    "cat_vars.apply(pd.Series.value_counts)\n"
   ]
  },
  {
   "cell_type": "code",
   "execution_count": 46,
   "metadata": {},
   "outputs": [
    {
     "name": "stdout",
     "output_type": "stream",
     "text": [
      "----------------------------------------MSZoning---------------------------------------- - "
     ]
    },
    {
     "data": {
      "text/plain": [
       "RL         1151\n",
       "RM          218\n",
       "FV           65\n",
       "RH           16\n",
       "C (all)      10\n",
       "Name: MSZoning, dtype: int64"
      ]
     },
     "metadata": {},
     "output_type": "display_data"
    },
    {
     "name": "stdout",
     "output_type": "stream",
     "text": [
      "----------------------------------------Street---------------------------------------- - "
     ]
    },
    {
     "data": {
      "text/plain": [
       "Pave    1454\n",
       "Grvl       6\n",
       "Name: Street, dtype: int64"
      ]
     },
     "metadata": {},
     "output_type": "display_data"
    },
    {
     "name": "stdout",
     "output_type": "stream",
     "text": [
      "----------------------------------------LotShape---------------------------------------- - "
     ]
    },
    {
     "data": {
      "text/plain": [
       "Reg    925\n",
       "IR1    484\n",
       "IR2     41\n",
       "IR3     10\n",
       "Name: LotShape, dtype: int64"
      ]
     },
     "metadata": {},
     "output_type": "display_data"
    },
    {
     "name": "stdout",
     "output_type": "stream",
     "text": [
      "----------------------------------------LandContour---------------------------------------- - "
     ]
    },
    {
     "data": {
      "text/plain": [
       "Lvl    1311\n",
       "Bnk      63\n",
       "HLS      50\n",
       "Low      36\n",
       "Name: LandContour, dtype: int64"
      ]
     },
     "metadata": {},
     "output_type": "display_data"
    },
    {
     "name": "stdout",
     "output_type": "stream",
     "text": [
      "----------------------------------------Utilities---------------------------------------- - "
     ]
    },
    {
     "data": {
      "text/plain": [
       "AllPub    1459\n",
       "NoSeWa       1\n",
       "Name: Utilities, dtype: int64"
      ]
     },
     "metadata": {},
     "output_type": "display_data"
    },
    {
     "name": "stdout",
     "output_type": "stream",
     "text": [
      "----------------------------------------LotConfig---------------------------------------- - "
     ]
    },
    {
     "data": {
      "text/plain": [
       "Inside     1052\n",
       "Corner      263\n",
       "CulDSac      94\n",
       "FR2          47\n",
       "FR3           4\n",
       "Name: LotConfig, dtype: int64"
      ]
     },
     "metadata": {},
     "output_type": "display_data"
    },
    {
     "name": "stdout",
     "output_type": "stream",
     "text": [
      "----------------------------------------LandSlope---------------------------------------- - "
     ]
    },
    {
     "data": {
      "text/plain": [
       "Gtl    1382\n",
       "Mod      65\n",
       "Sev      13\n",
       "Name: LandSlope, dtype: int64"
      ]
     },
     "metadata": {},
     "output_type": "display_data"
    },
    {
     "name": "stdout",
     "output_type": "stream",
     "text": [
      "----------------------------------------Neighborhood---------------------------------------- - "
     ]
    },
    {
     "data": {
      "text/plain": [
       "NAmes      225\n",
       "CollgCr    150\n",
       "OldTown    113\n",
       "Edwards    100\n",
       "Somerst     86\n",
       "Gilbert     79\n",
       "NridgHt     77\n",
       "Sawyer      74\n",
       "NWAmes      73\n",
       "SawyerW     59\n",
       "BrkSide     58\n",
       "Crawfor     51\n",
       "Mitchel     49\n",
       "NoRidge     41\n",
       "Timber      38\n",
       "IDOTRR      37\n",
       "ClearCr     28\n",
       "StoneBr     25\n",
       "SWISU       25\n",
       "MeadowV     17\n",
       "Blmngtn     17\n",
       "BrDale      16\n",
       "Veenker     11\n",
       "NPkVill      9\n",
       "Blueste      2\n",
       "Name: Neighborhood, dtype: int64"
      ]
     },
     "metadata": {},
     "output_type": "display_data"
    },
    {
     "name": "stdout",
     "output_type": "stream",
     "text": [
      "----------------------------------------Condition1---------------------------------------- - "
     ]
    },
    {
     "data": {
      "text/plain": [
       "Norm      1260\n",
       "Feedr       81\n",
       "Artery      48\n",
       "RRAn        26\n",
       "PosN        19\n",
       "RRAe        11\n",
       "PosA         8\n",
       "RRNn         5\n",
       "RRNe         2\n",
       "Name: Condition1, dtype: int64"
      ]
     },
     "metadata": {},
     "output_type": "display_data"
    },
    {
     "name": "stdout",
     "output_type": "stream",
     "text": [
      "----------------------------------------Condition2---------------------------------------- - "
     ]
    },
    {
     "data": {
      "text/plain": [
       "Norm      1445\n",
       "Feedr        6\n",
       "PosN         2\n",
       "Artery       2\n",
       "RRNn         2\n",
       "RRAn         1\n",
       "RRAe         1\n",
       "PosA         1\n",
       "Name: Condition2, dtype: int64"
      ]
     },
     "metadata": {},
     "output_type": "display_data"
    },
    {
     "name": "stdout",
     "output_type": "stream",
     "text": [
      "----------------------------------------BldgType---------------------------------------- - "
     ]
    },
    {
     "data": {
      "text/plain": [
       "1Fam      1220\n",
       "TwnhsE     114\n",
       "Duplex      52\n",
       "Twnhs       43\n",
       "2fmCon      31\n",
       "Name: BldgType, dtype: int64"
      ]
     },
     "metadata": {},
     "output_type": "display_data"
    },
    {
     "name": "stdout",
     "output_type": "stream",
     "text": [
      "----------------------------------------HouseStyle---------------------------------------- - "
     ]
    },
    {
     "data": {
      "text/plain": [
       "1Story    726\n",
       "2Story    445\n",
       "1.5Fin    154\n",
       "SLvl       65\n",
       "SFoyer     37\n",
       "1.5Unf     14\n",
       "2.5Unf     11\n",
       "2.5Fin      8\n",
       "Name: HouseStyle, dtype: int64"
      ]
     },
     "metadata": {},
     "output_type": "display_data"
    },
    {
     "name": "stdout",
     "output_type": "stream",
     "text": [
      "----------------------------------------RoofStyle---------------------------------------- - "
     ]
    },
    {
     "data": {
      "text/plain": [
       "Gable      1141\n",
       "Hip         286\n",
       "Flat         13\n",
       "Gambrel      11\n",
       "Mansard       7\n",
       "Shed          2\n",
       "Name: RoofStyle, dtype: int64"
      ]
     },
     "metadata": {},
     "output_type": "display_data"
    },
    {
     "name": "stdout",
     "output_type": "stream",
     "text": [
      "----------------------------------------RoofMatl---------------------------------------- - "
     ]
    },
    {
     "data": {
      "text/plain": [
       "CompShg    1434\n",
       "Tar&Grv      11\n",
       "WdShngl       6\n",
       "WdShake       5\n",
       "Metal         1\n",
       "ClyTile       1\n",
       "Roll          1\n",
       "Membran       1\n",
       "Name: RoofMatl, dtype: int64"
      ]
     },
     "metadata": {},
     "output_type": "display_data"
    },
    {
     "name": "stdout",
     "output_type": "stream",
     "text": [
      "----------------------------------------Exterior1st---------------------------------------- - "
     ]
    },
    {
     "data": {
      "text/plain": [
       "VinylSd    515\n",
       "HdBoard    222\n",
       "MetalSd    220\n",
       "Wd Sdng    206\n",
       "Plywood    108\n",
       "CemntBd     61\n",
       "BrkFace     50\n",
       "WdShing     26\n",
       "Stucco      25\n",
       "AsbShng     20\n",
       "BrkComm      2\n",
       "Stone        2\n",
       "AsphShn      1\n",
       "ImStucc      1\n",
       "CBlock       1\n",
       "Name: Exterior1st, dtype: int64"
      ]
     },
     "metadata": {},
     "output_type": "display_data"
    },
    {
     "name": "stdout",
     "output_type": "stream",
     "text": [
      "----------------------------------------Exterior2nd---------------------------------------- - "
     ]
    },
    {
     "data": {
      "text/plain": [
       "VinylSd    504\n",
       "MetalSd    214\n",
       "HdBoard    207\n",
       "Wd Sdng    197\n",
       "Plywood    142\n",
       "CmentBd     60\n",
       "Wd Shng     38\n",
       "Stucco      26\n",
       "BrkFace     25\n",
       "AsbShng     20\n",
       "ImStucc     10\n",
       "Brk Cmn      7\n",
       "Stone        5\n",
       "AsphShn      3\n",
       "Other        1\n",
       "CBlock       1\n",
       "Name: Exterior2nd, dtype: int64"
      ]
     },
     "metadata": {},
     "output_type": "display_data"
    },
    {
     "name": "stdout",
     "output_type": "stream",
     "text": [
      "----------------------------------------MasVnrType---------------------------------------- - "
     ]
    },
    {
     "data": {
      "text/plain": [
       "None       864\n",
       "BrkFace    445\n",
       "Stone      128\n",
       "BrkCmn      15\n",
       "Name: MasVnrType, dtype: int64"
      ]
     },
     "metadata": {},
     "output_type": "display_data"
    },
    {
     "name": "stdout",
     "output_type": "stream",
     "text": [
      "----------------------------------------ExterQual---------------------------------------- - "
     ]
    },
    {
     "data": {
      "text/plain": [
       "TA    906\n",
       "Gd    488\n",
       "Ex     52\n",
       "Fa     14\n",
       "Name: ExterQual, dtype: int64"
      ]
     },
     "metadata": {},
     "output_type": "display_data"
    },
    {
     "name": "stdout",
     "output_type": "stream",
     "text": [
      "----------------------------------------ExterCond---------------------------------------- - "
     ]
    },
    {
     "data": {
      "text/plain": [
       "TA    1282\n",
       "Gd     146\n",
       "Fa      28\n",
       "Ex       3\n",
       "Po       1\n",
       "Name: ExterCond, dtype: int64"
      ]
     },
     "metadata": {},
     "output_type": "display_data"
    },
    {
     "name": "stdout",
     "output_type": "stream",
     "text": [
      "----------------------------------------Foundation---------------------------------------- - "
     ]
    },
    {
     "data": {
      "text/plain": [
       "PConc     647\n",
       "CBlock    634\n",
       "BrkTil    146\n",
       "Slab       24\n",
       "Stone       6\n",
       "Wood        3\n",
       "Name: Foundation, dtype: int64"
      ]
     },
     "metadata": {},
     "output_type": "display_data"
    },
    {
     "name": "stdout",
     "output_type": "stream",
     "text": [
      "----------------------------------------BsmtQual---------------------------------------- - "
     ]
    },
    {
     "data": {
      "text/plain": [
       "TA    649\n",
       "Gd    618\n",
       "Ex    121\n",
       "Fa     35\n",
       "Name: BsmtQual, dtype: int64"
      ]
     },
     "metadata": {},
     "output_type": "display_data"
    },
    {
     "name": "stdout",
     "output_type": "stream",
     "text": [
      "----------------------------------------BsmtCond---------------------------------------- - "
     ]
    },
    {
     "data": {
      "text/plain": [
       "TA    1311\n",
       "Gd      65\n",
       "Fa      45\n",
       "Po       2\n",
       "Name: BsmtCond, dtype: int64"
      ]
     },
     "metadata": {},
     "output_type": "display_data"
    },
    {
     "name": "stdout",
     "output_type": "stream",
     "text": [
      "----------------------------------------BsmtExposure---------------------------------------- - "
     ]
    },
    {
     "data": {
      "text/plain": [
       "No    953\n",
       "Av    221\n",
       "Gd    134\n",
       "Mn    114\n",
       "Name: BsmtExposure, dtype: int64"
      ]
     },
     "metadata": {},
     "output_type": "display_data"
    },
    {
     "name": "stdout",
     "output_type": "stream",
     "text": [
      "----------------------------------------BsmtFinType1---------------------------------------- - "
     ]
    },
    {
     "data": {
      "text/plain": [
       "Unf    430\n",
       "GLQ    418\n",
       "ALQ    220\n",
       "BLQ    148\n",
       "Rec    133\n",
       "LwQ     74\n",
       "Name: BsmtFinType1, dtype: int64"
      ]
     },
     "metadata": {},
     "output_type": "display_data"
    },
    {
     "name": "stdout",
     "output_type": "stream",
     "text": [
      "----------------------------------------BsmtFinType2---------------------------------------- - "
     ]
    },
    {
     "data": {
      "text/plain": [
       "Unf    1256\n",
       "Rec      54\n",
       "LwQ      46\n",
       "BLQ      33\n",
       "ALQ      19\n",
       "GLQ      14\n",
       "Name: BsmtFinType2, dtype: int64"
      ]
     },
     "metadata": {},
     "output_type": "display_data"
    },
    {
     "name": "stdout",
     "output_type": "stream",
     "text": [
      "----------------------------------------Heating---------------------------------------- - "
     ]
    },
    {
     "data": {
      "text/plain": [
       "GasA     1428\n",
       "GasW       18\n",
       "Grav        7\n",
       "Wall        4\n",
       "OthW        2\n",
       "Floor       1\n",
       "Name: Heating, dtype: int64"
      ]
     },
     "metadata": {},
     "output_type": "display_data"
    },
    {
     "name": "stdout",
     "output_type": "stream",
     "text": [
      "----------------------------------------HeatingQC---------------------------------------- - "
     ]
    },
    {
     "data": {
      "text/plain": [
       "Ex    741\n",
       "TA    428\n",
       "Gd    241\n",
       "Fa     49\n",
       "Po      1\n",
       "Name: HeatingQC, dtype: int64"
      ]
     },
     "metadata": {},
     "output_type": "display_data"
    },
    {
     "name": "stdout",
     "output_type": "stream",
     "text": [
      "----------------------------------------CentralAir---------------------------------------- - "
     ]
    },
    {
     "data": {
      "text/plain": [
       "Y    1365\n",
       "N      95\n",
       "Name: CentralAir, dtype: int64"
      ]
     },
     "metadata": {},
     "output_type": "display_data"
    },
    {
     "name": "stdout",
     "output_type": "stream",
     "text": [
      "----------------------------------------Electrical---------------------------------------- - "
     ]
    },
    {
     "data": {
      "text/plain": [
       "SBrkr    1334\n",
       "FuseA      94\n",
       "FuseF      27\n",
       "FuseP       3\n",
       "Mix         1\n",
       "Name: Electrical, dtype: int64"
      ]
     },
     "metadata": {},
     "output_type": "display_data"
    },
    {
     "name": "stdout",
     "output_type": "stream",
     "text": [
      "----------------------------------------KitchenQual---------------------------------------- - "
     ]
    },
    {
     "data": {
      "text/plain": [
       "TA    735\n",
       "Gd    586\n",
       "Ex    100\n",
       "Fa     39\n",
       "Name: KitchenQual, dtype: int64"
      ]
     },
     "metadata": {},
     "output_type": "display_data"
    },
    {
     "name": "stdout",
     "output_type": "stream",
     "text": [
      "----------------------------------------Functional---------------------------------------- - "
     ]
    },
    {
     "data": {
      "text/plain": [
       "Typ     1360\n",
       "Min2      34\n",
       "Min1      31\n",
       "Mod       15\n",
       "Maj1      14\n",
       "Maj2       5\n",
       "Sev        1\n",
       "Name: Functional, dtype: int64"
      ]
     },
     "metadata": {},
     "output_type": "display_data"
    },
    {
     "name": "stdout",
     "output_type": "stream",
     "text": [
      "----------------------------------------GarageType---------------------------------------- - "
     ]
    },
    {
     "data": {
      "text/plain": [
       "Attchd     870\n",
       "Detchd     387\n",
       "BuiltIn     88\n",
       "Basment     19\n",
       "CarPort      9\n",
       "2Types       6\n",
       "Name: GarageType, dtype: int64"
      ]
     },
     "metadata": {},
     "output_type": "display_data"
    },
    {
     "name": "stdout",
     "output_type": "stream",
     "text": [
      "----------------------------------------GarageFinish---------------------------------------- - "
     ]
    },
    {
     "data": {
      "text/plain": [
       "Unf    605\n",
       "RFn    422\n",
       "Fin    352\n",
       "Name: GarageFinish, dtype: int64"
      ]
     },
     "metadata": {},
     "output_type": "display_data"
    },
    {
     "name": "stdout",
     "output_type": "stream",
     "text": [
      "----------------------------------------GarageQual---------------------------------------- - "
     ]
    },
    {
     "data": {
      "text/plain": [
       "TA    1311\n",
       "Fa      48\n",
       "Gd      14\n",
       "Ex       3\n",
       "Po       3\n",
       "Name: GarageQual, dtype: int64"
      ]
     },
     "metadata": {},
     "output_type": "display_data"
    },
    {
     "name": "stdout",
     "output_type": "stream",
     "text": [
      "----------------------------------------GarageCond---------------------------------------- - "
     ]
    },
    {
     "data": {
      "text/plain": [
       "TA    1326\n",
       "Fa      35\n",
       "Gd       9\n",
       "Po       7\n",
       "Ex       2\n",
       "Name: GarageCond, dtype: int64"
      ]
     },
     "metadata": {},
     "output_type": "display_data"
    },
    {
     "name": "stdout",
     "output_type": "stream",
     "text": [
      "----------------------------------------PavedDrive---------------------------------------- - "
     ]
    },
    {
     "data": {
      "text/plain": [
       "Y    1340\n",
       "N      90\n",
       "P      30\n",
       "Name: PavedDrive, dtype: int64"
      ]
     },
     "metadata": {},
     "output_type": "display_data"
    },
    {
     "name": "stdout",
     "output_type": "stream",
     "text": [
      "----------------------------------------SaleType---------------------------------------- - "
     ]
    },
    {
     "data": {
      "text/plain": [
       "WD       1267\n",
       "New       122\n",
       "COD        43\n",
       "ConLD       9\n",
       "ConLw       5\n",
       "ConLI       5\n",
       "CWD         4\n",
       "Oth         3\n",
       "Con         2\n",
       "Name: SaleType, dtype: int64"
      ]
     },
     "metadata": {},
     "output_type": "display_data"
    },
    {
     "name": "stdout",
     "output_type": "stream",
     "text": [
      "----------------------------------------SaleCondition---------------------------------------- - "
     ]
    },
    {
     "data": {
      "text/plain": [
       "Normal     1198\n",
       "Partial     125\n",
       "Abnorml     101\n",
       "Family       20\n",
       "Alloca       12\n",
       "AdjLand       4\n",
       "Name: SaleCondition, dtype: int64"
      ]
     },
     "metadata": {},
     "output_type": "display_data"
    }
   ],
   "source": [
    "for col in cat_vars.columns:\n",
    "    print('-' * 40 + col + '-' * 40 , end=' - ')\n",
    "    display(cat_vars[col].value_counts())"
   ]
  },
  {
   "cell_type": "code",
   "execution_count": 48,
   "metadata": {},
   "outputs": [
    {
     "name": "stdout",
     "output_type": "stream",
     "text": [
      "----------------------------------------MSZoning---------------------------------------- - "
     ]
    },
    {
     "data": {
      "text/plain": [
       "RL         0.788356\n",
       "RM         0.149315\n",
       "FV         0.044521\n",
       "RH         0.010959\n",
       "C (all)    0.006849\n",
       "Name: MSZoning, dtype: float64"
      ]
     },
     "metadata": {},
     "output_type": "display_data"
    },
    {
     "name": "stdout",
     "output_type": "stream",
     "text": [
      "----------------------------------------Street---------------------------------------- - "
     ]
    },
    {
     "data": {
      "text/plain": [
       "Pave    0.99589\n",
       "Grvl    0.00411\n",
       "Name: Street, dtype: float64"
      ]
     },
     "metadata": {},
     "output_type": "display_data"
    },
    {
     "name": "stdout",
     "output_type": "stream",
     "text": [
      "----------------------------------------LotShape---------------------------------------- - "
     ]
    },
    {
     "data": {
      "text/plain": [
       "Reg    0.633562\n",
       "IR1    0.331507\n",
       "IR2    0.028082\n",
       "IR3    0.006849\n",
       "Name: LotShape, dtype: float64"
      ]
     },
     "metadata": {},
     "output_type": "display_data"
    },
    {
     "name": "stdout",
     "output_type": "stream",
     "text": [
      "----------------------------------------LandContour---------------------------------------- - "
     ]
    },
    {
     "data": {
      "text/plain": [
       "Lvl    0.897945\n",
       "Bnk    0.043151\n",
       "HLS    0.034247\n",
       "Low    0.024658\n",
       "Name: LandContour, dtype: float64"
      ]
     },
     "metadata": {},
     "output_type": "display_data"
    },
    {
     "name": "stdout",
     "output_type": "stream",
     "text": [
      "----------------------------------------Utilities---------------------------------------- - "
     ]
    },
    {
     "data": {
      "text/plain": [
       "AllPub    0.999315\n",
       "NoSeWa    0.000685\n",
       "Name: Utilities, dtype: float64"
      ]
     },
     "metadata": {},
     "output_type": "display_data"
    },
    {
     "name": "stdout",
     "output_type": "stream",
     "text": [
      "----------------------------------------LotConfig---------------------------------------- - "
     ]
    },
    {
     "data": {
      "text/plain": [
       "Inside     0.720548\n",
       "Corner     0.180137\n",
       "CulDSac    0.064384\n",
       "FR2        0.032192\n",
       "FR3        0.002740\n",
       "Name: LotConfig, dtype: float64"
      ]
     },
     "metadata": {},
     "output_type": "display_data"
    },
    {
     "name": "stdout",
     "output_type": "stream",
     "text": [
      "----------------------------------------LandSlope---------------------------------------- - "
     ]
    },
    {
     "data": {
      "text/plain": [
       "Gtl    0.946575\n",
       "Mod    0.044521\n",
       "Sev    0.008904\n",
       "Name: LandSlope, dtype: float64"
      ]
     },
     "metadata": {},
     "output_type": "display_data"
    },
    {
     "name": "stdout",
     "output_type": "stream",
     "text": [
      "----------------------------------------Neighborhood---------------------------------------- - "
     ]
    },
    {
     "data": {
      "text/plain": [
       "NAmes      0.154110\n",
       "CollgCr    0.102740\n",
       "OldTown    0.077397\n",
       "Edwards    0.068493\n",
       "Somerst    0.058904\n",
       "Gilbert    0.054110\n",
       "NridgHt    0.052740\n",
       "Sawyer     0.050685\n",
       "NWAmes     0.050000\n",
       "SawyerW    0.040411\n",
       "BrkSide    0.039726\n",
       "Crawfor    0.034932\n",
       "Mitchel    0.033562\n",
       "NoRidge    0.028082\n",
       "Timber     0.026027\n",
       "IDOTRR     0.025342\n",
       "ClearCr    0.019178\n",
       "StoneBr    0.017123\n",
       "SWISU      0.017123\n",
       "MeadowV    0.011644\n",
       "Blmngtn    0.011644\n",
       "BrDale     0.010959\n",
       "Veenker    0.007534\n",
       "NPkVill    0.006164\n",
       "Blueste    0.001370\n",
       "Name: Neighborhood, dtype: float64"
      ]
     },
     "metadata": {},
     "output_type": "display_data"
    },
    {
     "name": "stdout",
     "output_type": "stream",
     "text": [
      "----------------------------------------Condition1---------------------------------------- - "
     ]
    },
    {
     "data": {
      "text/plain": [
       "Norm      0.863014\n",
       "Feedr     0.055479\n",
       "Artery    0.032877\n",
       "RRAn      0.017808\n",
       "PosN      0.013014\n",
       "RRAe      0.007534\n",
       "PosA      0.005479\n",
       "RRNn      0.003425\n",
       "RRNe      0.001370\n",
       "Name: Condition1, dtype: float64"
      ]
     },
     "metadata": {},
     "output_type": "display_data"
    },
    {
     "name": "stdout",
     "output_type": "stream",
     "text": [
      "----------------------------------------Condition2---------------------------------------- - "
     ]
    },
    {
     "data": {
      "text/plain": [
       "Norm      0.989726\n",
       "Feedr     0.004110\n",
       "PosN      0.001370\n",
       "Artery    0.001370\n",
       "RRNn      0.001370\n",
       "RRAn      0.000685\n",
       "RRAe      0.000685\n",
       "PosA      0.000685\n",
       "Name: Condition2, dtype: float64"
      ]
     },
     "metadata": {},
     "output_type": "display_data"
    },
    {
     "name": "stdout",
     "output_type": "stream",
     "text": [
      "----------------------------------------BldgType---------------------------------------- - "
     ]
    },
    {
     "data": {
      "text/plain": [
       "1Fam      0.835616\n",
       "TwnhsE    0.078082\n",
       "Duplex    0.035616\n",
       "Twnhs     0.029452\n",
       "2fmCon    0.021233\n",
       "Name: BldgType, dtype: float64"
      ]
     },
     "metadata": {},
     "output_type": "display_data"
    },
    {
     "name": "stdout",
     "output_type": "stream",
     "text": [
      "----------------------------------------HouseStyle---------------------------------------- - "
     ]
    },
    {
     "data": {
      "text/plain": [
       "1Story    0.497260\n",
       "2Story    0.304795\n",
       "1.5Fin    0.105479\n",
       "SLvl      0.044521\n",
       "SFoyer    0.025342\n",
       "1.5Unf    0.009589\n",
       "2.5Unf    0.007534\n",
       "2.5Fin    0.005479\n",
       "Name: HouseStyle, dtype: float64"
      ]
     },
     "metadata": {},
     "output_type": "display_data"
    },
    {
     "name": "stdout",
     "output_type": "stream",
     "text": [
      "----------------------------------------RoofStyle---------------------------------------- - "
     ]
    },
    {
     "data": {
      "text/plain": [
       "Gable      0.781507\n",
       "Hip        0.195890\n",
       "Flat       0.008904\n",
       "Gambrel    0.007534\n",
       "Mansard    0.004795\n",
       "Shed       0.001370\n",
       "Name: RoofStyle, dtype: float64"
      ]
     },
     "metadata": {},
     "output_type": "display_data"
    },
    {
     "name": "stdout",
     "output_type": "stream",
     "text": [
      "----------------------------------------RoofMatl---------------------------------------- - "
     ]
    },
    {
     "data": {
      "text/plain": [
       "CompShg    0.982192\n",
       "Tar&Grv    0.007534\n",
       "WdShngl    0.004110\n",
       "WdShake    0.003425\n",
       "Metal      0.000685\n",
       "ClyTile    0.000685\n",
       "Roll       0.000685\n",
       "Membran    0.000685\n",
       "Name: RoofMatl, dtype: float64"
      ]
     },
     "metadata": {},
     "output_type": "display_data"
    },
    {
     "name": "stdout",
     "output_type": "stream",
     "text": [
      "----------------------------------------Exterior1st---------------------------------------- - "
     ]
    },
    {
     "data": {
      "text/plain": [
       "VinylSd    0.352740\n",
       "HdBoard    0.152055\n",
       "MetalSd    0.150685\n",
       "Wd Sdng    0.141096\n",
       "Plywood    0.073973\n",
       "CemntBd    0.041781\n",
       "BrkFace    0.034247\n",
       "WdShing    0.017808\n",
       "Stucco     0.017123\n",
       "AsbShng    0.013699\n",
       "BrkComm    0.001370\n",
       "Stone      0.001370\n",
       "AsphShn    0.000685\n",
       "ImStucc    0.000685\n",
       "CBlock     0.000685\n",
       "Name: Exterior1st, dtype: float64"
      ]
     },
     "metadata": {},
     "output_type": "display_data"
    },
    {
     "name": "stdout",
     "output_type": "stream",
     "text": [
      "----------------------------------------Exterior2nd---------------------------------------- - "
     ]
    },
    {
     "data": {
      "text/plain": [
       "VinylSd    0.345205\n",
       "MetalSd    0.146575\n",
       "HdBoard    0.141781\n",
       "Wd Sdng    0.134932\n",
       "Plywood    0.097260\n",
       "CmentBd    0.041096\n",
       "Wd Shng    0.026027\n",
       "Stucco     0.017808\n",
       "BrkFace    0.017123\n",
       "AsbShng    0.013699\n",
       "ImStucc    0.006849\n",
       "Brk Cmn    0.004795\n",
       "Stone      0.003425\n",
       "AsphShn    0.002055\n",
       "Other      0.000685\n",
       "CBlock     0.000685\n",
       "Name: Exterior2nd, dtype: float64"
      ]
     },
     "metadata": {},
     "output_type": "display_data"
    },
    {
     "name": "stdout",
     "output_type": "stream",
     "text": [
      "----------------------------------------MasVnrType---------------------------------------- - "
     ]
    },
    {
     "data": {
      "text/plain": [
       "None       0.595041\n",
       "BrkFace    0.306474\n",
       "Stone      0.088154\n",
       "BrkCmn     0.010331\n",
       "Name: MasVnrType, dtype: float64"
      ]
     },
     "metadata": {},
     "output_type": "display_data"
    },
    {
     "name": "stdout",
     "output_type": "stream",
     "text": [
      "----------------------------------------ExterQual---------------------------------------- - "
     ]
    },
    {
     "data": {
      "text/plain": [
       "TA    0.620548\n",
       "Gd    0.334247\n",
       "Ex    0.035616\n",
       "Fa    0.009589\n",
       "Name: ExterQual, dtype: float64"
      ]
     },
     "metadata": {},
     "output_type": "display_data"
    },
    {
     "name": "stdout",
     "output_type": "stream",
     "text": [
      "----------------------------------------ExterCond---------------------------------------- - "
     ]
    },
    {
     "data": {
      "text/plain": [
       "TA    0.878082\n",
       "Gd    0.100000\n",
       "Fa    0.019178\n",
       "Ex    0.002055\n",
       "Po    0.000685\n",
       "Name: ExterCond, dtype: float64"
      ]
     },
     "metadata": {},
     "output_type": "display_data"
    },
    {
     "name": "stdout",
     "output_type": "stream",
     "text": [
      "----------------------------------------Foundation---------------------------------------- - "
     ]
    },
    {
     "data": {
      "text/plain": [
       "PConc     0.443151\n",
       "CBlock    0.434247\n",
       "BrkTil    0.100000\n",
       "Slab      0.016438\n",
       "Stone     0.004110\n",
       "Wood      0.002055\n",
       "Name: Foundation, dtype: float64"
      ]
     },
     "metadata": {},
     "output_type": "display_data"
    },
    {
     "name": "stdout",
     "output_type": "stream",
     "text": [
      "----------------------------------------BsmtQual---------------------------------------- - "
     ]
    },
    {
     "data": {
      "text/plain": [
       "TA    0.456079\n",
       "Gd    0.434294\n",
       "Ex    0.085032\n",
       "Fa    0.024596\n",
       "Name: BsmtQual, dtype: float64"
      ]
     },
     "metadata": {},
     "output_type": "display_data"
    },
    {
     "name": "stdout",
     "output_type": "stream",
     "text": [
      "----------------------------------------BsmtCond---------------------------------------- - "
     ]
    },
    {
     "data": {
      "text/plain": [
       "TA    0.921293\n",
       "Gd    0.045678\n",
       "Fa    0.031623\n",
       "Po    0.001405\n",
       "Name: BsmtCond, dtype: float64"
      ]
     },
     "metadata": {},
     "output_type": "display_data"
    },
    {
     "name": "stdout",
     "output_type": "stream",
     "text": [
      "----------------------------------------BsmtExposure---------------------------------------- - "
     ]
    },
    {
     "data": {
      "text/plain": [
       "No    0.670183\n",
       "Av    0.155415\n",
       "Gd    0.094233\n",
       "Mn    0.080169\n",
       "Name: BsmtExposure, dtype: float64"
      ]
     },
     "metadata": {},
     "output_type": "display_data"
    },
    {
     "name": "stdout",
     "output_type": "stream",
     "text": [
      "----------------------------------------BsmtFinType1---------------------------------------- - "
     ]
    },
    {
     "data": {
      "text/plain": [
       "Unf    0.302178\n",
       "GLQ    0.293746\n",
       "ALQ    0.154603\n",
       "BLQ    0.104006\n",
       "Rec    0.093465\n",
       "LwQ    0.052003\n",
       "Name: BsmtFinType1, dtype: float64"
      ]
     },
     "metadata": {},
     "output_type": "display_data"
    },
    {
     "name": "stdout",
     "output_type": "stream",
     "text": [
      "----------------------------------------BsmtFinType2---------------------------------------- - "
     ]
    },
    {
     "data": {
      "text/plain": [
       "Unf    0.883263\n",
       "Rec    0.037975\n",
       "LwQ    0.032349\n",
       "BLQ    0.023207\n",
       "ALQ    0.013361\n",
       "GLQ    0.009845\n",
       "Name: BsmtFinType2, dtype: float64"
      ]
     },
     "metadata": {},
     "output_type": "display_data"
    },
    {
     "name": "stdout",
     "output_type": "stream",
     "text": [
      "----------------------------------------Heating---------------------------------------- - "
     ]
    },
    {
     "data": {
      "text/plain": [
       "GasA     0.978082\n",
       "GasW     0.012329\n",
       "Grav     0.004795\n",
       "Wall     0.002740\n",
       "OthW     0.001370\n",
       "Floor    0.000685\n",
       "Name: Heating, dtype: float64"
      ]
     },
     "metadata": {},
     "output_type": "display_data"
    },
    {
     "name": "stdout",
     "output_type": "stream",
     "text": [
      "----------------------------------------HeatingQC---------------------------------------- - "
     ]
    },
    {
     "data": {
      "text/plain": [
       "Ex    0.507534\n",
       "TA    0.293151\n",
       "Gd    0.165068\n",
       "Fa    0.033562\n",
       "Po    0.000685\n",
       "Name: HeatingQC, dtype: float64"
      ]
     },
     "metadata": {},
     "output_type": "display_data"
    },
    {
     "name": "stdout",
     "output_type": "stream",
     "text": [
      "----------------------------------------CentralAir---------------------------------------- - "
     ]
    },
    {
     "data": {
      "text/plain": [
       "Y    0.934932\n",
       "N    0.065068\n",
       "Name: CentralAir, dtype: float64"
      ]
     },
     "metadata": {},
     "output_type": "display_data"
    },
    {
     "name": "stdout",
     "output_type": "stream",
     "text": [
      "----------------------------------------Electrical---------------------------------------- - "
     ]
    },
    {
     "data": {
      "text/plain": [
       "SBrkr    0.914325\n",
       "FuseA    0.064428\n",
       "FuseF    0.018506\n",
       "FuseP    0.002056\n",
       "Mix      0.000685\n",
       "Name: Electrical, dtype: float64"
      ]
     },
     "metadata": {},
     "output_type": "display_data"
    },
    {
     "name": "stdout",
     "output_type": "stream",
     "text": [
      "----------------------------------------KitchenQual---------------------------------------- - "
     ]
    },
    {
     "data": {
      "text/plain": [
       "TA    0.503425\n",
       "Gd    0.401370\n",
       "Ex    0.068493\n",
       "Fa    0.026712\n",
       "Name: KitchenQual, dtype: float64"
      ]
     },
     "metadata": {},
     "output_type": "display_data"
    },
    {
     "name": "stdout",
     "output_type": "stream",
     "text": [
      "----------------------------------------Functional---------------------------------------- - "
     ]
    },
    {
     "data": {
      "text/plain": [
       "Typ     0.931507\n",
       "Min2    0.023288\n",
       "Min1    0.021233\n",
       "Mod     0.010274\n",
       "Maj1    0.009589\n",
       "Maj2    0.003425\n",
       "Sev     0.000685\n",
       "Name: Functional, dtype: float64"
      ]
     },
     "metadata": {},
     "output_type": "display_data"
    },
    {
     "name": "stdout",
     "output_type": "stream",
     "text": [
      "----------------------------------------GarageType---------------------------------------- - "
     ]
    },
    {
     "data": {
      "text/plain": [
       "Attchd     0.630892\n",
       "Detchd     0.280638\n",
       "BuiltIn    0.063814\n",
       "Basment    0.013778\n",
       "CarPort    0.006526\n",
       "2Types     0.004351\n",
       "Name: GarageType, dtype: float64"
      ]
     },
     "metadata": {},
     "output_type": "display_data"
    },
    {
     "name": "stdout",
     "output_type": "stream",
     "text": [
      "----------------------------------------GarageFinish---------------------------------------- - "
     ]
    },
    {
     "data": {
      "text/plain": [
       "Unf    0.438724\n",
       "RFn    0.306019\n",
       "Fin    0.255257\n",
       "Name: GarageFinish, dtype: float64"
      ]
     },
     "metadata": {},
     "output_type": "display_data"
    },
    {
     "name": "stdout",
     "output_type": "stream",
     "text": [
      "----------------------------------------GarageQual---------------------------------------- - "
     ]
    },
    {
     "data": {
      "text/plain": [
       "TA    0.950689\n",
       "Fa    0.034808\n",
       "Gd    0.010152\n",
       "Ex    0.002175\n",
       "Po    0.002175\n",
       "Name: GarageQual, dtype: float64"
      ]
     },
     "metadata": {},
     "output_type": "display_data"
    },
    {
     "name": "stdout",
     "output_type": "stream",
     "text": [
      "----------------------------------------GarageCond---------------------------------------- - "
     ]
    },
    {
     "data": {
      "text/plain": [
       "TA    0.961566\n",
       "Fa    0.025381\n",
       "Gd    0.006526\n",
       "Po    0.005076\n",
       "Ex    0.001450\n",
       "Name: GarageCond, dtype: float64"
      ]
     },
     "metadata": {},
     "output_type": "display_data"
    },
    {
     "name": "stdout",
     "output_type": "stream",
     "text": [
      "----------------------------------------PavedDrive---------------------------------------- - "
     ]
    },
    {
     "data": {
      "text/plain": [
       "Y    0.917808\n",
       "N    0.061644\n",
       "P    0.020548\n",
       "Name: PavedDrive, dtype: float64"
      ]
     },
     "metadata": {},
     "output_type": "display_data"
    },
    {
     "name": "stdout",
     "output_type": "stream",
     "text": [
      "----------------------------------------SaleType---------------------------------------- - "
     ]
    },
    {
     "data": {
      "text/plain": [
       "WD       0.867808\n",
       "New      0.083562\n",
       "COD      0.029452\n",
       "ConLD    0.006164\n",
       "ConLw    0.003425\n",
       "ConLI    0.003425\n",
       "CWD      0.002740\n",
       "Oth      0.002055\n",
       "Con      0.001370\n",
       "Name: SaleType, dtype: float64"
      ]
     },
     "metadata": {},
     "output_type": "display_data"
    },
    {
     "name": "stdout",
     "output_type": "stream",
     "text": [
      "----------------------------------------SaleCondition---------------------------------------- - "
     ]
    },
    {
     "data": {
      "text/plain": [
       "Normal     0.820548\n",
       "Partial    0.085616\n",
       "Abnorml    0.069178\n",
       "Family     0.013699\n",
       "Alloca     0.008219\n",
       "AdjLand    0.002740\n",
       "Name: SaleCondition, dtype: float64"
      ]
     },
     "metadata": {},
     "output_type": "display_data"
    }
   ],
   "source": [
    "for col in cat_vars.columns:\n",
    "    print('-' * 40 + col + '-' * 40 , end=' - ')\n",
    "    display(cat_vars[col].value_counts(normalize = True))"
   ]
  },
  {
   "cell_type": "code",
   "execution_count": 50,
   "metadata": {},
   "outputs": [],
   "source": [
    "skewed_vars = cat_vars[['Street', 'LandContour', 'Utilities', 'LandSlope', 'Condition1', 'Condition2', \n",
    "                        'RoofMatl', 'ExterCond', 'BsmtCond', 'BsmtFinType2', 'Heating', 'CentralAir', \n",
    "                        'Electrical','Functional', 'GarageQual', 'GarageCond', 'PavedDrive','SaleType'] ]   "
   ]
  },
  {
   "cell_type": "code",
   "execution_count": 51,
   "metadata": {},
   "outputs": [],
   "source": [
    "price = price.drop(skewed_vars, 1)"
   ]
  },
  {
   "cell_type": "code",
   "execution_count": 52,
   "metadata": {},
   "outputs": [
    {
     "data": {
      "text/plain": [
       "Index(['MSZoning', 'LotShape', 'LotConfig', 'Neighborhood', 'BldgType',\n",
       "       'HouseStyle', 'RoofStyle', 'Exterior1st', 'Exterior2nd', 'MasVnrType',\n",
       "       'ExterQual', 'Foundation', 'BsmtQual', 'BsmtExposure', 'BsmtFinType1',\n",
       "       'HeatingQC', 'KitchenQual', 'GarageType', 'GarageFinish',\n",
       "       'SaleCondition'],\n",
       "      dtype='object')"
      ]
     },
     "execution_count": 52,
     "metadata": {},
     "output_type": "execute_result"
    }
   ],
   "source": [
    "cat_vars = price.select_dtypes(include = 'object')\n",
    "cat_vars.columns"
   ]
  },
  {
   "cell_type": "code",
   "execution_count": 53,
   "metadata": {},
   "outputs": [
    {
     "name": "stdout",
     "output_type": "stream",
     "text": [
      "----------------------------------------MSZoning---------------------------------------- - "
     ]
    },
    {
     "data": {
      "text/plain": [
       "RL         0.788356\n",
       "RM         0.149315\n",
       "FV         0.044521\n",
       "RH         0.010959\n",
       "C (all)    0.006849\n",
       "Name: MSZoning, dtype: float64"
      ]
     },
     "metadata": {},
     "output_type": "display_data"
    },
    {
     "name": "stdout",
     "output_type": "stream",
     "text": [
      "----------------------------------------LotShape---------------------------------------- - "
     ]
    },
    {
     "data": {
      "text/plain": [
       "Reg    0.633562\n",
       "IR1    0.331507\n",
       "IR2    0.028082\n",
       "IR3    0.006849\n",
       "Name: LotShape, dtype: float64"
      ]
     },
     "metadata": {},
     "output_type": "display_data"
    },
    {
     "name": "stdout",
     "output_type": "stream",
     "text": [
      "----------------------------------------LotConfig---------------------------------------- - "
     ]
    },
    {
     "data": {
      "text/plain": [
       "Inside     0.720548\n",
       "Corner     0.180137\n",
       "CulDSac    0.064384\n",
       "FR2        0.032192\n",
       "FR3        0.002740\n",
       "Name: LotConfig, dtype: float64"
      ]
     },
     "metadata": {},
     "output_type": "display_data"
    },
    {
     "name": "stdout",
     "output_type": "stream",
     "text": [
      "----------------------------------------Neighborhood---------------------------------------- - "
     ]
    },
    {
     "data": {
      "text/plain": [
       "NAmes      0.154110\n",
       "CollgCr    0.102740\n",
       "OldTown    0.077397\n",
       "Edwards    0.068493\n",
       "Somerst    0.058904\n",
       "Gilbert    0.054110\n",
       "NridgHt    0.052740\n",
       "Sawyer     0.050685\n",
       "NWAmes     0.050000\n",
       "SawyerW    0.040411\n",
       "BrkSide    0.039726\n",
       "Crawfor    0.034932\n",
       "Mitchel    0.033562\n",
       "NoRidge    0.028082\n",
       "Timber     0.026027\n",
       "IDOTRR     0.025342\n",
       "ClearCr    0.019178\n",
       "StoneBr    0.017123\n",
       "SWISU      0.017123\n",
       "MeadowV    0.011644\n",
       "Blmngtn    0.011644\n",
       "BrDale     0.010959\n",
       "Veenker    0.007534\n",
       "NPkVill    0.006164\n",
       "Blueste    0.001370\n",
       "Name: Neighborhood, dtype: float64"
      ]
     },
     "metadata": {},
     "output_type": "display_data"
    },
    {
     "name": "stdout",
     "output_type": "stream",
     "text": [
      "----------------------------------------BldgType---------------------------------------- - "
     ]
    },
    {
     "data": {
      "text/plain": [
       "1Fam      0.835616\n",
       "TwnhsE    0.078082\n",
       "Duplex    0.035616\n",
       "Twnhs     0.029452\n",
       "2fmCon    0.021233\n",
       "Name: BldgType, dtype: float64"
      ]
     },
     "metadata": {},
     "output_type": "display_data"
    },
    {
     "name": "stdout",
     "output_type": "stream",
     "text": [
      "----------------------------------------HouseStyle---------------------------------------- - "
     ]
    },
    {
     "data": {
      "text/plain": [
       "1Story    0.497260\n",
       "2Story    0.304795\n",
       "1.5Fin    0.105479\n",
       "SLvl      0.044521\n",
       "SFoyer    0.025342\n",
       "1.5Unf    0.009589\n",
       "2.5Unf    0.007534\n",
       "2.5Fin    0.005479\n",
       "Name: HouseStyle, dtype: float64"
      ]
     },
     "metadata": {},
     "output_type": "display_data"
    },
    {
     "name": "stdout",
     "output_type": "stream",
     "text": [
      "----------------------------------------RoofStyle---------------------------------------- - "
     ]
    },
    {
     "data": {
      "text/plain": [
       "Gable      0.781507\n",
       "Hip        0.195890\n",
       "Flat       0.008904\n",
       "Gambrel    0.007534\n",
       "Mansard    0.004795\n",
       "Shed       0.001370\n",
       "Name: RoofStyle, dtype: float64"
      ]
     },
     "metadata": {},
     "output_type": "display_data"
    },
    {
     "name": "stdout",
     "output_type": "stream",
     "text": [
      "----------------------------------------Exterior1st---------------------------------------- - "
     ]
    },
    {
     "data": {
      "text/plain": [
       "VinylSd    0.352740\n",
       "HdBoard    0.152055\n",
       "MetalSd    0.150685\n",
       "Wd Sdng    0.141096\n",
       "Plywood    0.073973\n",
       "CemntBd    0.041781\n",
       "BrkFace    0.034247\n",
       "WdShing    0.017808\n",
       "Stucco     0.017123\n",
       "AsbShng    0.013699\n",
       "BrkComm    0.001370\n",
       "Stone      0.001370\n",
       "AsphShn    0.000685\n",
       "ImStucc    0.000685\n",
       "CBlock     0.000685\n",
       "Name: Exterior1st, dtype: float64"
      ]
     },
     "metadata": {},
     "output_type": "display_data"
    },
    {
     "name": "stdout",
     "output_type": "stream",
     "text": [
      "----------------------------------------Exterior2nd---------------------------------------- - "
     ]
    },
    {
     "data": {
      "text/plain": [
       "VinylSd    0.345205\n",
       "MetalSd    0.146575\n",
       "HdBoard    0.141781\n",
       "Wd Sdng    0.134932\n",
       "Plywood    0.097260\n",
       "CmentBd    0.041096\n",
       "Wd Shng    0.026027\n",
       "Stucco     0.017808\n",
       "BrkFace    0.017123\n",
       "AsbShng    0.013699\n",
       "ImStucc    0.006849\n",
       "Brk Cmn    0.004795\n",
       "Stone      0.003425\n",
       "AsphShn    0.002055\n",
       "Other      0.000685\n",
       "CBlock     0.000685\n",
       "Name: Exterior2nd, dtype: float64"
      ]
     },
     "metadata": {},
     "output_type": "display_data"
    },
    {
     "name": "stdout",
     "output_type": "stream",
     "text": [
      "----------------------------------------MasVnrType---------------------------------------- - "
     ]
    },
    {
     "data": {
      "text/plain": [
       "None       0.595041\n",
       "BrkFace    0.306474\n",
       "Stone      0.088154\n",
       "BrkCmn     0.010331\n",
       "Name: MasVnrType, dtype: float64"
      ]
     },
     "metadata": {},
     "output_type": "display_data"
    },
    {
     "name": "stdout",
     "output_type": "stream",
     "text": [
      "----------------------------------------ExterQual---------------------------------------- - "
     ]
    },
    {
     "data": {
      "text/plain": [
       "TA    0.620548\n",
       "Gd    0.334247\n",
       "Ex    0.035616\n",
       "Fa    0.009589\n",
       "Name: ExterQual, dtype: float64"
      ]
     },
     "metadata": {},
     "output_type": "display_data"
    },
    {
     "name": "stdout",
     "output_type": "stream",
     "text": [
      "----------------------------------------Foundation---------------------------------------- - "
     ]
    },
    {
     "data": {
      "text/plain": [
       "PConc     0.443151\n",
       "CBlock    0.434247\n",
       "BrkTil    0.100000\n",
       "Slab      0.016438\n",
       "Stone     0.004110\n",
       "Wood      0.002055\n",
       "Name: Foundation, dtype: float64"
      ]
     },
     "metadata": {},
     "output_type": "display_data"
    },
    {
     "name": "stdout",
     "output_type": "stream",
     "text": [
      "----------------------------------------BsmtQual---------------------------------------- - "
     ]
    },
    {
     "data": {
      "text/plain": [
       "TA    0.456079\n",
       "Gd    0.434294\n",
       "Ex    0.085032\n",
       "Fa    0.024596\n",
       "Name: BsmtQual, dtype: float64"
      ]
     },
     "metadata": {},
     "output_type": "display_data"
    },
    {
     "name": "stdout",
     "output_type": "stream",
     "text": [
      "----------------------------------------BsmtExposure---------------------------------------- - "
     ]
    },
    {
     "data": {
      "text/plain": [
       "No    0.670183\n",
       "Av    0.155415\n",
       "Gd    0.094233\n",
       "Mn    0.080169\n",
       "Name: BsmtExposure, dtype: float64"
      ]
     },
     "metadata": {},
     "output_type": "display_data"
    },
    {
     "name": "stdout",
     "output_type": "stream",
     "text": [
      "----------------------------------------BsmtFinType1---------------------------------------- - "
     ]
    },
    {
     "data": {
      "text/plain": [
       "Unf    0.302178\n",
       "GLQ    0.293746\n",
       "ALQ    0.154603\n",
       "BLQ    0.104006\n",
       "Rec    0.093465\n",
       "LwQ    0.052003\n",
       "Name: BsmtFinType1, dtype: float64"
      ]
     },
     "metadata": {},
     "output_type": "display_data"
    },
    {
     "name": "stdout",
     "output_type": "stream",
     "text": [
      "----------------------------------------HeatingQC---------------------------------------- - "
     ]
    },
    {
     "data": {
      "text/plain": [
       "Ex    0.507534\n",
       "TA    0.293151\n",
       "Gd    0.165068\n",
       "Fa    0.033562\n",
       "Po    0.000685\n",
       "Name: HeatingQC, dtype: float64"
      ]
     },
     "metadata": {},
     "output_type": "display_data"
    },
    {
     "name": "stdout",
     "output_type": "stream",
     "text": [
      "----------------------------------------KitchenQual---------------------------------------- - "
     ]
    },
    {
     "data": {
      "text/plain": [
       "TA    0.503425\n",
       "Gd    0.401370\n",
       "Ex    0.068493\n",
       "Fa    0.026712\n",
       "Name: KitchenQual, dtype: float64"
      ]
     },
     "metadata": {},
     "output_type": "display_data"
    },
    {
     "name": "stdout",
     "output_type": "stream",
     "text": [
      "----------------------------------------GarageType---------------------------------------- - "
     ]
    },
    {
     "data": {
      "text/plain": [
       "Attchd     0.630892\n",
       "Detchd     0.280638\n",
       "BuiltIn    0.063814\n",
       "Basment    0.013778\n",
       "CarPort    0.006526\n",
       "2Types     0.004351\n",
       "Name: GarageType, dtype: float64"
      ]
     },
     "metadata": {},
     "output_type": "display_data"
    },
    {
     "name": "stdout",
     "output_type": "stream",
     "text": [
      "----------------------------------------GarageFinish---------------------------------------- - "
     ]
    },
    {
     "data": {
      "text/plain": [
       "Unf    0.438724\n",
       "RFn    0.306019\n",
       "Fin    0.255257\n",
       "Name: GarageFinish, dtype: float64"
      ]
     },
     "metadata": {},
     "output_type": "display_data"
    },
    {
     "name": "stdout",
     "output_type": "stream",
     "text": [
      "----------------------------------------SaleCondition---------------------------------------- - "
     ]
    },
    {
     "data": {
      "text/plain": [
       "Normal     0.820548\n",
       "Partial    0.085616\n",
       "Abnorml    0.069178\n",
       "Family     0.013699\n",
       "Alloca     0.008219\n",
       "AdjLand    0.002740\n",
       "Name: SaleCondition, dtype: float64"
      ]
     },
     "metadata": {},
     "output_type": "display_data"
    }
   ],
   "source": [
    "for col in cat_vars.columns:\n",
    "    print('-' * 40 + col + '-' * 40 , end=' - ')\n",
    "    display(cat_vars[col].value_counts(normalize = True))"
   ]
  },
  {
   "cell_type": "code",
   "execution_count": 54,
   "metadata": {},
   "outputs": [
    {
     "name": "stdout",
     "output_type": "stream",
     "text": [
      "<class 'pandas.core.frame.DataFrame'>\n",
      "RangeIndex: 1460 entries, 0 to 1459\n",
      "Data columns (total 20 columns):\n",
      " #   Column         Non-Null Count  Dtype \n",
      "---  ------         --------------  ----- \n",
      " 0   MSZoning       1460 non-null   object\n",
      " 1   LotShape       1460 non-null   object\n",
      " 2   LotConfig      1460 non-null   object\n",
      " 3   Neighborhood   1460 non-null   object\n",
      " 4   BldgType       1460 non-null   object\n",
      " 5   HouseStyle     1460 non-null   object\n",
      " 6   RoofStyle      1460 non-null   object\n",
      " 7   Exterior1st    1460 non-null   object\n",
      " 8   Exterior2nd    1460 non-null   object\n",
      " 9   MasVnrType     1452 non-null   object\n",
      " 10  ExterQual      1460 non-null   object\n",
      " 11  Foundation     1460 non-null   object\n",
      " 12  BsmtQual       1423 non-null   object\n",
      " 13  BsmtExposure   1422 non-null   object\n",
      " 14  BsmtFinType1   1423 non-null   object\n",
      " 15  HeatingQC      1460 non-null   object\n",
      " 16  KitchenQual    1460 non-null   object\n",
      " 17  GarageType     1379 non-null   object\n",
      " 18  GarageFinish   1379 non-null   object\n",
      " 19  SaleCondition  1460 non-null   object\n",
      "dtypes: object(20)\n",
      "memory usage: 228.2+ KB\n"
     ]
    }
   ],
   "source": [
    "cat_vars.info()"
   ]
  },
  {
   "cell_type": "code",
   "execution_count": 58,
   "metadata": {},
   "outputs": [
    {
     "data": {
      "text/plain": [
       "MSZoning          0\n",
       "LotShape          0\n",
       "LotConfig         0\n",
       "Neighborhood      0\n",
       "BldgType          0\n",
       "HouseStyle        0\n",
       "RoofStyle         0\n",
       "Exterior1st       0\n",
       "Exterior2nd       0\n",
       "MasVnrType        8\n",
       "ExterQual         0\n",
       "Foundation        0\n",
       "BsmtQual         37\n",
       "BsmtExposure     38\n",
       "BsmtFinType1     37\n",
       "HeatingQC         0\n",
       "KitchenQual       0\n",
       "GarageType       81\n",
       "GarageFinish     81\n",
       "SaleCondition     0\n",
       "dtype: int64"
      ]
     },
     "execution_count": 58,
     "metadata": {},
     "output_type": "execute_result"
    }
   ],
   "source": [
    "cat_vars.isnull().sum()"
   ]
  },
  {
   "cell_type": "code",
   "execution_count": 59,
   "metadata": {},
   "outputs": [],
   "source": [
    "# Fill the NAN cells with mode.\n",
    "price.MasVnrType = price.MasVnrType.fillna(price.MasVnrType.mode()[0])\n",
    "price.BsmtQual = price.BsmtQual.fillna(price.BsmtQual.mode()[0])\n",
    "price.BsmtExposure = price.BsmtExposure.fillna(price.BsmtExposure.mode()[0])\n",
    "price.BsmtFinType1 = price.BsmtFinType1.fillna(price.BsmtFinType1.mode()[0])\n",
    "price.GarageType = price.GarageType.fillna(price.GarageType.mode()[0])\n",
    "price.GarageFinish = price.GarageFinish.fillna(price.GarageFinish.mode()[0])"
   ]
  },
  {
   "cell_type": "code",
   "execution_count": null,
   "metadata": {},
   "outputs": [],
   "source": []
  },
  {
   "cell_type": "code",
   "execution_count": 61,
   "metadata": {},
   "outputs": [
    {
     "name": "stdout",
     "output_type": "stream",
     "text": [
      "<class 'pandas.core.frame.DataFrame'>\n",
      "RangeIndex: 1460 entries, 0 to 1459\n",
      "Data columns (total 20 columns):\n",
      " #   Column         Non-Null Count  Dtype \n",
      "---  ------         --------------  ----- \n",
      " 0   MSZoning       1460 non-null   object\n",
      " 1   LotShape       1460 non-null   object\n",
      " 2   LotConfig      1460 non-null   object\n",
      " 3   Neighborhood   1460 non-null   object\n",
      " 4   BldgType       1460 non-null   object\n",
      " 5   HouseStyle     1460 non-null   object\n",
      " 6   RoofStyle      1460 non-null   object\n",
      " 7   Exterior1st    1460 non-null   object\n",
      " 8   Exterior2nd    1460 non-null   object\n",
      " 9   MasVnrType     1460 non-null   object\n",
      " 10  ExterQual      1460 non-null   object\n",
      " 11  Foundation     1460 non-null   object\n",
      " 12  BsmtQual       1460 non-null   object\n",
      " 13  BsmtExposure   1460 non-null   object\n",
      " 14  BsmtFinType1   1460 non-null   object\n",
      " 15  HeatingQC      1460 non-null   object\n",
      " 16  KitchenQual    1460 non-null   object\n",
      " 17  GarageType     1460 non-null   object\n",
      " 18  GarageFinish   1460 non-null   object\n",
      " 19  SaleCondition  1460 non-null   object\n",
      "dtypes: object(20)\n",
      "memory usage: 228.2+ KB\n"
     ]
    }
   ],
   "source": [
    "price[cat_vars.columns].info()"
   ]
  },
  {
   "cell_type": "code",
   "execution_count": 62,
   "metadata": {},
   "outputs": [],
   "source": [
    "cat_vars = price.select_dtypes(include = 'object')"
   ]
  },
  {
   "cell_type": "code",
   "execution_count": 64,
   "metadata": {},
   "outputs": [
    {
     "data": {
      "text/plain": [
       "MSZoning         0\n",
       "LotShape         0\n",
       "LotConfig        0\n",
       "Neighborhood     0\n",
       "BldgType         0\n",
       "HouseStyle       0\n",
       "RoofStyle        0\n",
       "Exterior1st      0\n",
       "Exterior2nd      0\n",
       "MasVnrType       0\n",
       "ExterQual        0\n",
       "Foundation       0\n",
       "BsmtQual         0\n",
       "BsmtExposure     0\n",
       "BsmtFinType1     0\n",
       "HeatingQC        0\n",
       "KitchenQual      0\n",
       "GarageType       0\n",
       "GarageFinish     0\n",
       "SaleCondition    0\n",
       "dtype: int64"
      ]
     },
     "execution_count": 64,
     "metadata": {},
     "output_type": "execute_result"
    }
   ],
   "source": [
    "cat_vars.isnull().sum()"
   ]
  },
  {
   "cell_type": "code",
   "execution_count": 65,
   "metadata": {},
   "outputs": [
    {
     "name": "stdout",
     "output_type": "stream",
     "text": [
      "----------------------------------------MSZoning---------------------------------------- - "
     ]
    },
    {
     "data": {
      "text/plain": [
       "RL         0.788356\n",
       "RM         0.149315\n",
       "FV         0.044521\n",
       "RH         0.010959\n",
       "C (all)    0.006849\n",
       "Name: MSZoning, dtype: float64"
      ]
     },
     "metadata": {},
     "output_type": "display_data"
    },
    {
     "name": "stdout",
     "output_type": "stream",
     "text": [
      "----------------------------------------LotShape---------------------------------------- - "
     ]
    },
    {
     "data": {
      "text/plain": [
       "Reg    0.633562\n",
       "IR1    0.331507\n",
       "IR2    0.028082\n",
       "IR3    0.006849\n",
       "Name: LotShape, dtype: float64"
      ]
     },
     "metadata": {},
     "output_type": "display_data"
    },
    {
     "name": "stdout",
     "output_type": "stream",
     "text": [
      "----------------------------------------LotConfig---------------------------------------- - "
     ]
    },
    {
     "data": {
      "text/plain": [
       "Inside     0.720548\n",
       "Corner     0.180137\n",
       "CulDSac    0.064384\n",
       "FR2        0.032192\n",
       "FR3        0.002740\n",
       "Name: LotConfig, dtype: float64"
      ]
     },
     "metadata": {},
     "output_type": "display_data"
    },
    {
     "name": "stdout",
     "output_type": "stream",
     "text": [
      "----------------------------------------Neighborhood---------------------------------------- - "
     ]
    },
    {
     "data": {
      "text/plain": [
       "NAmes      0.154110\n",
       "CollgCr    0.102740\n",
       "OldTown    0.077397\n",
       "Edwards    0.068493\n",
       "Somerst    0.058904\n",
       "Gilbert    0.054110\n",
       "NridgHt    0.052740\n",
       "Sawyer     0.050685\n",
       "NWAmes     0.050000\n",
       "SawyerW    0.040411\n",
       "BrkSide    0.039726\n",
       "Crawfor    0.034932\n",
       "Mitchel    0.033562\n",
       "NoRidge    0.028082\n",
       "Timber     0.026027\n",
       "IDOTRR     0.025342\n",
       "ClearCr    0.019178\n",
       "StoneBr    0.017123\n",
       "SWISU      0.017123\n",
       "MeadowV    0.011644\n",
       "Blmngtn    0.011644\n",
       "BrDale     0.010959\n",
       "Veenker    0.007534\n",
       "NPkVill    0.006164\n",
       "Blueste    0.001370\n",
       "Name: Neighborhood, dtype: float64"
      ]
     },
     "metadata": {},
     "output_type": "display_data"
    },
    {
     "name": "stdout",
     "output_type": "stream",
     "text": [
      "----------------------------------------BldgType---------------------------------------- - "
     ]
    },
    {
     "data": {
      "text/plain": [
       "1Fam      0.835616\n",
       "TwnhsE    0.078082\n",
       "Duplex    0.035616\n",
       "Twnhs     0.029452\n",
       "2fmCon    0.021233\n",
       "Name: BldgType, dtype: float64"
      ]
     },
     "metadata": {},
     "output_type": "display_data"
    },
    {
     "name": "stdout",
     "output_type": "stream",
     "text": [
      "----------------------------------------HouseStyle---------------------------------------- - "
     ]
    },
    {
     "data": {
      "text/plain": [
       "1Story    0.497260\n",
       "2Story    0.304795\n",
       "1.5Fin    0.105479\n",
       "SLvl      0.044521\n",
       "SFoyer    0.025342\n",
       "1.5Unf    0.009589\n",
       "2.5Unf    0.007534\n",
       "2.5Fin    0.005479\n",
       "Name: HouseStyle, dtype: float64"
      ]
     },
     "metadata": {},
     "output_type": "display_data"
    },
    {
     "name": "stdout",
     "output_type": "stream",
     "text": [
      "----------------------------------------RoofStyle---------------------------------------- - "
     ]
    },
    {
     "data": {
      "text/plain": [
       "Gable      0.781507\n",
       "Hip        0.195890\n",
       "Flat       0.008904\n",
       "Gambrel    0.007534\n",
       "Mansard    0.004795\n",
       "Shed       0.001370\n",
       "Name: RoofStyle, dtype: float64"
      ]
     },
     "metadata": {},
     "output_type": "display_data"
    },
    {
     "name": "stdout",
     "output_type": "stream",
     "text": [
      "----------------------------------------Exterior1st---------------------------------------- - "
     ]
    },
    {
     "data": {
      "text/plain": [
       "VinylSd    0.352740\n",
       "HdBoard    0.152055\n",
       "MetalSd    0.150685\n",
       "Wd Sdng    0.141096\n",
       "Plywood    0.073973\n",
       "CemntBd    0.041781\n",
       "BrkFace    0.034247\n",
       "WdShing    0.017808\n",
       "Stucco     0.017123\n",
       "AsbShng    0.013699\n",
       "BrkComm    0.001370\n",
       "Stone      0.001370\n",
       "AsphShn    0.000685\n",
       "ImStucc    0.000685\n",
       "CBlock     0.000685\n",
       "Name: Exterior1st, dtype: float64"
      ]
     },
     "metadata": {},
     "output_type": "display_data"
    },
    {
     "name": "stdout",
     "output_type": "stream",
     "text": [
      "----------------------------------------Exterior2nd---------------------------------------- - "
     ]
    },
    {
     "data": {
      "text/plain": [
       "VinylSd    0.345205\n",
       "MetalSd    0.146575\n",
       "HdBoard    0.141781\n",
       "Wd Sdng    0.134932\n",
       "Plywood    0.097260\n",
       "CmentBd    0.041096\n",
       "Wd Shng    0.026027\n",
       "Stucco     0.017808\n",
       "BrkFace    0.017123\n",
       "AsbShng    0.013699\n",
       "ImStucc    0.006849\n",
       "Brk Cmn    0.004795\n",
       "Stone      0.003425\n",
       "AsphShn    0.002055\n",
       "Other      0.000685\n",
       "CBlock     0.000685\n",
       "Name: Exterior2nd, dtype: float64"
      ]
     },
     "metadata": {},
     "output_type": "display_data"
    },
    {
     "name": "stdout",
     "output_type": "stream",
     "text": [
      "----------------------------------------MasVnrType---------------------------------------- - "
     ]
    },
    {
     "data": {
      "text/plain": [
       "None       0.597260\n",
       "BrkFace    0.304795\n",
       "Stone      0.087671\n",
       "BrkCmn     0.010274\n",
       "Name: MasVnrType, dtype: float64"
      ]
     },
     "metadata": {},
     "output_type": "display_data"
    },
    {
     "name": "stdout",
     "output_type": "stream",
     "text": [
      "----------------------------------------ExterQual---------------------------------------- - "
     ]
    },
    {
     "data": {
      "text/plain": [
       "TA    0.620548\n",
       "Gd    0.334247\n",
       "Ex    0.035616\n",
       "Fa    0.009589\n",
       "Name: ExterQual, dtype: float64"
      ]
     },
     "metadata": {},
     "output_type": "display_data"
    },
    {
     "name": "stdout",
     "output_type": "stream",
     "text": [
      "----------------------------------------Foundation---------------------------------------- - "
     ]
    },
    {
     "data": {
      "text/plain": [
       "PConc     0.443151\n",
       "CBlock    0.434247\n",
       "BrkTil    0.100000\n",
       "Slab      0.016438\n",
       "Stone     0.004110\n",
       "Wood      0.002055\n",
       "Name: Foundation, dtype: float64"
      ]
     },
     "metadata": {},
     "output_type": "display_data"
    },
    {
     "name": "stdout",
     "output_type": "stream",
     "text": [
      "----------------------------------------BsmtQual---------------------------------------- - "
     ]
    },
    {
     "data": {
      "text/plain": [
       "TA    0.469863\n",
       "Gd    0.423288\n",
       "Ex    0.082877\n",
       "Fa    0.023973\n",
       "Name: BsmtQual, dtype: float64"
      ]
     },
     "metadata": {},
     "output_type": "display_data"
    },
    {
     "name": "stdout",
     "output_type": "stream",
     "text": [
      "----------------------------------------BsmtExposure---------------------------------------- - "
     ]
    },
    {
     "data": {
      "text/plain": [
       "No    0.678767\n",
       "Av    0.151370\n",
       "Gd    0.091781\n",
       "Mn    0.078082\n",
       "Name: BsmtExposure, dtype: float64"
      ]
     },
     "metadata": {},
     "output_type": "display_data"
    },
    {
     "name": "stdout",
     "output_type": "stream",
     "text": [
      "----------------------------------------BsmtFinType1---------------------------------------- - "
     ]
    },
    {
     "data": {
      "text/plain": [
       "Unf    0.319863\n",
       "GLQ    0.286301\n",
       "ALQ    0.150685\n",
       "BLQ    0.101370\n",
       "Rec    0.091096\n",
       "LwQ    0.050685\n",
       "Name: BsmtFinType1, dtype: float64"
      ]
     },
     "metadata": {},
     "output_type": "display_data"
    },
    {
     "name": "stdout",
     "output_type": "stream",
     "text": [
      "----------------------------------------HeatingQC---------------------------------------- - "
     ]
    },
    {
     "data": {
      "text/plain": [
       "Ex    0.507534\n",
       "TA    0.293151\n",
       "Gd    0.165068\n",
       "Fa    0.033562\n",
       "Po    0.000685\n",
       "Name: HeatingQC, dtype: float64"
      ]
     },
     "metadata": {},
     "output_type": "display_data"
    },
    {
     "name": "stdout",
     "output_type": "stream",
     "text": [
      "----------------------------------------KitchenQual---------------------------------------- - "
     ]
    },
    {
     "data": {
      "text/plain": [
       "TA    0.503425\n",
       "Gd    0.401370\n",
       "Ex    0.068493\n",
       "Fa    0.026712\n",
       "Name: KitchenQual, dtype: float64"
      ]
     },
     "metadata": {},
     "output_type": "display_data"
    },
    {
     "name": "stdout",
     "output_type": "stream",
     "text": [
      "----------------------------------------GarageType---------------------------------------- - "
     ]
    },
    {
     "data": {
      "text/plain": [
       "Attchd     0.651370\n",
       "Detchd     0.265068\n",
       "BuiltIn    0.060274\n",
       "Basment    0.013014\n",
       "CarPort    0.006164\n",
       "2Types     0.004110\n",
       "Name: GarageType, dtype: float64"
      ]
     },
     "metadata": {},
     "output_type": "display_data"
    },
    {
     "name": "stdout",
     "output_type": "stream",
     "text": [
      "----------------------------------------GarageFinish---------------------------------------- - "
     ]
    },
    {
     "data": {
      "text/plain": [
       "Unf    0.469863\n",
       "RFn    0.289041\n",
       "Fin    0.241096\n",
       "Name: GarageFinish, dtype: float64"
      ]
     },
     "metadata": {},
     "output_type": "display_data"
    },
    {
     "name": "stdout",
     "output_type": "stream",
     "text": [
      "----------------------------------------SaleCondition---------------------------------------- - "
     ]
    },
    {
     "data": {
      "text/plain": [
       "Normal     0.820548\n",
       "Partial    0.085616\n",
       "Abnorml    0.069178\n",
       "Family     0.013699\n",
       "Alloca     0.008219\n",
       "AdjLand    0.002740\n",
       "Name: SaleCondition, dtype: float64"
      ]
     },
     "metadata": {},
     "output_type": "display_data"
    }
   ],
   "source": [
    "for col in cat_vars.columns:\n",
    "    print('-' * 40 + col + '-' * 40 , end=' - ')\n",
    "    display(cat_vars[col].value_counts(normalize = True))"
   ]
  },
  {
   "cell_type": "code",
   "execution_count": 66,
   "metadata": {},
   "outputs": [],
   "source": [
    "# Define the changes to be made to 'Last Notable Activity' column and apply the changes\n",
    "def Change_MSZoning(x):\n",
    "    if x == 'RL':\n",
    "        return 'RL'\n",
    "    elif x == 'RM':\n",
    "        return 'RM'\n",
    "    else: \n",
    "        return 'Others'\n",
    "\n",
    "price.MSZoning = price.MSZoning.apply(Change_MSZoning)"
   ]
  },
  {
   "cell_type": "code",
   "execution_count": 67,
   "metadata": {},
   "outputs": [],
   "source": [
    "# Define the changes to be made to 'Last Notable Activity' column and apply the changes\n",
    "def Change_LotShape(x):\n",
    "    if x == 'Reg':\n",
    "        return 'Reg'\n",
    "    elif x == 'IR1':\n",
    "        return 'IR1'\n",
    "    else: \n",
    "        return 'Others'\n",
    "\n",
    "price.LotShape = price.LotShape.apply(Change_LotShape)"
   ]
  },
  {
   "cell_type": "code",
   "execution_count": 68,
   "metadata": {},
   "outputs": [],
   "source": [
    "# Define the changes to be made to 'Last Notable Activity' column and apply the changes\n",
    "def Change_Neighborhood(x):\n",
    "    if x == 'NAmes':\n",
    "        return 'NAmes'\n",
    "    elif x == 'CollgCr':\n",
    "        return 'CollgCr'\n",
    "    elif x == 'OldTown':\n",
    "        return 'OldTown'\n",
    "    elif x == 'Edwards':\n",
    "        return 'Edwards'\n",
    "    else: \n",
    "        return 'Others'\n",
    "\n",
    "price.Neighborhood = price.Neighborhood.apply(Change_Neighborhood)"
   ]
  },
  {
   "cell_type": "code",
   "execution_count": 69,
   "metadata": {},
   "outputs": [],
   "source": [
    "# Define the changes to be made to 'Last Notable Activity' column and apply the changes\n",
    "def Change_BldgType(x):\n",
    "    if x == '1Fam':\n",
    "        return '1Fam'\n",
    "    elif x == 'TwnhsE':\n",
    "        return 'TwnhsE'\n",
    "    else: \n",
    "        return 'Others'\n",
    "\n",
    "price.BldgType = price.BldgType.apply(Change_BldgType)\n"
   ]
  },
  {
   "cell_type": "code",
   "execution_count": 70,
   "metadata": {},
   "outputs": [],
   "source": [
    "# Define the changes to be made to 'Last Notable Activity' column and apply the changes\n",
    "def Change_HouseStyle(x):\n",
    "    if x == '1Story':\n",
    "        return '1Story'\n",
    "    elif x == '2Story':\n",
    "        return '2Story'\n",
    "    elif x == '1.5Fin':\n",
    "        return '1.5Fin'\n",
    "    else: \n",
    "        return 'Others'\n",
    "\n",
    "price.HouseStyle = price.HouseStyle.apply(Change_HouseStyle)"
   ]
  },
  {
   "cell_type": "code",
   "execution_count": 72,
   "metadata": {},
   "outputs": [],
   "source": [
    "\n",
    "def Change_RoofStyle(x):\n",
    "    if x == 'Gable':\n",
    "        return 'Gable'\n",
    "    elif x == 'Hip':\n",
    "        return 'Hip'\n",
    "    else: \n",
    "        return 'Others'\n",
    "\n",
    "def Change_Exterior1st(x):\n",
    "    if x == 'VinylSd':\n",
    "        return 'VinylSd'\n",
    "    elif x == 'HdBoard':\n",
    "        return 'HdBoard'\n",
    "    elif x == 'MetalSd':\n",
    "        return 'MetalSd'\n",
    "    elif x == 'Wd Sdng':\n",
    "        return 'WdSdng'\n",
    "    else: \n",
    "        return 'Others'\n",
    "\n",
    "def Change_ExterQual(x):\n",
    "    if x == 'TA':\n",
    "        return 'TA'\n",
    "    elif x == 'Gd':\n",
    "        return 'Gd'\n",
    "    else: \n",
    "        return 'Others'\n",
    "\n",
    "def Change_Foundation(x):\n",
    "    if x == 'PConc':\n",
    "        return 'PConc'\n",
    "    elif x == 'CBlock':\n",
    "        return 'CBlock'\n",
    "    else: \n",
    "        return 'Others'\n",
    "\n",
    "def Change_BsmtQual(x):\n",
    "    if x == 'TA':\n",
    "        return 'TA'\n",
    "    elif x == 'Gd':\n",
    "        return 'Gd'\n",
    "    else: \n",
    "        return 'Others'\n",
    "\n",
    "def Change_HeatingQC(x):\n",
    "    if x == 'Ex':\n",
    "        return 'Ex'\n",
    "    elif x == 'TA':\n",
    "        return 'TA'\n",
    "    elif x == 'Gd':\n",
    "        return 'Gd'\n",
    "    else: \n",
    "        return 'Others'\n",
    "\n",
    "def Change_KitchenQual(x):\n",
    "    if x == 'TA':\n",
    "        return 'TA'\n",
    "    elif x == 'Gd':\n",
    "        return 'Gd'\n",
    "    else: \n",
    "        return 'Others'\n",
    "\n",
    "def Change_GarageType(x):\n",
    "    if x == 'Attchd':\n",
    "        return 'Attchd'\n",
    "    elif x == 'Detchd':\n",
    "        return 'Detchd'\n",
    "    else: \n",
    "        return 'Others'\n",
    "\n",
    "def Change_SaleCondition(x):\n",
    "    if x == 'Normal':\n",
    "        return 'Normal'\n",
    "    elif x == 'Partial':\n",
    "        return 'Partial'\n",
    "    else: \n",
    "        return 'Others'\n",
    "\n",
    "\n",
    "\n",
    "price.RoofStyle = price.RoofStyle.apply(Change_RoofStyle)\n",
    "price.Exterior1st = price.Exterior1st.apply(Change_Exterior1st)\n",
    "price.ExterQual = price.ExterQual.apply(Change_ExterQual)\n",
    "price.Foundation = price.Foundation.apply(Change_Foundation)\n",
    "price.BsmtQual = price.BsmtQual.apply(Change_BsmtQual)\n",
    "price.HeatingQC = price.HeatingQC.apply(Change_HeatingQC)\n",
    "price.KitchenQual = price.KitchenQual.apply(Change_KitchenQual)\n",
    "price.GarageType = price.GarageType.apply(Change_GarageType)\n",
    "price.SaleCondition = price.SaleCondition.apply(Change_SaleCondition)\n",
    "\n",
    "\n"
   ]
  },
  {
   "cell_type": "code",
   "execution_count": 75,
   "metadata": {},
   "outputs": [],
   "source": [
    "\n",
    "def Change_Exterior2nd(x):\n",
    "    if x == 'VinylSd':\n",
    "        return 'VinylSd'\n",
    "    elif x == 'HdBoard':\n",
    "        return 'HdBoard'\n",
    "    elif x == 'MetalSd':\n",
    "        return 'MetalSd'\n",
    "    elif x == 'Wd Sdng':\n",
    "        return 'WdSdng'\n",
    "    elif x == 'Plywood':\n",
    "        return 'Plywood'\n",
    "    else: \n",
    "        return 'Others'\n",
    "    \n",
    "price.Exterior2nd = price.Exterior2nd.apply(Change_Exterior2nd)\n"
   ]
  },
  {
   "cell_type": "code",
   "execution_count": 77,
   "metadata": {},
   "outputs": [],
   "source": [
    "def Change_LotConfig(x):\n",
    "    if x == 'Inside':\n",
    "        return 'Inside'\n",
    "    elif x == 'Corner':\n",
    "        return 'Corner'\n",
    "    else: \n",
    "        return 'Others'\n",
    "    \n",
    "price.LotConfig = price.LotConfig.apply(Change_LotConfig)\n"
   ]
  },
  {
   "cell_type": "code",
   "execution_count": 78,
   "metadata": {},
   "outputs": [
    {
     "name": "stdout",
     "output_type": "stream",
     "text": [
      "----------------------------------------MSZoning---------------------------------------- - "
     ]
    },
    {
     "data": {
      "text/plain": [
       "RL        0.788356\n",
       "RM        0.149315\n",
       "Others    0.062329\n",
       "Name: MSZoning, dtype: float64"
      ]
     },
     "metadata": {},
     "output_type": "display_data"
    },
    {
     "name": "stdout",
     "output_type": "stream",
     "text": [
      "----------------------------------------LotShape---------------------------------------- - "
     ]
    },
    {
     "data": {
      "text/plain": [
       "Reg       0.633562\n",
       "IR1       0.331507\n",
       "Others    0.034932\n",
       "Name: LotShape, dtype: float64"
      ]
     },
     "metadata": {},
     "output_type": "display_data"
    },
    {
     "name": "stdout",
     "output_type": "stream",
     "text": [
      "----------------------------------------LotConfig---------------------------------------- - "
     ]
    },
    {
     "data": {
      "text/plain": [
       "Inside    0.720548\n",
       "Corner    0.180137\n",
       "Others    0.099315\n",
       "Name: LotConfig, dtype: float64"
      ]
     },
     "metadata": {},
     "output_type": "display_data"
    },
    {
     "name": "stdout",
     "output_type": "stream",
     "text": [
      "----------------------------------------Neighborhood---------------------------------------- - "
     ]
    },
    {
     "data": {
      "text/plain": [
       "Others     0.597260\n",
       "NAmes      0.154110\n",
       "CollgCr    0.102740\n",
       "OldTown    0.077397\n",
       "Edwards    0.068493\n",
       "Name: Neighborhood, dtype: float64"
      ]
     },
     "metadata": {},
     "output_type": "display_data"
    },
    {
     "name": "stdout",
     "output_type": "stream",
     "text": [
      "----------------------------------------BldgType---------------------------------------- - "
     ]
    },
    {
     "data": {
      "text/plain": [
       "1Fam      0.835616\n",
       "Others    0.086301\n",
       "TwnhsE    0.078082\n",
       "Name: BldgType, dtype: float64"
      ]
     },
     "metadata": {},
     "output_type": "display_data"
    },
    {
     "name": "stdout",
     "output_type": "stream",
     "text": [
      "----------------------------------------HouseStyle---------------------------------------- - "
     ]
    },
    {
     "data": {
      "text/plain": [
       "1Story    0.497260\n",
       "2Story    0.304795\n",
       "1.5Fin    0.105479\n",
       "Others    0.092466\n",
       "Name: HouseStyle, dtype: float64"
      ]
     },
     "metadata": {},
     "output_type": "display_data"
    },
    {
     "name": "stdout",
     "output_type": "stream",
     "text": [
      "----------------------------------------RoofStyle---------------------------------------- - "
     ]
    },
    {
     "data": {
      "text/plain": [
       "Gable     0.781507\n",
       "Hip       0.195890\n",
       "Others    0.022603\n",
       "Name: RoofStyle, dtype: float64"
      ]
     },
     "metadata": {},
     "output_type": "display_data"
    },
    {
     "name": "stdout",
     "output_type": "stream",
     "text": [
      "----------------------------------------Exterior1st---------------------------------------- - "
     ]
    },
    {
     "data": {
      "text/plain": [
       "VinylSd    0.352740\n",
       "Others     0.203425\n",
       "HdBoard    0.152055\n",
       "MetalSd    0.150685\n",
       "WdSdng     0.141096\n",
       "Name: Exterior1st, dtype: float64"
      ]
     },
     "metadata": {},
     "output_type": "display_data"
    },
    {
     "name": "stdout",
     "output_type": "stream",
     "text": [
      "----------------------------------------Exterior2nd---------------------------------------- - "
     ]
    },
    {
     "data": {
      "text/plain": [
       "VinylSd    0.345205\n",
       "MetalSd    0.146575\n",
       "HdBoard    0.141781\n",
       "WdSdng     0.134932\n",
       "Others     0.134247\n",
       "Plywood    0.097260\n",
       "Name: Exterior2nd, dtype: float64"
      ]
     },
     "metadata": {},
     "output_type": "display_data"
    },
    {
     "name": "stdout",
     "output_type": "stream",
     "text": [
      "----------------------------------------ExterQual---------------------------------------- - "
     ]
    },
    {
     "data": {
      "text/plain": [
       "TA        0.620548\n",
       "Gd        0.334247\n",
       "Others    0.045205\n",
       "Name: ExterQual, dtype: float64"
      ]
     },
     "metadata": {},
     "output_type": "display_data"
    },
    {
     "name": "stdout",
     "output_type": "stream",
     "text": [
      "----------------------------------------Foundation---------------------------------------- - "
     ]
    },
    {
     "data": {
      "text/plain": [
       "PConc     0.443151\n",
       "CBlock    0.434247\n",
       "Others    0.122603\n",
       "Name: Foundation, dtype: float64"
      ]
     },
     "metadata": {},
     "output_type": "display_data"
    },
    {
     "name": "stdout",
     "output_type": "stream",
     "text": [
      "----------------------------------------BsmtQual---------------------------------------- - "
     ]
    },
    {
     "data": {
      "text/plain": [
       "TA        0.469863\n",
       "Gd        0.423288\n",
       "Others    0.106849\n",
       "Name: BsmtQual, dtype: float64"
      ]
     },
     "metadata": {},
     "output_type": "display_data"
    },
    {
     "name": "stdout",
     "output_type": "stream",
     "text": [
      "----------------------------------------BsmtExposure---------------------------------------- - "
     ]
    },
    {
     "data": {
      "text/plain": [
       "No    0.678767\n",
       "Av    0.151370\n",
       "Gd    0.091781\n",
       "Mn    0.078082\n",
       "Name: BsmtExposure, dtype: float64"
      ]
     },
     "metadata": {},
     "output_type": "display_data"
    },
    {
     "name": "stdout",
     "output_type": "stream",
     "text": [
      "----------------------------------------BsmtFinType1---------------------------------------- - "
     ]
    },
    {
     "data": {
      "text/plain": [
       "Unf    0.319863\n",
       "GLQ    0.286301\n",
       "ALQ    0.150685\n",
       "BLQ    0.101370\n",
       "Rec    0.091096\n",
       "LwQ    0.050685\n",
       "Name: BsmtFinType1, dtype: float64"
      ]
     },
     "metadata": {},
     "output_type": "display_data"
    },
    {
     "name": "stdout",
     "output_type": "stream",
     "text": [
      "----------------------------------------HeatingQC---------------------------------------- - "
     ]
    },
    {
     "data": {
      "text/plain": [
       "Ex        0.507534\n",
       "TA        0.293151\n",
       "Gd        0.165068\n",
       "Others    0.034247\n",
       "Name: HeatingQC, dtype: float64"
      ]
     },
     "metadata": {},
     "output_type": "display_data"
    },
    {
     "name": "stdout",
     "output_type": "stream",
     "text": [
      "----------------------------------------KitchenQual---------------------------------------- - "
     ]
    },
    {
     "data": {
      "text/plain": [
       "TA        0.503425\n",
       "Gd        0.401370\n",
       "Others    0.095205\n",
       "Name: KitchenQual, dtype: float64"
      ]
     },
     "metadata": {},
     "output_type": "display_data"
    },
    {
     "name": "stdout",
     "output_type": "stream",
     "text": [
      "----------------------------------------GarageType---------------------------------------- - "
     ]
    },
    {
     "data": {
      "text/plain": [
       "Attchd    0.651370\n",
       "Detchd    0.265068\n",
       "Others    0.083562\n",
       "Name: GarageType, dtype: float64"
      ]
     },
     "metadata": {},
     "output_type": "display_data"
    },
    {
     "name": "stdout",
     "output_type": "stream",
     "text": [
      "----------------------------------------GarageFinish---------------------------------------- - "
     ]
    },
    {
     "data": {
      "text/plain": [
       "Unf    0.469863\n",
       "RFn    0.289041\n",
       "Fin    0.241096\n",
       "Name: GarageFinish, dtype: float64"
      ]
     },
     "metadata": {},
     "output_type": "display_data"
    },
    {
     "name": "stdout",
     "output_type": "stream",
     "text": [
      "----------------------------------------SaleCondition---------------------------------------- - "
     ]
    },
    {
     "data": {
      "text/plain": [
       "Normal     0.820548\n",
       "Others     0.093836\n",
       "Partial    0.085616\n",
       "Name: SaleCondition, dtype: float64"
      ]
     },
     "metadata": {},
     "output_type": "display_data"
    }
   ],
   "source": [
    "cat_vars = price.select_dtypes(include = 'object')\n",
    "\n",
    "for col in cat_vars.columns:\n",
    "    print('-' * 40 + col + '-' * 40 , end=' - ')\n",
    "    display(cat_vars[col].value_counts(normalize = True))"
   ]
  },
  {
   "cell_type": "code",
   "execution_count": 80,
   "metadata": {},
   "outputs": [
    {
     "data": {
      "text/plain": [
       "Index(['MSZoning', 'LotShape', 'LotConfig', 'Neighborhood', 'BldgType',\n",
       "       'HouseStyle', 'RoofStyle', 'Exterior1st', 'Exterior2nd', 'ExterQual',\n",
       "       'Foundation', 'BsmtQual', 'BsmtExposure', 'BsmtFinType1', 'HeatingQC',\n",
       "       'KitchenQual', 'GarageType', 'GarageFinish', 'SaleCondition'],\n",
       "      dtype='object')"
      ]
     },
     "execution_count": 80,
     "metadata": {},
     "output_type": "execute_result"
    }
   ],
   "source": [
    "cat_vars.columns"
   ]
  },
  {
   "cell_type": "code",
   "execution_count": 81,
   "metadata": {},
   "outputs": [],
   "source": [
    "# Creating a dummy variable for some of the categorical variables and dropping the first one.\n",
    "dummy1 = pd.get_dummies(price[['MSZoning', 'LotShape', 'LotConfig', 'Neighborhood', 'BldgType',\n",
    "       'HouseStyle', 'RoofStyle', 'Exterior1st', 'Exterior2nd', 'ExterQual',\n",
    "       'Foundation', 'BsmtQual', 'BsmtExposure', 'BsmtFinType1', 'HeatingQC',\n",
    "       'KitchenQual', 'GarageType', 'GarageFinish', 'SaleCondition']], drop_first=True)\n",
    "\n",
    "# Adding the results to the master dataframe\n",
    "price = pd.concat([price, dummy1], axis=1)"
   ]
  },
  {
   "cell_type": "code",
   "execution_count": 82,
   "metadata": {},
   "outputs": [
    {
     "data": {
      "text/html": [
       "<div>\n",
       "<style scoped>\n",
       "    .dataframe tbody tr th:only-of-type {\n",
       "        vertical-align: middle;\n",
       "    }\n",
       "\n",
       "    .dataframe tbody tr th {\n",
       "        vertical-align: top;\n",
       "    }\n",
       "\n",
       "    .dataframe thead th {\n",
       "        text-align: right;\n",
       "    }\n",
       "</style>\n",
       "<table border=\"1\" class=\"dataframe\">\n",
       "  <thead>\n",
       "    <tr style=\"text-align: right;\">\n",
       "      <th></th>\n",
       "      <th>Id</th>\n",
       "      <th>MSSubClass</th>\n",
       "      <th>MSZoning</th>\n",
       "      <th>LotFrontage</th>\n",
       "      <th>LotArea</th>\n",
       "      <th>LotShape</th>\n",
       "      <th>LotConfig</th>\n",
       "      <th>Neighborhood</th>\n",
       "      <th>BldgType</th>\n",
       "      <th>HouseStyle</th>\n",
       "      <th>...</th>\n",
       "      <th>HeatingQC_Others</th>\n",
       "      <th>HeatingQC_TA</th>\n",
       "      <th>KitchenQual_Others</th>\n",
       "      <th>KitchenQual_TA</th>\n",
       "      <th>GarageType_Detchd</th>\n",
       "      <th>GarageType_Others</th>\n",
       "      <th>GarageFinish_RFn</th>\n",
       "      <th>GarageFinish_Unf</th>\n",
       "      <th>SaleCondition_Others</th>\n",
       "      <th>SaleCondition_Partial</th>\n",
       "    </tr>\n",
       "  </thead>\n",
       "  <tbody>\n",
       "    <tr>\n",
       "      <th>0</th>\n",
       "      <td>1</td>\n",
       "      <td>60</td>\n",
       "      <td>RL</td>\n",
       "      <td>65.0</td>\n",
       "      <td>8450</td>\n",
       "      <td>Reg</td>\n",
       "      <td>Inside</td>\n",
       "      <td>CollgCr</td>\n",
       "      <td>1Fam</td>\n",
       "      <td>2Story</td>\n",
       "      <td>...</td>\n",
       "      <td>0</td>\n",
       "      <td>0</td>\n",
       "      <td>0</td>\n",
       "      <td>0</td>\n",
       "      <td>0</td>\n",
       "      <td>0</td>\n",
       "      <td>1</td>\n",
       "      <td>0</td>\n",
       "      <td>0</td>\n",
       "      <td>0</td>\n",
       "    </tr>\n",
       "    <tr>\n",
       "      <th>1</th>\n",
       "      <td>2</td>\n",
       "      <td>20</td>\n",
       "      <td>RL</td>\n",
       "      <td>80.0</td>\n",
       "      <td>9600</td>\n",
       "      <td>Reg</td>\n",
       "      <td>Others</td>\n",
       "      <td>Others</td>\n",
       "      <td>1Fam</td>\n",
       "      <td>1Story</td>\n",
       "      <td>...</td>\n",
       "      <td>0</td>\n",
       "      <td>0</td>\n",
       "      <td>0</td>\n",
       "      <td>1</td>\n",
       "      <td>0</td>\n",
       "      <td>0</td>\n",
       "      <td>1</td>\n",
       "      <td>0</td>\n",
       "      <td>0</td>\n",
       "      <td>0</td>\n",
       "    </tr>\n",
       "    <tr>\n",
       "      <th>2</th>\n",
       "      <td>3</td>\n",
       "      <td>60</td>\n",
       "      <td>RL</td>\n",
       "      <td>68.0</td>\n",
       "      <td>11250</td>\n",
       "      <td>IR1</td>\n",
       "      <td>Inside</td>\n",
       "      <td>CollgCr</td>\n",
       "      <td>1Fam</td>\n",
       "      <td>2Story</td>\n",
       "      <td>...</td>\n",
       "      <td>0</td>\n",
       "      <td>0</td>\n",
       "      <td>0</td>\n",
       "      <td>0</td>\n",
       "      <td>0</td>\n",
       "      <td>0</td>\n",
       "      <td>1</td>\n",
       "      <td>0</td>\n",
       "      <td>0</td>\n",
       "      <td>0</td>\n",
       "    </tr>\n",
       "    <tr>\n",
       "      <th>3</th>\n",
       "      <td>4</td>\n",
       "      <td>70</td>\n",
       "      <td>RL</td>\n",
       "      <td>60.0</td>\n",
       "      <td>9550</td>\n",
       "      <td>IR1</td>\n",
       "      <td>Corner</td>\n",
       "      <td>Others</td>\n",
       "      <td>1Fam</td>\n",
       "      <td>2Story</td>\n",
       "      <td>...</td>\n",
       "      <td>0</td>\n",
       "      <td>0</td>\n",
       "      <td>0</td>\n",
       "      <td>0</td>\n",
       "      <td>1</td>\n",
       "      <td>0</td>\n",
       "      <td>0</td>\n",
       "      <td>1</td>\n",
       "      <td>1</td>\n",
       "      <td>0</td>\n",
       "    </tr>\n",
       "    <tr>\n",
       "      <th>4</th>\n",
       "      <td>5</td>\n",
       "      <td>60</td>\n",
       "      <td>RL</td>\n",
       "      <td>84.0</td>\n",
       "      <td>14260</td>\n",
       "      <td>IR1</td>\n",
       "      <td>Others</td>\n",
       "      <td>Others</td>\n",
       "      <td>1Fam</td>\n",
       "      <td>2Story</td>\n",
       "      <td>...</td>\n",
       "      <td>0</td>\n",
       "      <td>0</td>\n",
       "      <td>0</td>\n",
       "      <td>0</td>\n",
       "      <td>0</td>\n",
       "      <td>0</td>\n",
       "      <td>1</td>\n",
       "      <td>0</td>\n",
       "      <td>0</td>\n",
       "      <td>0</td>\n",
       "    </tr>\n",
       "  </tbody>\n",
       "</table>\n",
       "<p>5 rows × 108 columns</p>\n",
       "</div>"
      ],
      "text/plain": [
       "   Id  MSSubClass MSZoning  LotFrontage  LotArea LotShape LotConfig  \\\n",
       "0   1          60       RL         65.0     8450      Reg    Inside   \n",
       "1   2          20       RL         80.0     9600      Reg    Others   \n",
       "2   3          60       RL         68.0    11250      IR1    Inside   \n",
       "3   4          70       RL         60.0     9550      IR1    Corner   \n",
       "4   5          60       RL         84.0    14260      IR1    Others   \n",
       "\n",
       "  Neighborhood BldgType HouseStyle  ...  HeatingQC_Others  HeatingQC_TA  \\\n",
       "0      CollgCr     1Fam     2Story  ...                 0             0   \n",
       "1       Others     1Fam     1Story  ...                 0             0   \n",
       "2      CollgCr     1Fam     2Story  ...                 0             0   \n",
       "3       Others     1Fam     2Story  ...                 0             0   \n",
       "4       Others     1Fam     2Story  ...                 0             0   \n",
       "\n",
       "   KitchenQual_Others  KitchenQual_TA GarageType_Detchd GarageType_Others  \\\n",
       "0                   0               0                 0                 0   \n",
       "1                   0               1                 0                 0   \n",
       "2                   0               0                 0                 0   \n",
       "3                   0               0                 1                 0   \n",
       "4                   0               0                 0                 0   \n",
       "\n",
       "  GarageFinish_RFn  GarageFinish_Unf SaleCondition_Others  \\\n",
       "0                1                 0                    0   \n",
       "1                1                 0                    0   \n",
       "2                1                 0                    0   \n",
       "3                0                 1                    1   \n",
       "4                1                 0                    0   \n",
       "\n",
       "  SaleCondition_Partial  \n",
       "0                     0  \n",
       "1                     0  \n",
       "2                     0  \n",
       "3                     0  \n",
       "4                     0  \n",
       "\n",
       "[5 rows x 108 columns]"
      ]
     },
     "execution_count": 82,
     "metadata": {},
     "output_type": "execute_result"
    }
   ],
   "source": [
    "price.head()"
   ]
  },
  {
   "cell_type": "code",
   "execution_count": 83,
   "metadata": {},
   "outputs": [],
   "source": [
    "# Drop the categorical columns after creating dummines\n",
    "price = price.drop(['MSZoning', 'LotShape', 'LotConfig', 'Neighborhood', 'BldgType',\n",
    "       'HouseStyle', 'RoofStyle', 'Exterior1st', 'Exterior2nd', 'ExterQual',\n",
    "       'Foundation', 'BsmtQual', 'BsmtExposure', 'BsmtFinType1', 'HeatingQC',\n",
    "       'KitchenQual', 'GarageType', 'GarageFinish', 'SaleCondition'], axis = 1)"
   ]
  },
  {
   "cell_type": "code",
   "execution_count": 84,
   "metadata": {},
   "outputs": [
    {
     "data": {
      "text/html": [
       "<div>\n",
       "<style scoped>\n",
       "    .dataframe tbody tr th:only-of-type {\n",
       "        vertical-align: middle;\n",
       "    }\n",
       "\n",
       "    .dataframe tbody tr th {\n",
       "        vertical-align: top;\n",
       "    }\n",
       "\n",
       "    .dataframe thead th {\n",
       "        text-align: right;\n",
       "    }\n",
       "</style>\n",
       "<table border=\"1\" class=\"dataframe\">\n",
       "  <thead>\n",
       "    <tr style=\"text-align: right;\">\n",
       "      <th></th>\n",
       "      <th>Id</th>\n",
       "      <th>MSSubClass</th>\n",
       "      <th>LotFrontage</th>\n",
       "      <th>LotArea</th>\n",
       "      <th>OverallQual</th>\n",
       "      <th>OverallCond</th>\n",
       "      <th>YearBuilt</th>\n",
       "      <th>YearRemodAdd</th>\n",
       "      <th>MasVnrArea</th>\n",
       "      <th>BsmtFinSF1</th>\n",
       "      <th>...</th>\n",
       "      <th>HeatingQC_Others</th>\n",
       "      <th>HeatingQC_TA</th>\n",
       "      <th>KitchenQual_Others</th>\n",
       "      <th>KitchenQual_TA</th>\n",
       "      <th>GarageType_Detchd</th>\n",
       "      <th>GarageType_Others</th>\n",
       "      <th>GarageFinish_RFn</th>\n",
       "      <th>GarageFinish_Unf</th>\n",
       "      <th>SaleCondition_Others</th>\n",
       "      <th>SaleCondition_Partial</th>\n",
       "    </tr>\n",
       "  </thead>\n",
       "  <tbody>\n",
       "    <tr>\n",
       "      <th>0</th>\n",
       "      <td>1</td>\n",
       "      <td>60</td>\n",
       "      <td>65.0</td>\n",
       "      <td>8450</td>\n",
       "      <td>7</td>\n",
       "      <td>5</td>\n",
       "      <td>2003</td>\n",
       "      <td>2003</td>\n",
       "      <td>196.0</td>\n",
       "      <td>706</td>\n",
       "      <td>...</td>\n",
       "      <td>0</td>\n",
       "      <td>0</td>\n",
       "      <td>0</td>\n",
       "      <td>0</td>\n",
       "      <td>0</td>\n",
       "      <td>0</td>\n",
       "      <td>1</td>\n",
       "      <td>0</td>\n",
       "      <td>0</td>\n",
       "      <td>0</td>\n",
       "    </tr>\n",
       "    <tr>\n",
       "      <th>1</th>\n",
       "      <td>2</td>\n",
       "      <td>20</td>\n",
       "      <td>80.0</td>\n",
       "      <td>9600</td>\n",
       "      <td>6</td>\n",
       "      <td>8</td>\n",
       "      <td>1976</td>\n",
       "      <td>1976</td>\n",
       "      <td>0.0</td>\n",
       "      <td>978</td>\n",
       "      <td>...</td>\n",
       "      <td>0</td>\n",
       "      <td>0</td>\n",
       "      <td>0</td>\n",
       "      <td>1</td>\n",
       "      <td>0</td>\n",
       "      <td>0</td>\n",
       "      <td>1</td>\n",
       "      <td>0</td>\n",
       "      <td>0</td>\n",
       "      <td>0</td>\n",
       "    </tr>\n",
       "    <tr>\n",
       "      <th>2</th>\n",
       "      <td>3</td>\n",
       "      <td>60</td>\n",
       "      <td>68.0</td>\n",
       "      <td>11250</td>\n",
       "      <td>7</td>\n",
       "      <td>5</td>\n",
       "      <td>2001</td>\n",
       "      <td>2002</td>\n",
       "      <td>162.0</td>\n",
       "      <td>486</td>\n",
       "      <td>...</td>\n",
       "      <td>0</td>\n",
       "      <td>0</td>\n",
       "      <td>0</td>\n",
       "      <td>0</td>\n",
       "      <td>0</td>\n",
       "      <td>0</td>\n",
       "      <td>1</td>\n",
       "      <td>0</td>\n",
       "      <td>0</td>\n",
       "      <td>0</td>\n",
       "    </tr>\n",
       "    <tr>\n",
       "      <th>3</th>\n",
       "      <td>4</td>\n",
       "      <td>70</td>\n",
       "      <td>60.0</td>\n",
       "      <td>9550</td>\n",
       "      <td>7</td>\n",
       "      <td>5</td>\n",
       "      <td>1915</td>\n",
       "      <td>1970</td>\n",
       "      <td>0.0</td>\n",
       "      <td>216</td>\n",
       "      <td>...</td>\n",
       "      <td>0</td>\n",
       "      <td>0</td>\n",
       "      <td>0</td>\n",
       "      <td>0</td>\n",
       "      <td>1</td>\n",
       "      <td>0</td>\n",
       "      <td>0</td>\n",
       "      <td>1</td>\n",
       "      <td>1</td>\n",
       "      <td>0</td>\n",
       "    </tr>\n",
       "    <tr>\n",
       "      <th>4</th>\n",
       "      <td>5</td>\n",
       "      <td>60</td>\n",
       "      <td>84.0</td>\n",
       "      <td>14260</td>\n",
       "      <td>8</td>\n",
       "      <td>5</td>\n",
       "      <td>2000</td>\n",
       "      <td>2000</td>\n",
       "      <td>350.0</td>\n",
       "      <td>655</td>\n",
       "      <td>...</td>\n",
       "      <td>0</td>\n",
       "      <td>0</td>\n",
       "      <td>0</td>\n",
       "      <td>0</td>\n",
       "      <td>0</td>\n",
       "      <td>0</td>\n",
       "      <td>1</td>\n",
       "      <td>0</td>\n",
       "      <td>0</td>\n",
       "      <td>0</td>\n",
       "    </tr>\n",
       "  </tbody>\n",
       "</table>\n",
       "<p>5 rows × 89 columns</p>\n",
       "</div>"
      ],
      "text/plain": [
       "   Id  MSSubClass  LotFrontage  LotArea  OverallQual  OverallCond  YearBuilt  \\\n",
       "0   1          60         65.0     8450            7            5       2003   \n",
       "1   2          20         80.0     9600            6            8       1976   \n",
       "2   3          60         68.0    11250            7            5       2001   \n",
       "3   4          70         60.0     9550            7            5       1915   \n",
       "4   5          60         84.0    14260            8            5       2000   \n",
       "\n",
       "   YearRemodAdd  MasVnrArea  BsmtFinSF1  ...  HeatingQC_Others  HeatingQC_TA  \\\n",
       "0          2003       196.0         706  ...                 0             0   \n",
       "1          1976         0.0         978  ...                 0             0   \n",
       "2          2002       162.0         486  ...                 0             0   \n",
       "3          1970         0.0         216  ...                 0             0   \n",
       "4          2000       350.0         655  ...                 0             0   \n",
       "\n",
       "   KitchenQual_Others  KitchenQual_TA  GarageType_Detchd  GarageType_Others  \\\n",
       "0                   0               0                  0                  0   \n",
       "1                   0               1                  0                  0   \n",
       "2                   0               0                  0                  0   \n",
       "3                   0               0                  1                  0   \n",
       "4                   0               0                  0                  0   \n",
       "\n",
       "   GarageFinish_RFn  GarageFinish_Unf  SaleCondition_Others  \\\n",
       "0                 1                 0                     0   \n",
       "1                 1                 0                     0   \n",
       "2                 1                 0                     0   \n",
       "3                 0                 1                     1   \n",
       "4                 1                 0                     0   \n",
       "\n",
       "   SaleCondition_Partial  \n",
       "0                      0  \n",
       "1                      0  \n",
       "2                      0  \n",
       "3                      0  \n",
       "4                      0  \n",
       "\n",
       "[5 rows x 89 columns]"
      ]
     },
     "execution_count": 84,
     "metadata": {},
     "output_type": "execute_result"
    }
   ],
   "source": [
    "price.head()"
   ]
  },
  {
   "cell_type": "code",
   "execution_count": 85,
   "metadata": {},
   "outputs": [
    {
     "name": "stdout",
     "output_type": "stream",
     "text": [
      "<class 'pandas.core.frame.DataFrame'>\n",
      "RangeIndex: 1460 entries, 0 to 1459\n",
      "Data columns (total 89 columns):\n",
      " #   Column                 Non-Null Count  Dtype  \n",
      "---  ------                 --------------  -----  \n",
      " 0   Id                     1460 non-null   int64  \n",
      " 1   MSSubClass             1460 non-null   int64  \n",
      " 2   LotFrontage            1201 non-null   float64\n",
      " 3   LotArea                1460 non-null   int64  \n",
      " 4   OverallQual            1460 non-null   int64  \n",
      " 5   OverallCond            1460 non-null   int64  \n",
      " 6   YearBuilt              1460 non-null   int64  \n",
      " 7   YearRemodAdd           1460 non-null   int64  \n",
      " 8   MasVnrArea             1452 non-null   float64\n",
      " 9   BsmtFinSF1             1460 non-null   int64  \n",
      " 10  BsmtFinSF2             1460 non-null   int64  \n",
      " 11  BsmtUnfSF              1460 non-null   int64  \n",
      " 12  TotalBsmtSF            1460 non-null   int64  \n",
      " 13  1stFlrSF               1460 non-null   int64  \n",
      " 14  2ndFlrSF               1460 non-null   int64  \n",
      " 15  LowQualFinSF           1460 non-null   int64  \n",
      " 16  GrLivArea              1460 non-null   int64  \n",
      " 17  BsmtFullBath           1460 non-null   int64  \n",
      " 18  BsmtHalfBath           1460 non-null   int64  \n",
      " 19  FullBath               1460 non-null   int64  \n",
      " 20  HalfBath               1460 non-null   int64  \n",
      " 21  BedroomAbvGr           1460 non-null   int64  \n",
      " 22  KitchenAbvGr           1460 non-null   int64  \n",
      " 23  TotRmsAbvGrd           1460 non-null   int64  \n",
      " 24  Fireplaces             1460 non-null   int64  \n",
      " 25  GarageYrBlt            1379 non-null   float64\n",
      " 26  GarageCars             1460 non-null   int64  \n",
      " 27  GarageArea             1460 non-null   int64  \n",
      " 28  WoodDeckSF             1460 non-null   int64  \n",
      " 29  OpenPorchSF            1460 non-null   int64  \n",
      " 30  EnclosedPorch          1460 non-null   int64  \n",
      " 31  3SsnPorch              1460 non-null   int64  \n",
      " 32  ScreenPorch            1460 non-null   int64  \n",
      " 33  PoolArea               1460 non-null   int64  \n",
      " 34  MiscVal                1460 non-null   int64  \n",
      " 35  MoSold                 1460 non-null   int64  \n",
      " 36  YrSold                 1460 non-null   int64  \n",
      " 37  SalePrice              1460 non-null   int64  \n",
      " 38  MSZoning_RL            1460 non-null   uint8  \n",
      " 39  MSZoning_RM            1460 non-null   uint8  \n",
      " 40  LotShape_Others        1460 non-null   uint8  \n",
      " 41  LotShape_Reg           1460 non-null   uint8  \n",
      " 42  LotConfig_Inside       1460 non-null   uint8  \n",
      " 43  LotConfig_Others       1460 non-null   uint8  \n",
      " 44  Neighborhood_Edwards   1460 non-null   uint8  \n",
      " 45  Neighborhood_NAmes     1460 non-null   uint8  \n",
      " 46  Neighborhood_OldTown   1460 non-null   uint8  \n",
      " 47  Neighborhood_Others    1460 non-null   uint8  \n",
      " 48  BldgType_Others        1460 non-null   uint8  \n",
      " 49  BldgType_TwnhsE        1460 non-null   uint8  \n",
      " 50  HouseStyle_1Story      1460 non-null   uint8  \n",
      " 51  HouseStyle_2Story      1460 non-null   uint8  \n",
      " 52  HouseStyle_Others      1460 non-null   uint8  \n",
      " 53  RoofStyle_Hip          1460 non-null   uint8  \n",
      " 54  RoofStyle_Others       1460 non-null   uint8  \n",
      " 55  Exterior1st_MetalSd    1460 non-null   uint8  \n",
      " 56  Exterior1st_Others     1460 non-null   uint8  \n",
      " 57  Exterior1st_VinylSd    1460 non-null   uint8  \n",
      " 58  Exterior1st_WdSdng     1460 non-null   uint8  \n",
      " 59  Exterior2nd_MetalSd    1460 non-null   uint8  \n",
      " 60  Exterior2nd_Others     1460 non-null   uint8  \n",
      " 61  Exterior2nd_Plywood    1460 non-null   uint8  \n",
      " 62  Exterior2nd_VinylSd    1460 non-null   uint8  \n",
      " 63  Exterior2nd_WdSdng     1460 non-null   uint8  \n",
      " 64  ExterQual_Others       1460 non-null   uint8  \n",
      " 65  ExterQual_TA           1460 non-null   uint8  \n",
      " 66  Foundation_Others      1460 non-null   uint8  \n",
      " 67  Foundation_PConc       1460 non-null   uint8  \n",
      " 68  BsmtQual_Others        1460 non-null   uint8  \n",
      " 69  BsmtQual_TA            1460 non-null   uint8  \n",
      " 70  BsmtExposure_Gd        1460 non-null   uint8  \n",
      " 71  BsmtExposure_Mn        1460 non-null   uint8  \n",
      " 72  BsmtExposure_No        1460 non-null   uint8  \n",
      " 73  BsmtFinType1_BLQ       1460 non-null   uint8  \n",
      " 74  BsmtFinType1_GLQ       1460 non-null   uint8  \n",
      " 75  BsmtFinType1_LwQ       1460 non-null   uint8  \n",
      " 76  BsmtFinType1_Rec       1460 non-null   uint8  \n",
      " 77  BsmtFinType1_Unf       1460 non-null   uint8  \n",
      " 78  HeatingQC_Gd           1460 non-null   uint8  \n",
      " 79  HeatingQC_Others       1460 non-null   uint8  \n",
      " 80  HeatingQC_TA           1460 non-null   uint8  \n",
      " 81  KitchenQual_Others     1460 non-null   uint8  \n",
      " 82  KitchenQual_TA         1460 non-null   uint8  \n",
      " 83  GarageType_Detchd      1460 non-null   uint8  \n",
      " 84  GarageType_Others      1460 non-null   uint8  \n",
      " 85  GarageFinish_RFn       1460 non-null   uint8  \n",
      " 86  GarageFinish_Unf       1460 non-null   uint8  \n",
      " 87  SaleCondition_Others   1460 non-null   uint8  \n",
      " 88  SaleCondition_Partial  1460 non-null   uint8  \n",
      "dtypes: float64(3), int64(35), uint8(51)\n",
      "memory usage: 506.3 KB\n"
     ]
    }
   ],
   "source": [
    "price.info()"
   ]
  },
  {
   "cell_type": "code",
   "execution_count": null,
   "metadata": {},
   "outputs": [],
   "source": []
  }
 ],
 "metadata": {
  "kernelspec": {
   "display_name": "Python 3",
   "language": "python",
   "name": "python3"
  },
  "language_info": {
   "codemirror_mode": {
    "name": "ipython",
    "version": 3
   },
   "file_extension": ".py",
   "mimetype": "text/x-python",
   "name": "python",
   "nbconvert_exporter": "python",
   "pygments_lexer": "ipython3",
   "version": "3.8.3"
  }
 },
 "nbformat": 4,
 "nbformat_minor": 4
}
